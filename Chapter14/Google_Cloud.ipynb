{
  "nbformat": 4,
  "nbformat_minor": 0,
  "metadata": {
    "colab": {
      "provenance": [],
      "toc_visible": true,
      "authorship_tag": "ABX9TyMTxWRG9eCvlr3cWgc+CZN3"
    },
    "kernelspec": {
      "name": "python3",
      "display_name": "Python 3"
    },
    "language_info": {
      "name": "python"
    }
  },
  "cells": [
    {
      "cell_type": "markdown",
      "source": [
        "# Google Cloud NLP\n",
        "\n",
        "https://codelabs.developers.google.com/codelabs/cloud-natural-language-python3#0\n",
        "\n",
        "\n",
        "https://cloud.google.com/natural-language/docs/\n",
        "\n",
        "https://cloud.google.com/natural-language/docs/?_ga=2.264937551.-1947292201.1682929481"
      ],
      "metadata": {
        "id": "HxtW5iQUWJgz"
      }
    },
    {
      "cell_type": "markdown",
      "source": [
        "**GCP** stands for Google Cloud Platform. It's a suite of cloud computing services provided by Google that includes data storage, data analytics, machine learning, and various other services that run on the same infrastructure that Google uses internally for its end-user products, such as Google Search, Gmail, and YouTube."
      ],
      "metadata": {
        "id": "ogI_F0hPWz-v"
      }
    },
    {
      "cell_type": "markdown",
      "source": [
        "Setting up Google Cloud NLP API in Google Colab requires a few steps. Please make sure you have the appropriate permissions to access the project in the Google Cloud Platform (GCP).\n",
        "\n",
        "1. **Create a Service Account on Google Cloud Platform**\n",
        "\n",
        "    a. Go to the GCP Console: console.cloud.google.com.\n",
        "    \n",
        "    b. Click the project drop-down and select or create the project for which you want to add an API key.\n",
        "    \n",
        "    c. Go to the menu on the left-hand side, click on `IAM & Admin` > `Service accounts`.\n",
        "    \n",
        "    d. Click on `CREATE SERVICE ACCOUNT`.\n",
        "    \n",
        "    e. In the service account name, type a name. Then, click `CREATE`.\n",
        "    \n",
        "    f. Set a role to this account. You might want to use `roles/owner` to access all resources.\n",
        "    \n",
        "    g. Click `Continue` then `Done`.\n",
        "    \n",
        "    h. In the service accounts list, find the newly created account and click on the three dots under actions.\n",
        "    \n",
        "    i. Click `Create key`, select `JSON`, and download it.\n",
        "\n",
        "2. **Enable Google Cloud Natural Language API for your Project**\n",
        "\n",
        "    a. In the GCP Console, go to the Library page: console.cloud.google.com/apis/library.\n",
        "    \n",
        "    b. Search for \"Cloud Natural Language API\".\n",
        "    \n",
        "    c. On the Cloud Natural Language API page, click `Enable`.\n",
        "\n",
        "3. **Upload your Service Account Key to Google Colab**\n",
        "\n",
        "    a. In your Colab notebook, use the following command to upload the JSON key you downloaded:\n",
        "        ```python\n",
        "        from google.colab import files\n",
        "        uploaded = files.upload()\n",
        "        ```\n",
        "    b. Browse to the location of the JSON key and upload it.\n",
        "\n",
        "4. **Set the `GOOGLE_APPLICATION_CREDENTIALS` Environment Variable**\n",
        "\n",
        "    You will now tell Google SDKs to use the uploaded service account key as authentication credentials. You can do this by setting the `GOOGLE_APPLICATION_CREDENTIALS` environment variable:\n",
        "    ```python\n",
        "    import os\n",
        "    os.environ[\"GOOGLE_APPLICATION_CREDENTIALS\"] = \"/content/your-key-name.json\"\n",
        "    ```\n",
        "\n",
        "5. **Install Google Cloud Natural Language Library**\n",
        "\n",
        "    Finally, install the Google Cloud Natural Language library by running:\n",
        "    ```python\n",
        "    !pip install --upgrade google-cloud-language\n",
        "    ```\n",
        "\n",
        "Now you should be ready to use the Google Cloud NLP API in your Colab notebook. To make an API request, you need to provide your project ID (which is visible in the GCP console).\n",
        "\n",
        "Note: Please be aware that usage of Google Cloud NLP API might generate costs on your GCP account depending on the amount of requests you make. Always monitor your usage to avoid unexpected costs.\n"
      ],
      "metadata": {
        "id": "5mh96yfUWnWh"
      }
    },
    {
      "cell_type": "markdown",
      "source": [
        "The Google Cloud Natural Language API offers several features that allow you to understand and generate text. Here are some of the tasks you can accomplish with `from google.cloud import language`:\n",
        "\n",
        "1. **Entity Analysis**: Entity analysis inspects the given text for known entities (proper nouns such as public figures, landmarks, etc.) and returns information about those entities.\n",
        "\n",
        "    ```python\n",
        "    def sample_analyze_entities(text_content):\n",
        "        client = language.LanguageServiceClient()\n",
        "        document = language.Document(content=text_content, type_=language.Document.Type.PLAIN_TEXT)\n",
        "        response = client.analyze_entities(document=document)\n",
        "        # Then, you can print out information about the entities in the text.\n",
        "    ```\n",
        "\n",
        "2. **Sentiment Analysis**: Sentiment analysis inspects the given text and identifies the prevailing emotional opinion within the text, especially to determine a writer's attitude as positive, negative, or neutral.\n",
        "\n",
        "    ```python\n",
        "    def sample_analyze_sentiment(text_content):\n",
        "        client = language.LanguageServiceClient()\n",
        "        document = language.Document(content=text_content, type_=language.Document.Type.PLAIN_TEXT)\n",
        "        response = client.analyze_sentiment(document=document)\n",
        "        # Then, you can print out information about the overall sentiment of the text, as well as the sentiment of individual sentences.\n",
        "    ```\n",
        "\n",
        "3. **Syntax Analysis**: Syntax analysis extracts linguistic information, breaking up the given text into a series of sentences and tokens (generally, word boundaries), providing further analysis on those tokens.\n",
        "\n",
        "    ```python\n",
        "    def sample_analyze_syntax(text_content):\n",
        "        client = language.LanguageServiceClient()\n",
        "        document = language.Document(content=text_content, type_=language.Document.Type.PLAIN_TEXT)\n",
        "        response = client.analyze_syntax(document=document)\n",
        "        # Then, you can print out information about the sentences and tokens in the text.\n",
        "    ```\n",
        "\n",
        "4. **Entity Sentiment Analysis**: Entity sentiment analysis inspects the given text for known entities (proper nouns such as public figures, landmarks, etc.) and returns information about those entities' sentiment.\n",
        "\n",
        "    ```python\n",
        "    def sample_analyze_entity_sentiment(text_content):\n",
        "        client = language.LanguageServiceClient()\n",
        "        document = language.Document(content=text_content, type_=language.Document.Type.PLAIN_TEXT)\n",
        "        response = client.analyze_entity_sentiment(document=document)\n",
        "        # Then, you can print out information about the entities in the text and their sentiment.\n",
        "    ```\n",
        "\n",
        "5. **Text Classification**: Classifies text into one of several categories.\n",
        "\n",
        "    ```python\n",
        "    def sample_classify_text(text_content):\n",
        "        client = language.LanguageServiceClient()\n",
        "        document = language.Document(content=text_content, type_=language.Document.Type.PLAIN_TEXT)\n",
        "        response = client.classify_text(document=document)\n",
        "        # Then, you can print out information about the text categories.\n",
        "    ```\n",
        "\n",
        "Please note that you must authenticate your Google Cloud client and set up the necessary credentials before running these functions, as described in the initial responses. If you encounter errors or issues, they might be related to these permissions or to the installation of the required libraries."
      ],
      "metadata": {
        "id": "I95MVEx3dd42"
      }
    },
    {
      "cell_type": "markdown",
      "source": [
        "The from google.cloud import language_v1 statement imports the language_v1 module from the google.cloud package. This module provides a client library for the Google Cloud Natural Language API, which can be used to perform natural language processing tasks such as sentiment analysis, entity extraction, and syntax analysis.\n",
        "\n",
        "The language_v1 module defines a number of classes and methods that can be used to interact with the Google Cloud Natural Language API. For example, the LanguageServiceClient class can be used to create a client that can be used to send requests to the API. The analyze_sentiment() method of the LanguageServiceClient class can be used to analyze the sentiment of a piece of text."
      ],
      "metadata": {
        "id": "xHxg74I0gM3C"
      }
    },
    {
      "cell_type": "markdown",
      "source": [
        "Yes, there is a from google.cloud import language_v2 statement that can be used to import the language_v2 module from the google.cloud package. This module provides a client library for the Google Cloud Natural Language API v2, which is a newer version of the API that offers a number of improvements over the v1 version.\n",
        "\n",
        "The language_v2 module defines a number of classes and methods that can be used to interact with the Google Cloud Natural Language API v2. For example, the LanguageServiceClient class can be used to create a client that can be used to send requests to the API. The analyze_sentiment() method of the LanguageServiceClient class can be used to analyze the sentiment of a piece of text.\n",
        "\n",
        "To use the language_v2 module, you must first install the google-cloud-language package. You can do this using the pip package manager:\n",
        "\n",
        "Code snippet\n",
        "pip install google-cloud-language\n",
        "Once you have installed the google-cloud-language package, you can use the from google.cloud import language_v2 statement to import the language_v2 module.\n",
        "\n",
        "Here is an example of how to use the language_v2 module to analyze the sentiment of a piece of text:\n",
        "\n",
        "Code snippet\n",
        "from google.cloud import language_v2\n",
        "\n",
        "client = language_v2.LanguageServiceClient()\n",
        "\n",
        "text = \"I love this product!\"\n",
        "\n",
        "document = language_v2.Document()\n",
        "document.content = text\n",
        "\n",
        "response = client.analyze_sentiment(document=document)\n",
        "\n",
        "sentiment = response.document_sentiment\n",
        "\n",
        "print(sentiment.score)\n",
        "print(sentiment.magnitude)\n",
        "This code will print the following output:\n",
        "\n",
        "Code snippet\n",
        "1.0\n",
        "1.0\n",
        "This output indicates that the piece of text has a positive sentiment.\n",
        "\n",
        "The language_v2 module is a more powerful and flexible version of the language_v1 module. If you are planning to use the Google Cloud Natural Language API, I recommend that you use the language_v2 module."
      ],
      "metadata": {
        "id": "ZpCJ79P_gk7C"
      }
    },
    {
      "cell_type": "code",
      "source": [
        "!pip install google-cloud-language"
      ],
      "metadata": {
        "colab": {
          "base_uri": "https://localhost:8080/"
        },
        "id": "fy7yDMQaWipk",
        "outputId": "48f36503-7487-4e96-e3b2-33c436b6f754"
      },
      "execution_count": null,
      "outputs": [
        {
          "output_type": "stream",
          "name": "stdout",
          "text": [
            "Looking in indexes: https://pypi.org/simple, https://us-python.pkg.dev/colab-wheels/public/simple/\n",
            "Requirement already satisfied: google-cloud-language in /usr/local/lib/python3.10/dist-packages (2.9.1)\n",
            "Requirement already satisfied: google-api-core[grpc]!=2.0.*,!=2.1.*,!=2.10.*,!=2.2.*,!=2.3.*,!=2.4.*,!=2.5.*,!=2.6.*,!=2.7.*,!=2.8.*,!=2.9.*,<3.0.0dev,>=1.34.0 in /usr/local/lib/python3.10/dist-packages (from google-cloud-language) (2.11.1)\n",
            "Requirement already satisfied: proto-plus<2.0.0dev,>=1.22.0 in /usr/local/lib/python3.10/dist-packages (from google-cloud-language) (1.22.2)\n",
            "Requirement already satisfied: protobuf!=3.20.0,!=3.20.1,!=4.21.0,!=4.21.1,!=4.21.2,!=4.21.3,!=4.21.4,!=4.21.5,<5.0.0dev,>=3.19.5 in /usr/local/lib/python3.10/dist-packages (from google-cloud-language) (3.20.3)\n",
            "Requirement already satisfied: googleapis-common-protos<2.0.dev0,>=1.56.2 in /usr/local/lib/python3.10/dist-packages (from google-api-core[grpc]!=2.0.*,!=2.1.*,!=2.10.*,!=2.2.*,!=2.3.*,!=2.4.*,!=2.5.*,!=2.6.*,!=2.7.*,!=2.8.*,!=2.9.*,<3.0.0dev,>=1.34.0->google-cloud-language) (1.59.1)\n",
            "Requirement already satisfied: google-auth<3.0.dev0,>=2.14.1 in /usr/local/lib/python3.10/dist-packages (from google-api-core[grpc]!=2.0.*,!=2.1.*,!=2.10.*,!=2.2.*,!=2.3.*,!=2.4.*,!=2.5.*,!=2.6.*,!=2.7.*,!=2.8.*,!=2.9.*,<3.0.0dev,>=1.34.0->google-cloud-language) (2.17.3)\n",
            "Requirement already satisfied: requests<3.0.0.dev0,>=2.18.0 in /usr/local/lib/python3.10/dist-packages (from google-api-core[grpc]!=2.0.*,!=2.1.*,!=2.10.*,!=2.2.*,!=2.3.*,!=2.4.*,!=2.5.*,!=2.6.*,!=2.7.*,!=2.8.*,!=2.9.*,<3.0.0dev,>=1.34.0->google-cloud-language) (2.27.1)\n",
            "Requirement already satisfied: grpcio<2.0dev,>=1.33.2 in /usr/local/lib/python3.10/dist-packages (from google-api-core[grpc]!=2.0.*,!=2.1.*,!=2.10.*,!=2.2.*,!=2.3.*,!=2.4.*,!=2.5.*,!=2.6.*,!=2.7.*,!=2.8.*,!=2.9.*,<3.0.0dev,>=1.34.0->google-cloud-language) (1.54.2)\n",
            "Requirement already satisfied: grpcio-status<2.0.dev0,>=1.33.2 in /usr/local/lib/python3.10/dist-packages (from google-api-core[grpc]!=2.0.*,!=2.1.*,!=2.10.*,!=2.2.*,!=2.3.*,!=2.4.*,!=2.5.*,!=2.6.*,!=2.7.*,!=2.8.*,!=2.9.*,<3.0.0dev,>=1.34.0->google-cloud-language) (1.48.2)\n",
            "Requirement already satisfied: cachetools<6.0,>=2.0.0 in /usr/local/lib/python3.10/dist-packages (from google-auth<3.0.dev0,>=2.14.1->google-api-core[grpc]!=2.0.*,!=2.1.*,!=2.10.*,!=2.2.*,!=2.3.*,!=2.4.*,!=2.5.*,!=2.6.*,!=2.7.*,!=2.8.*,!=2.9.*,<3.0.0dev,>=1.34.0->google-cloud-language) (5.3.1)\n",
            "Requirement already satisfied: pyasn1-modules>=0.2.1 in /usr/local/lib/python3.10/dist-packages (from google-auth<3.0.dev0,>=2.14.1->google-api-core[grpc]!=2.0.*,!=2.1.*,!=2.10.*,!=2.2.*,!=2.3.*,!=2.4.*,!=2.5.*,!=2.6.*,!=2.7.*,!=2.8.*,!=2.9.*,<3.0.0dev,>=1.34.0->google-cloud-language) (0.3.0)\n",
            "Requirement already satisfied: six>=1.9.0 in /usr/local/lib/python3.10/dist-packages (from google-auth<3.0.dev0,>=2.14.1->google-api-core[grpc]!=2.0.*,!=2.1.*,!=2.10.*,!=2.2.*,!=2.3.*,!=2.4.*,!=2.5.*,!=2.6.*,!=2.7.*,!=2.8.*,!=2.9.*,<3.0.0dev,>=1.34.0->google-cloud-language) (1.16.0)\n",
            "Requirement already satisfied: rsa<5,>=3.1.4 in /usr/local/lib/python3.10/dist-packages (from google-auth<3.0.dev0,>=2.14.1->google-api-core[grpc]!=2.0.*,!=2.1.*,!=2.10.*,!=2.2.*,!=2.3.*,!=2.4.*,!=2.5.*,!=2.6.*,!=2.7.*,!=2.8.*,!=2.9.*,<3.0.0dev,>=1.34.0->google-cloud-language) (4.9)\n",
            "Requirement already satisfied: urllib3<1.27,>=1.21.1 in /usr/local/lib/python3.10/dist-packages (from requests<3.0.0.dev0,>=2.18.0->google-api-core[grpc]!=2.0.*,!=2.1.*,!=2.10.*,!=2.2.*,!=2.3.*,!=2.4.*,!=2.5.*,!=2.6.*,!=2.7.*,!=2.8.*,!=2.9.*,<3.0.0dev,>=1.34.0->google-cloud-language) (1.26.16)\n",
            "Requirement already satisfied: certifi>=2017.4.17 in /usr/local/lib/python3.10/dist-packages (from requests<3.0.0.dev0,>=2.18.0->google-api-core[grpc]!=2.0.*,!=2.1.*,!=2.10.*,!=2.2.*,!=2.3.*,!=2.4.*,!=2.5.*,!=2.6.*,!=2.7.*,!=2.8.*,!=2.9.*,<3.0.0dev,>=1.34.0->google-cloud-language) (2023.5.7)\n",
            "Requirement already satisfied: charset-normalizer~=2.0.0 in /usr/local/lib/python3.10/dist-packages (from requests<3.0.0.dev0,>=2.18.0->google-api-core[grpc]!=2.0.*,!=2.1.*,!=2.10.*,!=2.2.*,!=2.3.*,!=2.4.*,!=2.5.*,!=2.6.*,!=2.7.*,!=2.8.*,!=2.9.*,<3.0.0dev,>=1.34.0->google-cloud-language) (2.0.12)\n",
            "Requirement already satisfied: idna<4,>=2.5 in /usr/local/lib/python3.10/dist-packages (from requests<3.0.0.dev0,>=2.18.0->google-api-core[grpc]!=2.0.*,!=2.1.*,!=2.10.*,!=2.2.*,!=2.3.*,!=2.4.*,!=2.5.*,!=2.6.*,!=2.7.*,!=2.8.*,!=2.9.*,<3.0.0dev,>=1.34.0->google-cloud-language) (3.4)\n",
            "Requirement already satisfied: pyasn1<0.6.0,>=0.4.6 in /usr/local/lib/python3.10/dist-packages (from pyasn1-modules>=0.2.1->google-auth<3.0.dev0,>=2.14.1->google-api-core[grpc]!=2.0.*,!=2.1.*,!=2.10.*,!=2.2.*,!=2.3.*,!=2.4.*,!=2.5.*,!=2.6.*,!=2.7.*,!=2.8.*,!=2.9.*,<3.0.0dev,>=1.34.0->google-cloud-language) (0.5.0)\n"
          ]
        }
      ]
    },
    {
      "cell_type": "code",
      "execution_count": null,
      "metadata": {
        "id": "pxDJO5CYWI_G"
      },
      "outputs": [],
      "source": [
        "#!pip install ipython google-cloud-language"
      ]
    },
    {
      "cell_type": "code",
      "source": [
        "from google.colab import drive\n",
        "drive.mount('/content/drive')"
      ],
      "metadata": {
        "colab": {
          "base_uri": "https://localhost:8080/"
        },
        "id": "b6KZz-O2YbyH",
        "outputId": "fa963f9d-e7a9-4ae5-c829-8ed348329125"
      },
      "execution_count": null,
      "outputs": [
        {
          "output_type": "stream",
          "name": "stdout",
          "text": [
            "Drive already mounted at /content/drive; to attempt to forcibly remount, call drive.mount(\"/content/drive\", force_remount=True).\n"
          ]
        }
      ]
    },
    {
      "cell_type": "code",
      "source": [
        " import os\n",
        " os.environ[\"GOOGLE_APPLICATION_CREDENTIALS\"] = \"/content/drive/MyDrive/files/google_key.json\""
      ],
      "metadata": {
        "id": "OAQ4vLSWZHPz"
      },
      "execution_count": null,
      "outputs": []
    },
    {
      "cell_type": "markdown",
      "source": [
        "# Sentiment Analysis"
      ],
      "metadata": {
        "id": "1yYXQB1PZgmO"
      }
    },
    {
      "cell_type": "markdown",
      "source": [
        "n this section, you will perform sentiment analysis on a string and find out the Score and Magnitude using the Natural Language API.\n",
        "\n",
        "The Score of the sentiment ranges between -1.0 (negative) and 1.0 (positive) and corresponds to the overall sentiment from the given information.\n",
        "\n",
        "The Magnitude of the sentiment ranges from 0.0 to +infinity and indicates the overall strength of sentiment from the given information. The more information provided, the higher the magnitude."
      ],
      "metadata": {
        "id": "DvXHX8BIbA0p"
      }
    },
    {
      "cell_type": "code",
      "source": [
        "from google.cloud import language\n",
        "\n",
        "def analyze_text_sentiment(text: str):\n",
        "    client = language.LanguageServiceClient()\n",
        "    document = language.Document(content=text, type_=language.Document.Type.PLAIN_TEXT)\n",
        "\n",
        "    response = client.analyze_sentiment(document=document)\n",
        "\n",
        "    sentiment = response.document_sentiment\n",
        "    results = dict(\n",
        "        text=text,\n",
        "        score=f\"{sentiment.score:.1%}\",\n",
        "        magnitude=f\"{sentiment.magnitude:.1%}\",\n",
        "    )\n",
        "    for key, value in results.items():\n",
        "        print(f\"{key:10}: {value}\")\n"
      ],
      "metadata": {
        "id": "7qFu12MqZjpE"
      },
      "execution_count": null,
      "outputs": []
    },
    {
      "cell_type": "code",
      "source": [
        "text = \"Guido van Rossum is great!\"\n",
        "analyze_text_sentiment(text)"
      ],
      "metadata": {
        "colab": {
          "base_uri": "https://localhost:8080/"
        },
        "id": "V1KyJe-EZngU",
        "outputId": "9f2c15d5-45dc-4ff1-d7bf-a219b44dca02"
      },
      "execution_count": null,
      "outputs": [
        {
          "output_type": "stream",
          "name": "stdout",
          "text": [
            "text      : Guido van Rossum is great!\n",
            "score     : 90.0%\n",
            "magnitude : 90.0%\n"
          ]
        }
      ]
    },
    {
      "cell_type": "markdown",
      "source": [
        "# Entity analysis"
      ],
      "metadata": {
        "id": "b0R_yL9HaFEG"
      }
    },
    {
      "cell_type": "markdown",
      "source": [
        "Entity analysis inspects the given information for entities by searching for proper nouns such as public figures, landmarks, etc., and returns information about those entities."
      ],
      "metadata": {
        "id": "IGj2_i31aLvy"
      }
    },
    {
      "cell_type": "code",
      "source": [
        "from google.cloud import language\n",
        "\n",
        "\n",
        "def analyze_text_entities(text: str):\n",
        "    client = language.LanguageServiceClient()\n",
        "    document = language.Document(content=text, type_=language.Document.Type.PLAIN_TEXT)\n",
        "\n",
        "    response = client.analyze_entities(document=document)\n",
        "\n",
        "    for entity in response.entities:\n",
        "        print(\"=\" * 80)\n",
        "        results = dict(\n",
        "            name=entity.name,\n",
        "            type=entity.type_.name,\n",
        "            salience=f\"{entity.salience:.1%}\",\n",
        "            wikipedia_url=entity.metadata.get(\"wikipedia_url\", \"-\"),\n",
        "            mid=entity.metadata.get(\"mid\", \"-\"),\n",
        "        )\n",
        "        for key, value in results.items():\n",
        "            print(f\"{key:15}: {value}\")"
      ],
      "metadata": {
        "id": "jKiKKhApaH2l"
      },
      "execution_count": null,
      "outputs": []
    },
    {
      "cell_type": "code",
      "source": [
        "text = \"Denis Rothman writes books that are published on Amazon.com\"\n",
        "analyze_text_entities(text)"
      ],
      "metadata": {
        "colab": {
          "base_uri": "https://localhost:8080/"
        },
        "id": "K_tKWDJvaSAD",
        "outputId": "02c008ce-8c4c-4790-e77a-05d9d395fd63"
      },
      "execution_count": null,
      "outputs": [
        {
          "output_type": "stream",
          "name": "stdout",
          "text": [
            "================================================================================\n",
            "name           : books\n",
            "type           : WORK_OF_ART\n",
            "salience       : 71.7%\n",
            "wikipedia_url  : -\n",
            "mid            : -\n",
            "================================================================================\n",
            "name           : Denis Rothman\n",
            "type           : PERSON\n",
            "salience       : 22.9%\n",
            "wikipedia_url  : -\n",
            "mid            : /g/11f66x3jps\n",
            "================================================================================\n",
            "name           : Amazon.com\n",
            "type           : OTHER\n",
            "salience       : 5.4%\n",
            "wikipedia_url  : https://en.wikipedia.org/wiki/Amazon_(company)\n",
            "mid            : /m/0mgkg\n"
          ]
        }
      ]
    },
    {
      "cell_type": "markdown",
      "source": [
        "# Syntax analysis"
      ],
      "metadata": {
        "id": "iAYor3bwafAg"
      }
    },
    {
      "cell_type": "markdown",
      "source": [
        "Syntax analysis extracts linguistic information, breaking up the given text into a series of sentences and tokens (generally based on word boundaries), providing further analysis on those tokens.\n",
        "\n",
        "This example will print the number of sentences, tokens, and provide the part of speech for each token."
      ],
      "metadata": {
        "id": "6V6moJczakPn"
      }
    },
    {
      "cell_type": "code",
      "source": [
        "from google.cloud import language\n",
        "\n",
        "\n",
        "def analyze_text_syntax(text: str):\n",
        "    client = language.LanguageServiceClient()\n",
        "    document = language.Document(content=text, type_=language.Document.Type.PLAIN_TEXT)\n",
        "\n",
        "    response = client.analyze_syntax(document=document)\n",
        "\n",
        "    line = \"{:10}: {}\"\n",
        "    print(line.format(\"sentences\", len(response.sentences)))\n",
        "    print(line.format(\"tokens\", len(response.tokens)))\n",
        "    for token in response.tokens:\n",
        "        print(line.format(token.part_of_speech.tag.name, token.text.content))"
      ],
      "metadata": {
        "id": "KvlNh7MtaoOq"
      },
      "execution_count": null,
      "outputs": []
    },
    {
      "cell_type": "code",
      "source": [
        "text = \"Guido van Rossum is great!\"\n",
        "analyze_text_syntax(text)"
      ],
      "metadata": {
        "colab": {
          "base_uri": "https://localhost:8080/"
        },
        "id": "z_1aSDp9auZ_",
        "outputId": "794a488b-4510-4630-d607-f311e8284a17"
      },
      "execution_count": null,
      "outputs": [
        {
          "output_type": "stream",
          "name": "stdout",
          "text": [
            "sentences : 1\n",
            "tokens    : 6\n",
            "NOUN      : Guido\n",
            "NOUN      : van\n",
            "NOUN      : Rossum\n",
            "VERB      : is\n",
            "ADJ       : great\n",
            "PUNCT     : !\n"
          ]
        }
      ]
    },
    {
      "cell_type": "markdown",
      "source": [
        "Syntax Analysis and Semantic Role Labeling (SRL) are both crucial aspects of Natural Language Processing (NLP), but they focus on different aspects of understanding text.\n",
        "\n",
        "1. **Syntax Analysis**: Syntax analysis, also known as parsing, is concerned with the grammatical structure of sentences. It analyzes sentences to identify their components and determine the relationships between those components. Syntax analysis helps to understand how sentences are formed and identifies parts of speech, subject-predicate-object relationships, dependencies between words, etc. It provides the 'parse tree' of a sentence, which shows the hierarchical relationships between words and phrases.\n",
        "\n",
        "2. **Semantic Role Labeling (SRL)**: SRL is a process that assigns labels to words or phrases in a sentence that indicate their semantic role in the sentence, such as who did what to whom, when, where, why, etc. For example, in the sentence \"John threw the ball\", SRL would identify \"John\" as the agent (the one who performs the action), \"threw\" as the action or predicate, and \"the ball\" as the patient (the entity that the action is performed upon).\n",
        "\n",
        "In summary, while syntax analysis provides a structural understanding of text based on grammar rules, SRL provides a deeper, semantic understanding of the role each part of the sentence plays in conveying the overall meaning. Both are critical for different tasks in NLP: syntax analysis might be more important for tasks like machine translation, while SRL would be crucial for tasks like information extraction and question answering.\n"
      ],
      "metadata": {
        "id": "8QScktmubg1B"
      }
    },
    {
      "cell_type": "code",
      "source": [
        "from google.cloud import language\n",
        "from collections import defaultdict\n",
        "\n",
        "def analyze_text_syntax(text: str):\n",
        "    client = language.LanguageServiceClient()\n",
        "    document = language.Document(content=text, type_=language.Document.Type.PLAIN_TEXT)\n",
        "\n",
        "    response = client.analyze_syntax(document=document)\n",
        "\n",
        "    pos_frequency = defaultdict(int)\n",
        "    for token in response.tokens:\n",
        "        pos_frequency[token.part_of_speech.tag.name] += 1\n",
        "\n",
        "    return dict(pos_frequency)\n"
      ],
      "metadata": {
        "id": "3OFRIZD9bzch"
      },
      "execution_count": null,
      "outputs": []
    },
    {
      "cell_type": "code",
      "source": [
        "import matplotlib.pyplot as plt\n",
        "\n",
        "def create_pos_graph(text):\n",
        "    pos_frequency = analyze_text_syntax(text)\n",
        "\n",
        "    plt.figure(figsize=(10,6))\n",
        "    plt.bar(pos_frequency.keys(), pos_frequency.values())\n",
        "    plt.xlabel('Part of Speech')\n",
        "    plt.ylabel('Frequency')\n",
        "    plt.title('Frequency of Parts of Speech')\n",
        "    plt.xticks(rotation=90)\n",
        "    plt.show()\n"
      ],
      "metadata": {
        "id": "6lTqnSQvb8X1"
      },
      "execution_count": null,
      "outputs": []
    },
    {
      "cell_type": "code",
      "source": [
        "sample_text = \"The quick brown fox jumps over the lazy dog.\"\n",
        "create_pos_graph(sample_text)"
      ],
      "metadata": {
        "colab": {
          "base_uri": "https://localhost:8080/",
          "height": 597
        },
        "id": "9yp5p9RecEqC",
        "outputId": "805ce616-3995-41e5-a7d4-7cd80f9f3259"
      },
      "execution_count": null,
      "outputs": [
        {
          "output_type": "display_data",
          "data": {
            "text/plain": [
              "<Figure size 1000x600 with 1 Axes>"
            ],
            "image/png": "[encoded data removed]"
          },
          "metadata": {}
        }
      ]
    },
    {
      "cell_type": "markdown",
      "source": [
        "# Content classification\n",
        "\n",
        "Content classification analyzes a document and returns a list of content categories that apply to the text found in the document."
      ],
      "metadata": {
        "id": "1pjneVBeawh3"
      }
    },
    {
      "cell_type": "code",
      "source": [
        "from google.cloud import language\n",
        "\n",
        "\n",
        "def classify_text(text: str):\n",
        "    client = language.LanguageServiceClient()\n",
        "    document = language.Document(content=text, type_=language.Document.Type.PLAIN_TEXT)\n",
        "\n",
        "    response = client.classify_text(document=document)\n",
        "\n",
        "    for category in response.categories:\n",
        "        print(\"=\" * 80)\n",
        "        print(f\"category  : {category.name}\")\n",
        "        print(f\"confidence: {category.confidence:.0%}\")\n"
      ],
      "metadata": {
        "id": "efuY4lwhbFNQ"
      },
      "execution_count": null,
      "outputs": []
    },
    {
      "cell_type": "code",
      "source": [
        "text = (\n",
        "    \"Python is an interpreted, high-level, general-purpose programming language. \"\n",
        "    \"Created by Guido van Rossum and first released in 1991, \"\n",
        "    \"Python's design philosophy emphasizes code readability \"\n",
        "    \"with its notable use of significant whitespace.\"\n",
        ")\n",
        "classify_text(text)"
      ],
      "metadata": {
        "colab": {
          "base_uri": "https://localhost:8080/"
        },
        "id": "0nn7iVRFbJxt",
        "outputId": "8f237e67-4349-4664-bb44-fffa49a43a0c"
      },
      "execution_count": null,
      "outputs": [
        {
          "output_type": "stream",
          "name": "stdout",
          "text": [
            "================================================================================\n",
            "category  : /Computers & Electronics/Programming\n",
            "confidence: 99%\n",
            "================================================================================\n",
            "category  : /Science/Computer Science\n",
            "confidence: 99%\n"
          ]
        }
      ]
    },
    {
      "cell_type": "markdown",
      "source": [
        "# Analyze Entity Sentiment"
      ],
      "metadata": {
        "id": "J2zXXBf-eRUJ"
      }
    },
    {
      "cell_type": "markdown",
      "source": [
        "This function will output entities found in the text, their type, their salience score (importance in text), their sentiment score, and the magnitude of that sentiment."
      ],
      "metadata": {
        "id": "MjSXdU0geYjP"
      }
    },
    {
      "cell_type": "code",
      "source": [
        "from google.cloud import language_v1\n",
        "\n",
        "def sample_analyze_entity_sentiment(text_content):\n",
        "    client = language_v1.LanguageServiceClient()\n",
        "\n",
        "    # Available types: PLAIN_TEXT, HTML\n",
        "    type_ = language_v1.Document.Type.PLAIN_TEXT\n",
        "\n",
        "    document = {\"content\": text_content, \"type_\": type_}\n",
        "\n",
        "    # Available values: NONE, UTF8, UTF16, UTF32\n",
        "    encoding_type = language_v1.EncodingType.UTF8\n",
        "\n",
        "    response = client.analyze_entity_sentiment(request = {'document': document, 'encoding_type': encoding_type})\n",
        "\n",
        "    # Loop through entitites returned from the API\n",
        "    for entity in response.entities:\n",
        "        print(u\"Representative name for the entity: {}\".format(entity.name))\n",
        "\n",
        "        # Get entity type, e.g. PERSON, LOCATION, ADDRESS, NUMBER, et al\n",
        "        print(u\"Entity type: {}\".format(language_v1.Entity.Type(entity.type_).name))\n",
        "\n",
        "        # Get the salience score associated with the entity in the [0, 1.0] range\n",
        "        print(u\"Salience score: {}\".format(entity.salience))\n",
        "\n",
        "        # Get the aggregate sentiment expressed for this entity in the provided document.\n",
        "        sentiment = entity.sentiment\n",
        "        print(u\"Entity sentiment score: {}\".format(sentiment.score))\n",
        "        print(u\"Entity sentiment magnitude: {}\".format(sentiment.magnitude))\n",
        "\n",
        "    # Get the language of the text, which will be the same as\n",
        "    # the language specified in the request or, if not specified,\n",
        "    # the automatically-detected language.\n",
        "    print(u\"Language of the text: {}\".format(response.language))\n",
        "\n",
        "sample_analyze_entity_sentiment(\"Google, based in Mountain View, unveiled the new Pixel at the city center yesterday.\")\n"
      ],
      "metadata": {
        "colab": {
          "base_uri": "https://localhost:8080/"
        },
        "id": "nqT9JJXueRen",
        "outputId": "1d05c71e-84b4-4249-f199-874fdf05a7b5"
      },
      "execution_count": null,
      "outputs": [
        {
          "output_type": "stream",
          "name": "stdout",
          "text": [
            "Representative name for the entity: Google\n",
            "Entity type: ORGANIZATION\n",
            "Salience score: 0.4732356071472168\n",
            "Entity sentiment score: 0.10000000149011612\n",
            "Entity sentiment magnitude: 0.10000000149011612\n",
            "Representative name for the entity: Pixel\n",
            "Entity type: OTHER\n",
            "Salience score: 0.21673262119293213\n",
            "Entity sentiment score: 0.10000000149011612\n",
            "Entity sentiment magnitude: 0.10000000149011612\n",
            "Representative name for the entity: city center\n",
            "Entity type: LOCATION\n",
            "Salience score: 0.16720964014530182\n",
            "Entity sentiment score: 0.0\n",
            "Entity sentiment magnitude: 0.0\n",
            "Representative name for the entity: Mountain View\n",
            "Entity type: LOCATION\n",
            "Salience score: 0.14282213151454926\n",
            "Entity sentiment score: 0.0\n",
            "Entity sentiment magnitude: 0.0\n",
            "Language of the text: en\n"
          ]
        }
      ]
    },
    {
      "cell_type": "markdown",
      "source": [
        "https://console.cloud.google.com/apis/library/chat.googleapis.com?cloudshell=true&project=aiex-57523\n",
        "\n",
        "https://github.com/googleapis/google-api-python-client\n",
        "\n",
        "https://developers.google.com/chat/quickstart/apps-script-app\n",
        "\n",
        "https://console.cloud.google.com/apis/library/language.googleapis.com?cloudshell=true&project=aiex-57523\n",
        "\n",
        "https://cloud.google.com/natural-language/docs/samples?language=python"
      ],
      "metadata": {
        "id": "BcH7D36ZAKJk"
      }
    },
    {
      "cell_type": "markdown",
      "source": [
        "# Sentiment Analysis"
      ],
      "metadata": {
        "id": "5Wu6PNmoCstu"
      }
    },
    {
      "cell_type": "markdown",
      "source": [
        "## in a file"
      ],
      "metadata": {
        "id": "YBwEQUE8DAs-"
      }
    },
    {
      "cell_type": "code",
      "source": [
        "import argparse\n",
        "\n",
        "from google.cloud import language_v1\n",
        "\n",
        "\n",
        "\n",
        "def print_result(annotations):\n",
        "    score = annotations.document_sentiment.score\n",
        "    magnitude = annotations.document_sentiment.magnitude\n",
        "\n",
        "    for index, sentence in enumerate(annotations.sentences):\n",
        "        sentence_sentiment = sentence.sentiment.score\n",
        "        print(f\"Sentence {index} has a sentiment score of {sentence_sentiment}\")\n",
        "\n",
        "    print(f\"Overall Sentiment: score of {score} with magnitude of {magnitude}\")\n",
        "    return 0\n",
        "\n",
        "\n",
        "\n",
        "\n",
        "def analyze(movie_review_filename):\n",
        "    \"\"\"Run a sentiment analysis request on text within a passed filename.\"\"\"\n",
        "    client = language_v1.LanguageServiceClient()\n",
        "\n",
        "    with open(movie_review_filename) as review_file:\n",
        "        # Instantiates a plain text document.\n",
        "        content = review_file.read()\n",
        "\n",
        "    document = language_v1.Document(\n",
        "        content=content, type_=language_v1.Document.Type.PLAIN_TEXT\n",
        "    )\n",
        "    annotations = client.analyze_sentiment(request={\"document\": document})\n",
        "\n",
        "    # Print the results\n",
        "    print_result(annotations)"
      ],
      "metadata": {
        "id": "HpDhyKIpBp8_"
      },
      "execution_count": null,
      "outputs": []
    },
    {
      "cell_type": "code",
      "source": [
        "movie_review_filename=\"review.txt\""
      ],
      "metadata": {
        "id": "uczgPdBkCkL_"
      },
      "execution_count": null,
      "outputs": []
    },
    {
      "cell_type": "code",
      "source": [
        "   analyze(movie_review_filename)"
      ],
      "metadata": {
        "colab": {
          "base_uri": "https://localhost:8080/"
        },
        "id": "tOw3UgIRBt-S",
        "outputId": "6e75319a-0586-4627-a23e-e71ab9f122d3"
      },
      "execution_count": null,
      "outputs": [
        {
          "output_type": "stream",
          "name": "stdout",
          "text": [
            "Sentence 0 has a sentiment score of 0.699999988079071\n",
            "Overall Sentiment: score of 0.699999988079071 with magnitude of 0.699999988079071\n"
          ]
        }
      ]
    },
    {
      "cell_type": "markdown",
      "source": [
        "## In a string"
      ],
      "metadata": {
        "id": "s1JEO4DvC-hm"
      }
    },
    {
      "cell_type": "code",
      "source": [
        "# in a string\n",
        "def sample_analyze_sentiment(content):\n",
        "    client = language_v1.LanguageServiceClient()\n",
        "\n",
        "    if isinstance(content, bytes):\n",
        "        content = content.decode(\"utf-8\")\n",
        "\n",
        "    type_ = language_v1.Document.Type.PLAIN_TEXT\n",
        "    document = {\"type_\": type_, \"content\": content}\n",
        "\n",
        "    response = client.analyze_sentiment(request={\"document\": document})\n",
        "    sentiment = response.document_sentiment\n",
        "    print(f\"Score: {sentiment.score}\")\n",
        "    print(f\"Magnitude: {sentiment.magnitude}\")"
      ],
      "metadata": {
        "id": "e1BqtVZKC2Hb"
      },
      "execution_count": null,
      "outputs": []
    },
    {
      "cell_type": "code",
      "source": [
        "sample_analyze_sentiment(\"This API is cool.\")"
      ],
      "metadata": {
        "colab": {
          "base_uri": "https://localhost:8080/"
        },
        "id": "WzQb_J8wDDqN",
        "outputId": "3238d6f7-1f1e-4029-fb1e-8d168a1a42b1"
      },
      "execution_count": null,
      "outputs": [
        {
          "output_type": "stream",
          "name": "stdout",
          "text": [
            "Score: 0.8999999761581421\n",
            "Magnitude: 0.8999999761581421\n"
          ]
        }
      ]
    },
    {
      "cell_type": "markdown",
      "source": [
        "# Other tasks\n",
        "\n",
        "https://cloud.google.com/natural-language/docs/samples?hl=en"
      ],
      "metadata": {
        "id": "mU1FiG80e6VY"
      }
    },
    {
      "cell_type": "markdown",
      "source": [
        "Yes, Natural Language Processing (NLP) is a vast field with many possible tasks beyond those offered by the Google Cloud Natural Language API. Here are some additional NLP tasks:\n",
        "\n",
        "1. **Text Summarization**: The process of creating a concise and coherent version of a longer document while keeping its main insights. This task can be performed in an extractive or abstractive way.\n",
        "\n",
        "2. **Information Extraction**: This involves automatically extracting structured information from unstructured text data. For example, it can involve extracting names of people, places, organizations, and even specific pieces of information like events or dates.\n",
        "\n",
        "3. **Named Entity Recognition (NER)**: This task involves recognizing and classifying proper nouns in text into predefined categories like persons, organizations, locations, date expressions, quantities, monetary values, percentages, etc.\n",
        "\n",
        "4. **Question Answering**: Given a collection of documents or a database, the goal of this task is to answer a question posed in natural language. Google Search uses a sophisticated version of this.\n",
        "\n",
        "5. **Machine Translation**: The task of automatically converting source text in one language to text in another language. Google Translate is a well-known application of this task.\n",
        "\n",
        "6. **Topic Modeling**: This task involves discovering the abstract \"topics\" that occur in a collection of documents. A popular method for topic modeling is Latent Dirichlet Allocation (LDA).\n",
        "\n",
        "7. **Chatbots and Conversational AI**: Designing systems that can have natural language conversations with humans. This can involve multiple NLP tasks, including Named Entity Recognition (NER), sentiment analysis, etc.\n",
        "\n",
        "8. **Speech Recognition and Generation**: Converting spoken language into written text and vice versa. This task is fundamental for applications like Google Assistant, Siri, and Alexa.\n",
        "\n",
        "9. **Language Modeling**: The task of predicting the next word or sequence of words in a sentence. This is the basis of autocomplete suggestions and is a fundamental task for many NLP applications.\n",
        "\n",
        "Each of these tasks has its own set of methods and approaches, and many of them can be done with a combination of different techniques and algorithms, ranging from rule-based systems to advanced machine learning models."
      ],
      "metadata": {
        "id": "mRzBPYW1e8QZ"
      }
    },
    {
      "cell_type": "markdown",
      "source": [
        "# Vertex AI\n",
        "\n",
        "https://colab.research.google.com/github/GoogleCloudPlatform/vertex-ai-samples/blob/main/notebooks/official/custom/sdk-custom-image-classification-online.ipynb"
      ],
      "metadata": {
        "id": "F1611XpdEWt1"
      }
    },
    {
      "cell_type": "code",
      "source": [
        "!pip install google-cloud-aiplatform"
      ],
      "metadata": {
        "id": "8ut6ON7hEzY9"
      },
      "execution_count": null,
      "outputs": []
    },
    {
      "cell_type": "markdown",
      "source": [
        "ERROR: pip's dependency resolver does not currently take into account all the packages that are installed. This behaviour is the source of the following dependency conflicts.\n",
        "google-cloud-aiplatform 1.26.1 requires shapely<2.0.0, but you have shapely 2.0.0 which is incompatible.\n",
        "Successfully installed shapely-2.0.0\n",
        "WARNING: The following packages were previously imported in this runtime:\n",
        "  [shapely]\n",
        "You must restart the runtime in order to use newly installed versions."
      ],
      "metadata": {
        "id": "dwaVdI6GKqmx"
      }
    },
    {
      "cell_type": "code",
      "source": [
        "!pip install shapely==1.8.5"
      ],
      "metadata": {
        "id": "gm-FvcgJKZxo"
      },
      "execution_count": null,
      "outputs": []
    },
    {
      "cell_type": "code",
      "source": [
        "from google.colab import auth as google_auth\n",
        "google_auth.authenticate_user()"
      ],
      "metadata": {
        "id": "O3N6kyNTLN8L"
      },
      "execution_count": null,
      "outputs": []
    },
    {
      "cell_type": "markdown",
      "source": [
        "# Question Answer"
      ],
      "metadata": {
        "id": "IUaDzRb1LXt8"
      }
    },
    {
      "cell_type": "code",
      "source": [
        "import vertexai\n",
        "from vertexai.preview.language_models import ChatModel, InputOutputTextPair\n",
        "\n",
        "vertexai.init(project=\"aiex-57523\", location=\"us-central1\")\n",
        "chat_model = ChatModel.from_pretrained(\"chat-bison@001\")\n",
        "parameters = {\n",
        "    \"temperature\": 0.2,\n",
        "    \"max_output_tokens\": 256,\n",
        "    \"top_p\": 0.8,\n",
        "    \"top_k\": 40\n",
        "}\n",
        "chat = chat_model.start_chat(\n",
        "    context=\"\"\"Answer the questions related to the text entered as a request\"\"\",\n",
        ")\n",
        "response = chat.send_message(\"\"\"Text:  June 24 (Reuters) - The New York Mets and Philadelphia Phillies will play a two-game series in London next year, becoming the latest Major League Baseball (MLB) teams to take their rivalry across the pond, the league and its players\\' union (MLBPA) said on Friday.\n",
        "\n",
        "The teams will meet on June 8 and 9 at the London Stadium in the third edition of the MLB London series. It will be the Phillies\\' first international trip and the fourth one for the Mets, who have played in Mexico, Japan and Puerto Rico.Question:When will the teams meet? Answer:\"\"\", **parameters)\n",
        "print(f\"Response from Model: {response.text}\")"
      ],
      "metadata": {
        "colab": {
          "base_uri": "https://localhost:8080/"
        },
        "id": "yErcaWqTEYPU",
        "outputId": "c0ac608e-f88f-47a8-df46-c1c8b21cbd16"
      },
      "execution_count": null,
      "outputs": [
        {
          "output_type": "stream",
          "name": "stdout",
          "text": [
            "Response from Model: The teams will meet on June 8 and 9 at the London Stadium in the third edition of the MLB London series.\n"
          ]
        }
      ]
    }
  ]
}