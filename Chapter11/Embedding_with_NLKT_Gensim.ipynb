{
  "cells": [
    {
      "cell_type": "markdown",
      "metadata": {
        "id": "gkhabtBjxa11"
      },
      "source": [
        "# Embedding with NLKT and Gensim\n",
        "Copyright 2023, Denis Rothman"
      ]
    },
    {
      "cell_type": "markdown",
      "metadata": {
        "id": "PGTKES0s27Nw"
      },
      "source": [
        "Installing libraries"
      ]
    },
    {
      "cell_type": "code",
      "execution_count": null,
      "metadata": {
        "id": "UUjDqzXZ33lg"
      },
      "outputs": [],
      "source": [
        "!pip install --upgrade nltk -qq\n",
        "import nltk"
      ]
    },
    {
      "cell_type": "code",
      "execution_count": null,
      "metadata": {
        "colab": {
          "base_uri": "https://localhost:8080/"
        },
        "id": "KjLJyYeR4nv0",
        "outputId": "6e42c84b-3b8c-4287-c6dc-895956c93246"
      },
      "outputs": [
        {
          "name": "stderr",
          "output_type": "stream",
          "text": [
            "[nltk_data] Downloading package punkt to /root/nltk_data...\n",
            "[nltk_data]   Package punkt is already up-to-date!\n"
          ]
        },
        {
          "data": {
            "text/plain": [
              "True"
            ]
          },
          "execution_count": 2,
          "metadata": {},
          "output_type": "execute_result"
        }
      ],
      "source": [
        "nltk.download('punkt')"
      ]
    },
    {
      "cell_type": "code",
      "execution_count": null,
      "metadata": {
        "id": "GKcYRBcl26k9"
      },
      "outputs": [],
      "source": [
        "!pip install gensim -qq"
      ]
    },
    {
      "cell_type": "code",
      "execution_count": null,
      "metadata": {
        "colab": {
          "base_uri": "https://localhost:8080/"
        },
        "id": "V4Sb8Gt4DrjT",
        "outputId": "40ac01f4-afaa-4b90-d5ac-d29217d63d09"
      },
      "outputs": [
        {
          "name": "stdout",
          "output_type": "stream",
          "text": [
            "4.3.2\n"
          ]
        }
      ],
      "source": [
        "import gensim\n",
        "print(gensim.__version__)"
      ]
    },
    {
      "cell_type": "markdown",
      "metadata": {
        "id": "95elmPUwyD8l"
      },
      "source": [
        "# 1.Reading the text file"
      ]
    },
    {
      "cell_type": "markdown",
      "metadata": {
        "id": "OsE9K4QS2B9z"
      },
      "source": [
        "## Downloading the text file"
      ]
    },
    {
      "cell_type": "markdown",
      "metadata": {
        "id": "JegP-BXOwpnj"
      },
      "source": [
        "Beginning of WIP code until GitHub made public"
      ]
    },
    {
      "cell_type": "code",
      "execution_count": null,
      "metadata": {
        "colab": {
          "base_uri": "https://localhost:8080/"
        },
        "id": "OPWGadPQw7J2",
        "outputId": "f360e31e-901e-4b34-e7a8-e03959d89a3f"
      },
      "outputs": [
        {
          "name": "stdout",
          "output_type": "stream",
          "text": [
            "Mounted at /content/drive\n"
          ]
        }
      ],
      "source": [
        "from google.colab import drive\n",
        "drive.mount('/content/drive')\n",
        "with open(\"drive/MyDrive/files/github.txt\", \"r\") as f:\n",
        "      github_token = f.readline().strip()"
      ]
    },
    {
      "cell_type": "code",
      "execution_count": null,
      "metadata": {
        "colab": {
          "base_uri": "https://localhost:8080/"
        },
        "id": "igFOmP_0aIVw",
        "outputId": "b4d5ad0b-7c7c-4810-d2ad-2b00dca08245"
      },
      "outputs": [
        {
          "name": "stdout",
          "output_type": "stream",
          "text": [
            "  % Total    % Received % Xferd  Average Speed   Time    Time     Time  Current\n",
            "                                 Dload  Upload   Total   Spent    Left  Speed\n",
            "\r  0     0    0     0    0     0      0      0 --:--:-- --:--:-- --:--:--     0\r100    14  100    14    0     0     94      0 --:--:-- --:--:-- --:--:--    94\n"
          ]
        }
      ],
      "source": [
        "#1.Load Decartes.txt using the Colab file manager\n",
        "#2.Downloading the file from GitHub\n",
        "#1.Load Decartes.txt using the Colab file manager\n",
        "#2.Downloading the file from GitHub\n",
        "!curl -H 'Authorization: token {github_token}' -L https://raw.githubusercontent.com/Denis2054/Transformers-for-NLP-and-Computer-Vision-3rd-Edition/master/Chapter11/Descartes.txt --output \"Descartes.txt\""
      ]
    },
    {
      "cell_type": "markdown",
      "metadata": {
        "id": "rUDWiBsZw0NI"
      },
      "source": [
        "end of WIP code until book title finalized"
      ]
    },
    {
      "cell_type": "markdown",
      "metadata": {
        "id": "UUTxX5Ca2H0B"
      },
      "source": [
        "## Reading the text file"
      ]
    },
    {
      "cell_type": "code",
      "execution_count": null,
      "metadata": {
        "id": "BrATgCp9xFyF"
      },
      "outputs": [],
      "source": [
        "with open('Descartes.txt', 'r', encoding='utf-8') as file:\n",
        "    descartes_book = file.read().replace('\\n', '')"
      ]
    },
    {
      "cell_type": "markdown",
      "metadata": {
        "id": "RpkNhF1c8Y_v"
      },
      "source": [
        "# 2.Tokenizing the text with punkt"
      ]
    },
    {
      "cell_type": "code",
      "execution_count": null,
      "metadata": {
        "colab": {
          "base_uri": "https://localhost:8080/"
        },
        "id": "14wu1a0B8fYE",
        "outputId": "8234ee43-d2c3-446f-880d-66c6a6dbd188"
      },
      "outputs": [
        {
          "name": "stdout",
          "output_type": "stream",
          "text": [
            "4\n"
          ]
        }
      ],
      "source": [
        "from nltk.tokenize import word_tokenize\n",
        "tokens = word_tokenize(descartes_book)\n",
        "print(len(tokens))"
      ]
    },
    {
      "cell_type": "markdown",
      "metadata": {
        "id": "mEXUvHl98vjK"
      },
      "source": [
        "## Preprocessing the tokens\n"
      ]
    },
    {
      "cell_type": "code",
      "execution_count": null,
      "metadata": {
        "colab": {
          "base_uri": "https://localhost:8080/"
        },
        "id": "cyOqJdY-80rC",
        "outputId": "00782fb5-5a84-4d8a-c67d-b86b074010ad"
      },
      "outputs": [
        {
          "name": "stderr",
          "output_type": "stream",
          "text": [
            "[nltk_data] Downloading package wordnet to /root/nltk_data...\n",
            "[nltk_data] Downloading package stopwords to /root/nltk_data...\n",
            "[nltk_data]   Unzipping corpora/stopwords.zip.\n"
          ]
        }
      ],
      "source": [
        "# applying lowercase, removing punctuation and stopwords\n",
        "#stemming/lemmatization\n",
        "nltk.download('wordnet')\n",
        "nltk.download('stopwords')\n",
        "from nltk.corpus import stopwords\n",
        "from nltk.stem import WordNetLemmatizer\n",
        "import string\n",
        "\n",
        "stop_words = set(stopwords.words('english'))\n",
        "lemmatizer = WordNetLemmatizer()\n",
        "\n",
        "tokens = [lemmatizer.lemmatize(token.lower()) for token in tokens if token.lower() not in stop_words and token not in string.punctuation]"
      ]
    },
    {
      "cell_type": "code",
      "execution_count": null,
      "metadata": {
        "colab": {
          "base_uri": "https://localhost:8080/"
        },
        "id": "Oskl6d2qEcz9",
        "outputId": "a6109711-f2d5-4564-da9a-d76a8eb55c9e"
      },
      "outputs": [
        {
          "name": "stdout",
          "output_type": "stream",
          "text": [
            "2\n"
          ]
        }
      ],
      "source": [
        "print(len(tokens))"
      ]
    },
    {
      "cell_type": "code",
      "execution_count": null,
      "metadata": {
        "colab": {
          "base_uri": "https://localhost:8080/"
        },
        "id": "Z09OfHI2F1vF",
        "outputId": "2cc612aa-b56e-4c23-e086-0bd7bec3b3bb"
      },
      "outputs": [
        {
          "name": "stdout",
          "output_type": "stream",
          "text": [
            "2\n"
          ]
        }
      ],
      "source": [
        "unique_tokens = set(tokens)\n",
        "print(len(unique_tokens))"
      ]
    },
    {
      "cell_type": "code",
      "execution_count": null,
      "metadata": {
        "colab": {
          "base_uri": "https://localhost:8080/"
        },
        "id": "jbf4V9am0f1d",
        "outputId": "0064fe9d-3c4b-453c-b576-c7f2e2ad45d3"
      },
      "outputs": [
        {
          "name": "stdout",
          "output_type": "stream",
          "text": [
            "{'404', 'found'}\n"
          ]
        }
      ],
      "source": [
        "print(unique_tokens)"
      ]
    },
    {
      "cell_type": "code",
      "execution_count": null,
      "metadata": {
        "id": "SR98Qhh7DMO6"
      },
      "outputs": [],
      "source": [
        "tokens=unique_tokens\n",
        "#print(len(tokens))"
      ]
    },
    {
      "cell_type": "markdown",
      "metadata": {
        "id": "lDdfsXch9U-w"
      },
      "source": [
        "# 3.Embedding with Gensim and Word2Vec"
      ]
    },
    {
      "cell_type": "code",
      "execution_count": null,
      "metadata": {
        "id": "WeJnlJNF9YAH"
      },
      "outputs": [],
      "source": [
        "from gensim.models import Word2Vec\n",
        "\n",
        "# Train a Word2Vec model\n",
        "model = Word2Vec([tokens],compute_loss=True,vector_size=300,min_count=1)\n",
        "\n",
        "# Save the model for later use\n",
        "model.save(\"descartes_word2vec.model\")"
      ]
    },
    {
      "cell_type": "markdown",
      "metadata": {
        "id": "iJEvpz2noiT8"
      },
      "source": [
        "# 4.Model description"
      ]
    },
    {
      "cell_type": "code",
      "execution_count": null,
      "metadata": {
        "colab": {
          "base_uri": "https://localhost:8080/",
          "height": 111,
          "referenced_widgets": [
            "5b476f2c503846cb84540e8147056ae7",
            "ac96871495474735a30757045dc6dc8e",
            "c9f21f13fb734350b2d56b668625afe7",
            "406bec5413a3489aad68ed952de6f5c3",
            "d61e876ea0fc4b62a268208b2b9b75d4",
            "ca8fda514e354a62968c0f319946e86d",
            "dea3756712ff42538aaed335bab4c49d",
            "ba07d84543a144fe89784659f30a5077",
            "7e376784e7424e4a98021572d20aab5e"
          ]
        },
        "id": "YDzASpU3nzvz",
        "outputId": "a71c824b-a155-4a1d-a961-cb454c885d03"
      },
      "outputs": [
        {
          "data": {
            "application/vnd.jupyter.widget-view+json": {
              "model_id": "5b476f2c503846cb84540e8147056ae7",
              "version_major": 2,
              "version_minor": 0
            },
            "text/plain": [
              "Dropdown(description='Attribute:', options=('wv', 'vector_size', 'train_count', 'total_train_time', 'epochs', …"
            ]
          },
          "metadata": {},
          "output_type": "display_data"
        },
        {
          "data": {
            "application/vnd.jupyter.widget-view+json": {
              "model_id": "406bec5413a3489aad68ed952de6f5c3",
              "version_major": 2,
              "version_minor": 0
            },
            "text/plain": [
              "IntSlider(value=10, description='Lines:')"
            ]
          },
          "metadata": {},
          "output_type": "display_data"
        },
        {
          "data": {
            "application/vnd.jupyter.widget-view+json": {
              "model_id": "dea3756712ff42538aaed335bab4c49d",
              "version_major": 2,
              "version_minor": 0
            },
            "text/plain": [
              "Button(description='Display', style=ButtonStyle())"
            ]
          },
          "metadata": {},
          "output_type": "display_data"
        }
      ],
      "source": [
        "from IPython.display import display\n",
        "import ipywidgets as widgets\n",
        "\n",
        "# Load the model\n",
        "model = Word2Vec.load(\"descartes_word2vec.model\")\n",
        "\n",
        "# Widget for the model attribute\n",
        "attr_widget = widgets.Dropdown(\n",
        "    options=['wv', 'vector_size', 'train_count', 'total_train_time', 'epochs','sg'],\n",
        "    value='wv',\n",
        "    description='Attribute:',\n",
        ")\n",
        "display(attr_widget)\n",
        "\n",
        "# Widget for the number of lines\n",
        "num_lines_widget = widgets.IntSlider(min=0, max=100, step=1, value=10, description='Lines:')\n",
        "display(num_lines_widget)\n",
        "\n",
        "# Button to display the data\n",
        "display_button = widgets.Button(description='Display')\n",
        "display(display_button)\n",
        "\n",
        "# Function to display the data\n",
        "def display_data(button):\n",
        "    attr = attr_widget.value\n",
        "    num_lines = num_lines_widget.value\n",
        "\n",
        "    if attr == 'wv':\n",
        "        words = list(model.wv.index_to_key)\n",
        "        for word in words[:num_lines]:\n",
        "            print(word, model.wv[word])\n",
        "    else:\n",
        "        print(getattr(model, attr))\n",
        "\n",
        "# Link the function to the button\n",
        "display_button.on_click(display_data)"
      ]
    },
    {
      "cell_type": "markdown",
      "metadata": {
        "id": "frsfoDMSM4hA"
      },
      "source": [
        "## Accessing a word and a vector in the saved model"
      ]
    },
    {
      "cell_type": "code",
      "execution_count": null,
      "metadata": {
        "colab": {
          "base_uri": "https://localhost:8080/"
        },
        "id": "HkJO6hy4-QUT",
        "outputId": "c694a722-1720-4eed-b203-cb6f0b02c2f0"
      },
      "outputs": [
        {
          "name": "stdout",
          "output_type": "stream",
          "text": [
            "\"consciousness\" is not in the dictionary\n"
          ]
        }
      ],
      "source": [
        "try:\n",
        "    vector = model.wv['consciousness']\n",
        "    print('Vector for \"consciousness\":', vector)\n",
        "except KeyError:\n",
        "    print('\"consciousness\" is not in the dictionary')"
      ]
    },
    {
      "cell_type": "code",
      "execution_count": null,
      "metadata": {
        "colab": {
          "base_uri": "https://localhost:8080/"
        },
        "id": "IbloHYps-SvR",
        "outputId": "9ef24f50-3af0-44f6-b116-50074ac1196d"
      },
      "outputs": [
        {
          "name": "stdout",
          "output_type": "stream",
          "text": [
            "\"conscious\" is not in the dictionary\n"
          ]
        }
      ],
      "source": [
        "try:\n",
        "    vector = model.wv['conscious']\n",
        "    print('Vector for \"conscious\":', vector)\n",
        "except KeyError:\n",
        "    print('\"conscious\" is not in the dictionary')"
      ]
    },
    {
      "cell_type": "markdown",
      "metadata": {
        "id": "5iZVrNEsPRxs"
      },
      "source": [
        "Most similar words"
      ]
    },
    {
      "cell_type": "code",
      "execution_count": null,
      "metadata": {
        "colab": {
          "base_uri": "https://localhost:8080/"
        },
        "id": "yCKRUgv09qX2",
        "outputId": "137d4a93-1472-4c02-c190-64768238d200"
      },
      "outputs": [
        {
          "name": "stdout",
          "output_type": "stream",
          "text": [
            "\"concious\" is not in the dictionary\n"
          ]
        }
      ],
      "source": [
        "try:\n",
        "    similar_words = model.wv.most_similar('conscious')\n",
        "    print('Most similar words to \"conscious\":', similar_words)\n",
        "except KeyError:\n",
        "    print('\"concious\" is not in the dictionary')\n"
      ]
    },
    {
      "cell_type": "markdown",
      "metadata": {
        "id": "Si4AcMg-E8BK"
      },
      "source": [
        "# 6.Exploring Gensim's vector space"
      ]
    },
    {
      "cell_type": "markdown",
      "metadata": {
        "id": "01F5Mn9weQev"
      },
      "source": [
        "## The dictionary of words"
      ]
    },
    {
      "cell_type": "code",
      "execution_count": null,
      "metadata": {
        "colab": {
          "base_uri": "https://localhost:8080/"
        },
        "id": "scduWPcuFosh",
        "outputId": "f2d3c496-16f2-4c90-a2a6-ba4a906c7de0"
      },
      "outputs": [
        {
          "name": "stdout",
          "output_type": "stream",
          "text": [
            "Word: found, Index: 0\n",
            "Word: 404, Index: 1\n"
          ]
        }
      ],
      "source": [
        "for word, index in model.wv.key_to_index.items():\n",
        "    print(f\"Word: {word}, Index: {index}\")"
      ]
    },
    {
      "cell_type": "markdown",
      "metadata": {
        "id": "snfSPZureFxu"
      },
      "source": [
        "## Pairs of words and cosine similarity"
      ]
    },
    {
      "cell_type": "code",
      "execution_count": null,
      "metadata": {
        "colab": {
          "base_uri": "https://localhost:8080/",
          "height": 705
        },
        "id": "RPaXbkFxtIQt",
        "outputId": "06bcf178-32ae-4df2-d24c-c3a6aab202b5"
      },
      "outputs": [
        {
          "name": "stdout",
          "output_type": "stream",
          "text": [
            "One or both words ('method', 'method') are not in the model's vocabulary.\n",
            "One or both words ('method', 'reason') are not in the model's vocabulary.\n",
            "One or both words ('method', 'truth') are not in the model's vocabulary.\n",
            "One or both words ('method', 'rightly') are not in the model's vocabulary.\n",
            "One or both words ('method', 'science') are not in the model's vocabulary.\n",
            "One or both words ('method', 'seeking') are not in the model's vocabulary.\n",
            "One or both words ('reason', 'method') are not in the model's vocabulary.\n",
            "One or both words ('reason', 'reason') are not in the model's vocabulary.\n",
            "One or both words ('reason', 'truth') are not in the model's vocabulary.\n",
            "One or both words ('reason', 'rightly') are not in the model's vocabulary.\n",
            "One or both words ('reason', 'science') are not in the model's vocabulary.\n",
            "One or both words ('reason', 'seeking') are not in the model's vocabulary.\n",
            "One or both words ('truth', 'method') are not in the model's vocabulary.\n",
            "One or both words ('truth', 'reason') are not in the model's vocabulary.\n",
            "One or both words ('truth', 'truth') are not in the model's vocabulary.\n",
            "One or both words ('truth', 'rightly') are not in the model's vocabulary.\n",
            "One or both words ('truth', 'science') are not in the model's vocabulary.\n",
            "One or both words ('truth', 'seeking') are not in the model's vocabulary.\n",
            "One or both words ('rightly', 'method') are not in the model's vocabulary.\n",
            "One or both words ('rightly', 'reason') are not in the model's vocabulary.\n",
            "One or both words ('rightly', 'truth') are not in the model's vocabulary.\n",
            "One or both words ('rightly', 'rightly') are not in the model's vocabulary.\n",
            "One or both words ('rightly', 'science') are not in the model's vocabulary.\n",
            "One or both words ('rightly', 'seeking') are not in the model's vocabulary.\n",
            "One or both words ('science', 'method') are not in the model's vocabulary.\n",
            "One or both words ('science', 'reason') are not in the model's vocabulary.\n",
            "One or both words ('science', 'truth') are not in the model's vocabulary.\n",
            "One or both words ('science', 'rightly') are not in the model's vocabulary.\n",
            "One or both words ('science', 'science') are not in the model's vocabulary.\n",
            "One or both words ('science', 'seeking') are not in the model's vocabulary.\n",
            "One or both words ('seeking', 'method') are not in the model's vocabulary.\n",
            "One or both words ('seeking', 'reason') are not in the model's vocabulary.\n",
            "One or both words ('seeking', 'truth') are not in the model's vocabulary.\n",
            "One or both words ('seeking', 'rightly') are not in the model's vocabulary.\n",
            "One or both words ('seeking', 'science') are not in the model's vocabulary.\n",
            "One or both words ('seeking', 'seeking') are not in the model's vocabulary.\n"
          ]
        },
        {
          "data": {
            "text/html": [
              "\n",
              "  <div id=\"df-a18cedb4-b2ea-42e2-be9a-ab22d1e112b9\" class=\"colab-df-container\">\n",
              "    <div>\n",
              "<style scoped>\n",
              "    .dataframe tbody tr th:only-of-type {\n",
              "        vertical-align: middle;\n",
              "    }\n",
              "\n",
              "    .dataframe tbody tr th {\n",
              "        vertical-align: top;\n",
              "    }\n",
              "\n",
              "    .dataframe thead th {\n",
              "        text-align: right;\n",
              "    }\n",
              "</style>\n",
              "<table border=\"1\" class=\"dataframe\">\n",
              "  <thead>\n",
              "    <tr style=\"text-align: right;\">\n",
              "      <th></th>\n",
              "    </tr>\n",
              "  </thead>\n",
              "  <tbody>\n",
              "  </tbody>\n",
              "</table>\n",
              "</div>\n",
              "    <div class=\"colab-df-buttons\">\n",
              "\n",
              "  <div class=\"colab-df-container\">\n",
              "    <button class=\"colab-df-convert\" onclick=\"convertToInteractive('df-a18cedb4-b2ea-42e2-be9a-ab22d1e112b9')\"\n",
              "            title=\"Convert this dataframe to an interactive table.\"\n",
              "            style=\"display:none;\">\n",
              "\n",
              "  <svg xmlns=\"http://www.w3.org/2000/svg\" height=\"24px\" viewBox=\"0 -960 960 960\">\n",
              "    <path d=\"M120-120v-720h720v720H120Zm60-500h600v-160H180v160Zm220 220h160v-160H400v160Zm0 220h160v-160H400v160ZM180-400h160v-160H180v160Zm440 0h160v-160H620v160ZM180-180h160v-160H180v160Zm440 0h160v-160H620v160Z\"/>\n",
              "  </svg>\n",
              "    </button>\n",
              "\n",
              "  <style>\n",
              "    .colab-df-container {\n",
              "      display:flex;\n",
              "      gap: 12px;\n",
              "    }\n",
              "\n",
              "    .colab-df-convert {\n",
              "      background-color: #E8F0FE;\n",
              "      border: none;\n",
              "      border-radius: 50%;\n",
              "      cursor: pointer;\n",
              "      display: none;\n",
              "      fill: #1967D2;\n",
              "      height: 32px;\n",
              "      padding: 0 0 0 0;\n",
              "      width: 32px;\n",
              "    }\n",
              "\n",
              "    .colab-df-convert:hover {\n",
              "      background-color: #E2EBFA;\n",
              "      box-shadow: 0px 1px 2px rgba(60, 64, 67, 0.3), 0px 1px 3px 1px rgba(60, 64, 67, 0.15);\n",
              "      fill: #174EA6;\n",
              "    }\n",
              "\n",
              "    .colab-df-buttons div {\n",
              "      margin-bottom: 4px;\n",
              "    }\n",
              "\n",
              "    [theme=dark] .colab-df-convert {\n",
              "      background-color: #3B4455;\n",
              "      fill: #D2E3FC;\n",
              "    }\n",
              "\n",
              "    [theme=dark] .colab-df-convert:hover {\n",
              "      background-color: #434B5C;\n",
              "      box-shadow: 0px 1px 3px 1px rgba(0, 0, 0, 0.15);\n",
              "      filter: drop-shadow(0px 1px 2px rgba(0, 0, 0, 0.3));\n",
              "      fill: #FFFFFF;\n",
              "    }\n",
              "  </style>\n",
              "\n",
              "    <script>\n",
              "      const buttonEl =\n",
              "        document.querySelector('#df-a18cedb4-b2ea-42e2-be9a-ab22d1e112b9 button.colab-df-convert');\n",
              "      buttonEl.style.display =\n",
              "        google.colab.kernel.accessAllowed ? 'block' : 'none';\n",
              "\n",
              "      async function convertToInteractive(key) {\n",
              "        const element = document.querySelector('#df-a18cedb4-b2ea-42e2-be9a-ab22d1e112b9');\n",
              "        const dataTable =\n",
              "          await google.colab.kernel.invokeFunction('convertToInteractive',\n",
              "                                                    [key], {});\n",
              "        if (!dataTable) return;\n",
              "\n",
              "        const docLinkHtml = 'Like what you see? Visit the ' +\n",
              "          '<a target=\"_blank\" href=https://colab.research.google.com/notebooks/data_table.ipynb>data table notebook</a>'\n",
              "          + ' to learn more about interactive tables.';\n",
              "        element.innerHTML = '';\n",
              "        dataTable['output_type'] = 'display_data';\n",
              "        await google.colab.output.renderOutput(dataTable, element);\n",
              "        const docLink = document.createElement('div');\n",
              "        docLink.innerHTML = docLinkHtml;\n",
              "        element.appendChild(docLink);\n",
              "      }\n",
              "    </script>\n",
              "  </div>\n",
              "\n",
              "    </div>\n",
              "  </div>\n"
            ],
            "text/plain": [
              "Empty DataFrame\n",
              "Columns: []\n",
              "Index: []"
            ]
          },
          "metadata": {},
          "output_type": "display_data"
        }
      ],
      "source": [
        "import numpy as np\n",
        "from gensim import matutils\n",
        "import pandas as pd\n",
        "\n",
        "# Define list of words\n",
        "words = [\"method\",\"reason\",\"truth\",\"rightly\", \"science\",\"seeking\"]\n",
        "\n",
        "# Initialize list to store results\n",
        "data = []\n",
        "\n",
        "# Iterate over all pairs of words\n",
        "for i in range(len(words)):\n",
        "    for j in range(len(words)):  # changed this line\n",
        "        word1 = words[i]\n",
        "        word2 = words[j]\n",
        "\n",
        "        # Ensure words are in the model's vocabulary\n",
        "        if word1 not in model.wv or word2 not in model.wv:\n",
        "            print(f\"One or both words ('{word1}', '{word2}') are not in the model's vocabulary.\")\n",
        "            continue\n",
        "\n",
        "        # Calculate cosine similarity\n",
        "        vec1 = model.wv[word1]\n",
        "        vec2 = model.wv[word2]\n",
        "        similarity = np.dot(matutils.unitvec(vec1), matutils.unitvec(vec2))\n",
        "\n",
        "        # Convert similarity to distance\n",
        "        distance = 1 - similarity\n",
        "\n",
        "        # Append to our results\n",
        "        data.append({'word1': word1, 'word2': word2, 'distance': distance})\n",
        "\n",
        "# Create DataFrame and display\n",
        "df = pd.DataFrame(data)\n",
        "display(df)"
      ]
    },
    {
      "cell_type": "markdown",
      "metadata": {
        "id": "-vr_RG_7HKYB"
      },
      "source": [
        "# 7.Tensorflow Projector\n",
        "\n",
        "https://projector.tensorflow.org/\n",
        "\n",
        "To visualize the embeddings with the TensorFlow Embedding Projector, you'll need to create two files: a vector file and a metadata file."
      ]
    },
    {
      "cell_type": "code",
      "execution_count": null,
      "metadata": {
        "id": "h63FENt8gcfm"
      },
      "outputs": [],
      "source": [
        "import csv\n",
        "import os\n",
        "import numpy as np\n",
        "\n",
        "# Directory where you want to save the files\n",
        "LOG_DIR = '/content'\n",
        "os.makedirs(LOG_DIR, exist_ok=True)\n",
        "\n",
        "# Get the words and vectors\n",
        "words = list(model.wv.key_to_index.keys())\n",
        "vectors = [model.wv[word] for word in words]\n",
        "\n",
        "# Write the vectors to a .tsv file\n",
        "with open(os.path.join(LOG_DIR, \"vecs.tsv\"), 'w', newline='') as f:\n",
        "    writer = csv.writer(f, delimiter='\\t')\n",
        "    writer.writerows(vectors)\n",
        "\n",
        "# Write the labels (words) to a separate .tsv file\n",
        "with open(os.path.join(LOG_DIR, \"meta.tsv\"), 'w', newline='', encoding='utf-8') as f:\n",
        "    writer = csv.writer(f, delimiter='\\t')\n",
        "    writer.writerows([[word] for word in words])  # No header row"
      ]
    },
    {
      "cell_type": "code",
      "execution_count": null,
      "metadata": {
        "colab": {
          "base_uri": "https://localhost:8080/"
        },
        "id": "_jnhpJgZgdEU",
        "outputId": "26c66865-8ea6-4e25-e0a9-31dfb0427526"
      },
      "outputs": [
        {
          "name": "stdout",
          "output_type": "stream",
          "text": [
            "Vectors file (vecs.tsv) size:\n",
            "2 /content/vecs.tsv\n",
            "Metadata file (meta.tsv) size:\n",
            "2 /content/meta.tsv\n"
          ]
        }
      ],
      "source": [
        "!echo \"Vectors file (vecs.tsv) size:\"\n",
        "!wc -l /content/vecs.tsv\n",
        "!echo \"Metadata file (meta.tsv) size:\"\n",
        "!wc -l /content/meta.tsv"
      ]
    }
  ],
  "metadata": {
    "colab": {
      "authorship_tag": "ABX9TyOVjPgOEGRcsFKdWLaICBcz",
      "gpuType": "V100",
      "provenance": [],
      "toc_visible": true
    },
    "kernelspec": {
      "display_name": "Python 3",
      "name": "python3"
    },
    "language_info": {
      "name": "python"
    },
    "widgets": {
      "application/vnd.jupyter.widget-state+json": {
        "406bec5413a3489aad68ed952de6f5c3": {
          "model_module": "@jupyter-widgets/controls",
          "model_module_version": "1.5.0",
          "model_name": "IntSliderModel",
          "state": {
            "_dom_classes": [],
            "_model_module": "@jupyter-widgets/controls",
            "_model_module_version": "1.5.0",
            "_model_name": "IntSliderModel",
            "_view_count": null,
            "_view_module": "@jupyter-widgets/controls",
            "_view_module_version": "1.5.0",
            "_view_name": "IntSliderView",
            "continuous_update": true,
            "description": "Lines:",
            "description_tooltip": null,
            "disabled": false,
            "layout": "IPY_MODEL_d61e876ea0fc4b62a268208b2b9b75d4",
            "max": 100,
            "min": 0,
            "orientation": "horizontal",
            "readout": true,
            "readout_format": "d",
            "step": 1,
            "style": "IPY_MODEL_ca8fda514e354a62968c0f319946e86d",
            "value": 10
          }
        },
        "5b476f2c503846cb84540e8147056ae7": {
          "model_module": "@jupyter-widgets/controls",
          "model_module_version": "1.5.0",
          "model_name": "DropdownModel",
          "state": {
            "_dom_classes": [],
            "_model_module": "@jupyter-widgets/controls",
            "_model_module_version": "1.5.0",
            "_model_name": "DropdownModel",
            "_options_labels": [
              "wv",
              "vector_size",
              "train_count",
              "total_train_time",
              "epochs",
              "sg"
            ],
            "_view_count": null,
            "_view_module": "@jupyter-widgets/controls",
            "_view_module_version": "1.5.0",
            "_view_name": "DropdownView",
            "description": "Attribute:",
            "description_tooltip": null,
            "disabled": false,
            "index": 0,
            "layout": "IPY_MODEL_ac96871495474735a30757045dc6dc8e",
            "style": "IPY_MODEL_c9f21f13fb734350b2d56b668625afe7"
          }
        },
        "7e376784e7424e4a98021572d20aab5e": {
          "model_module": "@jupyter-widgets/controls",
          "model_module_version": "1.5.0",
          "model_name": "ButtonStyleModel",
          "state": {
            "_model_module": "@jupyter-widgets/controls",
            "_model_module_version": "1.5.0",
            "_model_name": "ButtonStyleModel",
            "_view_count": null,
            "_view_module": "@jupyter-widgets/base",
            "_view_module_version": "1.2.0",
            "_view_name": "StyleView",
            "button_color": null,
            "font_weight": ""
          }
        },
        "ac96871495474735a30757045dc6dc8e": {
          "model_module": "@jupyter-widgets/base",
          "model_module_version": "1.2.0",
          "model_name": "LayoutModel",
          "state": {
            "_model_module": "@jupyter-widgets/base",
            "_model_module_version": "1.2.0",
            "_model_name": "LayoutModel",
            "_view_count": null,
            "_view_module": "@jupyter-widgets/base",
            "_view_module_version": "1.2.0",
            "_view_name": "LayoutView",
            "align_content": null,
            "align_items": null,
            "align_self": null,
            "border": null,
            "bottom": null,
            "display": null,
            "flex": null,
            "flex_flow": null,
            "grid_area": null,
            "grid_auto_columns": null,
            "grid_auto_flow": null,
            "grid_auto_rows": null,
            "grid_column": null,
            "grid_gap": null,
            "grid_row": null,
            "grid_template_areas": null,
            "grid_template_columns": null,
            "grid_template_rows": null,
            "height": null,
            "justify_content": null,
            "justify_items": null,
            "left": null,
            "margin": null,
            "max_height": null,
            "max_width": null,
            "min_height": null,
            "min_width": null,
            "object_fit": null,
            "object_position": null,
            "order": null,
            "overflow": null,
            "overflow_x": null,
            "overflow_y": null,
            "padding": null,
            "right": null,
            "top": null,
            "visibility": null,
            "width": null
          }
        },
        "ba07d84543a144fe89784659f30a5077": {
          "model_module": "@jupyter-widgets/base",
          "model_module_version": "1.2.0",
          "model_name": "LayoutModel",
          "state": {
            "_model_module": "@jupyter-widgets/base",
            "_model_module_version": "1.2.0",
            "_model_name": "LayoutModel",
            "_view_count": null,
            "_view_module": "@jupyter-widgets/base",
            "_view_module_version": "1.2.0",
            "_view_name": "LayoutView",
            "align_content": null,
            "align_items": null,
            "align_self": null,
            "border": null,
            "bottom": null,
            "display": null,
            "flex": null,
            "flex_flow": null,
            "grid_area": null,
            "grid_auto_columns": null,
            "grid_auto_flow": null,
            "grid_auto_rows": null,
            "grid_column": null,
            "grid_gap": null,
            "grid_row": null,
            "grid_template_areas": null,
            "grid_template_columns": null,
            "grid_template_rows": null,
            "height": null,
            "justify_content": null,
            "justify_items": null,
            "left": null,
            "margin": null,
            "max_height": null,
            "max_width": null,
            "min_height": null,
            "min_width": null,
            "object_fit": null,
            "object_position": null,
            "order": null,
            "overflow": null,
            "overflow_x": null,
            "overflow_y": null,
            "padding": null,
            "right": null,
            "top": null,
            "visibility": null,
            "width": null
          }
        },
        "c9f21f13fb734350b2d56b668625afe7": {
          "model_module": "@jupyter-widgets/controls",
          "model_module_version": "1.5.0",
          "model_name": "DescriptionStyleModel",
          "state": {
            "_model_module": "@jupyter-widgets/controls",
            "_model_module_version": "1.5.0",
            "_model_name": "DescriptionStyleModel",
            "_view_count": null,
            "_view_module": "@jupyter-widgets/base",
            "_view_module_version": "1.2.0",
            "_view_name": "StyleView",
            "description_width": ""
          }
        },
        "ca8fda514e354a62968c0f319946e86d": {
          "model_module": "@jupyter-widgets/controls",
          "model_module_version": "1.5.0",
          "model_name": "SliderStyleModel",
          "state": {
            "_model_module": "@jupyter-widgets/controls",
            "_model_module_version": "1.5.0",
            "_model_name": "SliderStyleModel",
            "_view_count": null,
            "_view_module": "@jupyter-widgets/base",
            "_view_module_version": "1.2.0",
            "_view_name": "StyleView",
            "description_width": "",
            "handle_color": null
          }
        },
        "d61e876ea0fc4b62a268208b2b9b75d4": {
          "model_module": "@jupyter-widgets/base",
          "model_module_version": "1.2.0",
          "model_name": "LayoutModel",
          "state": {
            "_model_module": "@jupyter-widgets/base",
            "_model_module_version": "1.2.0",
            "_model_name": "LayoutModel",
            "_view_count": null,
            "_view_module": "@jupyter-widgets/base",
            "_view_module_version": "1.2.0",
            "_view_name": "LayoutView",
            "align_content": null,
            "align_items": null,
            "align_self": null,
            "border": null,
            "bottom": null,
            "display": null,
            "flex": null,
            "flex_flow": null,
            "grid_area": null,
            "grid_auto_columns": null,
            "grid_auto_flow": null,
            "grid_auto_rows": null,
            "grid_column": null,
            "grid_gap": null,
            "grid_row": null,
            "grid_template_areas": null,
            "grid_template_columns": null,
            "grid_template_rows": null,
            "height": null,
            "justify_content": null,
            "justify_items": null,
            "left": null,
            "margin": null,
            "max_height": null,
            "max_width": null,
            "min_height": null,
            "min_width": null,
            "object_fit": null,
            "object_position": null,
            "order": null,
            "overflow": null,
            "overflow_x": null,
            "overflow_y": null,
            "padding": null,
            "right": null,
            "top": null,
            "visibility": null,
            "width": null
          }
        },
        "dea3756712ff42538aaed335bab4c49d": {
          "model_module": "@jupyter-widgets/controls",
          "model_module_version": "1.5.0",
          "model_name": "ButtonModel",
          "state": {
            "_dom_classes": [],
            "_model_module": "@jupyter-widgets/controls",
            "_model_module_version": "1.5.0",
            "_model_name": "ButtonModel",
            "_view_count": null,
            "_view_module": "@jupyter-widgets/controls",
            "_view_module_version": "1.5.0",
            "_view_name": "ButtonView",
            "button_style": "",
            "description": "Display",
            "disabled": false,
            "icon": "",
            "layout": "IPY_MODEL_ba07d84543a144fe89784659f30a5077",
            "style": "IPY_MODEL_7e376784e7424e4a98021572d20aab5e",
            "tooltip": ""
          }
        }
      }
    }
  },
  "nbformat": 4,
  "nbformat_minor": 0
}
