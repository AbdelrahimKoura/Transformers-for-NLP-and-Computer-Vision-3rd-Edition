{
  "cells": [
    {
      "cell_type": "markdown",
      "source": [
        "# Text-to-video synthesis\n",
        "\n",
        "2023, Denis Rothman\n",
        "\n",
        "The [original notebook accessible on Hugging Face](https://huggingface.co/damo-vilab/modelscope-damo-text-to-video-synthesis) has been modified for educational purposes.\n",
        "\n",
        "An OpenAI CLIP text-to-video implementation"
      ],
      "metadata": {
        "id": "_Xcmn3f7GnKz"
      }
    },
    {
      "cell_type": "markdown",
      "source": [
        "Activate a GPU for this notebook"
      ],
      "metadata": {
        "id": "FsJ-zvVxp9yD"
      }
    },
    {
      "cell_type": "code",
      "execution_count": 1,
      "metadata": {
        "colab": {
          "base_uri": "https://localhost:8080/"
        },
        "id": "bSluBq99ObSk",
        "outputId": "ec7ef8ff-2ddd-4154-9eb6-a0e2c787b364"
      },
      "outputs": [
        {
          "output_type": "stream",
          "name": "stdout",
          "text": [
            "Mon Aug 21 15:13:27 2023       \n",
            "+-----------------------------------------------------------------------------+\n",
            "| NVIDIA-SMI 525.105.17   Driver Version: 525.105.17   CUDA Version: 12.0     |\n",
            "|-------------------------------+----------------------+----------------------+\n",
            "| GPU  Name        Persistence-M| Bus-Id        Disp.A | Volatile Uncorr. ECC |\n",
            "| Fan  Temp  Perf  Pwr:Usage/Cap|         Memory-Usage | GPU-Util  Compute M. |\n",
            "|                               |                      |               MIG M. |\n",
            "|===============================+======================+======================|\n",
            "|   0  Tesla T4            Off  | 00000000:00:04.0 Off |                    0 |\n",
            "| N/A   55C    P8    10W /  70W |      0MiB / 15360MiB |      0%      Default |\n",
            "|                               |                      |                  N/A |\n",
            "+-------------------------------+----------------------+----------------------+\n",
            "                                                                               \n",
            "+-----------------------------------------------------------------------------+\n",
            "| Processes:                                                                  |\n",
            "|  GPU   GI   CI        PID   Type   Process name                  GPU Memory |\n",
            "|        ID   ID                                                   Usage      |\n",
            "|=============================================================================|\n",
            "|  No running processes found                                                 |\n",
            "+-----------------------------------------------------------------------------+\n"
          ]
        }
      ],
      "source": [
        "!nvidia-smi"
      ]
    },
    {
      "cell_type": "code",
      "execution_count": null,
      "metadata": {
        "id": "OYP9G0DmfXYx"
      },
      "outputs": [],
      "source": [
        "!pip install modelscope==1.4.2\n",
        "!pip install open_clip_torch\n",
        "!pip install pytorch-lightning"
      ]
    },
    {
      "cell_type": "code",
      "execution_count": 3,
      "metadata": {
        "colab": {
          "base_uri": "https://localhost:8080/"
        },
        "id": "udMLgdRcPuhX",
        "outputId": "24261990-07e3-4fe1-8b89-934aa79e21da"
      },
      "outputs": [
        {
          "output_type": "stream",
          "name": "stderr",
          "text": [
            "2023-08-21 15:14:03,470 - modelscope - INFO - PyTorch version 2.0.1+cu118 Found.\n",
            "2023-08-21 15:14:03,476 - modelscope - INFO - TensorFlow version 2.12.0 Found.\n",
            "2023-08-21 15:14:03,477 - modelscope - INFO - Loading ast index from /root/.cache/modelscope/ast_indexer\n",
            "2023-08-21 15:14:03,478 - modelscope - INFO - No valid ast index found from /root/.cache/modelscope/ast_indexer, generating ast index from prebuilt!\n",
            "2023-08-21 15:14:03,617 - modelscope - INFO - Loading done! Current index file version is 1.4.2, with md5 736a16892503e75263c7526a20593352 and a total number of 842 components indexed\n",
            "2023-08-21 15:14:08,616 - modelscope - INFO - Model revision not specified, use the latest revision: v1.1.0\n",
            "Downloading: 100%|██████████| 782k/782k [00:00<00:00, 7.19MB/s]\n",
            "Downloading: 100%|██████████| 796k/796k [00:00<00:00, 8.87MB/s]\n",
            "Downloading: 100%|██████████| 737k/737k [00:00<00:00, 8.56MB/s]\n",
            "Downloading: 100%|██████████| 846k/846k [00:00<00:00, 8.19MB/s]\n",
            "Downloading: 100%|██████████| 729k/729k [00:00<00:00, 8.08MB/s]\n",
            "Downloading: 100%|██████████| 825k/825k [00:00<00:00, 7.49MB/s]\n",
            "Downloading: 100%|██████████| 708k/708k [00:00<00:00, 8.11MB/s]\n",
            "Downloading: 100%|██████████| 890k/890k [00:00<00:00, 8.45MB/s]\n",
            "Downloading: 100%|██████████| 1.04k/1.04k [00:00<00:00, 5.27MB/s]\n",
            "Downloading: 100%|██████████| 728k/728k [00:00<00:00, 6.12MB/s]\n",
            "Downloading: 100%|██████████| 3.67G/3.67G [00:48<00:00, 81.9MB/s]\n",
            "Downloading: 100%|██████████| 11.1k/11.1k [00:00<00:00, 14.7MB/s]\n",
            "Downloading: 100%|██████████| 760k/760k [00:00<00:00, 8.92MB/s]\n",
            "Downloading: 100%|██████████| 5.26G/5.26G [01:08<00:00, 81.8MB/s]\n",
            "Downloading: 100%|██████████| 4.86G/4.86G [01:03<00:00, 82.6MB/s]\n",
            "2023-08-21 15:18:04,902 - modelscope - INFO - initiate model from /root/.cache/modelscope/hub/damo/text-to-video-synthesis\n",
            "2023-08-21 15:18:04,903 - modelscope - INFO - initiate model from location /root/.cache/modelscope/hub/damo/text-to-video-synthesis.\n",
            "2023-08-21 15:18:04,905 - modelscope - INFO - initialize model from /root/.cache/modelscope/hub/damo/text-to-video-synthesis\n",
            "2023-08-21 15:18:47,411 - modelscope - WARNING - No preprocessor field found in cfg.\n",
            "2023-08-21 15:18:47,413 - modelscope - WARNING - No val key and type key found in preprocessor domain of configuration.json file.\n",
            "2023-08-21 15:18:47,413 - modelscope - WARNING - Cannot find available config to build preprocessor at mode inference, current config: {'model_dir': '/root/.cache/modelscope/hub/damo/text-to-video-synthesis'}. trying to build by task and model information.\n",
            "2023-08-21 15:18:47,414 - modelscope - WARNING - No preprocessor key ('latent-text-to-video-synthesis', 'text-to-video-synthesis') found in PREPROCESSOR_MAP, skip building preprocessor.\n",
            "2023-08-21 15:18:47,418 - modelscope - WARNING - task text-to-video-synthesis input definition is missing\n",
            "2023-08-21 15:19:47,909 - modelscope - WARNING - task text-to-video-synthesis output keys are missing\n"
          ]
        },
        {
          "output_type": "stream",
          "name": "stdout",
          "text": [
            "You can play or save the video from the output_video_path: /tmp/tmpaxg7fkk_.mp4\n"
          ]
        }
      ],
      "source": [
        "from modelscope.pipelines import pipeline\n",
        "from modelscope.outputs import OutputKeys\n",
        "\n",
        "p = pipeline('text-to-video-synthesis', 'damo/text-to-video-synthesis')\n",
        "test_text = {\n",
        "        'text': 'A car flying in space.',\n",
        "    }\n",
        "output_video_path = p(test_text,)[OutputKeys.OUTPUT_VIDEO]\n",
        "print('The output path:', output_video_path)"
      ]
    },
    {
      "cell_type": "markdown",
      "source": [
        "Download an play the video with VCL. It might not work with another player."
      ],
      "metadata": {
        "id": "3-RKlv-rinbO"
      }
    },
    {
      "cell_type": "code",
      "source": [
        "# Download result\n",
        "from google.colab import files\n",
        "files.download(output_video_path)"
      ],
      "metadata": {
        "colab": {
          "base_uri": "https://localhost:8080/",
          "height": 17
        },
        "id": "NW1MUCGkqYQz",
        "outputId": "9e188156-5762-4d70-bb6b-5fcdc157e64e"
      },
      "execution_count": 10,
      "outputs": [
        {
          "output_type": "display_data",
          "data": {
            "text/plain": [
              "<IPython.core.display.Javascript object>"
            ],
            "application/javascript": [
              "\n",
              "    async function download(id, filename, size) {\n",
              "      if (!google.colab.kernel.accessAllowed) {\n",
              "        return;\n",
              "      }\n",
              "      const div = document.createElement('div');\n",
              "      const label = document.createElement('label');\n",
              "      label.textContent = `Downloading \"${filename}\": `;\n",
              "      div.appendChild(label);\n",
              "      const progress = document.createElement('progress');\n",
              "      progress.max = size;\n",
              "      div.appendChild(progress);\n",
              "      document.body.appendChild(div);\n",
              "\n",
              "      const buffers = [];\n",
              "      let downloaded = 0;\n",
              "\n",
              "      const channel = await google.colab.kernel.comms.open(id);\n",
              "      // Send a message to notify the kernel that we're ready.\n",
              "      channel.send({})\n",
              "\n",
              "      for await (const message of channel.messages) {\n",
              "        // Send a message to notify the kernel that we're ready.\n",
              "        channel.send({})\n",
              "        if (message.buffers) {\n",
              "          for (const buffer of message.buffers) {\n",
              "            buffers.push(buffer);\n",
              "            downloaded += buffer.byteLength;\n",
              "            progress.value = downloaded;\n",
              "          }\n",
              "        }\n",
              "      }\n",
              "      const blob = new Blob(buffers, {type: 'application/binary'});\n",
              "      const a = document.createElement('a');\n",
              "      a.href = window.URL.createObjectURL(blob);\n",
              "      a.download = filename;\n",
              "      div.appendChild(a);\n",
              "      a.click();\n",
              "      div.remove();\n",
              "    }\n",
              "  "
            ]
          },
          "metadata": {}
        },
        {
          "output_type": "display_data",
          "data": {
            "text/plain": [
              "<IPython.core.display.Javascript object>"
            ],
            "application/javascript": [
              "download(\"download_d7f425b0-8824-4df0-b936-5999f489daeb\", \"tmpaxg7fkk_.mp4\", 245117)"
            ]
          },
          "metadata": {}
        }
      ]
    },
    {
      "cell_type": "markdown",
      "source": [
        "you can download a previous example of \"car in space\" on GitHub\n",
        "\n",
        "https://github.com/Denis2054/Transformers-for-NLP-and-Computer-Vision-3rd-Edition/blob/main/Chapter17/car_in_space.mp4"
      ],
      "metadata": {
        "id": "fJyKUKSHsiem"
      }
    }
  ],
  "metadata": {
    "accelerator": "GPU",
    "colab": {
      "provenance": [],
      "machine_shape": "hm",
      "gpuType": "T4"
    },
    "kernelspec": {
      "display_name": "Python 3",
      "name": "python3"
    },
    "language_info": {
      "name": "python"
    }
  },
  "nbformat": 4,
  "nbformat_minor": 0
}