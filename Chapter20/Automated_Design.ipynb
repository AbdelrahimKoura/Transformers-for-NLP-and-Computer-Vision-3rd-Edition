{
  "nbformat": 4,
  "nbformat_minor": 0,
  "metadata": {
    "colab": {
      "provenance": [],
      "authorship_tag": "ABX9TyM7v3ihVGbqRvS2IkHC52O8"
    },
    "kernelspec": {
      "name": "python3",
      "display_name": "Python 3"
    },
    "language_info": {
      "name": "python"
    }
  },
  "cells": [
    {
      "cell_type": "markdown",
      "source": [
        "# Automated Design\n",
        "\n",
        "Copyright 2023 Denis Rothman\n",
        "\n",
        "*pending*"
      ],
      "metadata": {
        "id": "JV-ptRprJzVn"
      }
    },
    {
      "cell_type": "code",
      "execution_count": null,
      "metadata": {
        "id": "dARqScZwJvqw"
      },
      "outputs": [],
      "source": []
    }
  ]
}