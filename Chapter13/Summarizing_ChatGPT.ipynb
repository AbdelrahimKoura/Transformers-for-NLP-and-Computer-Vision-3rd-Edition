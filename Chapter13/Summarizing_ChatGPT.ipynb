{
  "cells": [
    {
      "cell_type": "markdown",
      "metadata": {
        "id": "b_QjF04i9neT"
      },
      "source": [
        "#Summarizing_with_ChatGPT\n",
        "Copyright 2023 Denis Rothman, MIT License\n",
        "\n",
        "\n",
        "\n",
        "\n",
        "\n"
      ]
    },
    {
      "cell_type": "code",
      "execution_count": null,
      "metadata": {
        "colab": {
          "base_uri": "https://localhost:8080/"
        },
        "id": "lUn5YJeQvy-F",
        "outputId": "201a051f-abab-4b93-827d-70a9f503b5cb"
      },
      "outputs": [
        {
          "name": "stdout",
          "output_type": "stream",
          "text": [
            "Looking in indexes: https://pypi.org/simple, https://us-python.pkg.dev/colab-wheels/public/simple/\n",
            "Requirement already satisfied: pip in /usr/local/lib/python3.10/dist-packages (23.1.2)\n"
          ]
        }
      ],
      "source": [
        "!pip install --upgrade pip"
      ]
    },
    {
      "cell_type": "markdown",
      "metadata": {
        "id": "Y-crABM8l3Xi"
      },
      "source": [
        "#1.Installing openai\n"
      ]
    },
    {
      "cell_type": "markdown",
      "metadata": {
        "id": "ygFUriSCvTNb"
      },
      "source": [
        "## installing and importing openai"
      ]
    },
    {
      "cell_type": "code",
      "execution_count": null,
      "metadata": {
        "colab": {
          "base_uri": "https://localhost:8080/"
        },
        "id": "9G79pIy_Mg5Y",
        "outputId": "afe692ac-405c-4e01-9273-9a34d1850db5"
      },
      "outputs": [
        {
          "name": "stdout",
          "output_type": "stream",
          "text": [
            "\u001b[2K     \u001b[90m━━━━━━━━━━━━━━━━━━━━━━━━━━━━━━━━━━━━━━━━\u001b[0m \u001b[32m73.6/73.6 kB\u001b[0m \u001b[31m3.3 MB/s\u001b[0m eta \u001b[36m0:00:00\u001b[0m\n",
            "\u001b[2K     \u001b[90m━━━━━━━━━━━━━━━━━━━━━━━━━━━━━━━━━━━━━━━━\u001b[0m \u001b[32m1.0/1.0 MB\u001b[0m \u001b[31m24.8 MB/s\u001b[0m eta \u001b[36m0:00:00\u001b[0m\n",
            "\u001b[2K     \u001b[90m━━━━━━━━━━━━━━━━━━━━━━━━━━━━━━━━━━━━━━\u001b[0m \u001b[32m114.5/114.5 kB\u001b[0m \u001b[31m11.7 MB/s\u001b[0m eta \u001b[36m0:00:00\u001b[0m\n",
            "\u001b[2K     \u001b[90m━━━━━━━━━━━━━━━━━━━━━━━━━━━━━━━━━━━━━━\u001b[0m \u001b[32m268.8/268.8 kB\u001b[0m \u001b[31m19.4 MB/s\u001b[0m eta \u001b[36m0:00:00\u001b[0m\n",
            "\u001b[2K     \u001b[90m━━━━━━━━━━━━━━━━━━━━━━━━━━━━━━━━━━━━━━\u001b[0m \u001b[32m149.6/149.6 kB\u001b[0m \u001b[31m11.2 MB/s\u001b[0m eta \u001b[36m0:00:00\u001b[0m\n",
            "\u001b[?25h"
          ]
        }
      ],
      "source": [
        "#Importing openai\n",
        "try:\n",
        "  import openai\n",
        "  from openai import OpenAI\n",
        "except:\n",
        "  !pip install openai -qq\n",
        "  import openai\n",
        "  from openai import OpenAI"
      ]
    },
    {
      "cell_type": "markdown",
      "metadata": {
        "id": "R7YHxHaLmAEi"
      },
      "source": [
        "##API Key"
      ]
    },
    {
      "cell_type": "code",
      "execution_count": null,
      "metadata": {
        "colab": {
          "base_uri": "https://localhost:8080/"
        },
        "id": "Eb6gFplQqU5v",
        "outputId": "d0f9fa31-06ea-4454-fea3-391c7028693d"
      },
      "outputs": [
        {
          "name": "stdout",
          "output_type": "stream",
          "text": [
            "Mounted at /content/drive\n"
          ]
        }
      ],
      "source": [
        "#2.API Key\n",
        "#Store you key in a file and read it(you can type it directly in the notebook but it will be visible for somebody next to you)\n",
        "from google.colab import drive\n",
        "drive.mount('/content/drive')\n",
        "f = open(\"drive/MyDrive/files/api_key.txt\", \"r\")\n",
        "API_KEY=f.readline()\n",
        "f.close()\n",
        "\n",
        "#The OpenAI Key\n",
        "import os\n",
        "os.environ['OPENAI_API_KEY'] =API_KEY\n",
        "openai.api_key = os.getenv(\"OPENAI_API_KEY\")\n"
      ]
    },
    {
      "cell_type": "markdown",
      "metadata": {
        "id": "U03EQHLtmZLl"
      },
      "source": [
        "# 2.ChatGPT-GPT-4 dialog function"
      ]
    },
    {
      "cell_type": "markdown",
      "metadata": {
        "id": "1moBmYTVp-ih"
      },
      "source": [
        "preparing the NLP message"
      ]
    },
    {
      "cell_type": "code",
      "execution_count": null,
      "metadata": {
        "id": "wl_ih8tPqebL"
      },
      "outputs": [],
      "source": [
        " def dialog(uinput):\n",
        "   #preparing the prompt for OpenAI\n",
        "   role=\"user\"\n",
        "\n",
        "   line = {\"role\": role, \"content\": uinput}\n",
        "\n",
        "   #creating the message\n",
        "   assert1={\"role\": \"system\", \"content\": \"You are a Natural Language Processing Assistant for summarizing.\"}\n",
        "   assert2={\"role\": \"assistant\", \"content\": \"Summarize the texts provided in the prompt.\"}\n",
        "   assert3=line\n",
        "   iprompt = []\n",
        "   iprompt.append(assert1)\n",
        "   iprompt.append(assert2)\n",
        "   iprompt.append(assert3)\n",
        "\n",
        "   #sending the message to ChatGPT\n",
        "   client = OpenAI()\n",
        "   response=client.chat.completions.create((model=\"gpt-4\",messages=iprompt) #ChatGPT dialog\n",
        "   text=response[\"choices\"][0][\"message\"][\"content\"] #response in JSON\n",
        "\n",
        "   return text"
      ]
    },
    {
      "cell_type": "markdown",
      "metadata": {
        "id": "o-qY6V3mqMEb"
      },
      "source": [
        "# 3.Summarizing"
      ]
    },
    {
      "cell_type": "markdown",
      "metadata": {
        "id": "AKnTT3-j3TjG"
      },
      "source": [
        "\n",
        "Text to summarize. An introduction to a medical paper.  \n",
        "Title and reference:\n",
        "[Multi-Cue Kinetic Model with Non-Local Sensing for Cell Migration on a Fiber Network with Chemotaxis](https://www.ncbi.nlm.nih.gov/pmc/articles/PMC8840942/)\n",
        "\n",
        "Text:\n",
        "Cell migration is a fundamental mechanism in a huge variety of processes, such as wound healing, angiogenesis, tumor stroma formation, and metastasis. During these processes, cells sense the environment and respond to external stimuli orienting their direction of motion toward specific targets. This mechanism is referred to as taxis, and it results in the persistent migration in a certain preferential direction. The guidance cues leading to directed migration may be biochemical or biophysical. One example of a biochemical cue is the concentration of soluble molecules in the extracellular space. This cue gives rise to chemotaxis, which is considered a mono-directional stimulus. Other cues generating mono-directional stimuli include electric fields (electrotaxis, or galvanotaxis), light signals (phototaxis), bound ligands to the substratum (haptotaxis), or the extracellular matrix (ECM) stiffness (durotaxis) (Lara and Schneider 2013). Precisely, ECM stiffness can be counted as a biophysical cue, as well as the collagen fiber alignment. In particular, the latter is shown to stimulate contact guidance (Friedl and Brocker 2000; Friedl 2004), i.e., the tendency of cells to migrate by crawling on the fibers and following the directions imposed by them. Contact guidance is a bi-directional cue. In fact, if the fibers are not polarized, there is no preferential sense of motion along them.\n",
        "\n",
        "In many pathological and physiological processes, there are several directional cues inducing different simultaneous stimuli. While the cell’s response to each of them has been largely studied, the cell’s response to a multi-cue environment is much less understood. Some studies have shown how there can be competition or cooperation between these different stimuli. Thus, the fundamental issue concerns the way cells rank, integrate, or hierarchize them, especially when these stimuli are competing (e.g., when they are not co-aligned) (Rajnicek et al. 2007). Therefore, with the present work we propose a kinetic model aimed at analyzing cell behavior in response to two different stimuli. We study the way the simultaneous sensing of two cues—chemotaxis and contact guidance—influences the choice of the cell migratory direction. We take into account non-local sensing of both cues, since cells extend their protrusions in order to sense the environmental stimuli.\n",
        "\n",
        "Biological Background\n",
        "\"The coexistence of chemotaxis and contact guidance happens in vivo in a variety of situations, like wound healing or cancer progression. For example, during wound healing, fibroblasts migrate efficiently along collagen or fibronectin fibers in connective tissues. In tumor spread and metastasis formation, cancer cells follow the aligned fibers at the tumor-stroma interface and, thus, are facilitated to reach blood and lymphatic vessels (Steeg 2016; Provenzano et al. 2006, 2009). In both cases, chemotactic gradients have been shown to accelerate and enhance these processes (Lara and Schneider 2013; Bromberek et al. 2002). Another important issue concerns the design of platforms for controlling multiple directional cues and, in particular, soluble factors and aligned fibers. In fact, there are not many experimental studies that look at the combined effect of chemotaxis and contact guidance (Lara and Schneider 2013). In one of the first works on this topic (Wilkinson and Lackie 1983), the authors analyze contact guidance of neutrophil leukocytes on fibrils of collagen, showing a more efficient migration in the fiber direction, instead of in the perpendicular one. They also observe that, in the presence of a chemoattractant, there is cooperation or competition between the cues depending on their relative orientations. In the work by Bromberek et al. (2002), the enhancement of the alignment along the fibers is observed in presence of a co-aligned chemoattractant, while, in Maheshwari et al. (1999), the authors study the effects of different fibronectin densities and growth factor (EGF) concentrations on the quantitative regulation of random cell migration. An interesting 2D platform, allowing to study contact guidance and chemotaxis, was proposed by Sundararaghavan et al. (2013). Here, the authors demonstrate an additive effect of chemical gradients and fiber alignment by measuring the persistence time and a stronger dominance of contact guidance when the chemotactic gradient is aligned perpendicularly to the fibers. Thus, as for multiple directional cues different scenarios may happen, a deep understanding of cell migrational responses is a key step for the comprehension of both physiological and pathological processes.\"\n",
        "\n"
      ]
    },
    {
      "cell_type": "code",
      "execution_count": null,
      "metadata": {
        "id": "saxcjHpQI5w4"
      },
      "outputs": [],
      "source": [
        "import textwrap"
      ]
    },
    {
      "cell_type": "code",
      "execution_count": null,
      "metadata": {
        "id": "0odY5g2PLQu5"
      },
      "outputs": [],
      "source": [
        "input_text=\"Summarize the following paragraph:Cell migration is a fundamental mechanism in a huge variety of processes, such as wound healing, angiogenesis, tumor stroma formation, and metastasis. During these processes, cells sense the environment and respond to external stimuli orienting their direction of motion toward specific targets. This mechanism is referred to as taxis, and it results in the persistent migration in a certain preferential direction. The guidance cues leading to directed migration may be biochemical or biophysical. One example of a biochemical cue is the concentration of soluble molecules in the extracellular space. This cue gives rise to chemotaxis, which is considered a mono-directional stimulus. Other cues generating mono-directional stimuli include electric fields (electrotaxis, or galvanotaxis), light signals (phototaxis), bound ligands to the substratum (haptotaxis), or the extracellular matrix (ECM) stiffness (durotaxis) (Lara and Schneider 2013). Precisely, ECM stiffness can be counted as a biophysical cue, as well as the collagen fiber alignment. In particular, the latter is shown to stimulate contact guidance (Friedl and Brocker 2000; Friedl 2004), i.e., the tendency of cells to migrate by crawling on the fibers and following the directions imposed by them. Contact guidance is a bi-directional cue. In fact, if the fibers are not polarized, there is no preferential sense of motion along them.In many pathological and physiological processes, there are several directional cues inducing different simultaneous stimuli. While the cell’s response to each of them has been largely studied, the cell’s response to a multi-cue environment is much less understood. Some studies have shown how there can be competition or cooperation between these different stimuli. Thus, the fundamental issue concerns the way cells rank, integrate, or hierarchize them, especially when these stimuli are competing (e.g., when they are not co-aligned) (Rajnicek et al. 2007). Therefore, with the present work we propose a kinetic model aimed at analyzing cell behavior in response to two different stimuli. We study the way the simultaneous sensing of two cues—chemotaxis and contact guidance—influences the choice of the cell migratory direction. We take into account non-local sensing of both cues, since cells extend their protrusions in order to sense the environmental stimuli. Biological Background The coexistence of chemotaxis and contact guidance happens in vivo in a variety of situations, like wound healing or cancer progression. For example, during wound healing, fibroblasts migrate efficiently along collagen or fibronectin fibers in connective tissues. In tumor spread and metastasis formation, cancer cells follow the aligned fibers at the tumor-stroma interface and, thus, are facilitated to reach blood and lymphatic vessels (Steeg 2016; Provenzano et al. 2006, 2009). In both cases, chemotactic gradients have been shown to accelerate and enhance these processes (Lara and Schneider 2013; Bromberek et al. 2002). Another important issue concerns the design of platforms for controlling multiple directional cues and, in particular, soluble factors and aligned fibers. In fact, there are not many experimental studies that look at the combined effect of chemotaxis and contact guidance (Lara and Schneider 2013). In one of the first works on this topic (Wilkinson and Lackie 1983), the authors analyze contact guidance of neutrophil leukocytes on fibrils of collagen, showing a more efficient migration in the fiber direction, instead of in the perpendicular one. They also observe that, in the presence of a chemoattractant, there is cooperation or competition between the cues depending on their relative orientations. In the work by Bromberek et al. (2002), the enhancement of the alignment along the fibers is observed in presence of a co-aligned chemoattractant, while, in Maheshwari et al. (1999), the authors study the effects of different fibronectin densities and growth factor (EGF) concentrations on the quantitative regulation of random cell migration. An interesting 2D platform, allowing to study contact guidance and chemotaxis, was proposed by Sundararaghavan et al. (2013). Here, the authors demonstrate an additive effect of chemical gradients and fiber alignment by measuring the persistence time and a stronger dominance of contact guidance when the chemotactic gradient is aligned perpendicularly to the fibers. Thus, as for multiple directional cues different scenarios may happen, a deep understanding of cell migrational responses is a key step for the comprehension of both physiological and pathological processes.\""
      ]
    },
    {
      "cell_type": "code",
      "execution_count": null,
      "metadata": {
        "colab": {
          "base_uri": "https://localhost:8080/"
        },
        "id": "vM6fWKbit8qV",
        "outputId": "db9672fe-e0a6-4090-9a13-6ff23df479c5"
      },
      "outputs": [
        {
          "name": "stdout",
          "output_type": "stream",
          "text": [
            "Request  Summarize the following paragraph:Cell migration is a fundamental\n",
            "mechanism in a huge variety of processes, such as wound healing,\n",
            "angiogenesis, tumor stroma formation, and metastasis. During these\n",
            "processes, cells sense the environment and respond to external stimuli\n",
            "orienting their direction of motion toward specific targets. This\n",
            "mechanism is referred to as taxis, and it results in the persistent\n",
            "migration in a certain preferential direction. The guidance cues\n",
            "leading to directed migration may be biochemical or biophysical. One\n",
            "example of a biochemical cue is the concentration of soluble molecules\n",
            "in the extracellular space. This cue gives rise to chemotaxis, which\n",
            "is considered a mono-directional stimulus. Other cues generating mono-\n",
            "directional stimuli include electric fields (electrotaxis, or\n",
            "galvanotaxis), light signals (phototaxis), bound ligands to the\n",
            "substratum (haptotaxis), or the extracellular matrix (ECM) stiffness\n",
            "(durotaxis) (Lara and Schneider 2013). Precisely, ECM stiffness can be\n",
            "counted as a biophysical cue, as well as the collagen fiber alignment.\n",
            "In particular, the latter is shown to stimulate contact guidance\n",
            "(Friedl and Brocker 2000; Friedl 2004), i.e., the tendency of cells to\n",
            "migrate by crawling on the fibers and following the directions imposed\n",
            "by them. Contact guidance is a bi-directional cue. In fact, if the\n",
            "fibers are not polarized, there is no preferential sense of motion\n",
            "along them.In many pathological and physiological processes, there are\n",
            "several directional cues inducing different simultaneous stimuli.\n",
            "While the cell’s response to each of them has been largely studied,\n",
            "the cell’s response to a multi-cue environment is much less\n",
            "understood. Some studies have shown how there can be competition or\n",
            "cooperation between these different stimuli. Thus, the fundamental\n",
            "issue concerns the way cells rank, integrate, or hierarchize them,\n",
            "especially when these stimuli are competing (e.g., when they are not\n",
            "co-aligned) (Rajnicek et al. 2007). Therefore, with the present work\n",
            "we propose a kinetic model aimed at analyzing cell behavior in\n",
            "response to two different stimuli. We study the way the simultaneous\n",
            "sensing of two cues—chemotaxis and contact guidance—influences the\n",
            "choice of the cell migratory direction. We take into account non-local\n",
            "sensing of both cues, since cells extend their protrusions in order to\n",
            "sense the environmental stimuli. Biological Background The coexistence\n",
            "of chemotaxis and contact guidance happens in vivo in a variety of\n",
            "situations, like wound healing or cancer progression. For example,\n",
            "during wound healing, fibroblasts migrate efficiently along collagen\n",
            "or fibronectin fibers in connective tissues. In tumor spread and\n",
            "metastasis formation, cancer cells follow the aligned fibers at the\n",
            "tumor-stroma interface and, thus, are facilitated to reach blood and\n",
            "lymphatic vessels (Steeg 2016; Provenzano et al. 2006, 2009). In both\n",
            "cases, chemotactic gradients have been shown to accelerate and enhance\n",
            "these processes (Lara and Schneider 2013; Bromberek et al. 2002).\n",
            "Another important issue concerns the design of platforms for\n",
            "controlling multiple directional cues and, in particular, soluble\n",
            "factors and aligned fibers. In fact, there are not many experimental\n",
            "studies that look at the combined effect of chemotaxis and contact\n",
            "guidance (Lara and Schneider 2013). In one of the first works on this\n",
            "topic (Wilkinson and Lackie 1983), the authors analyze contact\n",
            "guidance of neutrophil leukocytes on fibrils of collagen, showing a\n",
            "more efficient migration in the fiber direction, instead of in the\n",
            "perpendicular one. They also observe that, in the presence of a\n",
            "chemoattractant, there is cooperation or competition between the cues\n",
            "depending on their relative orientations. In the work by Bromberek et\n",
            "al. (2002), the enhancement of the alignment along the fibers is\n",
            "observed in presence of a co-aligned chemoattractant, while, in\n",
            "Maheshwari et al. (1999), the authors study the effects of different\n",
            "fibronectin densities and growth factor (EGF) concentrations on the\n",
            "quantitative regulation of random cell migration. An interesting 2D\n",
            "platform, allowing to study contact guidance and chemotaxis, was\n",
            "proposed by Sundararaghavan et al. (2013). Here, the authors\n",
            "demonstrate an additive effect of chemical gradients and fiber\n",
            "alignment by measuring the persistence time and a stronger dominance\n",
            "of contact guidance when the chemotactic gradient is aligned\n",
            "perpendicularly to the fibers. Thus, as for multiple directional cues\n",
            "different scenarios may happen, a deep understanding of cell\n",
            "migrational responses is a key step for the comprehension of both\n",
            "physiological and pathological processes.\n"
          ]
        }
      ],
      "source": [
        "uinput=input_text\n",
        "text=dialog(uinput) #preparing the messages for ChatGPT and making the request\n",
        "wrapped_request = textwrap.fill(uinput, width=70)\n",
        "print(\"Request \",wrapped_request)"
      ]
    },
    {
      "cell_type": "code",
      "execution_count": null,
      "metadata": {
        "colab": {
          "base_uri": "https://localhost:8080/"
        },
        "id": "oNA1avXEM9xN",
        "outputId": "8424f177-f7d9-406f-9c70-708fd191acde"
      },
      "outputs": [
        {
          "name": "stdout",
          "output_type": "stream",
          "text": [
            "ChatGPT response:  Cell migration is critical for various processes like wound healing,\n",
            "angiogenesis, tumor formation, and metastasis. Cells respond to\n",
            "external signals, known as taxis, and migrate in a specific direction.\n",
            "Guidance cues for cell migration can be biochemical or biophysical.\n",
            "Examples include chemotaxis (dependent on the concentration of soluble\n",
            "molecules), electrotaxis (electric fields), phototaxis (light cues),\n",
            "haptotaxis (substratum-bound ligands), and durotaxis (matrix\n",
            "stiffness). The simultaneous sensing of multiple cues and their\n",
            "interaction is essential in understanding cell behavior during\n",
            "migration. Chemotaxis and contact guidance are key processes relevant\n",
            "to wound healing and cancer progression, and understanding the\n",
            "relationship between multiple directional cues can help unravel both\n",
            "physiological and pathological processes.\n"
          ]
        }
      ],
      "source": [
        "wrapped_response = textwrap.fill(text, width=70)\n",
        "print(\"ChatGPT response: \",wrapped_response)"
      ]
    }
  ],
  "metadata": {
    "colab": {
      "provenance": [],
      "toc_visible": true
    },
    "kernelspec": {
      "display_name": "Python 3",
      "name": "python3"
    },
    "language_info": {
      "name": "python"
    }
  },
  "nbformat": 4,
  "nbformat_minor": 0
}
