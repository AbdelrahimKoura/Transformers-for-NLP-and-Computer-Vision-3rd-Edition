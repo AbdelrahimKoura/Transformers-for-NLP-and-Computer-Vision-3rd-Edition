{
  "nbformat": 4,
  "nbformat_minor": 0,
  "metadata": {
    "colab": {
      "provenance": [],
      "machine_shape": "hm",
      "toc_visible": true,
      "gpuType": "V100"
    },
    "kernelspec": {
      "name": "python3",
      "display_name": "Python 3"
    },
    "accelerator": "GPU"
  },
  "cells": [
    {
      "cell_type": "markdown",
      "metadata": {
        "id": "7fjcTlyE3WvR"
      },
      "source": [
        "#Tokenizers\n",
        "Copyright 2021-2023 Denis Rothman, MIT License\n",
        "\n",
        "Reference 1 for word embedding:\n",
        "https://www.geeksforgeeks.org/python-word-embedding-using-word2vec/\n",
        "\n",
        "Reference 2 for cosine similarity:\n",
        "[SciKit Learn cosine similarity documentation](https://scikit-learn.org/stable/modules/generated/sklearn.metrics.pairwise.cosine_similarity.html)\n",
        "\n"
      ]
    },
    {
      "cell_type": "markdown",
      "source": [
        "#Pre-Requisistes"
      ],
      "metadata": {
        "id": "JV6bzj6-BelA"
      }
    },
    {
      "cell_type": "code",
      "metadata": {
        "id": "JKJ8Saf6vR9b",
        "colab": {
          "base_uri": "https://localhost:8080/"
        },
        "outputId": "9c01b98a-6f1f-4c70-85ee-22d4bf441494"
      },
      "source": [
        "!pip install gensim\n",
        "import nltk\n",
        "nltk.download('punkt')"
      ],
      "execution_count": 1,
      "outputs": [
        {
          "output_type": "stream",
          "name": "stdout",
          "text": [
            "Requirement already satisfied: gensim in /usr/local/lib/python3.10/dist-packages (4.3.1)\n",
            "Requirement already satisfied: numpy>=1.18.5 in /usr/local/lib/python3.10/dist-packages (from gensim) (1.22.4)\n",
            "Requirement already satisfied: scipy>=1.7.0 in /usr/local/lib/python3.10/dist-packages (from gensim) (1.10.1)\n",
            "Requirement already satisfied: smart-open>=1.8.1 in /usr/local/lib/python3.10/dist-packages (from gensim) (6.3.0)\n"
          ]
        },
        {
          "output_type": "stream",
          "name": "stderr",
          "text": [
            "[nltk_data] Downloading package punkt to /root/nltk_data...\n",
            "[nltk_data]   Unzipping tokenizers/punkt.zip.\n"
          ]
        },
        {
          "output_type": "execute_result",
          "data": {
            "text/plain": [
              "True"
            ]
          },
          "metadata": {},
          "execution_count": 1
        }
      ]
    },
    {
      "cell_type": "code",
      "metadata": {
        "id": "7o7EeDUUu0Sh"
      },
      "source": [
        "import math\n",
        "import numpy as np\n",
        "from nltk.tokenize import sent_tokenize, word_tokenize\n",
        "import gensim\n",
        "from gensim.models import Word2Vec\n",
        "import numpy as np\n",
        "from sklearn.metrics.pairwise import cosine_similarity\n",
        "import matplotlib.pyplot as plt\n",
        "import warnings\n",
        "warnings.filterwarnings(action = 'ignore')"
      ],
      "execution_count": 2,
      "outputs": []
    },
    {
      "cell_type": "markdown",
      "source": [
        "#Word2Vec Tokenization\n"
      ],
      "metadata": {
        "id": "Bk0LxtnfBgqx"
      }
    },
    {
      "cell_type": "code",
      "source": [
        "#Development access to delete when going into production\n",
        "from google.colab import drive\n",
        "drive.mount('/content/drive')\n",
        "\n",
        "with open('drive/MyDrive/files/github.txt', 'r') as f:\n",
        "    github_token = f.read().strip()"
      ],
      "metadata": {
        "id": "MDNiuGNcgJyj",
        "colab": {
          "base_uri": "https://localhost:8080/"
        },
        "outputId": "9d5e0ce5-abb8-4361-ce07-7ef25641d5e2"
      },
      "execution_count": 3,
      "outputs": [
        {
          "output_type": "stream",
          "name": "stdout",
          "text": [
            "Mounted at /content/drive\n"
          ]
        }
      ]
    },
    {
      "cell_type": "code",
      "source": [
        "#remove token when repository goes public\n",
        "!curl -H 'Authorization: token {github_token}' -L https://raw.githubusercontent.com/Denis2054/Transformers-for-NLP-and-Computer-Vision-3rd-Edition/master/Chapter09/text.txt --output \"text.txt\""
      ],
      "metadata": {
        "id": "ZYunZ6OHgs5N",
        "colab": {
          "base_uri": "https://localhost:8080/"
        },
        "outputId": "d0aaae32-e72e-419d-d1d7-0a484f40e549"
      },
      "execution_count": 4,
      "outputs": [
        {
          "output_type": "stream",
          "name": "stdout",
          "text": [
            "  % Total    % Received % Xferd  Average Speed   Time    Time     Time  Current\n",
            "                                 Dload  Upload   Total   Spent    Left  Speed\n",
            "100    14  100    14    0     0     28      0 --:--:-- --:--:-- --:--:--    28\n"
          ]
        }
      ]
    },
    {
      "cell_type": "code",
      "metadata": {
        "id": "1NRomrXEJOxJ",
        "colab": {
          "base_uri": "https://localhost:8080/"
        },
        "outputId": "ccf80c0a-5d8d-44cf-e939-c45443b81842"
      },
      "source": [
        "#‘text.txt’ file\n",
        "sample = open(\"text.txt\", \"r\")\n",
        "s = sample.read()\n",
        "\n",
        "# processing escape characters\n",
        "f = s.replace(\"\\n\", \" \")\n",
        "\n",
        "data = []\n",
        "# sentence parsing\n",
        "for i in sent_tokenize(f):\n",
        "\ttemp = []\n",
        "\t# tokenize the sentence into words\n",
        "\tfor j in word_tokenize(i):\n",
        "\t\ttemp.append(j.lower())\n",
        "\tdata.append(temp)\n",
        "\n",
        "# Creating Skip Gram model\n",
        "model2 = gensim.models.Word2Vec(data, min_count = 1, vector_size = 512,window = 5, sg = 1)\n",
        "print(model2)"
      ],
      "execution_count": 5,
      "outputs": [
        {
          "output_type": "stream",
          "name": "stdout",
          "text": [
            "Word2Vec<vocab=4, vector_size=512, alpha=0.025>\n"
          ]
        }
      ]
    },
    {
      "cell_type": "markdown",
      "source": [
        "#Cosine Similarity"
      ],
      "metadata": {
        "id": "caCHjrHxBiXu"
      }
    },
    {
      "cell_type": "code",
      "metadata": {
        "id": "YcC_3JLcJTgw"
      },
      "source": [
        "def similarity(word1,word2):\n",
        "        cosine=False #default value\n",
        "        try:\n",
        "                a=model2[word1]\n",
        "                cosine=True\n",
        "        except KeyError:     #The KeyError exception is raised\n",
        "                print(word1, \":[unk] key not found in dictionary\")#False implied\n",
        "\n",
        "        try:\n",
        "                b=model2[word2]#a=True implied\n",
        "        except KeyError:       #The KeyError exception is raised\n",
        "                cosine=False   #both a and b must be true\n",
        "                print(word2, \":[unk] key not found in dictionary\")\n",
        "\n",
        "        if(cosine==True):\n",
        "                b=model2[word2]\n",
        "                # compute cosine similarity\n",
        "                dot = np.dot(a, b)\n",
        "                norma = np.linalg.norm(a)\n",
        "                normb = np.linalg.norm(b)\n",
        "                cos = dot / (norma * normb)\n",
        "\n",
        "                aa = a.reshape(1,512)\n",
        "                ba = b.reshape(1,512)\n",
        "                #print(\"Word1\",aa)\n",
        "                #print(\"Word2\",ba)\n",
        "                cos_lib = cosine_similarity(aa, ba)\n",
        "                #print(cos_lib,\"word similarity\")\n",
        "\n",
        "        if(cosine==False):cos_lib=0;\n",
        "        return cos_lib"
      ],
      "execution_count": 6,
      "outputs": []
    },
    {
      "cell_type": "markdown",
      "source": [
        "#Case 0: Words in the dataset and the dictionary"
      ],
      "metadata": {
        "id": "BG8ANf4iAwqy"
      }
    },
    {
      "cell_type": "code",
      "source": [
        "def similarity(word1, word2):\n",
        "    cosine = False  # default value\n",
        "    try:\n",
        "        a = model2.wv[word1]\n",
        "        cosine = True\n",
        "    except KeyError:     # The KeyError exception is raised\n",
        "        print(\"The word \",word1,\" does not exist in the dictionary\")\n",
        "    try:\n",
        "        b = model2.wv[word2]\n",
        "    except KeyError:     # The KeyError exception is raised\n",
        "        print(\"The word \",word2,\" does not exist in the dictionary\")\n",
        "        cosine = False  # reset to False if the second word doesn't exist\n",
        "    if cosine: # if both words are in the vocabulary\n",
        "        return cosine_similarity([a],[b]) # sklearn cosine_similarity requires 2D arrays\n",
        "    else:\n",
        "        return 0 # if either word is not in the vocabulary return similarity as 0"
      ],
      "metadata": {
        "id": "E_rtBGT8msIa"
      },
      "execution_count": 7,
      "outputs": []
    },
    {
      "cell_type": "code",
      "source": [
        "word1 = \"freedom\"\n",
        "word2 = \"liberty\"\n",
        "print(\"Similarity between\", word1, \"and\", word2, \"is\", similarity(word1, word2))"
      ],
      "metadata": {
        "colab": {
          "base_uri": "https://localhost:8080/"
        },
        "id": "L-KYdjiZmxSe",
        "outputId": "8143cfcf-4e20-44d9-f826-60950ce7ed2c"
      },
      "execution_count": 8,
      "outputs": [
        {
          "output_type": "stream",
          "name": "stdout",
          "text": [
            "The word  freedom  does not exist in the dictionary\n",
            "The word  liberty  does not exist in the dictionary\n",
            "Similarity between freedom and liberty is 0\n"
          ]
        }
      ]
    },
    {
      "cell_type": "markdown",
      "source": [
        "#Case 1: Words not in the dataset or the dictionary"
      ],
      "metadata": {
        "id": "EpjN79c2Ay-g"
      }
    },
    {
      "cell_type": "code",
      "metadata": {
        "id": "4B7vvKxOLbYC",
        "colab": {
          "base_uri": "https://localhost:8080/"
        },
        "outputId": "efb9d574-fdcc-4c34-8b34-e8c2f42d7f4e"
      },
      "source": [
        "word1=\"corporations\";word2=\"rights\"\n",
        "print(\"Similarity\",similarity(word1,word2),word1,word2)"
      ],
      "execution_count": 9,
      "outputs": [
        {
          "output_type": "stream",
          "name": "stdout",
          "text": [
            "The word  corporations  does not exist in the dictionary\n",
            "The word  rights  does not exist in the dictionary\n",
            "Similarity 0 corporations rights\n"
          ]
        }
      ]
    },
    {
      "cell_type": "markdown",
      "source": [
        "#Case 2: Noisy Relationship"
      ],
      "metadata": {
        "id": "BEA37lv5AuSS"
      }
    },
    {
      "cell_type": "code",
      "metadata": {
        "id": "qkFIC79JCQJp",
        "colab": {
          "base_uri": "https://localhost:8080/"
        },
        "outputId": "09385de5-d837-4b2f-8d25-5e8ba546d741"
      },
      "source": [
        "word1=\"etext\";word2=\"declaration\"\n",
        "print(\"Similarity\",similarity(word1,word2),word1,word2)"
      ],
      "execution_count": 10,
      "outputs": [
        {
          "output_type": "stream",
          "name": "stdout",
          "text": [
            "The word  etext  does not exist in the dictionary\n",
            "The word  declaration  does not exist in the dictionary\n",
            "Similarity 0 etext declaration\n"
          ]
        }
      ]
    },
    {
      "cell_type": "markdown",
      "source": [
        "#Case 3: Words in the text but not in the dictionary"
      ],
      "metadata": {
        "id": "E7Jbj4PvBKiY"
      }
    },
    {
      "cell_type": "code",
      "metadata": {
        "id": "16uvrkFODNjv",
        "colab": {
          "base_uri": "https://localhost:8080/"
        },
        "outputId": "72812995-f04e-4c78-905f-b6c7513ce735"
      },
      "source": [
        "word1=\"pie\";word2=\"logic\"\n",
        "print(\"Similarity\",similarity(word1,word2),word1,word2)"
      ],
      "execution_count": 11,
      "outputs": [
        {
          "output_type": "stream",
          "name": "stdout",
          "text": [
            "The word  pie  does not exist in the dictionary\n",
            "The word  logic  does not exist in the dictionary\n",
            "Similarity 0 pie logic\n"
          ]
        }
      ]
    },
    {
      "cell_type": "markdown",
      "source": [
        "#Case 4: Rare words"
      ],
      "metadata": {
        "id": "1-c3wayoBNSm"
      }
    },
    {
      "cell_type": "code",
      "metadata": {
        "id": "mKVPiEi-GZtf",
        "colab": {
          "base_uri": "https://localhost:8080/"
        },
        "outputId": "fdea2be5-2c02-42a9-a445-047eaf7ca9fc"
      },
      "source": [
        "word1=\"justiciar\";word2=\"judgement\"\n",
        "print(\"Similarity\",similarity(word1,word2),word1,word2)"
      ],
      "execution_count": 12,
      "outputs": [
        {
          "output_type": "stream",
          "name": "stdout",
          "text": [
            "The word  justiciar  does not exist in the dictionary\n",
            "The word  judgement  does not exist in the dictionary\n",
            "Similarity 0 justiciar judgement\n"
          ]
        }
      ]
    },
    {
      "cell_type": "markdown",
      "source": [
        "#Case 5: Replacing rare words"
      ],
      "metadata": {
        "id": "8z197XkNBO07"
      }
    },
    {
      "cell_type": "code",
      "metadata": {
        "id": "0xZtAm3DHGJg",
        "colab": {
          "base_uri": "https://localhost:8080/"
        },
        "outputId": "1f1b6f7c-b867-462a-a376-7996a067ae70"
      },
      "source": [
        "word1=\"judge\";word2=\"judgement\"\n",
        "print(\"Similarity\",similarity(word1,word2),word1,word2)"
      ],
      "execution_count": 13,
      "outputs": [
        {
          "output_type": "stream",
          "name": "stdout",
          "text": [
            "The word  judge  does not exist in the dictionary\n",
            "The word  judgement  does not exist in the dictionary\n",
            "Similarity 0 judge judgement\n"
          ]
        }
      ]
    },
    {
      "cell_type": "markdown",
      "source": [
        "#Case 6: Entailment"
      ],
      "metadata": {
        "id": "di4xu5j5BPGO"
      }
    },
    {
      "cell_type": "code",
      "metadata": {
        "id": "wOSID8kXHXWt",
        "colab": {
          "base_uri": "https://localhost:8080/"
        },
        "outputId": "7f3195f1-01ba-4548-b874-35e8a89d2776"
      },
      "source": [
        "word1=\"pay\";word2=\"debt\"\n",
        "print(\"Similarity\",similarity(word1,word2),word1,word2)"
      ],
      "execution_count": 14,
      "outputs": [
        {
          "output_type": "stream",
          "name": "stdout",
          "text": [
            "The word  pay  does not exist in the dictionary\n",
            "The word  debt  does not exist in the dictionary\n",
            "Similarity 0 pay debt\n"
          ]
        }
      ]
    }
  ]
}