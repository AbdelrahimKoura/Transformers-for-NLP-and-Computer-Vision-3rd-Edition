{
  "cells": [
    {
      "cell_type": "markdown",
      "metadata": {
        "id": "7fjcTlyE3WvR"
      },
      "source": [
        "#Tokenizers\n",
        "Copyright 2021-2023 Denis Rothman, MIT License\n",
        "\n",
        "Reference 1 for word embedding:\n",
        "https://www.geeksforgeeks.org/python-word-embedding-using-word2vec/\n",
        "\n",
        "Reference 2 for cosine similarity:\n",
        "[SciKit Learn cosine similarity documentation](https://scikit-learn.org/stable/modules/generated/sklearn.metrics.pairwise.cosine_similarity.html)\n",
        "\n"
      ]
    },
    {
      "cell_type": "markdown",
      "metadata": {
        "id": "JV6bzj6-BelA"
      },
      "source": [
        "#Pre-Requisistes"
      ]
    },
    {
      "cell_type": "code",
      "execution_count": 19,
      "metadata": {
        "colab": {
          "base_uri": "https://localhost:8080/"
        },
        "id": "JKJ8Saf6vR9b",
        "outputId": "7226ebd7-5104-44f8-c663-cc0e5bb62fca"
      },
      "outputs": [
        {
          "output_type": "stream",
          "name": "stdout",
          "text": [
            "Requirement already satisfied: gensim in /usr/local/lib/python3.10/dist-packages (4.3.2)\n",
            "Requirement already satisfied: numpy>=1.18.5 in /usr/local/lib/python3.10/dist-packages (from gensim) (1.23.5)\n",
            "Requirement already satisfied: scipy>=1.7.0 in /usr/local/lib/python3.10/dist-packages (from gensim) (1.11.4)\n",
            "Requirement already satisfied: smart-open>=1.8.1 in /usr/local/lib/python3.10/dist-packages (from gensim) (6.4.0)\n"
          ]
        },
        {
          "output_type": "stream",
          "name": "stderr",
          "text": [
            "[nltk_data] Downloading package punkt to /root/nltk_data...\n",
            "[nltk_data]   Package punkt is already up-to-date!\n"
          ]
        },
        {
          "output_type": "execute_result",
          "data": {
            "text/plain": [
              "True"
            ]
          },
          "metadata": {},
          "execution_count": 19
        }
      ],
      "source": [
        "!pip install gensim\n",
        "import nltk\n",
        "nltk.download('punkt')"
      ]
    },
    {
      "cell_type": "code",
      "execution_count": 20,
      "metadata": {
        "id": "7o7EeDUUu0Sh"
      },
      "outputs": [],
      "source": [
        "import math\n",
        "import numpy as np\n",
        "from nltk.tokenize import sent_tokenize, word_tokenize\n",
        "import gensim\n",
        "from gensim.models import Word2Vec\n",
        "import numpy as np\n",
        "from sklearn.metrics.pairwise import cosine_similarity\n",
        "import matplotlib.pyplot as plt\n",
        "import warnings\n",
        "warnings.filterwarnings(action = 'ignore')"
      ]
    },
    {
      "cell_type": "markdown",
      "metadata": {
        "id": "Bk0LxtnfBgqx"
      },
      "source": [
        "#Word2Vec Tokenization\n"
      ]
    },
    {
      "cell_type": "code",
      "execution_count": 21,
      "metadata": {
        "colab": {
          "base_uri": "https://localhost:8080/"
        },
        "id": "MDNiuGNcgJyj",
        "outputId": "726a97c1-ace6-4bcf-a89b-82a507717ada"
      },
      "outputs": [
        {
          "output_type": "stream",
          "name": "stdout",
          "text": [
            "Drive already mounted at /content/drive; to attempt to forcibly remount, call drive.mount(\"/content/drive\", force_remount=True).\n"
          ]
        }
      ],
      "source": [
        "#Development access to delete when going into production\n",
        "from google.colab import drive\n",
        "drive.mount('/content/drive')\n",
        "\n",
        "with open('drive/MyDrive/files/github.txt', 'r') as f:\n",
        "    github_token = f.read().strip()"
      ]
    },
    {
      "cell_type": "code",
      "execution_count": 22,
      "metadata": {
        "colab": {
          "base_uri": "https://localhost:8080/"
        },
        "id": "ZYunZ6OHgs5N",
        "outputId": "b50c1e05-1bd8-4351-a8ef-0a85999953dd"
      },
      "outputs": [
        {
          "output_type": "stream",
          "name": "stdout",
          "text": [
            "  % Total    % Received % Xferd  Average Speed   Time    Time     Time  Current\n",
            "                                 Dload  Upload   Total   Spent    Left  Speed\n",
            "100  118k  100  118k    0     0   363k      0 --:--:-- --:--:-- --:--:--  363k\n"
          ]
        }
      ],
      "source": [
        "#remove token when repository goes public\n",
        "!curl -H 'Authorization: token {github_token}' -L https://raw.githubusercontent.com/Denis2054/Transformers-for-NLP-and-Computer-Vision-3rd-Edition/master/Chapter10/text.txt --output \"text.txt\""
      ]
    },
    {
      "cell_type": "code",
      "execution_count": 23,
      "metadata": {
        "colab": {
          "base_uri": "https://localhost:8080/"
        },
        "id": "1NRomrXEJOxJ",
        "outputId": "07ecc7a7-844e-48d2-9c2a-d0be386f4f2d"
      },
      "outputs": [
        {
          "output_type": "stream",
          "name": "stdout",
          "text": [
            "Word2Vec<vocab=3291, vector_size=512, alpha=0.025>\n"
          ]
        }
      ],
      "source": [
        "#‘text.txt’ file\n",
        "sample = open(\"text.txt\", \"r\")\n",
        "s = sample.read()\n",
        "\n",
        "# processing escape characters\n",
        "f = s.replace(\"\\n\", \" \")\n",
        "\n",
        "data = []\n",
        "# sentence parsing\n",
        "for i in sent_tokenize(f):\n",
        "\ttemp = []\n",
        "\t# tokenize the sentence into words\n",
        "\tfor j in word_tokenize(i):\n",
        "\t\ttemp.append(j.lower())\n",
        "\tdata.append(temp)\n",
        "\n",
        "# Creating Skip Gram model\n",
        "model2 = gensim.models.Word2Vec(data, min_count = 1, vector_size = 512,window = 5, sg = 1)\n",
        "print(model2)"
      ]
    },
    {
      "cell_type": "markdown",
      "metadata": {
        "id": "caCHjrHxBiXu"
      },
      "source": [
        "#Cosine Similarity"
      ]
    },
    {
      "cell_type": "code",
      "execution_count": 24,
      "metadata": {
        "id": "YcC_3JLcJTgw"
      },
      "outputs": [],
      "source": [
        "def similarity(word1,word2):\n",
        "        cosine=False #default value\n",
        "        try:\n",
        "                a=model2[word1]\n",
        "                cosine=True\n",
        "        except KeyError:     #The KeyError exception is raised\n",
        "                print(word1, \":[unk] key not found in dictionary\")#False implied\n",
        "\n",
        "        try:\n",
        "                b=model2[word2]#a=True implied\n",
        "        except KeyError:       #The KeyError exception is raised\n",
        "                cosine=False   #both a and b must be true\n",
        "                print(word2, \":[unk] key not found in dictionary\")\n",
        "\n",
        "        if(cosine==True):\n",
        "                b=model2[word2]\n",
        "                # compute cosine similarity\n",
        "                dot = np.dot(a, b)\n",
        "                norma = np.linalg.norm(a)\n",
        "                normb = np.linalg.norm(b)\n",
        "                cos = dot / (norma * normb)\n",
        "\n",
        "                aa = a.reshape(1,512)\n",
        "                ba = b.reshape(1,512)\n",
        "                #print(\"Word1\",aa)\n",
        "                #print(\"Word2\",ba)\n",
        "                cos_lib = cosine_similarity(aa, ba)\n",
        "                #print(cos_lib,\"word similarity\")\n",
        "\n",
        "        if(cosine==False):cos_lib=0;\n",
        "        return cos_lib"
      ]
    },
    {
      "cell_type": "markdown",
      "metadata": {
        "id": "BG8ANf4iAwqy"
      },
      "source": [
        "#Case 0: Words in the dataset and the dictionary"
      ]
    },
    {
      "cell_type": "code",
      "execution_count": 25,
      "metadata": {
        "id": "E_rtBGT8msIa"
      },
      "outputs": [],
      "source": [
        "def similarity(word1, word2):\n",
        "    cosine = False  # default value\n",
        "    try:\n",
        "        a = model2.wv[word1]\n",
        "        cosine = True\n",
        "    except KeyError:     # The KeyError exception is raised\n",
        "        print(\"The word \",word1,\" does not exist in the dictionary\")\n",
        "    try:\n",
        "        b = model2.wv[word2]\n",
        "    except KeyError:     # The KeyError exception is raised\n",
        "        print(\"The word \",word2,\" does not exist in the dictionary\")\n",
        "        cosine = False  # reset to False if the second word doesn't exist\n",
        "    if cosine: # if both words are in the vocabulary\n",
        "        return cosine_similarity([a],[b]) # sklearn cosine_similarity requires 2D arrays\n",
        "    else:\n",
        "        return 0 # if either word is not in the vocabulary return similarity as 0"
      ]
    },
    {
      "cell_type": "code",
      "execution_count": 26,
      "metadata": {
        "colab": {
          "base_uri": "https://localhost:8080/"
        },
        "id": "L-KYdjiZmxSe",
        "outputId": "f54fee47-f3c0-444d-b95e-29a1820a70a9"
      },
      "outputs": [
        {
          "output_type": "stream",
          "name": "stdout",
          "text": [
            "Similarity between freedom and liberty is [[0.99956566]]\n"
          ]
        }
      ],
      "source": [
        "word1 = \"freedom\"\n",
        "word2 = \"liberty\"\n",
        "print(\"Similarity between\", word1, \"and\", word2, \"is\", similarity(word1, word2))"
      ]
    },
    {
      "cell_type": "markdown",
      "metadata": {
        "id": "EpjN79c2Ay-g"
      },
      "source": [
        "#Case 1: Words not in the dataset or the dictionary"
      ]
    },
    {
      "cell_type": "code",
      "execution_count": 27,
      "metadata": {
        "colab": {
          "base_uri": "https://localhost:8080/"
        },
        "id": "4B7vvKxOLbYC",
        "outputId": "29b9c45a-8110-4eff-957b-ade619a18839"
      },
      "outputs": [
        {
          "output_type": "stream",
          "name": "stdout",
          "text": [
            "The word  corporations  does not exist in the dictionary\n",
            "Similarity 0 corporations rights\n"
          ]
        }
      ],
      "source": [
        "word1=\"corporations\";word2=\"rights\"\n",
        "print(\"Similarity\",similarity(word1,word2),word1,word2)"
      ]
    },
    {
      "cell_type": "markdown",
      "metadata": {
        "id": "BEA37lv5AuSS"
      },
      "source": [
        "#Case 2: Noisy Relationship"
      ]
    },
    {
      "cell_type": "code",
      "execution_count": 28,
      "metadata": {
        "colab": {
          "base_uri": "https://localhost:8080/"
        },
        "id": "qkFIC79JCQJp",
        "outputId": "fa53eda6-9b9f-484c-f975-9405d21b65ed"
      },
      "outputs": [
        {
          "output_type": "stream",
          "name": "stdout",
          "text": [
            "Similarity [[0.9647783]] etext declaration\n"
          ]
        }
      ],
      "source": [
        "word1=\"etext\";word2=\"declaration\"\n",
        "print(\"Similarity\",similarity(word1,word2),word1,word2)"
      ]
    },
    {
      "cell_type": "markdown",
      "metadata": {
        "id": "E7Jbj4PvBKiY"
      },
      "source": [
        "#Case 3: Words in the text but not in the dictionary"
      ]
    },
    {
      "cell_type": "code",
      "execution_count": 29,
      "metadata": {
        "colab": {
          "base_uri": "https://localhost:8080/"
        },
        "id": "16uvrkFODNjv",
        "outputId": "a45a7357-38e4-4202-e59b-a4c55e7d4286"
      },
      "outputs": [
        {
          "output_type": "stream",
          "name": "stdout",
          "text": [
            "The word  pie  does not exist in the dictionary\n",
            "The word  logic  does not exist in the dictionary\n",
            "Similarity 0 pie logic\n"
          ]
        }
      ],
      "source": [
        "word1=\"pie\";word2=\"logic\"\n",
        "print(\"Similarity\",similarity(word1,word2),word1,word2)"
      ]
    },
    {
      "cell_type": "markdown",
      "metadata": {
        "id": "1-c3wayoBNSm"
      },
      "source": [
        "#Case 4: Rare words"
      ]
    },
    {
      "cell_type": "code",
      "execution_count": 33,
      "metadata": {
        "colab": {
          "base_uri": "https://localhost:8080/"
        },
        "id": "mKVPiEi-GZtf",
        "outputId": "a4dabfa7-b666-4ae2-fa78-05ca2a67d17a"
      },
      "outputs": [
        {
          "output_type": "stream",
          "name": "stdout",
          "text": [
            "The word  eleutheromania  does not exist in the dictionary\n",
            "Similarity 0 eleutheromania liberty\n"
          ]
        }
      ],
      "source": [
        "word1=\"eleutheromania\";word2=\"liberty\"\n",
        "print(\"Similarity\",similarity(word1,word2),word1,word2)"
      ]
    },
    {
      "cell_type": "markdown",
      "metadata": {
        "id": "8z197XkNBO07"
      },
      "source": [
        "#Case 5: Replacing rare words"
      ]
    },
    {
      "cell_type": "code",
      "execution_count": 34,
      "metadata": {
        "colab": {
          "base_uri": "https://localhost:8080/"
        },
        "id": "0xZtAm3DHGJg",
        "outputId": "265d660e-e8a6-4671-89a7-d31596c084a8"
      },
      "outputs": [
        {
          "output_type": "stream",
          "name": "stdout",
          "text": [
            "Similarity [[0.99956566]] freedom liberty\n"
          ]
        }
      ],
      "source": [
        "word1=\"freedom\";word2=\"liberty\"\n",
        "print(\"Similarity\",similarity(word1,word2),word1,word2)"
      ]
    }
  ],
  "metadata": {
    "accelerator": "GPU",
    "colab": {
      "gpuType": "V100",
      "machine_shape": "hm",
      "provenance": []
    },
    "kernelspec": {
      "display_name": "Python 3",
      "name": "python3"
    }
  },
  "nbformat": 4,
  "nbformat_minor": 0
}