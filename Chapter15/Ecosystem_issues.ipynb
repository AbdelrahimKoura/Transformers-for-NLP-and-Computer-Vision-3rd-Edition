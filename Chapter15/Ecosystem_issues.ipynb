{
  "nbformat": 4,
  "nbformat_minor": 0,
  "metadata": {
    "colab": {
      "provenance": [],
      "mount_file_id": "1gjwqoCHDA5wr3y_66gIPBkxwyD5CPYlj",
      "authorship_tag": "ABX9TyOPUr0Vv55xKMBGzxe0JKMM",
      "include_colab_link": true
    },
    "kernelspec": {
      "name": "python3",
      "display_name": "Python 3"
    },
    "language_info": {
      "name": "python"
    }
  },
  "cells": [
    {
      "cell_type": "markdown",
      "metadata": {
        "id": "view-in-github",
        "colab_type": "text"
      },
      "source": [
        "<a href=\"https://colab.research.google.com/github/Denis2054/Transformers-for-NLP-and-Computer-Vision-3rd-Edition/blob/main/Chapter15/Ecosystem_issues.ipynb\" target=\"_parent\"><img src=\"https://colab.research.google.com/assets/colab-badge.svg\" alt=\"Open In Colab\"/></a>"
      ]
    },
    {
      "cell_type": "markdown",
      "source": [
        "# Managing AI Dependencies: Stability Meets Innovation in LLM Ecosystems\n",
        "\n",
        "copyright 2024, Denis Rothman\n",
        "\n",
        "An educational illustration of the challenge of dependency version management"
      ],
      "metadata": {
        "id": "YMfhL3l9Nj-S"
      }
    },
    {
      "cell_type": "markdown",
      "source": [
        "Managing dependencies in AI projects, especially with Large Language Models (LLMs), presents a significant challenge due to the intricate web of library and package interdependencies. Initially, installing the latest versions (Session 1) seems appealing for accessing recent functionalities, but it risks incompatibility with specific LLM ecosystems or platforms like Cloud services.\n",
        "\n",
        "The challenge escalates (Session 2A) when developers must identify versions that not only align with the LLM ecosystem but also avoid conflicts with other dependencies. This task is time-consuming and complex, compounded by evolving cloud platforms (Session 2B), which introduce their own version constraints, as seen in Colab's release notes.\n",
        "\n",
        "Ultimately, freezing versions (Session 3) can stabilize the environment, ensuring compatibility and reducing the risk of conflicts. However, this approach has its downsides: it may preclude the use of the latest features and innovations, and there's a risk that APIs may become deprecated.\n",
        "\n",
        "Conclusion: The dependency management in AI development is a delicate balancing act—choosing between cutting-edge features and a stable, reliable environment. It requires careful consideration and ongoing vigilance to maintain an effective development workflow amidst the rapidly evolving landscape of AI technologies and platforms."
      ],
      "metadata": {
        "id": "XsuY26c0cmW6"
      }
    },
    {
      "cell_type": "markdown",
      "source": [
        "# Session 1 Installing without freezing versions : latest versions, all recent functionality\n",
        "\n",
        "Challenge: may not work with the LLM model or ecosystem(Cloud Platform, for example)"
      ],
      "metadata": {
        "id": "hz1V-KnlKyaI"
      }
    },
    {
      "cell_type": "markdown",
      "source": [
        "deeplake  \n",
        "openai  \n",
        "tiktoken  \n",
        "transformers  \n",
        "torch  \n",
        "numpy  \n",
        "deepspeed  \n",
        "trl  \n",
        "peft  \n",
        "wandb  \n",
        "bitsandbytes  \n",
        "accelerate  \n",
        "tqdm  \n",
        "neural_compressor  \n",
        "onnx  \n",
        "pandas  \n",
        "scipy  \n"
      ],
      "metadata": {
        "id": "C-G23DAYR_vI"
      }
    },
    {
      "cell_type": "markdown",
      "source": [
        "# Session 2A Finding versions that fit the LLM model ecosystem and are not conflicting\n",
        "\n",
        "Challenge:\n",
        "\n",
        "-Time consumption finding the versions that fit the LLM model and ecosystem.\n",
        "\n",
        "-Time consumption finding versions that do not conflict with other package versions"
      ],
      "metadata": {
        "id": "d_I6poXdQ5D9"
      }
    },
    {
      "cell_type": "code",
      "source": [
        "import requests\n",
        "from packaging import version\n",
        "from IPython.display import display, Markdown\n",
        "\n",
        "# Dictionary of packages with their brief descriptions\n",
        "packages = {\n",
        "    \"deeplake\": \"Data lake management and operations.\",\n",
        "    \"openai\": \"OpenAI's API client library.\",\n",
        "    \"tiktoken\": \"a fast  Byte-Pair Encoding (BPE) tokenizer for use with OpenAI's models.\",\n",
        "    \"transformers\": \"State-of-the-art NLP models and pipelines.\",\n",
        "    \"torch\": \"PyTorch, a deep learning framework.\",\n",
        "    \"numpy\": \"Fundamental package for scientific computing.\",\n",
        "    \"deepspeed\": \"Deep learning optimization library.\",\n",
        "    \"trl\": \"Transformers Reinforcement Learning.\",\n",
        "    \"peft\": \"Predictive Ensemble Forecasting Tool.\",\n",
        "    \"wandb\": \"Weights & Biases for machine learning experiment tracking.\",\n",
        "    \"bitsandbytes\": \"Efficient deep learning training.\",\n",
        "    \"accelerate\": \"Simplify multi-GPU/multi-node training.\",\n",
        "    \"tqdm\": \"Fast, extensible progress bar for loops.\",\n",
        "    \"neural_compressor\": \"Neural network optimization toolkit.\",\n",
        "    \"onnx\": \"Open Neural Network Exchange format.\",\n",
        "    \"pandas\": \"Data analysis and manipulation library.\",\n",
        "    \"scipy\": \"Scientific computing and technical computing.\"\n",
        "}\n",
        "\n",
        "for package, description in packages.items():\n",
        "    # Print the package name and description\n",
        "    display(Markdown(f'### Release history for **{package}**: {description}'))\n",
        "\n",
        "    # Get the package information from PyPI\n",
        "    response = requests.get(f'https://pypi.org/pypi/{package}/json')\n",
        "\n",
        "    # Check if the request was successful\n",
        "    if response.status_code == 200:\n",
        "        data = response.json()\n",
        "        releases = data.get('releases', {})\n",
        "\n",
        "        # Sort the releases by version\n",
        "        sorted_versions = sorted(releases.keys(), key=lambda v: version.parse(v))\n",
        "\n",
        "        # Gather all versions in a Markdown string, separated by commas\n",
        "        versions_markdown = ', '.join(f'`{ver}`' for ver in sorted_versions)\n",
        "\n",
        "        # Display the versions in one paragraph\n",
        "        display(Markdown(versions_markdown))\n",
        "    else:\n",
        "        display(Markdown(f'Failed to fetch release history for **{package}**'))"
      ],
      "metadata": {
        "colab": {
          "base_uri": "https://localhost:8080/",
          "height": 2172
        },
        "id": "wgucANa0S3kx",
        "outputId": "65bfb79a-6d24-4a7b-b17a-7e4ea63b9bb3"
      },
      "execution_count": 1,
      "outputs": [
        {
          "output_type": "display_data",
          "data": {
            "text/plain": [
              "<IPython.core.display.Markdown object>"
            ],
            "text/markdown": "### Release history for **deeplake**: Data lake management and operations."
          },
          "metadata": {}
        },
        {
          "output_type": "display_data",
          "data": {
            "text/plain": [
              "<IPython.core.display.Markdown object>"
            ],
            "text/markdown": "`0.0.1`, `0.0.2`, `0.0.3`, `0.0.4`, `0.0.5`, `0.0.6`, `2.8.6`, `2.8.7`, `3.0.0`, `3.0.1`, `3.0.2`, `3.0.3`, `3.0.4`, `3.0.6`, `3.0.7`, `3.0.8`, `3.0.9`, `3.0.10`, `3.0.11`, `3.0.12`, `3.0.13`, `3.0.14`, `3.0.15`, `3.0.16`, `3.0.17`, `3.0.18`, `3.1.0`, `3.1.1`, `3.1.2`, `3.1.3`, `3.1.4`, `3.1.5`, `3.1.6`, `3.1.7`, `3.1.8`, `3.1.9`, `3.1.10`, `3.1.11`, `3.1.12`, `3.2.0`, `3.2.1`, `3.2.2`, `3.2.3`, `3.2.4`, `3.2.5`, `3.2.6`, `3.2.7`, `3.2.8`, `3.2.9`, `3.2.10`, `3.2.11`, `3.2.12`, `3.2.13`, `3.2.14`, `3.2.15`, `3.2.16`, `3.2.17`, `3.2.18`, `3.2.19`, `3.2.20`, `3.2.21`, `3.2.22`, `3.3.0`, `3.3.1`, `3.3.2`, `3.4.0`, `3.4.1`, `3.4.2`, `3.4.3`, `3.4.4`, `3.5.0`, `3.5.1`, `3.5.2`, `3.5.3`, `3.5.4`, `3.6.0`, `3.6.1`, `3.6.2`, `3.6.3`, `3.6.4`, `3.6.5`, `3.6.6`, `3.6.7`, `3.6.8`, `3.6.9`, `3.6.10`, `3.6.11`, `3.6.12`, `3.6.13`, `3.6.14`, `3.6.15`, `3.6.16`, `3.6.17`, `3.6.18`, `3.6.19`, `3.6.20`, `3.6.21`, `3.6.22`, `3.6.23`, `3.6.24`, `3.6.25`, `3.6.26`, `3.7.0`, `3.7.1`, `3.7.2`, `3.7.3`, `3.8.0`, `3.8.1`, `3.8.2`, `3.8.3`, `3.8.4`, `3.8.5`, `3.8.6`, `3.8.7`, `3.8.8`, `3.8.9`, `3.8.10`, `3.8.11`, `3.8.12`, `3.8.13`, `3.8.14`, `3.8.15`, `3.8.16`, `3.8.17`, `3.8.18`, `3.8.19`, `3.8.20`, `3.8.21`, `3.8.22`, `3.8.23`, `3.8.24`, `3.8.25`, `3.8.26`, `3.8.27`, `3.8.28`, `3.9.0`"
          },
          "metadata": {}
        },
        {
          "output_type": "display_data",
          "data": {
            "text/plain": [
              "<IPython.core.display.Markdown object>"
            ],
            "text/markdown": "### Release history for **openai**: OpenAI's API client library."
          },
          "metadata": {}
        },
        {
          "output_type": "display_data",
          "data": {
            "text/plain": [
              "<IPython.core.display.Markdown object>"
            ],
            "text/markdown": "`0.0.2`, `0.1.0`, `0.1.1`, `0.1.2`, `0.1.3`, `0.2.0`, `0.2.1`, `0.2.3`, `0.2.4`, `0.2.5`, `0.2.6`, `0.3.0`, `0.4.0`, `0.6.0`, `0.6.1`, `0.6.2`, `0.6.3`, `0.6.4`, `0.7.0`, `0.8.0`, `0.9.0`, `0.9.1`, `0.9.2`, `0.9.3`, `0.9.4`, `0.10.0`, `0.10.1`, `0.10.2`, `0.10.3`, `0.10.4`, `0.10.5`, `0.11.0`, `0.11.1`, `0.11.2`, `0.11.3`, `0.11.4`, `0.11.5`, `0.11.6`, `0.12.0`, `0.13.0`, `0.14.0`, `0.15.0`, `0.16.0`, `0.18.0`, `0.18.1`, `0.19.0`, `0.20.0`, `0.22.0`, `0.22.1`, `0.23.0`, `0.23.1`, `0.24.0`, `0.25.0`, `0.26.0`, `0.26.1`, `0.26.2`, `0.26.3`, `0.26.4`, `0.26.5`, `0.27.0`, `0.27.1`, `0.27.2`, `0.27.3`, `0.27.4`, `0.27.5`, `0.27.6`, `0.27.7`, `0.27.8`, `0.27.9`, `0.27.10`, `0.28.0`, `0.28.1`, `1.0.0b1`, `1.0.0b2`, `1.0.0b3`, `1.0.0rc1`, `1.0.0rc2`, `1.0.0rc3`, `1.0.0`, `1.0.1`, `1.1.0`, `1.1.1`, `1.1.2`, `1.2.0`, `1.2.1`, `1.2.2`, `1.2.3`, `1.2.4`, `1.3.0`, `1.3.1`, `1.3.2`, `1.3.3`, `1.3.4`, `1.3.5`, `1.3.6`, `1.3.7`, `1.3.8`, `1.3.9`, `1.4.0`, `1.5.0`, `1.6.0`, `1.6.1`, `1.7.0`, `1.7.1`, `1.7.2`, `1.8.0`, `1.9.0`, `1.10.0`, `1.11.0`, `1.11.1`, `1.12.0`, `1.13.3`, `1.13.4`, `1.14.0`, `1.14.1`, `1.14.2`, `1.14.3`, `1.16.0`, `1.16.1`, `1.16.2`"
          },
          "metadata": {}
        },
        {
          "output_type": "display_data",
          "data": {
            "text/plain": [
              "<IPython.core.display.Markdown object>"
            ],
            "text/markdown": "### Release history for **tiktoken**: a fast  Byte-Pair Encoding (BPE) tokenizer for use with OpenAI's models."
          },
          "metadata": {}
        },
        {
          "output_type": "display_data",
          "data": {
            "text/plain": [
              "<IPython.core.display.Markdown object>"
            ],
            "text/markdown": "`0.1.1`, `0.1.2`, `0.2.0`, `0.3.0`, `0.3.1`, `0.3.2`, `0.3.3`, `0.4.0`, `0.5.0`, `0.5.1`, `0.5.2`, `0.6.0`"
          },
          "metadata": {}
        },
        {
          "output_type": "display_data",
          "data": {
            "text/plain": [
              "<IPython.core.display.Markdown object>"
            ],
            "text/markdown": "### Release history for **transformers**: State-of-the-art NLP models and pipelines."
          },
          "metadata": {}
        },
        {
          "output_type": "display_data",
          "data": {
            "text/plain": [
              "<IPython.core.display.Markdown object>"
            ],
            "text/markdown": "`0.1`, `2.0.0`, `2.1.0`, `2.1.1`, `2.2.0`, `2.2.1`, `2.2.2`, `2.3.0`, `2.4.0`, `2.4.1`, `2.5.0`, `2.5.1`, `2.6.0`, `2.7.0`, `2.8.0`, `2.9.0`, `2.9.1`, `2.10.0`, `2.11.0`, `3.0.0`, `3.0.1`, `3.0.2`, `3.1.0`, `3.2.0`, `3.3.0`, `3.3.1`, `3.4.0`, `3.5.0`, `3.5.1`, `4.0.0rc1`, `4.0.0`, `4.0.1`, `4.1.0`, `4.1.1`, `4.2.0`, `4.2.1`, `4.2.2`, `4.3.0rc1`, `4.3.0`, `4.3.1`, `4.3.2`, `4.3.3`, `4.4.0`, `4.4.1`, `4.4.2`, `4.5.0`, `4.5.1`, `4.6.0`, `4.6.1`, `4.7.0`, `4.8.0`, `4.8.1`, `4.8.2`, `4.9.0`, `4.9.1`, `4.9.2`, `4.10.0`, `4.10.1`, `4.10.2`, `4.10.3`, `4.11.0`, `4.11.1`, `4.11.2`, `4.11.3`, `4.12.0`, `4.12.1`, `4.12.2`, `4.12.3`, `4.12.4`, `4.12.5`, `4.13.0`, `4.14.0`, `4.14.1`, `4.15.0`, `4.16.0`, `4.16.1`, `4.16.2`, `4.17.0`, `4.18.0`, `4.19.0`, `4.19.1`, `4.19.2`, `4.19.3`, `4.19.4`, `4.20.0`, `4.20.1`, `4.21.0`, `4.21.1`, `4.21.2`, `4.21.3`, `4.22.0`, `4.22.1`, `4.22.2`, `4.23.0`, `4.23.1`, `4.24.0`, `4.25.0`, `4.25.1`, `4.26.0`, `4.26.1`, `4.27.0`, `4.27.1`, `4.27.2`, `4.27.3`, `4.27.4`, `4.28.0`, `4.28.1`, `4.29.0`, `4.29.1`, `4.29.2`, `4.30.0`, `4.30.1`, `4.30.2`, `4.31.0`, `4.32.0`, `4.32.1`, `4.33.0`, `4.33.1`, `4.33.2`, `4.33.3`, `4.34.0`, `4.34.1`, `4.35.0`, `4.35.1`, `4.35.2`, `4.36.0`, `4.36.1`, `4.36.2`, `4.37.0`, `4.37.1`, `4.37.2`, `4.38.0`, `4.38.1`, `4.38.2`, `4.39.0`, `4.39.1`, `4.39.2`, `4.39.3`"
          },
          "metadata": {}
        },
        {
          "output_type": "display_data",
          "data": {
            "text/plain": [
              "<IPython.core.display.Markdown object>"
            ],
            "text/markdown": "### Release history for **torch**: PyTorch, a deep learning framework."
          },
          "metadata": {}
        },
        {
          "output_type": "display_data",
          "data": {
            "text/plain": [
              "<IPython.core.display.Markdown object>"
            ],
            "text/markdown": "`1.0.0`, `1.0.1`, `1.0.1.post2`, `1.1.0`, `1.1.0.post2`, `1.2.0`, `1.3.0`, `1.3.0.post2`, `1.3.1`, `1.4.0`, `1.5.0`, `1.5.1`, `1.6.0`, `1.7.0`, `1.7.1`, `1.8.0`, `1.8.1`, `1.9.0`, `1.9.1`, `1.10.0`, `1.10.1`, `1.10.2`, `1.11.0`, `1.12.0`, `1.12.1`, `1.13.0`, `1.13.1`, `2.0.0`, `2.0.1`, `2.1.0`, `2.1.1`, `2.1.2`, `2.2.0`, `2.2.1`, `2.2.2`"
          },
          "metadata": {}
        },
        {
          "output_type": "display_data",
          "data": {
            "text/plain": [
              "<IPython.core.display.Markdown object>"
            ],
            "text/markdown": "### Release history for **numpy**: Fundamental package for scientific computing."
          },
          "metadata": {}
        },
        {
          "output_type": "display_data",
          "data": {
            "text/plain": [
              "<IPython.core.display.Markdown object>"
            ],
            "text/markdown": "`0.9.6`, `0.9.8`, `1.0b1`, `1.0b4`, `1.0b5`, `1.0rc1`, `1.0rc2`, `1.0rc3`, `1.0`, `1.0.3`, `1.0.4`, `1.1.1`, `1.2.0`, `1.2.1`, `1.3.0`, `1.4.0`, `1.4.1`, `1.5.0`, `1.5.1`, `1.6.0`, `1.6.1`, `1.6.2`, `1.7.0`, `1.7.1`, `1.7.2`, `1.8.0`, `1.8.1`, `1.8.2`, `1.9.0`, `1.9.1`, `1.9.2`, `1.9.3`, `1.10.0`, `1.10.1`, `1.10.2`, `1.10.3`, `1.10.4`, `1.11.0`, `1.11.1`, `1.11.2`, `1.11.3`, `1.12.0`, `1.12.1`, `1.13.0`, `1.13.1`, `1.13.3`, `1.14.0`, `1.14.1`, `1.14.2`, `1.14.3`, `1.14.4`, `1.14.5`, `1.14.6`, `1.15.0`, `1.15.1`, `1.15.2`, `1.15.3`, `1.15.4`, `1.16.0`, `1.16.1`, `1.16.2`, `1.16.3`, `1.16.4`, `1.16.5`, `1.16.6`, `1.17.0`, `1.17.1`, `1.17.2`, `1.17.3`, `1.17.4`, `1.17.5`, `1.18.0`, `1.18.1`, `1.18.2`, `1.18.3`, `1.18.4`, `1.18.5`, `1.19.0`, `1.19.1`, `1.19.2`, `1.19.3`, `1.19.4`, `1.19.5`, `1.20.0`, `1.20.1`, `1.20.2`, `1.20.3`, `1.21.0`, `1.21.1`, `1.21.2`, `1.21.3`, `1.21.4`, `1.21.5`, `1.21.6`, `1.22.0`, `1.22.1`, `1.22.2`, `1.22.3`, `1.22.4`, `1.23.0rc1`, `1.23.0rc2`, `1.23.0rc3`, `1.23.0`, `1.23.1`, `1.23.2`, `1.23.3`, `1.23.4`, `1.23.5`, `1.24.0rc1`, `1.24.0rc2`, `1.24.0`, `1.24.1`, `1.24.2`, `1.24.3`, `1.24.4`, `1.25.0rc1`, `1.25.0`, `1.25.1`, `1.25.2`, `1.26.0b1`, `1.26.0rc1`, `1.26.0`, `1.26.1`, `1.26.2`, `1.26.3`, `1.26.4`, `2.0.0b1`, `2.0.0rc1`"
          },
          "metadata": {}
        },
        {
          "output_type": "display_data",
          "data": {
            "text/plain": [
              "<IPython.core.display.Markdown object>"
            ],
            "text/markdown": "### Release history for **deepspeed**: Deep learning optimization library."
          },
          "metadata": {}
        },
        {
          "output_type": "display_data",
          "data": {
            "text/plain": [
              "<IPython.core.display.Markdown object>"
            ],
            "text/markdown": "`0.3.1.dev1`, `0.3.1.dev2`, `0.3.1.dev3`, `0.3.1.dev4`, `0.3.1.dev5`, `0.3.1.dev6`, `0.3.1.dev7`, `0.3.1.dev8`, `0.3.1`, `0.3.2`, `0.3.3`, `0.3.4`, `0.3.5`, `0.3.6`, `0.3.7`, `0.3.8`, `0.3.9`, `0.3.10`, `0.3.11`, `0.3.12`, `0.3.13`, `0.3.14`, `0.3.15`, `0.3.16`, `0.4.0`, `0.4.1`, `0.4.2`, `0.4.3`, `0.4.4`, `0.4.5`, `0.5.0`, `0.5.1`, `0.5.2`, `0.5.3`, `0.5.4`, `0.5.5`, `0.5.6`, `0.5.7`, `0.5.8`, `0.5.9`, `0.5.10`, `0.6.0`, `0.6.1`, `0.6.3`, `0.6.4`, `0.6.5`, `0.6.6`, `0.6.7`, `0.7.0`, `0.7.1`, `0.7.2`, `0.7.3`, `0.7.4`, `0.7.5`, `0.7.6`, `0.7.7`, `0.8.0`, `0.8.1`, `0.8.2`, `0.8.3`, `0.9.0`, `0.9.1`, `0.9.2`, `0.9.3`, `0.9.4`, `0.9.5`, `0.10.0`, `0.10.1`, `0.10.2`, `0.10.3`, `0.11.0`, `0.11.1`, `0.11.2`, `0.12.0`, `0.12.1`, `0.12.2`, `0.12.3`, `0.12.4`, `0.12.5`, `0.12.6`, `0.13.0`, `0.13.1`, `0.13.2`, `0.13.3`, `0.13.4`, `0.13.5`, `0.14.0`"
          },
          "metadata": {}
        },
        {
          "output_type": "display_data",
          "data": {
            "text/plain": [
              "<IPython.core.display.Markdown object>"
            ],
            "text/markdown": "### Release history for **trl**: Transformers Reinforcement Learning."
          },
          "metadata": {}
        },
        {
          "output_type": "display_data",
          "data": {
            "text/plain": [
              "<IPython.core.display.Markdown object>"
            ],
            "text/markdown": "`0.0.1`, `0.0.2`, `0.0.3`, `0.1.0`, `0.2.0`, `0.2.1`, `0.3.0`, `0.3.1`, `0.4.0`, `0.4.1`, `0.4.2`, `0.4.3`, `0.4.4`, `0.4.5`, `0.4.6`, `0.4.7`, `0.5.0`, `0.6.0`, `0.7.0`, `0.7.1`, `0.7.2`, `0.7.3`, `0.7.4`, `0.7.5`, `0.7.6`, `0.7.7`, `0.7.8`, `0.7.9`, `0.7.10`, `0.7.11`, `0.8.0`, `0.8.1`"
          },
          "metadata": {}
        },
        {
          "output_type": "display_data",
          "data": {
            "text/plain": [
              "<IPython.core.display.Markdown object>"
            ],
            "text/markdown": "### Release history for **peft**: Predictive Ensemble Forecasting Tool."
          },
          "metadata": {}
        },
        {
          "output_type": "display_data",
          "data": {
            "text/plain": [
              "<IPython.core.display.Markdown object>"
            ],
            "text/markdown": "`0.0.1`, `0.0.2`, `0.1.0`, `0.2.0`, `0.3.0`, `0.4.0`, `0.5.0`, `0.6.0`, `0.6.1`, `0.6.2`, `0.7.0`, `0.7.1`, `0.8.0`, `0.8.1`, `0.8.2`, `0.9.0`, `0.10.0`"
          },
          "metadata": {}
        },
        {
          "output_type": "display_data",
          "data": {
            "text/plain": [
              "<IPython.core.display.Markdown object>"
            ],
            "text/markdown": "### Release history for **wandb**: Weights & Biases for machine learning experiment tracking."
          },
          "metadata": {}
        },
        {
          "output_type": "display_data",
          "data": {
            "text/plain": [
              "<IPython.core.display.Markdown object>"
            ],
            "text/markdown": "`0.1.0`, `0.2.0`, `0.2.1`, `0.2.2`, `0.3.0`, `0.3.1`, `0.3.2`, `0.3.3`, `0.4.0`, `0.4.1`, `0.4.2`, `0.4.3`, `0.4.4`, `0.4.5`, `0.4.6`, `0.4.7`, `0.4.8`, `0.4.9`, `0.4.10`, `0.4.11`, `0.4.12`, `0.4.13`, `0.4.14`, `0.4.15`, `0.4.16`, `0.4.17`, `0.4.18`, `0.4.19`, `0.4.20`, `0.4.21`, `0.4.22`, `0.4.23`, `0.4.24`, `0.4.25`, `0.4.26`, `0.4.27`, `0.4.28`, `0.4.29`, `0.4.30`, `0.4.31`, `0.4.32`, `0.4.33`, `0.4.34`, `0.4.35`, `0.4.36`, `0.4.37`, `0.4.38`, `0.4.39`, `0.4.40`, `0.4.41`, `0.4.42`, `0.4.43`, `0.4.44`, `0.4.45`, `0.4.46`, `0.5.0`, `0.5.1`, `0.5.2`, `0.5.3`, `0.5.4`, `0.5.5`, `0.5.7`, `0.5.8`, `0.5.9`, `0.5.10`, `0.5.11`, `0.5.12`, `0.5.13`, `0.5.14`, `0.5.16`, `0.5.17`, `0.5.18`, `0.5.19`, `0.5.20`, `0.5.21`, `0.5.22`, `0.6.2`, `0.6.3`, `0.6.4`, `0.6.5`, `0.6.6`, `0.6.10`, `0.6.11`, `0.6.12`, `0.6.13`, `0.6.14`, `0.6.15`, `0.6.16`, `0.6.17`, `0.6.18`, `0.6.19`, `0.6.20`, `0.6.21`, `0.6.22`, `0.6.23`, `0.6.24`, `0.6.25`, `0.6.26`, `0.6.29`, `0.6.30`, `0.6.31`, `0.6.32`, `0.6.33`, `0.6.34`, `0.6.35`, `0.7.0`, `0.7.1`, `0.7.2`, `0.7.3`, `0.8.0`, `0.8.1`, `0.8.2`, `0.8.3`, `0.8.4`, `0.8.5`, `0.8.6`, `0.8.7`, `0.8.8`, `0.8.9`, `0.8.10`, `0.8.11`, `0.8.12`, `0.8.13`, `0.8.14`, `0.8.15`, `0.8.16`, `0.8.17`, `0.8.18`, `0.8.19`, `0.8.20`, `0.8.21`, `0.8.22`, `0.8.23`, `0.8.24`, `0.8.25`, `0.8.26`, `0.8.27`, `0.8.28`, `0.8.29`, `0.8.30`, `0.8.31`, `0.8.32`, `0.8.33`, `0.8.34`, `0.8.35`, `0.8.36`, `0.9.1`, `0.9.2`, `0.9.3`, `0.9.4`, `0.9.5`, `0.9.6`, `0.9.7`, `0.10.0rc1`, `0.10.0rc2`, `0.10.0rc3`, `0.10.0rc4`, `0.10.0rc5`, `0.10.0rc6`, `0.10.0rc7`, `0.10.0rc8`, `0.10.0`, `0.10.1`, `0.10.2`, `0.10.3`, `0.10.4`, `0.10.5`, `0.10.6`, `0.10.7`, `0.10.8`, `0.10.9`, `0.10.10`, `0.10.11`, `0.10.12`, `0.10.13`, `0.10.14`, `0.10.15`, `0.10.16`, `0.10.17`, `0.10.18`, `0.10.19`, `0.10.20`, `0.10.21`, `0.10.22`, `0.10.23`, `0.10.24`, `0.10.25`, `0.10.26`, `0.10.27`, `0.10.28`, `0.10.29`, `0.10.30`, `0.10.31`, `0.10.32`, `0.10.33`, `0.11.0`, `0.11.1`, `0.11.2`, `0.12.0`, `0.12.1`, `0.12.2`, `0.12.3`, `0.12.4`, `0.12.5`, `0.12.6`, `0.12.7`, `0.12.8`, `0.12.9`, `0.12.10`, `0.12.11`, `0.12.12`, `0.12.13`, `0.12.14`, `0.12.15`, `0.12.16`, `0.12.17`, `0.12.18`, `0.12.19`, `0.12.20`, `0.12.21`, `0.13.0rc1`, `0.13.0rc2`, `0.13.0rc3`, `0.13.0rc4`, `0.13.0rc5`, `0.13.0rc6`, `0.13.0`, `0.13.1`, `0.13.2`, `0.13.3`, `0.13.4`, `0.13.5`, `0.13.6`, `0.13.7`, `0.13.8`, `0.13.9`, `0.13.10`, `0.13.11`, `0.14.0`, `0.14.1`, `0.14.2`, `0.15.0`, `0.15.1`, `0.15.2`, `0.15.3`, `0.15.4`, `0.15.5`, `0.15.6`, `0.15.7`, `0.15.8`, `0.15.9`, `0.15.10`, `0.15.11`, `0.15.12`, `0.16.0b1`, `0.16.0`, `0.16.1`, `0.16.2`, `0.16.3`, `0.16.4`, `0.16.5`, `0.16.6`"
          },
          "metadata": {}
        },
        {
          "output_type": "display_data",
          "data": {
            "text/plain": [
              "<IPython.core.display.Markdown object>"
            ],
            "text/markdown": "### Release history for **bitsandbytes**: Efficient deep learning training."
          },
          "metadata": {}
        },
        {
          "output_type": "display_data",
          "data": {
            "text/plain": [
              "<IPython.core.display.Markdown object>"
            ],
            "text/markdown": "`0.31.8`, `0.32.0`, `0.32.1`, `0.32.2`, `0.32.3`, `0.33.0`, `0.33.1`, `0.34.0`, `0.35.0`, `0.35.1`, `0.35.2`, `0.35.3`, `0.35.4`, `0.36.0`, `0.36.0.post1`, `0.36.0.post2`, `0.37.0`, `0.37.1`, `0.37.2`, `0.38.0`, `0.38.0.post1`, `0.38.0.post2`, `0.38.1`, `0.39.0`, `0.39.1`, `0.40.0`, `0.40.0.post1`, `0.40.0.post2`, `0.40.0.post3`, `0.40.0.post4`, `0.40.1`, `0.40.1.post1`, `0.40.2`, `0.41.0`, `0.41.1`, `0.41.2`, `0.41.2.post1`, `0.41.2.post2`, `0.41.3`, `0.41.3.post1`, `0.41.3.post2`, `0.42.0`, `0.43.0`"
          },
          "metadata": {}
        },
        {
          "output_type": "display_data",
          "data": {
            "text/plain": [
              "<IPython.core.display.Markdown object>"
            ],
            "text/markdown": "### Release history for **accelerate**: Simplify multi-GPU/multi-node training."
          },
          "metadata": {}
        },
        {
          "output_type": "display_data",
          "data": {
            "text/plain": [
              "<IPython.core.display.Markdown object>"
            ],
            "text/markdown": "`0.0.1`, `0.1.0`, `0.2.0`, `0.2.1`, `0.3.0`, `0.4.0`, `0.5.0`, `0.5.1`, `0.6.0`, `0.6.1`, `0.6.2`, `0.7.0`, `0.7.1`, `0.8.0`, `0.9.0`, `0.10.0`, `0.11.0`, `0.12.0`, `0.13.0`, `0.13.1`, `0.13.2`, `0.14.0`, `0.15.0`, `0.16.0`, `0.17.0`, `0.17.1`, `0.18.0`, `0.19.0`, `0.20.0`, `0.20.1`, `0.20.2`, `0.20.3`, `0.21.0`, `0.22.0`, `0.23.0`, `0.24.0`, `0.24.1`, `0.25.0`, `0.26.0`, `0.26.1`, `0.27.0`, `0.27.1`, `0.27.2`, `0.28.0`, `0.29.0`, `0.29.1`"
          },
          "metadata": {}
        },
        {
          "output_type": "display_data",
          "data": {
            "text/plain": [
              "<IPython.core.display.Markdown object>"
            ],
            "text/markdown": "### Release history for **tqdm**: Fast, extensible progress bar for loops."
          },
          "metadata": {}
        },
        {
          "output_type": "display_data",
          "data": {
            "text/plain": [
              "<IPython.core.display.Markdown object>"
            ],
            "text/markdown": "`1.0`, `2.0.0.dev0`, `2.0.0`, `2.2.3`, `2.2.4`, `3.1.3`, `3.1.4`, `3.4.0`, `3.7.0`, `3.7.1`, `3.8.0`, `4.1.0`, `4.4.0`, `4.4.1`, `4.4.3`, `4.5.0`, `4.5.2`, `4.6.1`, `4.6.2`, `4.7.0`, `4.7.1`, `4.7.2`, `4.7.4`, `4.7.6`, `4.8.1`, `4.8.2`, `4.8.3`, `4.8.4`, `4.9.0`, `4.10.0`, `4.11.0`, `4.11.1`, `4.11.2`, `4.12.0`, `4.13.0`, `4.14.0`, `4.15.0`, `4.16.0`, `4.17.0`, `4.17.1`, `4.18.0`, `4.19.1`, `4.19.1.post1`, `4.19.2`, `4.19.4`, `4.19.5`, `4.19.6`, `4.19.7`, `4.19.8`, `4.19.9`, `4.20.0`, `4.21.0`, `4.22.0`, `4.23.0`, `4.23.1`, `4.23.2`, `4.23.3`, `4.23.4`, `4.24.0`, `4.25.0`, `4.26.0`, `4.27.0`, `4.28.0`, `4.28.1`, `4.29.0`, `4.29.1`, `4.30.0`, `4.31.0`, `4.31.1`, `4.32.0`, `4.32.1`, `4.32.2`, `4.33.0`, `4.34.0`, `4.35.0`, `4.36.0`, `4.36.1`, `4.37.0`, `4.38.0`, `4.39.0`, `4.40.0`, `4.40.1`, `4.40.2`, `4.41.0`, `4.41.1`, `4.42.0`, `4.42.1`, `4.43.0`, `4.44.0`, `4.44.1`, `4.45.0`, `4.46.0`, `4.46.1`, `4.47.0`, `4.48.0`, `4.48.1`, `4.48.2`, `4.49.0`, `4.50.0`, `4.50.1`, `4.50.2`, `4.51.0`, `4.52.0`, `4.53.0`, `4.54.0`, `4.54.1`, `4.55.0`, `4.55.1`, `4.55.2`, `4.56.0`, `4.56.1`, `4.56.2`, `4.57.0`, `4.58.0`, `4.59.0`, `4.60.0`, `4.61.0`, `4.61.1`, `4.61.2`, `4.62.0`, `4.62.1`, `4.62.2`, `4.62.3`, `4.63.0`, `4.63.1`, `4.63.2`, `4.64.0`, `4.64.1`, `4.65.0`, `4.65.1`, `4.65.2`, `4.66.0`, `4.66.1`, `4.66.2`"
          },
          "metadata": {}
        },
        {
          "output_type": "display_data",
          "data": {
            "text/plain": [
              "<IPython.core.display.Markdown object>"
            ],
            "text/markdown": "### Release history for **neural_compressor**: Neural network optimization toolkit."
          },
          "metadata": {}
        },
        {
          "output_type": "display_data",
          "data": {
            "text/plain": [
              "<IPython.core.display.Markdown object>"
            ],
            "text/markdown": "`0.1`, `1.7`, `1.7.1`, `1.7.2`, `1.7.3`, `1.8`, `1.8.1`, `1.9`, `1.9.1`, `1.10.1`, `1.11`, `1.12`, `1.13`, `1.13.1`, `1.14`, `1.14.1`, `1.14.2`, `2.0`, `2.1`, `2.1.1`, `2.2`, `2.2.1`, `2.3`, `2.3.1`, `2.3.2`, `2.4`, `2.4.1`, `2.5`, `2.5.1`"
          },
          "metadata": {}
        },
        {
          "output_type": "display_data",
          "data": {
            "text/plain": [
              "<IPython.core.display.Markdown object>"
            ],
            "text/markdown": "### Release history for **onnx**: Open Neural Network Exchange format."
          },
          "metadata": {}
        },
        {
          "output_type": "display_data",
          "data": {
            "text/plain": [
              "<IPython.core.display.Markdown object>"
            ],
            "text/markdown": "`0.1`, `0.2`, `0.2.1`, `1.0.0`, `1.0.1`, `1.1.0`, `1.1.1`, `1.1.2`, `1.2.1`, `1.2.2`, `1.2.3`, `1.3.0`, `1.4.0`, `1.4.1`, `1.5.0`, `1.6.0`, `1.7.0`, `1.8.0`, `1.8.1`, `1.9.0`, `1.10.0`, `1.10.1`, `1.10.2`, `1.11.0`, `1.12.0`, `1.13.0`, `1.13.1`, `1.14.0`, `1.14.1`, `1.15.0`, `1.16.0`"
          },
          "metadata": {}
        },
        {
          "output_type": "display_data",
          "data": {
            "text/plain": [
              "<IPython.core.display.Markdown object>"
            ],
            "text/markdown": "### Release history for **pandas**: Data analysis and manipulation library."
          },
          "metadata": {}
        },
        {
          "output_type": "display_data",
          "data": {
            "text/plain": [
              "<IPython.core.display.Markdown object>"
            ],
            "text/markdown": "`0.1`, `0.2`, `0.3.0`, `0.4.0`, `0.4.1`, `0.4.2`, `0.4.3`, `0.5.0`, `0.6.0`, `0.6.1`, `0.7.0`, `0.7.1`, `0.7.2`, `0.7.3`, `0.8.0`, `0.8.1`, `0.9.0`, `0.9.1`, `0.10.0`, `0.10.1`, `0.11.0`, `0.12.0`, `0.13.0`, `0.13.1`, `0.14.0`, `0.14.1`, `0.15.0`, `0.15.1`, `0.15.2`, `0.16.0`, `0.16.1`, `0.16.2`, `0.17.0`, `0.17.1`, `0.18.0`, `0.18.1`, `0.19.0`, `0.19.1`, `0.19.2`, `0.20.0`, `0.20.1`, `0.20.2`, `0.20.3`, `0.21.0`, `0.21.1`, `0.22.0`, `0.23.0`, `0.23.1`, `0.23.2`, `0.23.3`, `0.23.4`, `0.24.0`, `0.24.1`, `0.24.2`, `0.25.0`, `0.25.1`, `0.25.2`, `0.25.3`, `1.0.0`, `1.0.1`, `1.0.2`, `1.0.3`, `1.0.4`, `1.0.5`, `1.1.0`, `1.1.1`, `1.1.2`, `1.1.3`, `1.1.4`, `1.1.5`, `1.2.0`, `1.2.1`, `1.2.2`, `1.2.3`, `1.2.4`, `1.2.5`, `1.3.0`, `1.3.1`, `1.3.2`, `1.3.3`, `1.3.4`, `1.3.5`, `1.4.0rc0`, `1.4.0`, `1.4.1`, `1.4.2`, `1.4.3`, `1.4.4`, `1.5.0rc0`, `1.5.0`, `1.5.1`, `1.5.2`, `1.5.3`, `2.0.0rc0`, `2.0.0rc1`, `2.0.0`, `2.0.1`, `2.0.2`, `2.0.3`, `2.1.0rc0`, `2.1.0`, `2.1.1`, `2.1.2`, `2.1.3`, `2.1.4`, `2.2.0rc0`, `2.2.0`, `2.2.1`"
          },
          "metadata": {}
        },
        {
          "output_type": "display_data",
          "data": {
            "text/plain": [
              "<IPython.core.display.Markdown object>"
            ],
            "text/markdown": "### Release history for **scipy**: Scientific computing and technical computing."
          },
          "metadata": {}
        },
        {
          "output_type": "display_data",
          "data": {
            "text/plain": [
              "<IPython.core.display.Markdown object>"
            ],
            "text/markdown": "`0.4.4`, `0.5.2`, `0.6.0`, `0.7.0`, `0.7.2`, `0.8.0`, `0.9.0`, `0.10.0`, `0.10.1`, `0.11.0`, `0.12.0`, `0.12.1`, `0.13.0`, `0.13.1`, `0.13.2`, `0.13.3`, `0.14.0`, `0.14.1`, `0.15.0`, `0.15.1`, `0.16.0`, `0.16.1`, `0.17.0`, `0.17.1`, `0.18.0`, `0.18.1`, `0.19.0`, `0.19.1`, `1.0.0`, `1.0.1`, `1.1.0`, `1.2.0`, `1.2.1`, `1.2.2`, `1.2.3`, `1.3.0`, `1.3.1`, `1.3.2`, `1.3.3`, `1.4.0`, `1.4.1`, `1.5.0`, `1.5.1`, `1.5.2`, `1.5.3`, `1.5.4`, `1.6.0`, `1.6.1`, `1.6.2`, `1.6.3`, `1.7.0`, `1.7.1`, `1.7.2`, `1.7.3`, `1.8.0rc1`, `1.8.0rc2`, `1.8.0rc3`, `1.8.0rc4`, `1.8.0`, `1.8.1`, `1.9.0rc1`, `1.9.0rc2`, `1.9.0rc3`, `1.9.0`, `1.9.1`, `1.9.2`, `1.9.3`, `1.10.0rc1`, `1.10.0rc2`, `1.10.0`, `1.10.1`, `1.11.0rc1`, `1.11.0rc2`, `1.11.0`, `1.11.1`, `1.11.2`, `1.11.3`, `1.11.4`, `1.12.0rc1`, `1.12.0rc2`, `1.12.0`, `1.13.0rc1`, `1.13.0`"
          },
          "metadata": {}
        }
      ]
    },
    {
      "cell_type": "markdown",
      "source": [
        "# Session 2B Finding versions that fit the LLM model ecosystem and are not conflicting : platform constraints\n",
        "\n",
        "Challenge: Cloud platforms evolve rapidly with their own constraints."
      ],
      "metadata": {
        "id": "sMH0Es0JZDpW"
      }
    },
    {
      "cell_type": "markdown",
      "source": [
        "Example: Google Colab Release notes (excerpt)\n",
        "\n",
        "The constraints Apply to all platforms"
      ],
      "metadata": {
        "id": "MkkHPL_fZLRg"
      }
    },
    {
      "cell_type": "markdown",
      "source": [
        "**2024-02-21**\n",
        "\n",
        "Python package upgrades\n",
        "\n",
        "bigframes 0.19.2 -> 0.21.0  \n",
        "regex 2023.6.3 -> 2023.12.25  \n",
        "spacy 3.6.1 -> 3.7.4  \n",
        "beautifulsoup4 4.11.2 -> 4.12.3  \n",
        "tensorflow-probability 0.22.0 -> 0.23.0  \n",
        "google-cloud-language 2.9.1 -> 2.13.1  \n",
        "google-cloud-aiplatform 1.39.0 -> 1.42.1  \n",
        "transformers 4.35.2 -> 4..37.2  \n",
        "pyarrow 10.0.1 -> 14.0.2  \n"
      ],
      "metadata": {
        "id": "S17sbcbdZpdL"
      }
    },
    {
      "cell_type": "markdown",
      "source": [
        "# Session 3 Installing with freezed versions: not always latest versions , not latest functionality\n",
        "\n",
        "Challenge:\n",
        "\n",
        "-Not having the latest innovations   \n",
        "-API calls may become deprecated (new model calls or model replaced)"
      ],
      "metadata": {
        "id": "De9LlDVoK_LL"
      }
    },
    {
      "cell_type": "markdown",
      "source": [
        "deeplake==3.6.19  \n",
        "openai==0.27.8  \n",
        "tiktoken==0.4.0  \n",
        "transformers==4.32.0  \n",
        "torch==2.2.1  # Upgraded to match dependencies  \n",
        "numpy>=1.24.1  # Upgraded to satisfy chex  \n",
        "deepspeed==0.10.1  \n",
        "trl==0.7.1  \n",
        "peft==0.5.0  \n",
        "wandb==0.15.8  \n",
        "bitsandbytes==0.41.1  \n",
        "accelerate==0.22.0     \n",
        "tqdm==4.66.1  \n",
        "neural_compressor==2.2.1  \n",
        "onnx==1.14.1  \n",
        "pandas==1.5.3  # Downgraded to match Colab's version  \n",
        "scipy==1.11.2  \n"
      ],
      "metadata": {
        "id": "j2MNuMrHRrAy"
      }
    }
  ]
}