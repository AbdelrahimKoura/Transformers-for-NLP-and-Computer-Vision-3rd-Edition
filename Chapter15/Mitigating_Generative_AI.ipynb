{
  "nbformat": 4,
  "nbformat_minor": 0,
  "metadata": {
    "colab": {
      "provenance": [],
      "toc_visible": true
    },
    "kernelspec": {
      "name": "python3",
      "display_name": "Python 3"
    },
    "language_info": {
      "name": "python"
    }
  },
  "cells": [
    {
      "cell_type": "markdown",
      "source": [
        "# Migating Generative AI with Avanced Prompt Engineering\n",
        "Copyright 2023 Denis Rothman, MIT License\n",
        "\n",
        "The goal of this notebook is to introduce some Generative AI mitigating tools for educational purposes. Each tools is presented separately to provide ideas that can be expanded as deemed fit for a project or simply consulted.\n",
        "\n",
        "\n"
      ],
      "metadata": {
        "id": "b_QjF04i9neT"
      }
    },
    {
      "cell_type": "markdown",
      "source": [
        "#Prompt Engineering\n",
        "\n",
        "Advanced prompt engineering is not limited to entering a good prompt or question. This notebook will show you how to implement a transformer efficiently with advanced prompt engineering:<br>\n",
        "\n",
        "Moderation, quality control<br>\n",
        "\n",
        "1.& 5. Input/output Moderation   \n",
        "2.Building the Knowledge base(KB)<br>\n",
        "3.Parsing the user's prompt and accessing the KB<br>\n",
        "4.Generating ChatGPT content with a dialog function and Token management<br>\n",
        "\n",
        "\n",
        "\n",
        "\n"
      ],
      "metadata": {
        "id": "B7kp2-E0ZmCH"
      }
    },
    {
      "cell_type": "markdown",
      "source": [
        "### Installing OpenAI"
      ],
      "metadata": {
        "id": "SBAh8BHRe3FR"
      }
    },
    {
      "cell_type": "code",
      "execution_count": 1,
      "metadata": {
        "id": "9G79pIy_Mg5Y",
        "colab": {
          "base_uri": "https://localhost:8080/"
        },
        "outputId": "bc16aed1-d0a7-466c-bd86-e84123e8c60f"
      },
      "outputs": [
        {
          "output_type": "stream",
          "name": "stdout",
          "text": [
            "Collecting openai\n",
            "  Downloading openai-0.27.8-py3-none-any.whl (73 kB)\n",
            "\u001b[?25l     \u001b[90m━━━━━━━━━━━━━━━━━━━━━━━━━━━━━━━━━━━━━━━━\u001b[0m \u001b[32m0.0/73.6 kB\u001b[0m \u001b[31m?\u001b[0m eta \u001b[36m-:--:--\u001b[0m\r\u001b[2K     \u001b[90m━━━━━━━━━━━━━━━━━━━━━━━━━━━━━━━━━━━━━━━━\u001b[0m \u001b[32m73.6/73.6 kB\u001b[0m \u001b[31m3.3 MB/s\u001b[0m eta \u001b[36m0:00:00\u001b[0m\n",
            "\u001b[?25hRequirement already satisfied: requests>=2.20 in /usr/local/lib/python3.10/dist-packages (from openai) (2.27.1)\n",
            "Requirement already satisfied: tqdm in /usr/local/lib/python3.10/dist-packages (from openai) (4.65.0)\n",
            "Requirement already satisfied: aiohttp in /usr/local/lib/python3.10/dist-packages (from openai) (3.8.4)\n",
            "Requirement already satisfied: urllib3<1.27,>=1.21.1 in /usr/local/lib/python3.10/dist-packages (from requests>=2.20->openai) (1.26.16)\n",
            "Requirement already satisfied: certifi>=2017.4.17 in /usr/local/lib/python3.10/dist-packages (from requests>=2.20->openai) (2023.5.7)\n",
            "Requirement already satisfied: charset-normalizer~=2.0.0 in /usr/local/lib/python3.10/dist-packages (from requests>=2.20->openai) (2.0.12)\n",
            "Requirement already satisfied: idna<4,>=2.5 in /usr/local/lib/python3.10/dist-packages (from requests>=2.20->openai) (3.4)\n",
            "Requirement already satisfied: attrs>=17.3.0 in /usr/local/lib/python3.10/dist-packages (from aiohttp->openai) (23.1.0)\n",
            "Requirement already satisfied: multidict<7.0,>=4.5 in /usr/local/lib/python3.10/dist-packages (from aiohttp->openai) (6.0.4)\n",
            "Requirement already satisfied: async-timeout<5.0,>=4.0.0a3 in /usr/local/lib/python3.10/dist-packages (from aiohttp->openai) (4.0.2)\n",
            "Requirement already satisfied: yarl<2.0,>=1.0 in /usr/local/lib/python3.10/dist-packages (from aiohttp->openai) (1.9.2)\n",
            "Requirement already satisfied: frozenlist>=1.1.1 in /usr/local/lib/python3.10/dist-packages (from aiohttp->openai) (1.3.3)\n",
            "Requirement already satisfied: aiosignal>=1.1.2 in /usr/local/lib/python3.10/dist-packages (from aiohttp->openai) (1.3.1)\n",
            "Installing collected packages: openai\n",
            "Successfully installed openai-0.27.8\n"
          ]
        }
      ],
      "source": [
        "#Importing openai\n",
        "try:\n",
        "  import openai\n",
        "except:\n",
        "  !pip install openai\n",
        "  import openai"
      ]
    },
    {
      "cell_type": "markdown",
      "source": [
        "###Your API Key"
      ],
      "metadata": {
        "id": "R7YHxHaLmAEi"
      }
    },
    {
      "cell_type": "code",
      "source": [
        "#2.API Key\n",
        "#Store you key in a file and read it(you can type it directly in the notebook but it will be visible for somebody next to you)\n",
        "from google.colab import drive\n",
        "drive.mount('/content/drive')\n",
        "f = open(\"drive/MyDrive/files/api_key.txt\", \"r\")\n",
        "API_KEY=f.readline()\n",
        "f.close()\n",
        "\n",
        "#The OpenAI Key\n",
        "import os\n",
        "os.environ['OPENAI_API_KEY'] =API_KEY\n",
        "openai.api_key = os.getenv(\"OPENAI_API_KEY\")"
      ],
      "metadata": {
        "colab": {
          "base_uri": "https://localhost:8080/"
        },
        "id": "Eb6gFplQqU5v",
        "outputId": "d947b5e4-5c91-483c-811d-b062d2f71380"
      },
      "execution_count": 2,
      "outputs": [
        {
          "output_type": "stream",
          "name": "stdout",
          "text": [
            "Mounted at /content/drive\n"
          ]
        }
      ]
    },
    {
      "cell_type": "markdown",
      "source": [
        "#1.& 5.Input and output moderation with transformers and rule-bases\n",
        "\n",
        "Pre-processing prompts and post-processing completions\n",
        "\n",
        "OpenAI provides[ tools](https://https://openai.com/blog/new-and-improved-content-moderation-tooling) to control the input and output flow of their models."
      ],
      "metadata": {
        "id": "02blSlEFsAJ-"
      }
    },
    {
      "cell_type": "code",
      "source": [
        "def moderator(text):\n",
        "  mod_response = openai.Moderation.create(\n",
        "  input=text,\n",
        "  model='text-moderation-latest')\n",
        "  return mod_response"
      ],
      "metadata": {
        "id": "2GV0Yv6dv3uh"
      },
      "execution_count": 3,
      "outputs": []
    },
    {
      "cell_type": "code",
      "source": [
        "text=\"This is a good sentence but a distasteful topic.\""
      ],
      "metadata": {
        "id": "RuKmHVBS1UpZ"
      },
      "execution_count": 4,
      "outputs": []
    },
    {
      "cell_type": "code",
      "source": [
        "def rule_base(text):\n",
        "    words = ['bad', 'distasteful', 'evil', 'unproductive', 'null']\n",
        "\n",
        "    for word in words:\n",
        "        if word in text:\n",
        "            print(\"Input flagged: True\")\n",
        "            return\n",
        "    print(\"Input flagged: False\")\n",
        "\n"
      ],
      "metadata": {
        "id": "EazM8ZIkkQD5"
      },
      "execution_count": 5,
      "outputs": []
    },
    {
      "cell_type": "code",
      "source": [
        "# Test the function\n",
        "rule_base(\"This is a distasteful example\")\n",
        "rule_base(\"This is a good example\")\n"
      ],
      "metadata": {
        "colab": {
          "base_uri": "https://localhost:8080/"
        },
        "id": "_odY3vqMo-Sa",
        "outputId": "c5df4eac-f5c3-4b60-9542-bc1e10ad840c"
      },
      "execution_count": 6,
      "outputs": [
        {
          "output_type": "stream",
          "name": "stdout",
          "text": [
            "Input flagged: True\n",
            "Input flagged: False\n"
          ]
        }
      ]
    },
    {
      "cell_type": "code",
      "source": [
        "response=moderator(text)"
      ],
      "metadata": {
        "id": "kqG_Cqgb1Pfv"
      },
      "execution_count": 7,
      "outputs": []
    },
    {
      "cell_type": "markdown",
      "source": [
        "Displaying the details of the response(JSON object)"
      ],
      "metadata": {
        "id": "TqFt0sKRjlJF"
      }
    },
    {
      "cell_type": "code",
      "source": [
        "response[\"results\"][0][\"flagged\"]"
      ],
      "metadata": {
        "colab": {
          "base_uri": "https://localhost:8080/"
        },
        "id": "C5DE19UpjWy7",
        "outputId": "a5079c80-a9dc-446b-ec1c-876a9a69ac03"
      },
      "execution_count": 8,
      "outputs": [
        {
          "output_type": "execute_result",
          "data": {
            "text/plain": [
              "False"
            ]
          },
          "metadata": {},
          "execution_count": 8
        }
      ]
    },
    {
      "cell_type": "code",
      "source": [
        "response[\"results\"][0][\"categories\"]"
      ],
      "metadata": {
        "colab": {
          "base_uri": "https://localhost:8080/"
        },
        "id": "j9nCVhDai2iT",
        "outputId": "c9dd49bc-717c-41d5-c983-a8e56cc99692"
      },
      "execution_count": 9,
      "outputs": [
        {
          "output_type": "execute_result",
          "data": {
            "text/plain": [
              "<OpenAIObject at 0x7fea2de0a7a0> JSON: {\n",
              "  \"sexual\": false,\n",
              "  \"hate\": false,\n",
              "  \"harassment\": false,\n",
              "  \"self-harm\": false,\n",
              "  \"sexual/minors\": false,\n",
              "  \"hate/threatening\": false,\n",
              "  \"violence/graphic\": false,\n",
              "  \"self-harm/intent\": false,\n",
              "  \"self-harm/instructions\": false,\n",
              "  \"harassment/threatening\": false,\n",
              "  \"violence\": false\n",
              "}"
            ]
          },
          "metadata": {},
          "execution_count": 9
        }
      ]
    },
    {
      "cell_type": "code",
      "source": [
        "response[\"results\"][0][\"category_scores\"]"
      ],
      "metadata": {
        "colab": {
          "base_uri": "https://localhost:8080/"
        },
        "id": "WhzKsUrhjQ5_",
        "outputId": "e4160bb9-3260-472b-e35a-aa4d6a73f2d4"
      },
      "execution_count": 10,
      "outputs": [
        {
          "output_type": "execute_result",
          "data": {
            "text/plain": [
              "<OpenAIObject at 0x7fea2de292b0> JSON: {\n",
              "  \"sexual\": 8.360543e-05,\n",
              "  \"hate\": 3.7862097e-07,\n",
              "  \"harassment\": 0.00039490603,\n",
              "  \"self-harm\": 2.1369965e-07,\n",
              "  \"sexual/minors\": 1.2816221e-06,\n",
              "  \"hate/threatening\": 2.2716094e-10,\n",
              "  \"violence/graphic\": 2.1425122e-07,\n",
              "  \"self-harm/intent\": 7.2579206e-07,\n",
              "  \"self-harm/instructions\": 1.1938396e-07,\n",
              "  \"harassment/threatening\": 2.7388277e-08,\n",
              "  \"violence\": 5.2087296e-05\n",
              "}"
            ]
          },
          "metadata": {},
          "execution_count": 10
        }
      ]
    },
    {
      "cell_type": "markdown",
      "source": [
        "Flagged as sensitive \"True\" or \"False\""
      ],
      "metadata": {
        "id": "nfP8wh0mkSjR"
      }
    },
    {
      "cell_type": "markdown",
      "source": [
        "# 2.Building a knowledge base for ChatGPT, GPT-4\n"
      ],
      "metadata": {
        "id": "NL3WXe4Zag33"
      }
    },
    {
      "cell_type": "code",
      "source": [
        "assert1={'role': 'assistant', 'content': 'Opening hours of Snap-LM Consulting :Monday through Friday 9am to 5pm. Services :expert systems, rule-based systems, machine learning, deep learning, transformer models.'}\n",
        "assert2={'role': 'assistant', 'content': 'Services :expert systems, rule-based systems, machine learning, deep learning, transformer models.'}\n",
        "assert3={'role': 'assistant', 'content': 'Services :Fine-tuning OpenAI GPT-3 models, designing datasets, designing knowledge bases.'}\n",
        "assertn={'role': 'assistant', 'content': 'Services:advanced prompt engineering using a knowledge base and SEO keyword methods.'}\n",
        "\n",
        "#Using the knowledge base as a dataset:\n",
        "kbt = []\n",
        "kbt.append(assert1)\n",
        "kbt.append(assert2)\n",
        "kbt.append(assert3)\n",
        "kbt.append(assertn)"
      ],
      "metadata": {
        "id": "PTo5ekDFbqz4"
      },
      "execution_count": 11,
      "outputs": []
    },
    {
      "cell_type": "code",
      "source": [
        "#displaying the KB as a DataFrame(DF) Clic on the magic Google Colaboratory Wand to obtain a cool display\n",
        "import pandas as pd\n",
        "df=pd.DataFrame(kbt)\n",
        "df"
      ],
      "metadata": {
        "colab": {
          "base_uri": "https://localhost:8080/",
          "height": 311
        },
        "id": "m6Lu00kbdhBf",
        "outputId": "66fd103b-86b8-427f-ae17-193d08bc6799"
      },
      "execution_count": 12,
      "outputs": [
        {
          "output_type": "execute_result",
          "data": {
            "text/plain": [
              "        role                                            content\n",
              "0  assistant  Opening hours of Snap-LM Consulting :Monday th...\n",
              "1  assistant  Services :expert systems, rule-based systems, ...\n",
              "2  assistant  Services :Fine-tuning OpenAI GPT-3 models, des...\n",
              "3  assistant  Services:advanced prompt engineering using a k..."
            ],
            "text/html": [
              "\n",
              "  <div id=\"df-5761a033-69f8-4707-b4b2-50fecf5c994a\">\n",
              "    <div class=\"colab-df-container\">\n",
              "      <div>\n",
              "<style scoped>\n",
              "    .dataframe tbody tr th:only-of-type {\n",
              "        vertical-align: middle;\n",
              "    }\n",
              "\n",
              "    .dataframe tbody tr th {\n",
              "        vertical-align: top;\n",
              "    }\n",
              "\n",
              "    .dataframe thead th {\n",
              "        text-align: right;\n",
              "    }\n",
              "</style>\n",
              "<table border=\"1\" class=\"dataframe\">\n",
              "  <thead>\n",
              "    <tr style=\"text-align: right;\">\n",
              "      <th></th>\n",
              "      <th>role</th>\n",
              "      <th>content</th>\n",
              "    </tr>\n",
              "  </thead>\n",
              "  <tbody>\n",
              "    <tr>\n",
              "      <th>0</th>\n",
              "      <td>assistant</td>\n",
              "      <td>Opening hours of Snap-LM Consulting :Monday th...</td>\n",
              "    </tr>\n",
              "    <tr>\n",
              "      <th>1</th>\n",
              "      <td>assistant</td>\n",
              "      <td>Services :expert systems, rule-based systems, ...</td>\n",
              "    </tr>\n",
              "    <tr>\n",
              "      <th>2</th>\n",
              "      <td>assistant</td>\n",
              "      <td>Services :Fine-tuning OpenAI GPT-3 models, des...</td>\n",
              "    </tr>\n",
              "    <tr>\n",
              "      <th>3</th>\n",
              "      <td>assistant</td>\n",
              "      <td>Services:advanced prompt engineering using a k...</td>\n",
              "    </tr>\n",
              "  </tbody>\n",
              "</table>\n",
              "</div>\n",
              "      <button class=\"colab-df-convert\" onclick=\"convertToInteractive('df-5761a033-69f8-4707-b4b2-50fecf5c994a')\"\n",
              "              title=\"Convert this dataframe to an interactive table.\"\n",
              "              style=\"display:none;\">\n",
              "        \n",
              "  <svg xmlns=\"http://www.w3.org/2000/svg\" height=\"24px\"viewBox=\"0 0 24 24\"\n",
              "       width=\"24px\">\n",
              "    <path d=\"M0 0h24v24H0V0z\" fill=\"none\"/>\n",
              "    <path d=\"M18.56 5.44l.94 2.06.94-2.06 2.06-.94-2.06-.94-.94-2.06-.94 2.06-2.06.94zm-11 1L8.5 8.5l.94-2.06 2.06-.94-2.06-.94L8.5 2.5l-.94 2.06-2.06.94zm10 10l.94 2.06.94-2.06 2.06-.94-2.06-.94-.94-2.06-.94 2.06-2.06.94z\"/><path d=\"M17.41 7.96l-1.37-1.37c-.4-.4-.92-.59-1.43-.59-.52 0-1.04.2-1.43.59L10.3 9.45l-7.72 7.72c-.78.78-.78 2.05 0 2.83L4 21.41c.39.39.9.59 1.41.59.51 0 1.02-.2 1.41-.59l7.78-7.78 2.81-2.81c.8-.78.8-2.07 0-2.86zM5.41 20L4 18.59l7.72-7.72 1.47 1.35L5.41 20z\"/>\n",
              "  </svg>\n",
              "      </button>\n",
              "      \n",
              "  <style>\n",
              "    .colab-df-container {\n",
              "      display:flex;\n",
              "      flex-wrap:wrap;\n",
              "      gap: 12px;\n",
              "    }\n",
              "\n",
              "    .colab-df-convert {\n",
              "      background-color: #E8F0FE;\n",
              "      border: none;\n",
              "      border-radius: 50%;\n",
              "      cursor: pointer;\n",
              "      display: none;\n",
              "      fill: #1967D2;\n",
              "      height: 32px;\n",
              "      padding: 0 0 0 0;\n",
              "      width: 32px;\n",
              "    }\n",
              "\n",
              "    .colab-df-convert:hover {\n",
              "      background-color: #E2EBFA;\n",
              "      box-shadow: 0px 1px 2px rgba(60, 64, 67, 0.3), 0px 1px 3px 1px rgba(60, 64, 67, 0.15);\n",
              "      fill: #174EA6;\n",
              "    }\n",
              "\n",
              "    [theme=dark] .colab-df-convert {\n",
              "      background-color: #3B4455;\n",
              "      fill: #D2E3FC;\n",
              "    }\n",
              "\n",
              "    [theme=dark] .colab-df-convert:hover {\n",
              "      background-color: #434B5C;\n",
              "      box-shadow: 0px 1px 3px 1px rgba(0, 0, 0, 0.15);\n",
              "      filter: drop-shadow(0px 1px 2px rgba(0, 0, 0, 0.3));\n",
              "      fill: #FFFFFF;\n",
              "    }\n",
              "  </style>\n",
              "\n",
              "      <script>\n",
              "        const buttonEl =\n",
              "          document.querySelector('#df-5761a033-69f8-4707-b4b2-50fecf5c994a button.colab-df-convert');\n",
              "        buttonEl.style.display =\n",
              "          google.colab.kernel.accessAllowed ? 'block' : 'none';\n",
              "\n",
              "        async function convertToInteractive(key) {\n",
              "          const element = document.querySelector('#df-5761a033-69f8-4707-b4b2-50fecf5c994a');\n",
              "          const dataTable =\n",
              "            await google.colab.kernel.invokeFunction('convertToInteractive',\n",
              "                                                     [key], {});\n",
              "          if (!dataTable) return;\n",
              "\n",
              "          const docLinkHtml = 'Like what you see? Visit the ' +\n",
              "            '<a target=\"_blank\" href=https://colab.research.google.com/notebooks/data_table.ipynb>data table notebook</a>'\n",
              "            + ' to learn more about interactive tables.';\n",
              "          element.innerHTML = '';\n",
              "          dataTable['output_type'] = 'display_data';\n",
              "          await google.colab.output.renderOutput(dataTable, element);\n",
              "          const docLink = document.createElement('div');\n",
              "          docLink.innerHTML = docLinkHtml;\n",
              "          element.appendChild(docLink);\n",
              "        }\n",
              "      </script>\n",
              "    </div>\n",
              "  </div>\n",
              "  "
            ]
          },
          "metadata": {},
          "execution_count": 12
        },
        {
          "output_type": "stream",
          "name": "stdout",
          "text": [
            "Error: Runtime no longer has a reference to this dataframe, please re-run this cell and try again.\n",
            "Error: Runtime no longer has a reference to this dataframe, please re-run this cell and try again.\n"
          ]
        }
      ]
    },
    {
      "cell_type": "markdown",
      "source": [
        "Let's add some metadata keywords for each record of the knowledge base"
      ],
      "metadata": {
        "id": "Rn9DhmWWjPHv"
      }
    },
    {
      "cell_type": "code",
      "source": [
        "assertkw1=\"open\"\n",
        "assertkw2=\"expert\"\n",
        "assertkw3=\"services\"\n",
        "assertkwn=\"prompt\""
      ],
      "metadata": {
        "id": "ncAXVikKjV-g"
      },
      "execution_count": 13,
      "outputs": []
    },
    {
      "cell_type": "code",
      "source": [
        "#create a kb keywords as list\n",
        "kbkw=[assertkw1,assertkw2,assertkw3,assertkwn]\n",
        "#displaying the KB as a DataFrame(DF) Clic on the magic Google Colaboratory Wand to obtain a cool display\n",
        "dfk=pd.DataFrame(kbkw)\n",
        "dfk"
      ],
      "metadata": {
        "colab": {
          "base_uri": "https://localhost:8080/",
          "height": 223
        },
        "id": "mmRtAQc3jNxX",
        "outputId": "db3ffd22-e44f-438f-a761-cce349e72d37"
      },
      "execution_count": 14,
      "outputs": [
        {
          "output_type": "execute_result",
          "data": {
            "text/plain": [
              "          0\n",
              "0      open\n",
              "1    expert\n",
              "2  services\n",
              "3    prompt"
            ],
            "text/html": [
              "\n",
              "  <div id=\"df-8dc81a4e-9779-4e49-a20e-c91ac3a15845\">\n",
              "    <div class=\"colab-df-container\">\n",
              "      <div>\n",
              "<style scoped>\n",
              "    .dataframe tbody tr th:only-of-type {\n",
              "        vertical-align: middle;\n",
              "    }\n",
              "\n",
              "    .dataframe tbody tr th {\n",
              "        vertical-align: top;\n",
              "    }\n",
              "\n",
              "    .dataframe thead th {\n",
              "        text-align: right;\n",
              "    }\n",
              "</style>\n",
              "<table border=\"1\" class=\"dataframe\">\n",
              "  <thead>\n",
              "    <tr style=\"text-align: right;\">\n",
              "      <th></th>\n",
              "      <th>0</th>\n",
              "    </tr>\n",
              "  </thead>\n",
              "  <tbody>\n",
              "    <tr>\n",
              "      <th>0</th>\n",
              "      <td>open</td>\n",
              "    </tr>\n",
              "    <tr>\n",
              "      <th>1</th>\n",
              "      <td>expert</td>\n",
              "    </tr>\n",
              "    <tr>\n",
              "      <th>2</th>\n",
              "      <td>services</td>\n",
              "    </tr>\n",
              "    <tr>\n",
              "      <th>3</th>\n",
              "      <td>prompt</td>\n",
              "    </tr>\n",
              "  </tbody>\n",
              "</table>\n",
              "</div>\n",
              "      <button class=\"colab-df-convert\" onclick=\"convertToInteractive('df-8dc81a4e-9779-4e49-a20e-c91ac3a15845')\"\n",
              "              title=\"Convert this dataframe to an interactive table.\"\n",
              "              style=\"display:none;\">\n",
              "        \n",
              "  <svg xmlns=\"http://www.w3.org/2000/svg\" height=\"24px\"viewBox=\"0 0 24 24\"\n",
              "       width=\"24px\">\n",
              "    <path d=\"M0 0h24v24H0V0z\" fill=\"none\"/>\n",
              "    <path d=\"M18.56 5.44l.94 2.06.94-2.06 2.06-.94-2.06-.94-.94-2.06-.94 2.06-2.06.94zm-11 1L8.5 8.5l.94-2.06 2.06-.94-2.06-.94L8.5 2.5l-.94 2.06-2.06.94zm10 10l.94 2.06.94-2.06 2.06-.94-2.06-.94-.94-2.06-.94 2.06-2.06.94z\"/><path d=\"M17.41 7.96l-1.37-1.37c-.4-.4-.92-.59-1.43-.59-.52 0-1.04.2-1.43.59L10.3 9.45l-7.72 7.72c-.78.78-.78 2.05 0 2.83L4 21.41c.39.39.9.59 1.41.59.51 0 1.02-.2 1.41-.59l7.78-7.78 2.81-2.81c.8-.78.8-2.07 0-2.86zM5.41 20L4 18.59l7.72-7.72 1.47 1.35L5.41 20z\"/>\n",
              "  </svg>\n",
              "      </button>\n",
              "      \n",
              "  <style>\n",
              "    .colab-df-container {\n",
              "      display:flex;\n",
              "      flex-wrap:wrap;\n",
              "      gap: 12px;\n",
              "    }\n",
              "\n",
              "    .colab-df-convert {\n",
              "      background-color: #E8F0FE;\n",
              "      border: none;\n",
              "      border-radius: 50%;\n",
              "      cursor: pointer;\n",
              "      display: none;\n",
              "      fill: #1967D2;\n",
              "      height: 32px;\n",
              "      padding: 0 0 0 0;\n",
              "      width: 32px;\n",
              "    }\n",
              "\n",
              "    .colab-df-convert:hover {\n",
              "      background-color: #E2EBFA;\n",
              "      box-shadow: 0px 1px 2px rgba(60, 64, 67, 0.3), 0px 1px 3px 1px rgba(60, 64, 67, 0.15);\n",
              "      fill: #174EA6;\n",
              "    }\n",
              "\n",
              "    [theme=dark] .colab-df-convert {\n",
              "      background-color: #3B4455;\n",
              "      fill: #D2E3FC;\n",
              "    }\n",
              "\n",
              "    [theme=dark] .colab-df-convert:hover {\n",
              "      background-color: #434B5C;\n",
              "      box-shadow: 0px 1px 3px 1px rgba(0, 0, 0, 0.15);\n",
              "      filter: drop-shadow(0px 1px 2px rgba(0, 0, 0, 0.3));\n",
              "      fill: #FFFFFF;\n",
              "    }\n",
              "  </style>\n",
              "\n",
              "      <script>\n",
              "        const buttonEl =\n",
              "          document.querySelector('#df-8dc81a4e-9779-4e49-a20e-c91ac3a15845 button.colab-df-convert');\n",
              "        buttonEl.style.display =\n",
              "          google.colab.kernel.accessAllowed ? 'block' : 'none';\n",
              "\n",
              "        async function convertToInteractive(key) {\n",
              "          const element = document.querySelector('#df-8dc81a4e-9779-4e49-a20e-c91ac3a15845');\n",
              "          const dataTable =\n",
              "            await google.colab.kernel.invokeFunction('convertToInteractive',\n",
              "                                                     [key], {});\n",
              "          if (!dataTable) return;\n",
              "\n",
              "          const docLinkHtml = 'Like what you see? Visit the ' +\n",
              "            '<a target=\"_blank\" href=https://colab.research.google.com/notebooks/data_table.ipynb>data table notebook</a>'\n",
              "            + ' to learn more about interactive tables.';\n",
              "          element.innerHTML = '';\n",
              "          dataTable['output_type'] = 'display_data';\n",
              "          await google.colab.output.renderOutput(dataTable, element);\n",
              "          const docLink = document.createElement('div');\n",
              "          docLink.innerHTML = docLinkHtml;\n",
              "          element.appendChild(docLink);\n",
              "        }\n",
              "      </script>\n",
              "    </div>\n",
              "  </div>\n",
              "  "
            ]
          },
          "metadata": {},
          "execution_count": 14
        }
      ]
    },
    {
      "cell_type": "markdown",
      "source": [
        "#3.Parsing the user requests and accessing the KB\n",
        "\n",
        "\n",
        "\n",
        "\n",
        "\n"
      ],
      "metadata": {
        "id": "Y-crABM8l3Xi"
      }
    },
    {
      "cell_type": "code",
      "source": [
        "user_requests=[]\n",
        "user_requests.append({'role': 'user', 'content': 'At what time does Snap-LM Consulting open on Monday?'})\n",
        "user_requests.append({'role': 'user', 'content': 'At what time does Snap-LM Consulting open on Saturday?'})\n",
        "user_requests.append({'role': 'user', 'content': 'Can you create an AI-driven expert system?'})\n",
        "user_requests.append({'role': 'user', 'content': 'What services does Snap-LM Consulting offer?'})"
      ],
      "metadata": {
        "id": "F7SQqToPsvVj"
      },
      "execution_count": 15,
      "outputs": []
    },
    {
      "cell_type": "code",
      "source": [
        "n=len(user_requests)"
      ],
      "metadata": {
        "id": "MrJcfKtgep_3"
      },
      "execution_count": 16,
      "outputs": []
    },
    {
      "cell_type": "code",
      "source": [
        "# This is an example. You can customize this as you wish for your project\n",
        "def parse_user(uprompt,kbkw,kbt):\n",
        "  i=0\n",
        "  j=0\n",
        "  for kw in kbkw:\n",
        "    #print(i,kw)\n",
        "    rq=str(uprompt)\n",
        "    k=str(kw)\n",
        "    fi=rq.find(k)\n",
        "    if fi>-1:\n",
        "      print(kw,rq,kbt[i])\n",
        "      j=i\n",
        "    i+=1\n",
        "  return kbt[j]"
      ],
      "metadata": {
        "id": "1SBEyM6Jf5y4"
      },
      "execution_count": 17,
      "outputs": []
    },
    {
      "cell_type": "markdown",
      "source": [
        "\n",
        "#4.Generating ChatGPT content with a dialog function\n",
        "\n",
        "Generating content with a function that fits the user's request using OpenAI ChatGPT through the gpt-3.5 turbo model.\n",
        "\n",
        "This function will receive an automated prompt.\n"
      ],
      "metadata": {
        "id": "3MMY2NbPQwVE"
      }
    },
    {
      "cell_type": "code",
      "source": [
        "#convmodel=\"gpt-3.5-turbo\"\n",
        "convmodel=\"gpt-4\"\n",
        "def dialog(iprompt):\n",
        "    response = openai.ChatCompletion.create(\n",
        "        model=convmodel,\n",
        "        messages=iprompt\n",
        "    )\n",
        "    return response"
      ],
      "metadata": {
        "id": "tmQRXYiX4tC3"
      },
      "execution_count": 18,
      "outputs": []
    },
    {
      "cell_type": "markdown",
      "source": [
        "## Implementing ChatGPT with a simplified search engine approach\n",
        "\n",
        "The following cell contains 6 steps: <br>\n",
        "\n",
        "Step 1: iterating through the user's requests   <br>\n",
        "Step 2: the application goes through a the user's request and searches for keywords with a search-engine-like technique<br>\n",
        "Step 3: the application creates a prompt, with a system message, the knowledge base record found and the initial user's request <br>\n",
        "Step 4: The prompt is sent to the ChatGPT dialog function<br>\n",
        "Step 5: storing the response in a list<br>\n",
        "Step 6; displaying the KB as a DataFrame(DF);click on the magic Google Colaboratory Wand to obtain a cool display\n"
      ],
      "metadata": {
        "id": "h8GGZPNHBu3O"
      }
    },
    {
      "cell_type": "markdown",
      "source": [
        "5. Post-Processsing Moderation\n",
        "\n",
        "See section 1.Moderation with transformers dans rule-bases"
      ],
      "metadata": {
        "id": "YQ4yqkvgCKnY"
      }
    },
    {
      "cell_type": "code",
      "source": [
        "responses=[]      #creating a list to store the dialog\n",
        "\n",
        "#going through the user's requests in a batch for the ChatGPT simulation\n",
        "for i in range(n):\n",
        "  # Step 1: iterating through the user's requests\n",
        "  user_request_num=i\n",
        "\n",
        "  #Step 2: the application goes through a the user's request and searches for keywords with a search-engine-like technique\n",
        "  #        to find a record in the knowledge base\n",
        "  kb_record=parse_user(user_requests[user_request_num],kbkw,kbt)\n",
        "\n",
        "  #Step 3: the application creates a prompt, with a system message, the knowledge base record found and the initial user's request\n",
        "  iprompt = []\n",
        "  iprompt.append({\"role\": \"system\", \"content\": \"You are an assistant for Snap-LM Consulting.\"})\n",
        "  iprompt.append(kb_record)\n",
        "  iprompt.append(user_requests[user_request_num])\n",
        "\n",
        "  #print(iprompt)\n",
        "\n",
        "  #Step 4: The prompt is sent to the ChatGPT dialog function\n",
        "  response = dialog(iprompt)\n",
        "\n",
        "  #Step 5: storing the response in a list\n",
        "  ex=response[\"choices\"][0][\"message\"][\"content\"]\n",
        "  rt=\"Total Tokens:\" + str(response[\"usage\"][\"total_tokens\"])\n",
        "  responses.append([user_requests[user_request_num],ex,rt])\n",
        "\n",
        "#Step 6; displaying the KB as a DataFrame(DF);click on the magic Google Colaboratory Wand to obtain a cool display\n",
        "pd.DataFrame(responses, columns=['request', 'response', 'tokens'])"
      ],
      "metadata": {
        "id": "ycvlAs9a4vPl",
        "colab": {
          "base_uri": "https://localhost:8080/",
          "height": 267
        },
        "outputId": "ab69a8fd-13e4-4193-9304-58d9d1365a90"
      },
      "execution_count": 19,
      "outputs": [
        {
          "output_type": "stream",
          "name": "stdout",
          "text": [
            "open {'role': 'user', 'content': 'At what time does Snap-LM Consulting open on Monday?'} {'role': 'assistant', 'content': 'Opening hours of Snap-LM Consulting :Monday through Friday 9am to 5pm. Services :expert systems, rule-based systems, machine learning, deep learning, transformer models.'}\n",
            "open {'role': 'user', 'content': 'At what time does Snap-LM Consulting open on Saturday?'} {'role': 'assistant', 'content': 'Opening hours of Snap-LM Consulting :Monday through Friday 9am to 5pm. Services :expert systems, rule-based systems, machine learning, deep learning, transformer models.'}\n",
            "expert {'role': 'user', 'content': 'Can you create an AI-driven expert system?'} {'role': 'assistant', 'content': 'Services :expert systems, rule-based systems, machine learning, deep learning, transformer models.'}\n",
            "services {'role': 'user', 'content': 'What services does Snap-LM Consulting offer?'} {'role': 'assistant', 'content': 'Services :Fine-tuning OpenAI GPT-3 models, designing datasets, designing knowledge bases.'}\n"
          ]
        },
        {
          "output_type": "execute_result",
          "data": {
            "text/plain": [
              "                                             request  \\\n",
              "0  {'role': 'user', 'content': 'At what time does...   \n",
              "1  {'role': 'user', 'content': 'At what time does...   \n",
              "2  {'role': 'user', 'content': 'Can you create an...   \n",
              "3  {'role': 'user', 'content': 'What services doe...   \n",
              "\n",
              "                                            response            tokens  \n",
              "0        Snap-LM Consulting opens at 9am on Mondays.   Total Tokens:86  \n",
              "1  I'm sorry for the confusion, but Snap-LM Consu...  Total Tokens:109  \n",
              "2  Yes, as an AI, I can aid in the process of cre...  Total Tokens:228  \n",
              "3  Snap-LM Consulting offers a range of services ...  Total Tokens:280  "
            ],
            "text/html": [
              "\n",
              "  <div id=\"df-30d602a8-f0fb-4d76-8f37-dc8dd0cfb186\">\n",
              "    <div class=\"colab-df-container\">\n",
              "      <div>\n",
              "<style scoped>\n",
              "    .dataframe tbody tr th:only-of-type {\n",
              "        vertical-align: middle;\n",
              "    }\n",
              "\n",
              "    .dataframe tbody tr th {\n",
              "        vertical-align: top;\n",
              "    }\n",
              "\n",
              "    .dataframe thead th {\n",
              "        text-align: right;\n",
              "    }\n",
              "</style>\n",
              "<table border=\"1\" class=\"dataframe\">\n",
              "  <thead>\n",
              "    <tr style=\"text-align: right;\">\n",
              "      <th></th>\n",
              "      <th>request</th>\n",
              "      <th>response</th>\n",
              "      <th>tokens</th>\n",
              "    </tr>\n",
              "  </thead>\n",
              "  <tbody>\n",
              "    <tr>\n",
              "      <th>0</th>\n",
              "      <td>{'role': 'user', 'content': 'At what time does...</td>\n",
              "      <td>Snap-LM Consulting opens at 9am on Mondays.</td>\n",
              "      <td>Total Tokens:86</td>\n",
              "    </tr>\n",
              "    <tr>\n",
              "      <th>1</th>\n",
              "      <td>{'role': 'user', 'content': 'At what time does...</td>\n",
              "      <td>I'm sorry for the confusion, but Snap-LM Consu...</td>\n",
              "      <td>Total Tokens:109</td>\n",
              "    </tr>\n",
              "    <tr>\n",
              "      <th>2</th>\n",
              "      <td>{'role': 'user', 'content': 'Can you create an...</td>\n",
              "      <td>Yes, as an AI, I can aid in the process of cre...</td>\n",
              "      <td>Total Tokens:228</td>\n",
              "    </tr>\n",
              "    <tr>\n",
              "      <th>3</th>\n",
              "      <td>{'role': 'user', 'content': 'What services doe...</td>\n",
              "      <td>Snap-LM Consulting offers a range of services ...</td>\n",
              "      <td>Total Tokens:280</td>\n",
              "    </tr>\n",
              "  </tbody>\n",
              "</table>\n",
              "</div>\n",
              "      <button class=\"colab-df-convert\" onclick=\"convertToInteractive('df-30d602a8-f0fb-4d76-8f37-dc8dd0cfb186')\"\n",
              "              title=\"Convert this dataframe to an interactive table.\"\n",
              "              style=\"display:none;\">\n",
              "        \n",
              "  <svg xmlns=\"http://www.w3.org/2000/svg\" height=\"24px\"viewBox=\"0 0 24 24\"\n",
              "       width=\"24px\">\n",
              "    <path d=\"M0 0h24v24H0V0z\" fill=\"none\"/>\n",
              "    <path d=\"M18.56 5.44l.94 2.06.94-2.06 2.06-.94-2.06-.94-.94-2.06-.94 2.06-2.06.94zm-11 1L8.5 8.5l.94-2.06 2.06-.94-2.06-.94L8.5 2.5l-.94 2.06-2.06.94zm10 10l.94 2.06.94-2.06 2.06-.94-2.06-.94-.94-2.06-.94 2.06-2.06.94z\"/><path d=\"M17.41 7.96l-1.37-1.37c-.4-.4-.92-.59-1.43-.59-.52 0-1.04.2-1.43.59L10.3 9.45l-7.72 7.72c-.78.78-.78 2.05 0 2.83L4 21.41c.39.39.9.59 1.41.59.51 0 1.02-.2 1.41-.59l7.78-7.78 2.81-2.81c.8-.78.8-2.07 0-2.86zM5.41 20L4 18.59l7.72-7.72 1.47 1.35L5.41 20z\"/>\n",
              "  </svg>\n",
              "      </button>\n",
              "      \n",
              "  <style>\n",
              "    .colab-df-container {\n",
              "      display:flex;\n",
              "      flex-wrap:wrap;\n",
              "      gap: 12px;\n",
              "    }\n",
              "\n",
              "    .colab-df-convert {\n",
              "      background-color: #E8F0FE;\n",
              "      border: none;\n",
              "      border-radius: 50%;\n",
              "      cursor: pointer;\n",
              "      display: none;\n",
              "      fill: #1967D2;\n",
              "      height: 32px;\n",
              "      padding: 0 0 0 0;\n",
              "      width: 32px;\n",
              "    }\n",
              "\n",
              "    .colab-df-convert:hover {\n",
              "      background-color: #E2EBFA;\n",
              "      box-shadow: 0px 1px 2px rgba(60, 64, 67, 0.3), 0px 1px 3px 1px rgba(60, 64, 67, 0.15);\n",
              "      fill: #174EA6;\n",
              "    }\n",
              "\n",
              "    [theme=dark] .colab-df-convert {\n",
              "      background-color: #3B4455;\n",
              "      fill: #D2E3FC;\n",
              "    }\n",
              "\n",
              "    [theme=dark] .colab-df-convert:hover {\n",
              "      background-color: #434B5C;\n",
              "      box-shadow: 0px 1px 3px 1px rgba(0, 0, 0, 0.15);\n",
              "      filter: drop-shadow(0px 1px 2px rgba(0, 0, 0, 0.3));\n",
              "      fill: #FFFFFF;\n",
              "    }\n",
              "  </style>\n",
              "\n",
              "      <script>\n",
              "        const buttonEl =\n",
              "          document.querySelector('#df-30d602a8-f0fb-4d76-8f37-dc8dd0cfb186 button.colab-df-convert');\n",
              "        buttonEl.style.display =\n",
              "          google.colab.kernel.accessAllowed ? 'block' : 'none';\n",
              "\n",
              "        async function convertToInteractive(key) {\n",
              "          const element = document.querySelector('#df-30d602a8-f0fb-4d76-8f37-dc8dd0cfb186');\n",
              "          const dataTable =\n",
              "            await google.colab.kernel.invokeFunction('convertToInteractive',\n",
              "                                                     [key], {});\n",
              "          if (!dataTable) return;\n",
              "\n",
              "          const docLinkHtml = 'Like what you see? Visit the ' +\n",
              "            '<a target=\"_blank\" href=https://colab.research.google.com/notebooks/data_table.ipynb>data table notebook</a>'\n",
              "            + ' to learn more about interactive tables.';\n",
              "          element.innerHTML = '';\n",
              "          dataTable['output_type'] = 'display_data';\n",
              "          await google.colab.output.renderOutput(dataTable, element);\n",
              "          const docLink = document.createElement('div');\n",
              "          docLink.innerHTML = docLinkHtml;\n",
              "          element.appendChild(docLink);\n",
              "        }\n",
              "      </script>\n",
              "    </div>\n",
              "  </div>\n",
              "  "
            ]
          },
          "metadata": {},
          "execution_count": 19
        }
      ]
    }
  ]
}
