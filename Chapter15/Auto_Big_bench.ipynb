{
  "cells": [
    {
      "cell_type": "markdown",
      "metadata": {
        "id": "8SEJVu11ExHl"
      },
      "source": [
        "# Auto Big-bench\n",
        "copyright 2024, Denis Rothman\n",
        "\n",
        "[Big-bench](https://github.com/google/BIG-bench/blob/main/bigbench/benchmark_tasks/README.md) contains more than 200+ NLP tasks. The goal is to evaluate a model.\n",
        "\n",
        "In this notebook, we take ChatGPT-GPT4 a step further. We will not ask ChatGPT-GPT-4 to solve a Big-bench NLP problem and apply metrics. We will ask GPT-4 to create the tasks itself and solve them!\n",
        "\n",
        "*The potential of the next generation of AI might be able to evaluate and benchmark itself.*\n",
        "\n",
        "The program will feed GPT-4 a sample of 140+ Big-bench tasks with a two-part prompt:   \n",
        "\n",
        "**The first part contains the instruction:**    \n",
        "1. Explain the following task\n",
        "2. Provide an example Solve it:  \n",
        "\n",
        "**The second part is the description of a Big-bench:**  \n",
        "Given a narrative, choose the most related proverb  \n",
        "\n",
        "**The output will then be displayed for human evaluation**\n",
        "Human evaluation plays an important role in LLM training and evaluations. Reinforcement Learning with Human Feedback(RLHF) will help mitigate the potential limits of automated models and evaluation metrics.\n",
        "\n",
        "**Limit of the program:** The program does not run thousands of samples for each task. The goal is to show the potential of Large Language Models(LLMs)\n",
        "\n",
        "**Potential:** We can see that GPT-4, PaLM 2, and other Foundations Models are just the beginning of what will become *Massive Multitask Language Understanding(MMLU)* models in one form or another in the years to come.\n",
        "\n"
      ]
    },
    {
      "cell_type": "markdown",
      "metadata": {
        "id": "NYTZAY_MHL8h"
      },
      "source": [
        "# Retrieve the list of Big-bench prompts designed for this notebook\n",
        "\n",
        "The list was created from the list of tasks of [Big-bench](https://github.com/google/BIG-bench/blob/main/bigbench/benchmark_tasks/README.md)"
      ]
    },
    {
      "cell_type": "code",
      "execution_count": null,
      "metadata": {
        "colab": {
          "base_uri": "https://localhost:8080/"
        },
        "id": "mbvxtSwLEtoF",
        "outputId": "1991f79e-24ad-4b28-9a4c-47fb174d5e5d"
      },
      "outputs": [
        {
          "name": "stdout",
          "output_type": "stream",
          "text": [
            "Mounted at /content/drive\n"
          ]
        }
      ],
      "source": [
        "#Development access to delete when going into production\n",
        "from google.colab import drive\n",
        "drive.mount('/content/drive')"
      ]
    },
    {
      "cell_type": "code",
      "execution_count": null,
      "metadata": {
        "id": "UpXuukudJxqn"
      },
      "outputs": [],
      "source": [
        "with open('drive/MyDrive/files/github.txt', 'r') as f:\n",
        "    github_token = f.read().strip()"
      ]
    },
    {
      "cell_type": "code",
      "execution_count": null,
      "metadata": {
        "colab": {
          "base_uri": "https://localhost:8080/"
        },
        "id": "VoORGkR_J19Q",
        "outputId": "0f2f0458-63b9-46e8-ce79-ade5511ae835"
      },
      "outputs": [
        {
          "name": "stdout",
          "output_type": "stream",
          "text": [
            "  % Total    % Received % Xferd  Average Speed   Time    Time     Time  Current\n",
            "                                 Dload  Upload   Total   Spent    Left  Speed\n",
            "100 17838  100 17838    0     0  45187      0 --:--:-- --:--:-- --:--:-- 45159\n"
          ]
        }
      ],
      "source": [
        "!curl -H 'Authorization: token {github_token}' -L https://raw.githubusercontent.com/Denis2054/Transformers_3rd_Edition/master/Chapter15/tasks.txt --output \"tasks.txt\""
      ]
    },
    {
      "cell_type": "markdown",
      "metadata": {
        "id": "RYQsYeB2KZMl"
      },
      "source": [
        "# Read the file into a Pandas Dataframe"
      ]
    },
    {
      "cell_type": "code",
      "execution_count": null,
      "metadata": {
        "colab": {
          "base_uri": "https://localhost:8080/",
          "height": 423
        },
        "id": "4QQbTTeIKe7u",
        "outputId": "482ac4fe-a09f-47e0-b756-8fddebd34e6f"
      },
      "outputs": [
        {
          "data": {
            "text/html": [
              "\n",
              "  <div id=\"df-c098c921-ed49-4d9a-8baa-5c3a521903de\" class=\"colab-df-container\">\n",
              "    <div>\n",
              "<style scoped>\n",
              "    .dataframe tbody tr th:only-of-type {\n",
              "        vertical-align: middle;\n",
              "    }\n",
              "\n",
              "    .dataframe tbody tr th {\n",
              "        vertical-align: top;\n",
              "    }\n",
              "\n",
              "    .dataframe thead th {\n",
              "        text-align: right;\n",
              "    }\n",
              "</style>\n",
              "<table border=\"1\" class=\"dataframe\">\n",
              "  <thead>\n",
              "    <tr style=\"text-align: right;\">\n",
              "      <th></th>\n",
              "      <th>Tasks</th>\n",
              "    </tr>\n",
              "  </thead>\n",
              "  <tbody>\n",
              "    <tr>\n",
              "      <th>0</th>\n",
              "      <td>1.Explain the following task 2.Provide an exam...</td>\n",
              "    </tr>\n",
              "    <tr>\n",
              "      <th>1</th>\n",
              "      <td>1.Explain the following task 2.Provide an exam...</td>\n",
              "    </tr>\n",
              "    <tr>\n",
              "      <th>2</th>\n",
              "      <td>1.Explain the following task 2.Provide an exam...</td>\n",
              "    </tr>\n",
              "    <tr>\n",
              "      <th>3</th>\n",
              "      <td>1.Explain the following task 2.Provide an exam...</td>\n",
              "    </tr>\n",
              "    <tr>\n",
              "      <th>4</th>\n",
              "      <td>1.Explain the following task 2.Provide an exam...</td>\n",
              "    </tr>\n",
              "    <tr>\n",
              "      <th>...</th>\n",
              "      <td>...</td>\n",
              "    </tr>\n",
              "    <tr>\n",
              "      <th>139</th>\n",
              "      <td>1.Explain the following task 2.Provide an exam...</td>\n",
              "    </tr>\n",
              "    <tr>\n",
              "      <th>140</th>\n",
              "      <td>1.Explain the following task 2.Provide an exam...</td>\n",
              "    </tr>\n",
              "    <tr>\n",
              "      <th>141</th>\n",
              "      <td>1.Explain the following task 2.Provide an exam...</td>\n",
              "    </tr>\n",
              "    <tr>\n",
              "      <th>142</th>\n",
              "      <td>1.Explain the following task 2.Provide an exam...</td>\n",
              "    </tr>\n",
              "    <tr>\n",
              "      <th>143</th>\n",
              "      <td>1.Explain the following task 2.Provide an exam...</td>\n",
              "    </tr>\n",
              "  </tbody>\n",
              "</table>\n",
              "<p>144 rows × 1 columns</p>\n",
              "</div>\n",
              "    <div class=\"colab-df-buttons\">\n",
              "\n",
              "  <div class=\"colab-df-container\">\n",
              "    <button class=\"colab-df-convert\" onclick=\"convertToInteractive('df-c098c921-ed49-4d9a-8baa-5c3a521903de')\"\n",
              "            title=\"Convert this dataframe to an interactive table.\"\n",
              "            style=\"display:none;\">\n",
              "\n",
              "  <svg xmlns=\"http://www.w3.org/2000/svg\" height=\"24px\" viewBox=\"0 -960 960 960\">\n",
              "    <path d=\"M120-120v-720h720v720H120Zm60-500h600v-160H180v160Zm220 220h160v-160H400v160Zm0 220h160v-160H400v160ZM180-400h160v-160H180v160Zm440 0h160v-160H620v160ZM180-180h160v-160H180v160Zm440 0h160v-160H620v160Z\"/>\n",
              "  </svg>\n",
              "    </button>\n",
              "\n",
              "  <style>\n",
              "    .colab-df-container {\n",
              "      display:flex;\n",
              "      gap: 12px;\n",
              "    }\n",
              "\n",
              "    .colab-df-convert {\n",
              "      background-color: #E8F0FE;\n",
              "      border: none;\n",
              "      border-radius: 50%;\n",
              "      cursor: pointer;\n",
              "      display: none;\n",
              "      fill: #1967D2;\n",
              "      height: 32px;\n",
              "      padding: 0 0 0 0;\n",
              "      width: 32px;\n",
              "    }\n",
              "\n",
              "    .colab-df-convert:hover {\n",
              "      background-color: #E2EBFA;\n",
              "      box-shadow: 0px 1px 2px rgba(60, 64, 67, 0.3), 0px 1px 3px 1px rgba(60, 64, 67, 0.15);\n",
              "      fill: #174EA6;\n",
              "    }\n",
              "\n",
              "    .colab-df-buttons div {\n",
              "      margin-bottom: 4px;\n",
              "    }\n",
              "\n",
              "    [theme=dark] .colab-df-convert {\n",
              "      background-color: #3B4455;\n",
              "      fill: #D2E3FC;\n",
              "    }\n",
              "\n",
              "    [theme=dark] .colab-df-convert:hover {\n",
              "      background-color: #434B5C;\n",
              "      box-shadow: 0px 1px 3px 1px rgba(0, 0, 0, 0.15);\n",
              "      filter: drop-shadow(0px 1px 2px rgba(0, 0, 0, 0.3));\n",
              "      fill: #FFFFFF;\n",
              "    }\n",
              "  </style>\n",
              "\n",
              "    <script>\n",
              "      const buttonEl =\n",
              "        document.querySelector('#df-c098c921-ed49-4d9a-8baa-5c3a521903de button.colab-df-convert');\n",
              "      buttonEl.style.display =\n",
              "        google.colab.kernel.accessAllowed ? 'block' : 'none';\n",
              "\n",
              "      async function convertToInteractive(key) {\n",
              "        const element = document.querySelector('#df-c098c921-ed49-4d9a-8baa-5c3a521903de');\n",
              "        const dataTable =\n",
              "          await google.colab.kernel.invokeFunction('convertToInteractive',\n",
              "                                                    [key], {});\n",
              "        if (!dataTable) return;\n",
              "\n",
              "        const docLinkHtml = 'Like what you see? Visit the ' +\n",
              "          '<a target=\"_blank\" href=https://colab.research.google.com/notebooks/data_table.ipynb>data table notebook</a>'\n",
              "          + ' to learn more about interactive tables.';\n",
              "        element.innerHTML = '';\n",
              "        dataTable['output_type'] = 'display_data';\n",
              "        await google.colab.output.renderOutput(dataTable, element);\n",
              "        const docLink = document.createElement('div');\n",
              "        docLink.innerHTML = docLinkHtml;\n",
              "        element.appendChild(docLink);\n",
              "      }\n",
              "    </script>\n",
              "  </div>\n",
              "\n",
              "\n",
              "<div id=\"df-f92c0b02-bf6f-4acc-a7f2-650d9b048785\">\n",
              "  <button class=\"colab-df-quickchart\" onclick=\"quickchart('df-f92c0b02-bf6f-4acc-a7f2-650d9b048785')\"\n",
              "            title=\"Suggest charts.\"\n",
              "            style=\"display:none;\">\n",
              "\n",
              "<svg xmlns=\"http://www.w3.org/2000/svg\" height=\"24px\"viewBox=\"0 0 24 24\"\n",
              "     width=\"24px\">\n",
              "    <g>\n",
              "        <path d=\"M19 3H5c-1.1 0-2 .9-2 2v14c0 1.1.9 2 2 2h14c1.1 0 2-.9 2-2V5c0-1.1-.9-2-2-2zM9 17H7v-7h2v7zm4 0h-2V7h2v10zm4 0h-2v-4h2v4z\"/>\n",
              "    </g>\n",
              "</svg>\n",
              "  </button>\n",
              "\n",
              "<style>\n",
              "  .colab-df-quickchart {\n",
              "      --bg-color: #E8F0FE;\n",
              "      --fill-color: #1967D2;\n",
              "      --hover-bg-color: #E2EBFA;\n",
              "      --hover-fill-color: #174EA6;\n",
              "      --disabled-fill-color: #AAA;\n",
              "      --disabled-bg-color: #DDD;\n",
              "  }\n",
              "\n",
              "  [theme=dark] .colab-df-quickchart {\n",
              "      --bg-color: #3B4455;\n",
              "      --fill-color: #D2E3FC;\n",
              "      --hover-bg-color: #434B5C;\n",
              "      --hover-fill-color: #FFFFFF;\n",
              "      --disabled-bg-color: #3B4455;\n",
              "      --disabled-fill-color: #666;\n",
              "  }\n",
              "\n",
              "  .colab-df-quickchart {\n",
              "    background-color: var(--bg-color);\n",
              "    border: none;\n",
              "    border-radius: 50%;\n",
              "    cursor: pointer;\n",
              "    display: none;\n",
              "    fill: var(--fill-color);\n",
              "    height: 32px;\n",
              "    padding: 0;\n",
              "    width: 32px;\n",
              "  }\n",
              "\n",
              "  .colab-df-quickchart:hover {\n",
              "    background-color: var(--hover-bg-color);\n",
              "    box-shadow: 0 1px 2px rgba(60, 64, 67, 0.3), 0 1px 3px 1px rgba(60, 64, 67, 0.15);\n",
              "    fill: var(--button-hover-fill-color);\n",
              "  }\n",
              "\n",
              "  .colab-df-quickchart-complete:disabled,\n",
              "  .colab-df-quickchart-complete:disabled:hover {\n",
              "    background-color: var(--disabled-bg-color);\n",
              "    fill: var(--disabled-fill-color);\n",
              "    box-shadow: none;\n",
              "  }\n",
              "\n",
              "  .colab-df-spinner {\n",
              "    border: 2px solid var(--fill-color);\n",
              "    border-color: transparent;\n",
              "    border-bottom-color: var(--fill-color);\n",
              "    animation:\n",
              "      spin 1s steps(1) infinite;\n",
              "  }\n",
              "\n",
              "  @keyframes spin {\n",
              "    0% {\n",
              "      border-color: transparent;\n",
              "      border-bottom-color: var(--fill-color);\n",
              "      border-left-color: var(--fill-color);\n",
              "    }\n",
              "    20% {\n",
              "      border-color: transparent;\n",
              "      border-left-color: var(--fill-color);\n",
              "      border-top-color: var(--fill-color);\n",
              "    }\n",
              "    30% {\n",
              "      border-color: transparent;\n",
              "      border-left-color: var(--fill-color);\n",
              "      border-top-color: var(--fill-color);\n",
              "      border-right-color: var(--fill-color);\n",
              "    }\n",
              "    40% {\n",
              "      border-color: transparent;\n",
              "      border-right-color: var(--fill-color);\n",
              "      border-top-color: var(--fill-color);\n",
              "    }\n",
              "    60% {\n",
              "      border-color: transparent;\n",
              "      border-right-color: var(--fill-color);\n",
              "    }\n",
              "    80% {\n",
              "      border-color: transparent;\n",
              "      border-right-color: var(--fill-color);\n",
              "      border-bottom-color: var(--fill-color);\n",
              "    }\n",
              "    90% {\n",
              "      border-color: transparent;\n",
              "      border-bottom-color: var(--fill-color);\n",
              "    }\n",
              "  }\n",
              "</style>\n",
              "\n",
              "  <script>\n",
              "    async function quickchart(key) {\n",
              "      const quickchartButtonEl =\n",
              "        document.querySelector('#' + key + ' button');\n",
              "      quickchartButtonEl.disabled = true;  // To prevent multiple clicks.\n",
              "      quickchartButtonEl.classList.add('colab-df-spinner');\n",
              "      try {\n",
              "        const charts = await google.colab.kernel.invokeFunction(\n",
              "            'suggestCharts', [key], {});\n",
              "      } catch (error) {\n",
              "        console.error('Error during call to suggestCharts:', error);\n",
              "      }\n",
              "      quickchartButtonEl.classList.remove('colab-df-spinner');\n",
              "      quickchartButtonEl.classList.add('colab-df-quickchart-complete');\n",
              "    }\n",
              "    (() => {\n",
              "      let quickchartButtonEl =\n",
              "        document.querySelector('#df-f92c0b02-bf6f-4acc-a7f2-650d9b048785 button');\n",
              "      quickchartButtonEl.style.display =\n",
              "        google.colab.kernel.accessAllowed ? 'block' : 'none';\n",
              "    })();\n",
              "  </script>\n",
              "</div>\n",
              "    </div>\n",
              "  </div>\n"
            ],
            "text/plain": [
              "                                                 Tasks\n",
              "0    1.Explain the following task 2.Provide an exam...\n",
              "1    1.Explain the following task 2.Provide an exam...\n",
              "2    1.Explain the following task 2.Provide an exam...\n",
              "3    1.Explain the following task 2.Provide an exam...\n",
              "4    1.Explain the following task 2.Provide an exam...\n",
              "..                                                 ...\n",
              "139  1.Explain the following task 2.Provide an exam...\n",
              "140  1.Explain the following task 2.Provide an exam...\n",
              "141  1.Explain the following task 2.Provide an exam...\n",
              "142  1.Explain the following task 2.Provide an exam...\n",
              "143  1.Explain the following task 2.Provide an exam...\n",
              "\n",
              "[144 rows x 1 columns]"
            ]
          },
          "execution_count": 4,
          "metadata": {},
          "output_type": "execute_result"
        }
      ],
      "source": [
        "import pandas as pd\n",
        "\n",
        "# read the file\n",
        "df = pd.read_csv('tasks.txt', header=None, on_bad_lines='skip')\n",
        "\n",
        "# If you want to add a column name after loading\n",
        "df.columns = ['Tasks']\n",
        "\n",
        "# print the dataframe\n",
        "df"
      ]
    },
    {
      "cell_type": "code",
      "execution_count": null,
      "metadata": {
        "colab": {
          "base_uri": "https://localhost:8080/"
        },
        "id": "el3DyGEFQO9u",
        "outputId": "7ea94f64-4470-49b1-9ed5-62d3e75cdc3a"
      },
      "outputs": [
        {
          "name": "stdout",
          "output_type": "stream",
          "text": [
            "Number of tasks:  144\n"
          ]
        }
      ],
      "source": [
        "nbt=len(df)\n",
        "print(\"Number of tasks: \", nbt)"
      ]
    },
    {
      "cell_type": "markdown",
      "metadata": {
        "id": "byQGn0JqOJKH"
      },
      "source": [
        "# Install OpenAI"
      ]
    },
    {
      "cell_type": "code",
      "execution_count": null,
      "metadata": {
        "colab": {
          "base_uri": "https://localhost:8080/"
        },
        "id": "AqoVOwBGv3rk",
        "outputId": "1af7db4b-90d2-4059-ddf8-57536f385f4a"
      },
      "outputs": [
        {
          "name": "stdout",
          "output_type": "stream",
          "text": [
            "Collecting openai\n",
            "  Downloading openai-0.28.0-py3-none-any.whl (76 kB)\n",
            "\u001b[?25l     \u001b[90m━━━━━━━━━━━━━━━━━━━━━━━━━━━━━━━━━━━━━━━━\u001b[0m \u001b[32m0.0/76.5 kB\u001b[0m \u001b[31m?\u001b[0m eta \u001b[36m-:--:--\u001b[0m\r\u001b[2K     \u001b[90m━━━━━━━━━━━━━━━━━━━━━━━━━━━━━━━━━━━━━━━━\u001b[0m \u001b[32m76.5/76.5 kB\u001b[0m \u001b[31m2.1 MB/s\u001b[0m eta \u001b[36m0:00:00\u001b[0m\n",
            "\u001b[?25hRequirement already satisfied: requests>=2.20 in /usr/local/lib/python3.10/dist-packages (from openai) (2.31.0)\n",
            "Requirement already satisfied: tqdm in /usr/local/lib/python3.10/dist-packages (from openai) (4.66.1)\n",
            "Requirement already satisfied: aiohttp in /usr/local/lib/python3.10/dist-packages (from openai) (3.8.5)\n",
            "Requirement already satisfied: charset-normalizer<4,>=2 in /usr/local/lib/python3.10/dist-packages (from requests>=2.20->openai) (3.2.0)\n",
            "Requirement already satisfied: idna<4,>=2.5 in /usr/local/lib/python3.10/dist-packages (from requests>=2.20->openai) (3.4)\n",
            "Requirement already satisfied: urllib3<3,>=1.21.1 in /usr/local/lib/python3.10/dist-packages (from requests>=2.20->openai) (2.0.4)\n",
            "Requirement already satisfied: certifi>=2017.4.17 in /usr/local/lib/python3.10/dist-packages (from requests>=2.20->openai) (2023.7.22)\n",
            "Requirement already satisfied: attrs>=17.3.0 in /usr/local/lib/python3.10/dist-packages (from aiohttp->openai) (23.1.0)\n",
            "Requirement already satisfied: multidict<7.0,>=4.5 in /usr/local/lib/python3.10/dist-packages (from aiohttp->openai) (6.0.4)\n",
            "Requirement already satisfied: async-timeout<5.0,>=4.0.0a3 in /usr/local/lib/python3.10/dist-packages (from aiohttp->openai) (4.0.3)\n",
            "Requirement already satisfied: yarl<2.0,>=1.0 in /usr/local/lib/python3.10/dist-packages (from aiohttp->openai) (1.9.2)\n",
            "Requirement already satisfied: frozenlist>=1.1.1 in /usr/local/lib/python3.10/dist-packages (from aiohttp->openai) (1.4.0)\n",
            "Requirement already satisfied: aiosignal>=1.1.2 in /usr/local/lib/python3.10/dist-packages (from aiohttp->openai) (1.3.1)\n",
            "Installing collected packages: openai\n",
            "Successfully installed openai-0.28.0\n"
          ]
        }
      ],
      "source": [
        "#Importing openai\n",
        "try:\n",
        "  import openai\n",
        "except:\n",
        "  !pip install openai==0.28 -qq\n",
        "  import openai"
      ]
    },
    {
      "cell_type": "code",
      "execution_count": null,
      "metadata": {
        "id": "XLgceqspOTlZ"
      },
      "outputs": [],
      "source": [
        "#API Key\n",
        "#Store you key in a file and read it(you can type it directly in the notebook but it will be visible for somebody next to you)\n",
        "f = open(\"drive/MyDrive/files/api_key.txt\", \"r\")\n",
        "API_KEY=f.readline()\n",
        "f.close()"
      ]
    },
    {
      "cell_type": "code",
      "execution_count": null,
      "metadata": {
        "id": "pvIVVNr0OMMI"
      },
      "outputs": [],
      "source": [
        "#The OpenAI Key\n",
        "import os\n",
        "os.environ['OPENAI_API_KEY'] =API_KEY\n",
        "openai.api_key = os.getenv(\"OPENAI_API_KEY\")"
      ]
    },
    {
      "cell_type": "markdown",
      "metadata": {
        "id": "jYVtR5MsOy9R"
      },
      "source": [
        "# Defining the rolel of the model"
      ]
    },
    {
      "cell_type": "code",
      "execution_count": null,
      "metadata": {
        "id": "34f9D9dxO4U9"
      },
      "outputs": [],
      "source": [
        "import openai\n",
        "\n",
        "gptmodel=\"gpt-4\" # or select gpt-3.5-turbo\n",
        "\n",
        "def openai_chat(input_text):\n",
        "    response = openai.ChatCompletion.create(\n",
        "        model=gptmodel,\n",
        "        messages=[\n",
        "            {\"role\": \"system\", \"content\": \"You are an expert Natural Language Processing exercise expert.\"},\n",
        "            {\"role\": \"assistant\", \"content\": \"1.You can explain any NLP task. 2.Create an example 3.Solve the example\"},\n",
        "            {\"role\": \"user\", \"content\": input_text}\n",
        "        ],\n",
        "        temperature=0.1  # Add the temperature parameter here and other parameters you need\n",
        "    )\n",
        "    return response['choices'][0]['message']['content']"
      ]
    },
    {
      "cell_type": "markdown",
      "metadata": {
        "id": "D0z5i0tNXxfD"
      },
      "source": [
        "# Displaying the response of the model"
      ]
    },
    {
      "cell_type": "code",
      "execution_count": null,
      "metadata": {
        "id": "KlddjhdiVn6f"
      },
      "outputs": [],
      "source": [
        "from IPython.core.display import display, HTML\n",
        "def display_response(input_text, response, bb_task):\n",
        "  html_content = f\"\"\"\n",
        "  <!DOCTYPE html>\n",
        "  <html>\n",
        "  <head>\n",
        "      <title>Big-bench Tasks</title>\n",
        "      <style>\n",
        "        p {{\n",
        "            max-width: 600px;\n",
        "        }}\n",
        "    </style>\n",
        "  </head>\n",
        "  <body>\n",
        "      <h1>{bb_task}</h1>\n",
        "      <p>{task}</p>\n",
        "  </body>\n",
        "  </html>\n",
        "  \"\"\"\n",
        "\n",
        "  # And finally we display it\n",
        "  display(HTML(html_content))\n",
        "  html_file = open(\"output.html\", \"a\")\n",
        "  html_file.write(html_content)\n",
        "  html_file.close()"
      ]
    },
    {
      "cell_type": "code",
      "execution_count": null,
      "metadata": {
        "id": "OgSWHSlMhCfq"
      },
      "outputs": [],
      "source": [
        "html_file = open(\"output.html\", \"w\") #just to make sure the file is created before running the tasks because\n",
        "html_file.close()                    #the API runs on a pay-as-you-go policy."
      ]
    },
    {
      "cell_type": "markdown",
      "metadata": {
        "id": "7TINCE3hP3k7"
      },
      "source": [
        "# Running the tasks\n",
        "\n",
        "Check OpenAI's policy for rate limits before running the tasks:\n",
        "https://platform.openai.com/docs/guides/rate-limits/overview\n"
      ]
    },
    {
      "cell_type": "code",
      "execution_count": null,
      "metadata": {
        "colab": {
          "base_uri": "https://localhost:8080/",
          "height": 1000
        },
        "id": "JK8dkMOMjEPY",
        "outputId": "e349be4c-ddf2-4843-e819-531eb98b74de"
      },
      "outputs": [
        {
          "data": {
            "text/html": [
              "\n",
              "  <!DOCTYPE html>\n",
              "  <html>\n",
              "  <head>\n",
              "      <title>Big-bench Tasks</title>\n",
              "      <style>\n",
              "        p {\n",
              "            max-width: 600px;\n",
              "        }\n",
              "    </style>\n",
              "  </head>\n",
              "  <body>\n",
              "      <h1>Given a narrative choose the most related proverb</h1>\n",
              "      <p>1. Explanation:<br>The task you've mentioned is a type of text classification problem in Natural Language Processing (NLP). It involves understanding the context and semantics of a given narrative and then mapping it to the most related proverb. This requires the use of semantic understanding, context awareness, and possibly even cultural knowledge, as proverbs often carry cultural or historical connotations.<br><br>2. Example:<br>Let's take a narrative: \"John worked hard day and night for his final exams. He didn't waste a single minute and put all his efforts into studying.\"<br><br>3. Solution:<br>Given the narrative, we can see that it talks about hard work, dedication, and the efficient use of time. A suitable proverb for this narrative could be \"Hard work pays off\" or \"Time and tide wait for no man\". <br><br>To solve this using NLP, we would typically use a model trained on a similar task. The model should be able to understand the context of the narrative and map it to a proverb. This could be done using techniques like word embeddings (to understand the semantic meaning of words in the narrative) and sequence models like RNNs or Transformers (to understand the context). <br><br>Please note that this is a complex task and might not always yield perfect results, as understanding the deep semantics and cultural connotations of proverbs is a challenging problem in NLP.</p>\n",
              "  </body>\n",
              "  </html>\n",
              "  "
            ],
            "text/plain": [
              "<IPython.core.display.HTML object>"
            ]
          },
          "metadata": {},
          "output_type": "display_data"
        },
        {
          "data": {
            "text/html": [
              "\n",
              "  <!DOCTYPE html>\n",
              "  <html>\n",
              "  <head>\n",
              "      <title>Big-bench Tasks</title>\n",
              "      <style>\n",
              "        p {\n",
              "            max-width: 600px;\n",
              "        }\n",
              "    </style>\n",
              "  </head>\n",
              "  <body>\n",
              "      <h1>Solve tasks from Abstraction and Reasoning Corpus</h1>\n",
              "      <p>1. Explanation of the Task:<br><br>The Abstraction and Reasoning Corpus (ARC) is a dataset created by François Chollet, the creator of Keras. The ARC task is designed to evaluate the reasoning abilities of AI models. It consists of a training set and a test set of tasks, where each task is a pair of a grid pattern and a target grid pattern. The AI model is supposed to figure out the transformation rules from the input grid pattern to the target grid pattern and apply these rules to a new grid pattern in the test set.<br><br>2. Example:<br><br>Let's consider a simple example. Suppose we have a task where the input grid pattern is a 3x3 grid with a diagonal line from the top-left to the bottom-right:<br><br>```<br>Input:<br>1 0 0<br>0 1 0<br>0 0 1<br>```<br><br>And the target grid pattern is a 3x3 grid with a diagonal line from the top-right to the bottom-left:<br><br>```<br>Output:<br>0 0 1<br>0 1 0<br>1 0 0<br>```<br><br>3. Solving the Task:<br><br>The transformation rule here is to flip the grid along the vertical axis. We can apply this rule to a new grid pattern in the test set. For example, if the test set grid pattern is:<br><br>```<br>Test Input:<br>1 0 0<br>0 2 0<br>0 0 3<br>```<br><br>Applying the transformation rule, we get:<br><br>```<br>Test Output:<br>0 0 1<br>0 2 0<br>3 0 0<br>```<br><br>This is a very simple example. In practice, ARC tasks can be much more complex and require more sophisticated reasoning abilities.</p>\n",
              "  </body>\n",
              "  </html>\n",
              "  "
            ],
            "text/plain": [
              "<IPython.core.display.HTML object>"
            ]
          },
          "metadata": {},
          "output_type": "display_data"
        },
        {
          "data": {
            "text/html": [
              "\n",
              "  <!DOCTYPE html>\n",
              "  <html>\n",
              "  <head>\n",
              "      <title>Big-bench Tasks</title>\n",
              "      <style>\n",
              "        p {\n",
              "            max-width: 600px;\n",
              "        }\n",
              "    </style>\n",
              "  </head>\n",
              "  <body>\n",
              "      <h1>Identify whether a given statement contains an anachronism</h1>\n",
              "      <p>1. Explanation:<br>An anachronism is something or someone that is not in its correct historical or chronological time, especially a thing or person that belongs to an earlier time. In the context of Natural Language Processing (NLP), identifying an anachronism in a statement would involve determining if the statement contains elements that are out of place in the time period they are being referred to. This task would require a deep understanding of historical contexts and the ability to analyze text for inconsistencies with these contexts.<br><br>2. Example:<br>Let's consider the following statement: \"In 1960, John sent an email to his friend.\"<br><br>3. Solution:<br>To solve this, we would need to know that email was not available in 1960. The first email system was developed in 1971, so the statement contains an anachronism. The use of email is out of place in the time period being referred to (1960). Therefore, the statement \"In 1960, John sent an email to his friend\" contains an anachronism.</p>\n",
              "  </body>\n",
              "  </html>\n",
              "  "
            ],
            "text/plain": [
              "<IPython.core.display.HTML object>"
            ]
          },
          "metadata": {},
          "output_type": "display_data"
        },
        {
          "data": {
            "text/html": [
              "\n",
              "  <!DOCTYPE html>\n",
              "  <html>\n",
              "  <head>\n",
              "      <title>Big-bench Tasks</title>\n",
              "      <style>\n",
              "        p {\n",
              "            max-width: 600px;\n",
              "        }\n",
              "    </style>\n",
              "  </head>\n",
              "  <body>\n",
              "      <h1>Identify the type of analogy between two events</h1>\n",
              "      <p>1. Explanation:<br>The task of identifying the type of analogy between two events involves understanding the relationship between two different situations or events and categorizing the type of analogy. An analogy is a comparison between two things, typically for the purpose of explanation or clarification. In the context of events, this could mean identifying similarities in structure, outcome, or underlying principles.<br><br>2. Example:<br>Let's consider two events:<br><br>Event A: A seed is planted, watered, and given sunlight, and it grows into a tree.<br>Event B: A child is nurtured, educated, and given love, and they grow into a successful adult.<br><br>3. Solution:<br>The analogy between these two events is a type of \"Process/Development Analogy\". This is because both events involve a process of growth and development that is facilitated by certain necessary conditions (water and sunlight for the seed, education and love for the child). The seed growing into a tree is analogous to a child growing into a successful adult, as both processes involve growth, nurturing, and development.</p>\n",
              "  </body>\n",
              "  </html>\n",
              "  "
            ],
            "text/plain": [
              "<IPython.core.display.HTML object>"
            ]
          },
          "metadata": {},
          "output_type": "display_data"
        },
        {
          "data": {
            "text/html": [
              "\n",
              "  <!DOCTYPE html>\n",
              "  <html>\n",
              "  <head>\n",
              "      <title>Big-bench Tasks</title>\n",
              "      <style>\n",
              "        p {\n",
              "            max-width: 600px;\n",
              "        }\n",
              "    </style>\n",
              "  </head>\n",
              "  <body>\n",
              "      <h1>Identify whether one sentence entails the next</h1>\n",
              "      <p>1. Explanation:<br>The task you're referring to is known as Natural Language Inference (NLI), also known as Recognizing Textual Entailment (RTE). In this task, the goal is to determine whether a given statement (the \"hypothesis\") can logically be inferred from another statement (the \"premise\"). There are typically three possible outcomes: the hypothesis can be entailed by the premise, it can contradict the premise, or it can be neutral (neither entailed nor contradicted).<br><br>2. Example:<br>Let's take an example:<br>Premise: \"The man is eating a piece of fruit.\"<br>Hypothesis: \"The man is eating.\"<br><br>3. Solution:<br>In this case, the hypothesis \"The man is eating\" is entailed by the premise \"The man is eating a piece of fruit.\" This is because if the premise is true (i.e., the man is indeed eating a piece of fruit), then the hypothesis must also be true (the man is eating). Therefore, the relationship between the premise and the hypothesis is one of entailment.</p>\n",
              "  </body>\n",
              "  </html>\n",
              "  "
            ],
            "text/plain": [
              "<IPython.core.display.HTML object>"
            ]
          },
          "metadata": {},
          "output_type": "display_data"
        },
        {
          "data": {
            "text/html": [
              "\n",
              "  <!DOCTYPE html>\n",
              "  <html>\n",
              "  <head>\n",
              "      <title>Big-bench Tasks</title>\n",
              "      <style>\n",
              "        p {\n",
              "            max-width: 600px;\n",
              "        }\n",
              "    </style>\n",
              "  </head>\n",
              "  <body>\n",
              "      <h1>Perform the four basic arithmetic operations</h1>\n",
              "      <p>1. Explanation:<br>The task you're referring to is not directly related to Natural Language Processing (NLP). However, NLP can be used to interpret and execute such tasks if they are given in natural language. For instance, if the arithmetic operations are embedded in a sentence, an NLP system can be used to extract and perform these operations.<br><br>2. Example:<br>Let's consider a sentence: \"John has 15 apples, he gave 5 to his friend, then he bought 10 more, and finally he ate 3. How many apples does John have now?\"<br><br>3. Solution:<br>To solve this, we need to extract the arithmetic operations from the sentence and perform them. Here's how we can do it:<br><br>- John initially has 15 apples.<br>- He gives away 5, so we perform the operation 15 - 5 = 10.<br>- He buys 10 more, so we perform the operation 10 + 10 = 20.<br>- He eats 3, so we perform the operation 20 - 3 = 17.<br><br>So, John now has 17 apples. <br><br>In an NLP context, this would involve using techniques such as Named Entity Recognition to identify the entities and their associated quantities, and then using the context to determine and perform the appropriate arithmetic operations.</p>\n",
              "  </body>\n",
              "  </html>\n",
              "  "
            ],
            "text/plain": [
              "<IPython.core.display.HTML object>"
            ]
          },
          "metadata": {},
          "output_type": "display_data"
        },
        {
          "data": {
            "text/html": [
              "\n",
              "  <!DOCTYPE html>\n",
              "  <html>\n",
              "  <head>\n",
              "      <title>Big-bench Tasks</title>\n",
              "      <style>\n",
              "        p {\n",
              "            max-width: 600px;\n",
              "        }\n",
              "    </style>\n",
              "  </head>\n",
              "  <body>\n",
              "      <h1>Identify the word displayed as ASCII art</h1>\n",
              "      <p>1. Explanation:<br>The task of identifying a word displayed as ASCII art involves interpreting a visual representation of text that is created using ASCII (American Standard Code for Information Interchange) characters. ASCII art is a graphic design technique that uses printable characters to create images and designs. In this case, the task would involve developing an algorithm or method to interpret the ASCII art and translate it back into the original word or text.<br><br>2. Example:<br>Let's consider a simple ASCII art representation of the word \"HI\".<br><br>```<br>H   H  III<br>H   H   I <br>HHHHH   I<br>H   H   I<br>H   H  III<br>```<br><br>3. Solution:<br>Solving this task programmatically is quite complex and would involve image recognition and machine learning techniques. However, by visually inspecting the ASCII art, we can identify the word as \"HI\". <br><br>Please note that Natural Language Processing (NLP) typically deals with processing and analyzing text data and may not be the best tool for interpreting ASCII art. This task might be better suited for fields like Computer Vision.</p>\n",
              "  </body>\n",
              "  </html>\n",
              "  "
            ],
            "text/plain": [
              "<IPython.core.display.HTML object>"
            ]
          },
          "metadata": {},
          "output_type": "display_data"
        },
        {
          "data": {
            "text/html": [
              "\n",
              "  <!DOCTYPE html>\n",
              "  <html>\n",
              "  <head>\n",
              "      <title>Big-bench Tasks</title>\n",
              "      <style>\n",
              "        p {\n",
              "            max-width: 600px;\n",
              "        }\n",
              "    </style>\n",
              "  </head>\n",
              "  <body>\n",
              "      <h1>Identify which of the text passages given as choices was written by the same author as the text passage given as the reference</h1>\n",
              "      <p>1. Explanation:<br>The task you're referring to is known as Authorship Attribution or Author Identification. It's a subfield of Natural Language Processing (NLP) that involves determining the author of a given text based on stylistic and linguistic features. This task is often used in digital forensics, plagiarism detection, and historical linguistics. The process involves extracting features from the text such as word usage, sentence structure, punctuation, and other stylistic elements. Machine learning algorithms are then used to classify these features and determine the most likely author.<br><br>2. Example:<br>Let's say we have a reference text written by Author A and three other text passages written by Author B, Author C, and Author A respectively. <br><br>Reference Text (Author A): \"The sun set behind the mountains, casting long shadows over the valley. The air was crisp and cool, a sure sign of the approaching winter.\"<br><br>Text Passage 1 (Author B): \"The mountains were bathed in the warm glow of the setting sun. Winter was coming, as evidenced by the chill in the air.\"<br><br>Text Passage 2 (Author C): \"Sunset painted the mountains in hues of orange and pink. The cool air hinted at the arrival of winter.\"<br><br>Text Passage 3 (Author A): \"As the sun dipped behind the mountains, their shadows stretched across the valley. The crisp air was a harbinger of the winter to come.\"<br><br>3. Solution:<br>To solve this, we would first need to extract features from the texts. This could include the use of descriptive language, sentence structure, and specific word choices. For example, both the reference text and Text Passage 3 use the phrase \"crisp air\" and describe the sun as setting or dipping behind the mountains. <br><br>Next, we would use a machine learning algorithm to classify the texts based on these features. In this case, the algorithm would likely identify Text Passage 3 as being written by the same author as the reference text due to the similarities in language and style. <br><br>Please note that in a real-world scenario, this task would involve much larger text samples and more sophisticated feature extraction and machine learning techniques.</p>\n",
              "  </body>\n",
              "  </html>\n",
              "  "
            ],
            "text/plain": [
              "<IPython.core.display.HTML object>"
            ]
          },
          "metadata": {},
          "output_type": "display_data"
        },
        {
          "data": {
            "text/html": [
              "\n",
              "  <!DOCTYPE html>\n",
              "  <html>\n",
              "  <head>\n",
              "      <title>Big-bench Tasks</title>\n",
              "      <style>\n",
              "        p {\n",
              "            max-width: 600px;\n",
              "        }\n",
              "    </style>\n",
              "  </head>\n",
              "  <body>\n",
              "      <h1>Identify a broad class given several examples from that class</h1>\n",
              "      <p>1. Explanation:<br>The task you're referring to is a type of classification problem in Natural Language Processing (NLP) known as Topic Classification or Text Categorization. The goal is to assign predefined categories (or classes) to unstructured text data based on its content. This is a supervised learning task where a model is trained on a dataset containing text documents and their corresponding labels. The model learns to identify patterns, keywords, or context that help it predict the category of unseen text data.<br><br>2. Example:<br>Let's consider a simple example where we have three classes: Sports, Politics, and Technology. We are given several examples from each class:<br><br>Sports: \"The football team won the match.\", \"The basketball player scored 30 points.\", \"The tennis tournament will start next week.\"<br><br>Politics: \"The president announced new policies.\", \"The election results will be announced tomorrow.\", \"The government is planning to reduce taxes.\"<br><br>Technology: \"The new smartphone has amazing features.\", \"The tech company announced its latest product.\", \"The software update will be released next week.\"<br><br>3. Solution:<br>To solve this, we would typically use a machine learning or deep learning model. Here's a simplified version of how we might approach this:<br><br>Step 1: Preprocessing - This involves cleaning the text (removing punctuation, lowercasing, etc.), tokenizing (splitting text into individual words), and possibly converting the words into numerical representations (like TF-IDF or word embeddings).<br><br>Step 2: Model Training - We would then feed these numerical representations into a classifier (like Naive Bayes, SVM, or a neural network). The model would learn to associate certain patterns or keywords with each class.<br><br>Step 3: Prediction - Once the model is trained, we can feed it new sentences. The model would preprocess these sentences in the same way as the training data, and then predict the class based on what it has learned.<br><br>For example, if we feed the sentence \"The team played an amazing game.\" to our trained model, it might classify it as 'Sports' because it has learned to associate the words 'team' and 'game' with the Sports class.</p>\n",
              "  </body>\n",
              "  </html>\n",
              "  "
            ],
            "text/plain": [
              "<IPython.core.display.HTML object>"
            ]
          },
          "metadata": {},
          "output_type": "display_data"
        },
        {
          "data": {
            "text/html": [
              "\n",
              "  <!DOCTYPE html>\n",
              "  <html>\n",
              "  <head>\n",
              "      <title>Big-bench Tasks</title>\n",
              "      <style>\n",
              "        p {\n",
              "            max-width: 600px;\n",
              "        }\n",
              "    </style>\n",
              "  </head>\n",
              "  <body>\n",
              "      <h1>Answer questions about a Python 3.7 program's intermediate state</h1>\n",
              "      <p>1. Explanation of the Task:<br><br>The task is about understanding and interpreting the intermediate state of a Python 3.7 program. This involves analyzing the program at a certain point during its execution, and answering questions about its state. This could include understanding the values of variables, the control flow, the state of the memory, the output being produced, etc. This task requires a good understanding of Python programming, including its syntax, semantics, and runtime behavior.<br><br>2. Example:<br><br>Consider the following Python 3.7 program:<br><br>```python<br>def calculate_sum(n):<br>    sum = 0<br>    for i in range(1, n+1):<br>        sum += i<br>    return sum<br><br>result = calculate_sum(5)<br>print(result)<br>```<br><br>3. Solving the Example:<br><br>The task is to answer questions about the intermediate state of this program. Here are some possible questions and their answers:<br><br>- What is the value of `n` when `calculate_sum(5)` is called?<br>  - Answer: The value of `n` is 5.<br><br>- What is the value of `sum` after the first iteration of the loop?<br>  - Answer: The value of `sum` is 1 after the first iteration of the loop.<br><br>- What is the value of `i` during the third iteration of the loop?<br>  - Answer: The value of `i` is 3 during the third iteration of the loop.<br><br>- What is the value of `sum` just before `calculate_sum(5)` returns?<br>  - Answer: The value of `sum` is 15 just before `calculate_sum(5)` returns.<br><br>- What is the value of `result` after `calculate_sum(5)` is called?<br>  - Answer: The value of `result` is 15 after `calculate_sum(5)` is called.<br><br>- What is the output of the program?<br>  - Answer: The output of the program is 15.</p>\n",
              "  </body>\n",
              "  </html>\n",
              "  "
            ],
            "text/plain": [
              "<IPython.core.display.HTML object>"
            ]
          },
          "metadata": {},
          "output_type": "display_data"
        }
      ],
      "source": [
        "import time\n",
        "\n",
        "counter = 0\n",
        "nb_tasks = nbt\n",
        "for index, row in df.iterrows():\n",
        "    input_text = row['Tasks']                 # the complete prompt\n",
        "    counter += 1                              # task counter\n",
        "    if counter > nb_tasks:\n",
        "        break                                 # nb of tasks\n",
        "    task = openai_chat(input_text)            # model call\n",
        "    task = task.replace('\\n', '<br>')         # formatting the output\n",
        "    parts = input_text.split('Solve it:')     # extracting the task from the input\n",
        "    bb_task = parts[1].strip()                # The strip() function\n",
        "    display_response(input_text, task, bb_task) # displaying the task and response\n",
        "\n",
        "    if counter % 50 == 0:                     # if the counter is divisible by 50\n",
        "        print(f\"Processed {counter} tasks. Pausing for 60 seconds.\")\n",
        "        time.sleep(60)                        # pause for 60 seconds"
      ]
    }
  ],
  "metadata": {
    "colab": {
      "provenance": []
    },
    "kernelspec": {
      "display_name": "Python 3",
      "name": "python3"
    },
    "language_info": {
      "name": "python"
    }
  },
  "nbformat": 4,
  "nbformat_minor": 0
}
