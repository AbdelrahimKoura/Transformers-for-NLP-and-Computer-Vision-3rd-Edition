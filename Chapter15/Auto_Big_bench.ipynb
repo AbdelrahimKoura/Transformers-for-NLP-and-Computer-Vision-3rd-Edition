{
  "cells": [
    {
      "cell_type": "markdown",
      "metadata": {
        "id": "8SEJVu11ExHl"
      },
      "source": [
        "# Auto Big-bench\n",
        "copyright 2024, Denis Rothman\n",
        "\n",
        "[Big-bench](https://github.com/google/BIG-bench/blob/main/bigbench/benchmark_tasks/README.md) contains more than 200+ NLP tasks. The goal is to evaluate a model.\n",
        "\n",
        "In this notebook, we take ChatGPT-GPT4 a step further. We will not ask ChatGPT-GPT-4 to solve a Big-bench NLP problem and apply metrics. We will ask GPT-4 to create the tasks itself and solve them!\n",
        "\n",
        "*The potential of the next generation of AI might be able to evaluate and benchmark itself.*\n",
        "\n",
        "The program will feed GPT-4 a sample of 140+ Big-bench tasks with a two-part prompt:   \n",
        "\n",
        "**The first part contains the instruction:**    \n",
        "\n",
        "**The second part is the description of a Big-bench:**  \n",
        "\n",
        "**The output will then be displayed for human evaluation**\n",
        "Human evaluation plays an important role in LLM training and evaluations. Reinforcement Learning with Human Feedback(RLHF) will help mitigate the potential limits of automated models and evaluation metrics.\n",
        "\n",
        "**Limit of the program:** The program does not run thousands of samples for each task. The goal is to show the potential of Large Language Models(LLMs)\n",
        "\n",
        "**Potential:** We can see that GPT-4, PaLM 2, and other Foundations Models are just the beginning of what will become *Massive Multitask Language Understanding(MMLU)* models in one form or another in the years to come.\n",
        "\n"
      ]
    },
    {
      "cell_type": "markdown",
      "metadata": {
        "id": "NYTZAY_MHL8h"
      },
      "source": [
        "# Retrieve the list of Big-bench prompts designed for this notebook\n",
        "\n",
        "The list was created from the list of tasks of [Big-bench](https://github.com/google/BIG-bench/blob/main/bigbench/benchmark_tasks/README.md)"
      ]
    },
    {
      "cell_type": "code",
      "execution_count": 8,
      "metadata": {
        "colab": {
          "base_uri": "https://localhost:8080/"
        },
        "id": "mbvxtSwLEtoF",
        "outputId": "a9284175-cbeb-47df-b9c2-68b36e0d883d"
      },
      "outputs": [
        {
          "output_type": "stream",
          "name": "stdout",
          "text": [
            "Drive already mounted at /content/drive; to attempt to forcibly remount, call drive.mount(\"/content/drive\", force_remount=True).\n"
          ]
        }
      ],
      "source": [
        "#Development access to delete when going into production\n",
        "from google.colab import drive\n",
        "drive.mount('/content/drive')"
      ]
    },
    {
      "cell_type": "code",
      "execution_count": 9,
      "metadata": {
        "id": "UpXuukudJxqn"
      },
      "outputs": [],
      "source": [
        "with open('drive/MyDrive/files/github.txt', 'r') as f:\n",
        "    github_token = f.read().strip()"
      ]
    },
    {
      "cell_type": "code",
      "execution_count": 10,
      "metadata": {
        "colab": {
          "base_uri": "https://localhost:8080/"
        },
        "id": "VoORGkR_J19Q",
        "outputId": "1f9e27cc-b6bf-4b82-c55a-3a20a8565eca"
      },
      "outputs": [
        {
          "output_type": "stream",
          "name": "stdout",
          "text": [
            "  % Total    % Received % Xferd  Average Speed   Time    Time     Time  Current\n",
            "                                 Dload  Upload   Total   Spent    Left  Speed\n",
            "100 17838  100 17838    0     0  72634      0 --:--:-- --:--:-- --:--:-- 72808\n"
          ]
        }
      ],
      "source": [
        "!curl -H 'Authorization: token {github_token}' -L https://raw.githubusercontent.com/Denis2054/Transformers_3rd_Edition/master/Chapter15/tasks.txt --output \"tasks.txt\""
      ]
    },
    {
      "cell_type": "markdown",
      "metadata": {
        "id": "RYQsYeB2KZMl"
      },
      "source": [
        "# Read the file into a Pandas Dataframe"
      ]
    },
    {
      "cell_type": "code",
      "execution_count": 11,
      "metadata": {
        "colab": {
          "base_uri": "https://localhost:8080/",
          "height": 423
        },
        "id": "4QQbTTeIKe7u",
        "outputId": "82d262fe-ba08-46ac-a20f-f9f091429f80"
      },
      "outputs": [
        {
          "output_type": "execute_result",
          "data": {
            "text/plain": [
              "                                                 Tasks\n",
              "0    1.Explain the following task 2.Provide an exam...\n",
              "1    1.Explain the following task 2.Provide an exam...\n",
              "2    1.Explain the following task 2.Provide an exam...\n",
              "3    1.Explain the following task 2.Provide an exam...\n",
              "4    1.Explain the following task 2.Provide an exam...\n",
              "..                                                 ...\n",
              "139  1.Explain the following task 2.Provide an exam...\n",
              "140  1.Explain the following task 2.Provide an exam...\n",
              "141  1.Explain the following task 2.Provide an exam...\n",
              "142  1.Explain the following task 2.Provide an exam...\n",
              "143  1.Explain the following task 2.Provide an exam...\n",
              "\n",
              "[144 rows x 1 columns]"
            ],
            "text/html": [
              "\n",
              "  <div id=\"df-513e0c37-94c7-495b-833b-178957b9062b\" class=\"colab-df-container\">\n",
              "    <div>\n",
              "<style scoped>\n",
              "    .dataframe tbody tr th:only-of-type {\n",
              "        vertical-align: middle;\n",
              "    }\n",
              "\n",
              "    .dataframe tbody tr th {\n",
              "        vertical-align: top;\n",
              "    }\n",
              "\n",
              "    .dataframe thead th {\n",
              "        text-align: right;\n",
              "    }\n",
              "</style>\n",
              "<table border=\"1\" class=\"dataframe\">\n",
              "  <thead>\n",
              "    <tr style=\"text-align: right;\">\n",
              "      <th></th>\n",
              "      <th>Tasks</th>\n",
              "    </tr>\n",
              "  </thead>\n",
              "  <tbody>\n",
              "    <tr>\n",
              "      <th>0</th>\n",
              "      <td>1.Explain the following task 2.Provide an exam...</td>\n",
              "    </tr>\n",
              "    <tr>\n",
              "      <th>1</th>\n",
              "      <td>1.Explain the following task 2.Provide an exam...</td>\n",
              "    </tr>\n",
              "    <tr>\n",
              "      <th>2</th>\n",
              "      <td>1.Explain the following task 2.Provide an exam...</td>\n",
              "    </tr>\n",
              "    <tr>\n",
              "      <th>3</th>\n",
              "      <td>1.Explain the following task 2.Provide an exam...</td>\n",
              "    </tr>\n",
              "    <tr>\n",
              "      <th>4</th>\n",
              "      <td>1.Explain the following task 2.Provide an exam...</td>\n",
              "    </tr>\n",
              "    <tr>\n",
              "      <th>...</th>\n",
              "      <td>...</td>\n",
              "    </tr>\n",
              "    <tr>\n",
              "      <th>139</th>\n",
              "      <td>1.Explain the following task 2.Provide an exam...</td>\n",
              "    </tr>\n",
              "    <tr>\n",
              "      <th>140</th>\n",
              "      <td>1.Explain the following task 2.Provide an exam...</td>\n",
              "    </tr>\n",
              "    <tr>\n",
              "      <th>141</th>\n",
              "      <td>1.Explain the following task 2.Provide an exam...</td>\n",
              "    </tr>\n",
              "    <tr>\n",
              "      <th>142</th>\n",
              "      <td>1.Explain the following task 2.Provide an exam...</td>\n",
              "    </tr>\n",
              "    <tr>\n",
              "      <th>143</th>\n",
              "      <td>1.Explain the following task 2.Provide an exam...</td>\n",
              "    </tr>\n",
              "  </tbody>\n",
              "</table>\n",
              "<p>144 rows × 1 columns</p>\n",
              "</div>\n",
              "    <div class=\"colab-df-buttons\">\n",
              "\n",
              "  <div class=\"colab-df-container\">\n",
              "    <button class=\"colab-df-convert\" onclick=\"convertToInteractive('df-513e0c37-94c7-495b-833b-178957b9062b')\"\n",
              "            title=\"Convert this dataframe to an interactive table.\"\n",
              "            style=\"display:none;\">\n",
              "\n",
              "  <svg xmlns=\"http://www.w3.org/2000/svg\" height=\"24px\" viewBox=\"0 -960 960 960\">\n",
              "    <path d=\"M120-120v-720h720v720H120Zm60-500h600v-160H180v160Zm220 220h160v-160H400v160Zm0 220h160v-160H400v160ZM180-400h160v-160H180v160Zm440 0h160v-160H620v160ZM180-180h160v-160H180v160Zm440 0h160v-160H620v160Z\"/>\n",
              "  </svg>\n",
              "    </button>\n",
              "\n",
              "  <style>\n",
              "    .colab-df-container {\n",
              "      display:flex;\n",
              "      gap: 12px;\n",
              "    }\n",
              "\n",
              "    .colab-df-convert {\n",
              "      background-color: #E8F0FE;\n",
              "      border: none;\n",
              "      border-radius: 50%;\n",
              "      cursor: pointer;\n",
              "      display: none;\n",
              "      fill: #1967D2;\n",
              "      height: 32px;\n",
              "      padding: 0 0 0 0;\n",
              "      width: 32px;\n",
              "    }\n",
              "\n",
              "    .colab-df-convert:hover {\n",
              "      background-color: #E2EBFA;\n",
              "      box-shadow: 0px 1px 2px rgba(60, 64, 67, 0.3), 0px 1px 3px 1px rgba(60, 64, 67, 0.15);\n",
              "      fill: #174EA6;\n",
              "    }\n",
              "\n",
              "    .colab-df-buttons div {\n",
              "      margin-bottom: 4px;\n",
              "    }\n",
              "\n",
              "    [theme=dark] .colab-df-convert {\n",
              "      background-color: #3B4455;\n",
              "      fill: #D2E3FC;\n",
              "    }\n",
              "\n",
              "    [theme=dark] .colab-df-convert:hover {\n",
              "      background-color: #434B5C;\n",
              "      box-shadow: 0px 1px 3px 1px rgba(0, 0, 0, 0.15);\n",
              "      filter: drop-shadow(0px 1px 2px rgba(0, 0, 0, 0.3));\n",
              "      fill: #FFFFFF;\n",
              "    }\n",
              "  </style>\n",
              "\n",
              "    <script>\n",
              "      const buttonEl =\n",
              "        document.querySelector('#df-513e0c37-94c7-495b-833b-178957b9062b button.colab-df-convert');\n",
              "      buttonEl.style.display =\n",
              "        google.colab.kernel.accessAllowed ? 'block' : 'none';\n",
              "\n",
              "      async function convertToInteractive(key) {\n",
              "        const element = document.querySelector('#df-513e0c37-94c7-495b-833b-178957b9062b');\n",
              "        const dataTable =\n",
              "          await google.colab.kernel.invokeFunction('convertToInteractive',\n",
              "                                                    [key], {});\n",
              "        if (!dataTable) return;\n",
              "\n",
              "        const docLinkHtml = 'Like what you see? Visit the ' +\n",
              "          '<a target=\"_blank\" href=https://colab.research.google.com/notebooks/data_table.ipynb>data table notebook</a>'\n",
              "          + ' to learn more about interactive tables.';\n",
              "        element.innerHTML = '';\n",
              "        dataTable['output_type'] = 'display_data';\n",
              "        await google.colab.output.renderOutput(dataTable, element);\n",
              "        const docLink = document.createElement('div');\n",
              "        docLink.innerHTML = docLinkHtml;\n",
              "        element.appendChild(docLink);\n",
              "      }\n",
              "    </script>\n",
              "  </div>\n",
              "\n",
              "\n",
              "<div id=\"df-68a05b50-d088-4d02-8724-0c276a41d6cc\">\n",
              "  <button class=\"colab-df-quickchart\" onclick=\"quickchart('df-68a05b50-d088-4d02-8724-0c276a41d6cc')\"\n",
              "            title=\"Suggest charts\"\n",
              "            style=\"display:none;\">\n",
              "\n",
              "<svg xmlns=\"http://www.w3.org/2000/svg\" height=\"24px\"viewBox=\"0 0 24 24\"\n",
              "     width=\"24px\">\n",
              "    <g>\n",
              "        <path d=\"M19 3H5c-1.1 0-2 .9-2 2v14c0 1.1.9 2 2 2h14c1.1 0 2-.9 2-2V5c0-1.1-.9-2-2-2zM9 17H7v-7h2v7zm4 0h-2V7h2v10zm4 0h-2v-4h2v4z\"/>\n",
              "    </g>\n",
              "</svg>\n",
              "  </button>\n",
              "\n",
              "<style>\n",
              "  .colab-df-quickchart {\n",
              "      --bg-color: #E8F0FE;\n",
              "      --fill-color: #1967D2;\n",
              "      --hover-bg-color: #E2EBFA;\n",
              "      --hover-fill-color: #174EA6;\n",
              "      --disabled-fill-color: #AAA;\n",
              "      --disabled-bg-color: #DDD;\n",
              "  }\n",
              "\n",
              "  [theme=dark] .colab-df-quickchart {\n",
              "      --bg-color: #3B4455;\n",
              "      --fill-color: #D2E3FC;\n",
              "      --hover-bg-color: #434B5C;\n",
              "      --hover-fill-color: #FFFFFF;\n",
              "      --disabled-bg-color: #3B4455;\n",
              "      --disabled-fill-color: #666;\n",
              "  }\n",
              "\n",
              "  .colab-df-quickchart {\n",
              "    background-color: var(--bg-color);\n",
              "    border: none;\n",
              "    border-radius: 50%;\n",
              "    cursor: pointer;\n",
              "    display: none;\n",
              "    fill: var(--fill-color);\n",
              "    height: 32px;\n",
              "    padding: 0;\n",
              "    width: 32px;\n",
              "  }\n",
              "\n",
              "  .colab-df-quickchart:hover {\n",
              "    background-color: var(--hover-bg-color);\n",
              "    box-shadow: 0 1px 2px rgba(60, 64, 67, 0.3), 0 1px 3px 1px rgba(60, 64, 67, 0.15);\n",
              "    fill: var(--button-hover-fill-color);\n",
              "  }\n",
              "\n",
              "  .colab-df-quickchart-complete:disabled,\n",
              "  .colab-df-quickchart-complete:disabled:hover {\n",
              "    background-color: var(--disabled-bg-color);\n",
              "    fill: var(--disabled-fill-color);\n",
              "    box-shadow: none;\n",
              "  }\n",
              "\n",
              "  .colab-df-spinner {\n",
              "    border: 2px solid var(--fill-color);\n",
              "    border-color: transparent;\n",
              "    border-bottom-color: var(--fill-color);\n",
              "    animation:\n",
              "      spin 1s steps(1) infinite;\n",
              "  }\n",
              "\n",
              "  @keyframes spin {\n",
              "    0% {\n",
              "      border-color: transparent;\n",
              "      border-bottom-color: var(--fill-color);\n",
              "      border-left-color: var(--fill-color);\n",
              "    }\n",
              "    20% {\n",
              "      border-color: transparent;\n",
              "      border-left-color: var(--fill-color);\n",
              "      border-top-color: var(--fill-color);\n",
              "    }\n",
              "    30% {\n",
              "      border-color: transparent;\n",
              "      border-left-color: var(--fill-color);\n",
              "      border-top-color: var(--fill-color);\n",
              "      border-right-color: var(--fill-color);\n",
              "    }\n",
              "    40% {\n",
              "      border-color: transparent;\n",
              "      border-right-color: var(--fill-color);\n",
              "      border-top-color: var(--fill-color);\n",
              "    }\n",
              "    60% {\n",
              "      border-color: transparent;\n",
              "      border-right-color: var(--fill-color);\n",
              "    }\n",
              "    80% {\n",
              "      border-color: transparent;\n",
              "      border-right-color: var(--fill-color);\n",
              "      border-bottom-color: var(--fill-color);\n",
              "    }\n",
              "    90% {\n",
              "      border-color: transparent;\n",
              "      border-bottom-color: var(--fill-color);\n",
              "    }\n",
              "  }\n",
              "</style>\n",
              "\n",
              "  <script>\n",
              "    async function quickchart(key) {\n",
              "      const quickchartButtonEl =\n",
              "        document.querySelector('#' + key + ' button');\n",
              "      quickchartButtonEl.disabled = true;  // To prevent multiple clicks.\n",
              "      quickchartButtonEl.classList.add('colab-df-spinner');\n",
              "      try {\n",
              "        const charts = await google.colab.kernel.invokeFunction(\n",
              "            'suggestCharts', [key], {});\n",
              "      } catch (error) {\n",
              "        console.error('Error during call to suggestCharts:', error);\n",
              "      }\n",
              "      quickchartButtonEl.classList.remove('colab-df-spinner');\n",
              "      quickchartButtonEl.classList.add('colab-df-quickchart-complete');\n",
              "    }\n",
              "    (() => {\n",
              "      let quickchartButtonEl =\n",
              "        document.querySelector('#df-68a05b50-d088-4d02-8724-0c276a41d6cc button');\n",
              "      quickchartButtonEl.style.display =\n",
              "        google.colab.kernel.accessAllowed ? 'block' : 'none';\n",
              "    })();\n",
              "  </script>\n",
              "</div>\n",
              "    </div>\n",
              "  </div>\n"
            ]
          },
          "metadata": {},
          "execution_count": 11
        }
      ],
      "source": [
        "import pandas as pd\n",
        "\n",
        "# read the file\n",
        "df = pd.read_csv('tasks.txt', header=None, on_bad_lines='skip')\n",
        "\n",
        "# If you want to add a column name after loading\n",
        "df.columns = ['Tasks']\n",
        "\n",
        "# print the dataframe\n",
        "df"
      ]
    },
    {
      "cell_type": "code",
      "execution_count": 12,
      "metadata": {
        "colab": {
          "base_uri": "https://localhost:8080/"
        },
        "id": "el3DyGEFQO9u",
        "outputId": "d09cba75-4de3-451e-f99c-30e6aeb7002f"
      },
      "outputs": [
        {
          "output_type": "stream",
          "name": "stdout",
          "text": [
            "Number of tasks:  144\n"
          ]
        }
      ],
      "source": [
        "nbt=len(df)\n",
        "print(\"Number of tasks: \", nbt)"
      ]
    },
    {
      "cell_type": "markdown",
      "metadata": {
        "id": "byQGn0JqOJKH"
      },
      "source": [
        "# Install OpenAI"
      ]
    },
    {
      "cell_type": "code",
      "execution_count": 13,
      "metadata": {
        "colab": {
          "base_uri": "https://localhost:8080/"
        },
        "id": "AqoVOwBGv3rk",
        "outputId": "b3040aca-861b-4edb-c3dc-4feca049899f"
      },
      "outputs": [
        {
          "output_type": "stream",
          "name": "stdout",
          "text": [
            "Requirement already satisfied: openai in /usr/local/lib/python3.10/dist-packages (1.7.2)\n",
            "Requirement already satisfied: anyio<5,>=3.5.0 in /usr/local/lib/python3.10/dist-packages (from openai) (3.7.1)\n",
            "Requirement already satisfied: distro<2,>=1.7.0 in /usr/lib/python3/dist-packages (from openai) (1.7.0)\n",
            "Requirement already satisfied: httpx<1,>=0.23.0 in /usr/local/lib/python3.10/dist-packages (from openai) (0.26.0)\n",
            "Requirement already satisfied: pydantic<3,>=1.9.0 in /usr/local/lib/python3.10/dist-packages (from openai) (1.10.13)\n",
            "Requirement already satisfied: sniffio in /usr/local/lib/python3.10/dist-packages (from openai) (1.3.0)\n",
            "Requirement already satisfied: tqdm>4 in /usr/local/lib/python3.10/dist-packages (from openai) (4.66.1)\n",
            "Requirement already satisfied: typing-extensions<5,>=4.7 in /usr/local/lib/python3.10/dist-packages (from openai) (4.9.0)\n",
            "Requirement already satisfied: idna>=2.8 in /usr/local/lib/python3.10/dist-packages (from anyio<5,>=3.5.0->openai) (3.6)\n",
            "Requirement already satisfied: exceptiongroup in /usr/local/lib/python3.10/dist-packages (from anyio<5,>=3.5.0->openai) (1.2.0)\n",
            "Requirement already satisfied: certifi in /usr/local/lib/python3.10/dist-packages (from httpx<1,>=0.23.0->openai) (2023.11.17)\n",
            "Requirement already satisfied: httpcore==1.* in /usr/local/lib/python3.10/dist-packages (from httpx<1,>=0.23.0->openai) (1.0.2)\n",
            "Requirement already satisfied: h11<0.15,>=0.13 in /usr/local/lib/python3.10/dist-packages (from httpcore==1.*->httpx<1,>=0.23.0->openai) (0.14.0)\n"
          ]
        }
      ],
      "source": [
        "#Importing openai\n",
        "!pip install openai"
      ]
    },
    {
      "cell_type": "code",
      "source": [
        "!pip install cohere"
      ],
      "metadata": {
        "id": "VW5WQx6hR3Zv",
        "outputId": "108ffc4d-2957-4d77-c9bd-f563afb21fd7",
        "colab": {
          "base_uri": "https://localhost:8080/"
        }
      },
      "execution_count": 14,
      "outputs": [
        {
          "output_type": "stream",
          "name": "stdout",
          "text": [
            "Requirement already satisfied: cohere in /usr/local/lib/python3.10/dist-packages (4.44)\n",
            "Requirement already satisfied: aiohttp<4.0,>=3.0 in /usr/local/lib/python3.10/dist-packages (from cohere) (3.9.1)\n",
            "Requirement already satisfied: backoff<3.0,>=2.0 in /usr/local/lib/python3.10/dist-packages (from cohere) (2.2.1)\n",
            "Requirement already satisfied: fastavro<2.0,>=1.8 in /usr/local/lib/python3.10/dist-packages (from cohere) (1.9.3)\n",
            "Requirement already satisfied: importlib_metadata<7.0,>=6.0 in /usr/local/lib/python3.10/dist-packages (from cohere) (6.11.0)\n",
            "Requirement already satisfied: requests<3.0.0,>=2.25.0 in /usr/local/lib/python3.10/dist-packages (from cohere) (2.31.0)\n",
            "Requirement already satisfied: urllib3<3,>=1.26 in /usr/local/lib/python3.10/dist-packages (from cohere) (2.0.7)\n",
            "Requirement already satisfied: attrs>=17.3.0 in /usr/local/lib/python3.10/dist-packages (from aiohttp<4.0,>=3.0->cohere) (23.2.0)\n",
            "Requirement already satisfied: multidict<7.0,>=4.5 in /usr/local/lib/python3.10/dist-packages (from aiohttp<4.0,>=3.0->cohere) (6.0.4)\n",
            "Requirement already satisfied: yarl<2.0,>=1.0 in /usr/local/lib/python3.10/dist-packages (from aiohttp<4.0,>=3.0->cohere) (1.9.4)\n",
            "Requirement already satisfied: frozenlist>=1.1.1 in /usr/local/lib/python3.10/dist-packages (from aiohttp<4.0,>=3.0->cohere) (1.4.1)\n",
            "Requirement already satisfied: aiosignal>=1.1.2 in /usr/local/lib/python3.10/dist-packages (from aiohttp<4.0,>=3.0->cohere) (1.3.1)\n",
            "Requirement already satisfied: async-timeout<5.0,>=4.0 in /usr/local/lib/python3.10/dist-packages (from aiohttp<4.0,>=3.0->cohere) (4.0.3)\n",
            "Requirement already satisfied: zipp>=0.5 in /usr/local/lib/python3.10/dist-packages (from importlib_metadata<7.0,>=6.0->cohere) (3.17.0)\n",
            "Requirement already satisfied: charset-normalizer<4,>=2 in /usr/local/lib/python3.10/dist-packages (from requests<3.0.0,>=2.25.0->cohere) (3.3.2)\n",
            "Requirement already satisfied: idna<4,>=2.5 in /usr/local/lib/python3.10/dist-packages (from requests<3.0.0,>=2.25.0->cohere) (3.6)\n",
            "Requirement already satisfied: certifi>=2017.4.17 in /usr/local/lib/python3.10/dist-packages (from requests<3.0.0,>=2.25.0->cohere) (2023.11.17)\n"
          ]
        }
      ]
    },
    {
      "cell_type": "code",
      "source": [
        "!pip install tiktoken"
      ],
      "metadata": {
        "id": "oLtZDy2XnMZ1",
        "outputId": "047976a8-8a12-4a42-c271-e89e1f9eb0d8",
        "colab": {
          "base_uri": "https://localhost:8080/"
        }
      },
      "execution_count": 15,
      "outputs": [
        {
          "output_type": "stream",
          "name": "stdout",
          "text": [
            "Requirement already satisfied: tiktoken in /usr/local/lib/python3.10/dist-packages (0.5.2)\n",
            "Requirement already satisfied: regex>=2022.1.18 in /usr/local/lib/python3.10/dist-packages (from tiktoken) (2023.6.3)\n",
            "Requirement already satisfied: requests>=2.26.0 in /usr/local/lib/python3.10/dist-packages (from tiktoken) (2.31.0)\n",
            "Requirement already satisfied: charset-normalizer<4,>=2 in /usr/local/lib/python3.10/dist-packages (from requests>=2.26.0->tiktoken) (3.3.2)\n",
            "Requirement already satisfied: idna<4,>=2.5 in /usr/local/lib/python3.10/dist-packages (from requests>=2.26.0->tiktoken) (3.6)\n",
            "Requirement already satisfied: urllib3<3,>=1.21.1 in /usr/local/lib/python3.10/dist-packages (from requests>=2.26.0->tiktoken) (2.0.7)\n",
            "Requirement already satisfied: certifi>=2017.4.17 in /usr/local/lib/python3.10/dist-packages (from requests>=2.26.0->tiktoken) (2023.11.17)\n"
          ]
        }
      ]
    },
    {
      "cell_type": "code",
      "execution_count": 16,
      "metadata": {
        "id": "XLgceqspOTlZ"
      },
      "outputs": [],
      "source": [
        "#API Key\n",
        "#Store you key in a file and read it(you can type it directly in the notebook but it will be visible for somebody next to you)\n",
        "f = open(\"drive/MyDrive/files/api_key.txt\", \"r\")\n",
        "API_KEY=f.readline()\n",
        "f.close()"
      ]
    },
    {
      "cell_type": "code",
      "execution_count": 17,
      "metadata": {
        "id": "pvIVVNr0OMMI"
      },
      "outputs": [],
      "source": [
        "#The OpenAI Key\n",
        "import openai\n",
        "import os\n",
        "os.environ['OPENAI_API_KEY'] =API_KEY\n",
        "openai.api_key = os.getenv(\"OPENAI_API_KEY\")"
      ]
    },
    {
      "cell_type": "markdown",
      "metadata": {
        "id": "jYVtR5MsOy9R"
      },
      "source": [
        "# Defining the rolel of the model"
      ]
    },
    {
      "cell_type": "code",
      "execution_count": 18,
      "metadata": {
        "id": "34f9D9dxO4U9"
      },
      "outputs": [],
      "source": [
        "import openai\n",
        "from openai import OpenAI\n",
        "\n",
        "client = OpenAI()\n",
        "gptmodel=\"gpt-4\" # or select gpt-3.5-turbo\n",
        "\n",
        "def openai_chat(input_text):\n",
        "    response = client.chat.completions.create(\n",
        "        model=gptmodel,\n",
        "        messages=[\n",
        "            {\"role\": \"system\", \"content\": \"You are an expert Natural Language Processing exercise expert.\"},\n",
        "            {\"role\": \"assistant\", \"content\": \"1.You can explain any NLP task. 2.Create an example 3.Solve the example\"},\n",
        "            {\"role\": \"user\", \"content\": input_text}\n",
        "        ],\n",
        "        temperature=0.1  # Add the temperature parameter here and other parameters you need\n",
        "    )\n",
        "    return response.choices[0].message.content"
      ]
    },
    {
      "cell_type": "markdown",
      "metadata": {
        "id": "D0z5i0tNXxfD"
      },
      "source": [
        "# Displaying the response of the model"
      ]
    },
    {
      "cell_type": "code",
      "execution_count": 19,
      "metadata": {
        "id": "KlddjhdiVn6f"
      },
      "outputs": [],
      "source": [
        "from IPython.core.display import display, HTML\n",
        "def display_response(input_text, response, bb_task):\n",
        "  html_content = f\"\"\"\n",
        "  <!DOCTYPE html>\n",
        "  <html>\n",
        "  <head>\n",
        "      <title>Big-bench Tasks</title>\n",
        "      <style>\n",
        "        p {{\n",
        "            max-width: 600px;\n",
        "        }}\n",
        "    </style>\n",
        "  </head>\n",
        "  <body>\n",
        "      <h1>{bb_task}</h1>\n",
        "      <p>{task}</p>\n",
        "  </body>\n",
        "  </html>\n",
        "  \"\"\"\n",
        "\n",
        "  # And finally we display it\n",
        "  display(HTML(html_content))\n",
        "  html_file = open(\"output.html\", \"a\")\n",
        "  html_file.write(html_content)\n",
        "  html_file.close()"
      ]
    },
    {
      "cell_type": "code",
      "execution_count": 20,
      "metadata": {
        "id": "OgSWHSlMhCfq"
      },
      "outputs": [],
      "source": [
        "html_file = open(\"output.html\", \"w\") #just to make sure the file is created before running the tasks because\n",
        "html_file.close()                    #the API runs on a pay-as-you-go policy."
      ]
    },
    {
      "cell_type": "markdown",
      "metadata": {
        "id": "7TINCE3hP3k7"
      },
      "source": [
        "# Running the tasks\n",
        "\n",
        "Check OpenAI's policy for rate limits before running the tasks:\n",
        "https://platform.openai.com/docs/guides/rate-limits/overview\n"
      ]
    },
    {
      "cell_type": "code",
      "execution_count": null,
      "metadata": {
        "colab": {
          "base_uri": "https://localhost:8080/",
          "height": 1000
        },
        "id": "JK8dkMOMjEPY",
        "outputId": "902e430e-e384-4407-bfd4-134deda643c3"
      },
      "outputs": [
        {
          "output_type": "display_data",
          "data": {
            "text/plain": [
              "<IPython.core.display.HTML object>"
            ],
            "text/html": [
              "\n",
              "  <!DOCTYPE html>\n",
              "  <html>\n",
              "  <head>\n",
              "      <title>Big-bench Tasks</title>\n",
              "      <style>\n",
              "        p {\n",
              "            max-width: 600px;\n",
              "        }\n",
              "    </style>\n",
              "  </head>\n",
              "  <body>\n",
              "      <h1>Given a narrative choose the most related proverb</h1>\n",
              "      <p>1. Explanation:<br>The task you're referring to is a type of text classification problem in Natural Language Processing (NLP). It involves understanding the context and semantics of a given narrative and then mapping it to the most related proverb. This task requires a deep understanding of the narrative and the meanings of various proverbs. It can be solved using techniques like semantic similarity, topic modeling, or even more advanced methods like transformer-based models (BERT, GPT-3, etc.).<br><br>2. Example:<br>Let's take a narrative: \"John was a hardworking man. He believed in giving his best in everything he did. He never shied away from challenges and always put in extra effort to achieve his goals.\"<br><br>3. Solution:<br>Given the narrative, we need to find the most related proverb. The narrative talks about a man who is hardworking, believes in giving his best, and never shies away from challenges. A suitable proverb for this narrative could be \"Where there's a will, there's a way.\" This proverb aligns with the narrative as it implies that if a person is determined and hardworking, they can overcome any obstacle, which is similar to the traits displayed by John in the narrative. <br><br>Please note that the solution can vary based on the set of proverbs we are considering for matching. Also, in a real-world scenario, this task would require a more sophisticated NLP model to accurately determine the semantic similarity between the narrative and a large set of proverbs.</p>\n",
              "  </body>\n",
              "  </html>\n",
              "  "
            ]
          },
          "metadata": {}
        },
        {
          "output_type": "display_data",
          "data": {
            "text/plain": [
              "<IPython.core.display.HTML object>"
            ],
            "text/html": [
              "\n",
              "  <!DOCTYPE html>\n",
              "  <html>\n",
              "  <head>\n",
              "      <title>Big-bench Tasks</title>\n",
              "      <style>\n",
              "        p {\n",
              "            max-width: 600px;\n",
              "        }\n",
              "    </style>\n",
              "  </head>\n",
              "  <body>\n",
              "      <h1>Solve tasks from Abstraction and Reasoning Corpus</h1>\n",
              "      <p>1. Explanation of the Task:<br><br>The Abstraction and Reasoning Corpus (ARC) is a dataset created by François Chollet, the creator of Keras. The ARC task is designed to evaluate the reasoning abilities of AI models. It consists of a training set and a test set of tasks. Each task is a pair of a grid pattern and a target grid pattern. The goal is to figure out the transformation rule that turns the input grid into the output grid, and then apply that rule to a new input grid to produce a new output grid.<br><br>2. Example:<br><br>Let's consider a simple example. <br><br>Input Grid:<br>1 1 1<br>0 0 0<br>1 1 1<br><br>Output Grid:<br>1 0 1<br>0 0 0<br>1 0 1<br><br>The transformation rule here is that the middle cell of each row in the input grid is turned into 0 in the output grid.<br><br>3. Solving the Task:<br><br>Given a new input grid:<br><br>Input Grid:<br>1 1 1<br>1 1 1<br>1 1 1<br><br>We apply the transformation rule we figured out, and get the new output grid:<br><br>Output Grid:<br>1 0 1<br>1 0 1<br>1 0 1<br><br>This is a very simple example. In reality, ARC tasks can be much more complex and require more advanced reasoning abilities.</p>\n",
              "  </body>\n",
              "  </html>\n",
              "  "
            ]
          },
          "metadata": {}
        },
        {
          "output_type": "display_data",
          "data": {
            "text/plain": [
              "<IPython.core.display.HTML object>"
            ],
            "text/html": [
              "\n",
              "  <!DOCTYPE html>\n",
              "  <html>\n",
              "  <head>\n",
              "      <title>Big-bench Tasks</title>\n",
              "      <style>\n",
              "        p {\n",
              "            max-width: 600px;\n",
              "        }\n",
              "    </style>\n",
              "  </head>\n",
              "  <body>\n",
              "      <h1>Identify whether a given statement contains an anachronism</h1>\n",
              "      <p>1. Explanation:<br>An anachronism is a chronological inconsistency in some arrangement, especially a juxtaposition of person(s), events, objects, language terms and customs from different time periods. In the context of Natural Language Processing (NLP), identifying an anachronism in a given statement would involve determining if the statement contains elements that belong to different time periods, which would not logically or historically coexist.<br><br>2. Example:<br>Consider the following statement: \"In 1920, John sent an email to his friend.\"<br><br>3. Solution:<br>In this statement, the action \"John sent an email to his friend\" is an anachronism. The reason is that email did not exist in 1920. The first email system was developed in the early 1970s, so it would be historically inaccurate for someone to send an email in 1920. Therefore, this statement contains an anachronism.</p>\n",
              "  </body>\n",
              "  </html>\n",
              "  "
            ]
          },
          "metadata": {}
        },
        {
          "output_type": "display_data",
          "data": {
            "text/plain": [
              "<IPython.core.display.HTML object>"
            ],
            "text/html": [
              "\n",
              "  <!DOCTYPE html>\n",
              "  <html>\n",
              "  <head>\n",
              "      <title>Big-bench Tasks</title>\n",
              "      <style>\n",
              "        p {\n",
              "            max-width: 600px;\n",
              "        }\n",
              "    </style>\n",
              "  </head>\n",
              "  <body>\n",
              "      <h1>Identify the type of analogy between two events</h1>\n",
              "      <p>1. Explanation of the Task:<br><br>The task of identifying the type of analogy between two events involves understanding the relationship between two different situations or events and categorizing the type of analogy. An analogy is a comparison between two things, typically for the purpose of explanation or clarification. It is a cognitive process of transferring information or meaning from a particular subject to another. In the context of two events, the analogy could be based on similarities in structure, purpose, outcome, or other factors.<br><br>2. Example:<br><br>Event 1: A seed falling on fertile ground, germinating, and growing into a tree.<br>Event 2: A child being nurtured in a supportive environment and growing up to be a successful adult.<br><br>3. Solution:<br><br>The type of analogy between these two events is \"Functional Analogy\". This is because both events involve a process of growth and development that is facilitated by a nurturing environment. In both cases, the seed and the child start off small and vulnerable, but with the right conditions and care, they are able to grow and flourish. The seed becomes a tree, and the child becomes a successful adult. The function or process in both events is similar, hence it is a functional analogy.</p>\n",
              "  </body>\n",
              "  </html>\n",
              "  "
            ]
          },
          "metadata": {}
        },
        {
          "output_type": "display_data",
          "data": {
            "text/plain": [
              "<IPython.core.display.HTML object>"
            ],
            "text/html": [
              "\n",
              "  <!DOCTYPE html>\n",
              "  <html>\n",
              "  <head>\n",
              "      <title>Big-bench Tasks</title>\n",
              "      <style>\n",
              "        p {\n",
              "            max-width: 600px;\n",
              "        }\n",
              "    </style>\n",
              "  </head>\n",
              "  <body>\n",
              "      <h1>Identify whether one sentence entails the next</h1>\n",
              "      <p>1. Explanation:<br>The task you're referring to is known as Natural Language Inference (NLI), also known as Textual Entailment. It is a subtask of Natural Language Processing (NLP) that involves determining if a given statement (the \"hypothesis\") can logically be inferred from another statement (the \"premise\"). There are typically three possible outcomes: the hypothesis can be entailed by the premise, it can contradict the premise, or it can be neutral (neither entailed nor contradicted).<br><br>2. Example:<br>Let's take two sentences:<br>Premise: \"The man is eating a piece of fruit.\"<br>Hypothesis: \"The man is eating.\"<br><br>3. Solution:<br>In this case, the hypothesis \"The man is eating\" is entailed by the premise \"The man is eating a piece of fruit.\" This is because if the man is eating a piece of fruit, it is necessarily true that he is eating.</p>\n",
              "  </body>\n",
              "  </html>\n",
              "  "
            ]
          },
          "metadata": {}
        },
        {
          "output_type": "display_data",
          "data": {
            "text/plain": [
              "<IPython.core.display.HTML object>"
            ],
            "text/html": [
              "\n",
              "  <!DOCTYPE html>\n",
              "  <html>\n",
              "  <head>\n",
              "      <title>Big-bench Tasks</title>\n",
              "      <style>\n",
              "        p {\n",
              "            max-width: 600px;\n",
              "        }\n",
              "    </style>\n",
              "  </head>\n",
              "  <body>\n",
              "      <h1>Perform the four basic arithmetic operations</h1>\n",
              "      <p>1. Explanation:<br>The task you mentioned is not directly related to Natural Language Processing (NLP). However, in the context of NLP, this could be interpreted as extracting numerical values and arithmetic operators from a text and then performing the corresponding arithmetic operations. <br><br>2. Example:<br>Let's consider the following sentence: \"John has 7 apples, he buys 3 more, and then gives 2 to his friend. How many apples does John have now?\"<br><br>3. Solution:<br>First, we need to extract the numerical values and the operations from the sentence. We can do this by tokenizing the sentence and identifying the numbers and arithmetic operations.<br><br>Tokens: ['John', 'has', '7', 'apples', 'he', 'buys', '3', 'more', 'and', 'then', 'gives', '2', 'to', 'his', 'friend', 'How', 'many', 'apples', 'does', 'John', 'have', 'now']<br><br>Numbers: [7, 3, 2]<br>Operations: ['buys', 'gives']<br><br>Next, we map the operations to their corresponding arithmetic operations:<br>'buys' -> addition (+)<br>'gives' -> subtraction (-)<br><br>Finally, we perform the arithmetic operations in the order they appear:<br>John's apples = 7 (initial number of apples)<br>John's apples = 7 + 3 (John buys 3 more apples)<br>John's apples = 10 - 2 (John gives 2 apples to his friend)<br><br>So, John has 8 apples now.</p>\n",
              "  </body>\n",
              "  </html>\n",
              "  "
            ]
          },
          "metadata": {}
        },
        {
          "output_type": "display_data",
          "data": {
            "text/plain": [
              "<IPython.core.display.HTML object>"
            ],
            "text/html": [
              "\n",
              "  <!DOCTYPE html>\n",
              "  <html>\n",
              "  <head>\n",
              "      <title>Big-bench Tasks</title>\n",
              "      <style>\n",
              "        p {\n",
              "            max-width: 600px;\n",
              "        }\n",
              "    </style>\n",
              "  </head>\n",
              "  <body>\n",
              "      <h1>Identify the word displayed as ASCII art</h1>\n",
              "      <p>1. Explanation:<br>The task of identifying a word displayed as ASCII art involves interpreting a visual representation of text that is created using printable characters from the ASCII standard. ASCII art is a graphic design technique that uses printable characters to create images and designs. In this task, the goal is to identify the word or words that are represented in the ASCII art.<br><br>2. Example:<br>Let's take a simple ASCII art example:<br><br>```<br>H   H  EEEEE  L      L      OOO  <br>H   H  E      L      L     O   O <br>HHHHH  EEEEE  L      L     O   O <br>H   H  E      L      L     O   O <br>H   H  EEEEE  LLLLL  LLLLL  OOO  <br>```<br><br>3. Solution:<br>By visually interpreting the ASCII art, we can see that the word represented is \"HELLO\".</p>\n",
              "  </body>\n",
              "  </html>\n",
              "  "
            ]
          },
          "metadata": {}
        },
        {
          "output_type": "display_data",
          "data": {
            "text/plain": [
              "<IPython.core.display.HTML object>"
            ],
            "text/html": [
              "\n",
              "  <!DOCTYPE html>\n",
              "  <html>\n",
              "  <head>\n",
              "      <title>Big-bench Tasks</title>\n",
              "      <style>\n",
              "        p {\n",
              "            max-width: 600px;\n",
              "        }\n",
              "    </style>\n",
              "  </head>\n",
              "  <body>\n",
              "      <h1>Identify which of the text passages given as choices was written by the same author as the text passage given as the reference</h1>\n",
              "      <p>1. Explanation:<br><br>The task you're referring to is known as Authorship Attribution or Author Identification. This is a subfield of Natural Language Processing (NLP) that involves determining the author of a given text based on stylistic and linguistic features. These features can include word usage, sentence structure, punctuation, and other elements of writing style. Machine learning algorithms are often used to analyze these features and make predictions about authorship.<br><br>2. Example:<br><br>Let's say we have a reference text written by Author A and three other text passages. Our task is to identify which of these three passages was also written by Author A.<br><br>Reference Text (Author A): \"It was a bright cold day in April, and the clocks were striking thirteen.\"<br><br>Text Passage 1: \"It was the best of times, it was the worst of times.\"<br>Text Passage 2: \"It was a bright warm day in May, and the clocks were striking one.\"<br>Text Passage 3: \"In a hole in the ground there lived a hobbit.\"<br><br>3. Solution:<br><br>To solve this, we would first need to extract features from the reference text and the other text passages. These features could include things like the average sentence length, the use of adjectives, the use of specific words or phrases, etc.<br><br>Next, we would use a machine learning algorithm to analyze these features and make a prediction about which text passage is most similar to the reference text in terms of these features.<br><br>In this case, Text Passage 2 seems to be the most similar to the reference text, as it uses a similar sentence structure and similar words. However, a more accurate prediction could be made using a machine learning algorithm and a larger dataset.</p>\n",
              "  </body>\n",
              "  </html>\n",
              "  "
            ]
          },
          "metadata": {}
        },
        {
          "output_type": "display_data",
          "data": {
            "text/plain": [
              "<IPython.core.display.HTML object>"
            ],
            "text/html": [
              "\n",
              "  <!DOCTYPE html>\n",
              "  <html>\n",
              "  <head>\n",
              "      <title>Big-bench Tasks</title>\n",
              "      <style>\n",
              "        p {\n",
              "            max-width: 600px;\n",
              "        }\n",
              "    </style>\n",
              "  </head>\n",
              "  <body>\n",
              "      <h1>Identify a broad class given several examples from that class</h1>\n",
              "      <p>1. Explanation:<br>The task you're referring to is a typical classification problem in Natural Language Processing (NLP) and Machine Learning. Given several examples from a particular class, the task is to train a model that can correctly identify or predict the broad class of new, unseen examples. This is often achieved through supervised learning, where a model is trained on a labeled dataset (i.e., a dataset where each example is associated with a class label), and then used to predict the class labels of new examples.<br><br>2. Example:<br>Let's consider a simple text classification problem where we have three broad classes: Sports, Politics, and Technology. We have several examples from each class as follows:<br><br>- Sports: \"The football team won the match.\", \"The tennis player secured a grand slam.\", \"The basketball team lost the game.\"<br>- Politics: \"The president announced new policies.\", \"The election results were surprising.\", \"The senator proposed a new bill.\"<br>- Technology: \"The new smartphone has impressive features.\", \"The tech company launched a new product.\", \"The latest software update includes several bug fixes.\"<br><br>3. Solution:<br>To solve this problem, we would typically follow these steps:<br><br>- Preprocessing: Clean the text data by removing punctuation, converting all text to lower case, removing stop words, and so on.<br>- Feature Extraction: Convert the text data into numerical features that can be used by a machine learning model. This could be done using techniques like Bag of Words, TF-IDF, or word embeddings.<br>- Model Training: Use a machine learning algorithm to train a model on the preprocessed and transformed data. This could be a traditional algorithm like Naive Bayes or SVM, or a more complex model like a neural network.<br>- Prediction: Use the trained model to predict the class of new, unseen examples.<br><br>For instance, given a new sentence like \"The team won the championship.\", the model should be able to predict that this sentence belongs to the \"Sports\" class.</p>\n",
              "  </body>\n",
              "  </html>\n",
              "  "
            ]
          },
          "metadata": {}
        },
        {
          "output_type": "display_data",
          "data": {
            "text/plain": [
              "<IPython.core.display.HTML object>"
            ],
            "text/html": [
              "\n",
              "  <!DOCTYPE html>\n",
              "  <html>\n",
              "  <head>\n",
              "      <title>Big-bench Tasks</title>\n",
              "      <style>\n",
              "        p {\n",
              "            max-width: 600px;\n",
              "        }\n",
              "    </style>\n",
              "  </head>\n",
              "  <body>\n",
              "      <h1>Answer questions about a Python 3.7 program's intermediate state</h1>\n",
              "      <p>1. Explanation:<br><br>The task you're referring to is a form of program synthesis and understanding, which is a subfield of artificial intelligence and natural language processing. The goal is to understand the intermediate state of a Python 3.7 program. This involves understanding the state of variables, the control flow, and the data structures at any given point in the program's execution. This is a complex task that requires a deep understanding of programming concepts, Python syntax, and the ability to reason about program execution.<br><br>2. Example:<br><br>Let's consider a simple Python program:<br><br>```python<br>def calculate_sum(n):<br>    sum = 0<br>    for i in range(1, n+1):<br>        sum += i<br>    return sum<br><br>print(calculate_sum(5))<br>```<br><br>3. Solution:<br><br>In this program, we define a function `calculate_sum(n)` that calculates the sum of all numbers from 1 to `n`. We then call this function with the argument `5` and print the result.<br><br>The intermediate states of the program would be as follows:<br><br>- Before the function is called, the only variable in scope is the function `calculate_sum`.<br>- When the function is called with `n=5`, a new scope is created for the function. In this scope, the variables are `n`, `sum`, and `i`.<br>- The variable `sum` is initialized to `0`.<br>- The `for` loop starts with `i=1`. `sum` becomes `0+1=1`.<br>- The loop continues with `i=2`. `sum` becomes `1+2=3`.<br>- The loop continues with `i=3`. `sum` becomes `3+3=6`.<br>- The loop continues with `i=4`. `sum` becomes `6+4=10`.<br>- The loop continues with `i=5`. `sum` becomes `10+5=15`.<br>- The loop ends because `i` has reached `n`.<br>- The function returns the value of `sum`, which is `15`.<br>- This returned value is printed, so `15` is displayed on the console.<br><br>So, the intermediate state of the program changes with each iteration of the loop, and at the end of the function execution.</p>\n",
              "  </body>\n",
              "  </html>\n",
              "  "
            ]
          },
          "metadata": {}
        },
        {
          "output_type": "display_data",
          "data": {
            "text/plain": [
              "<IPython.core.display.HTML object>"
            ],
            "text/html": [
              "\n",
              "  <!DOCTYPE html>\n",
              "  <html>\n",
              "  <head>\n",
              "      <title>Big-bench Tasks</title>\n",
              "      <style>\n",
              "        p {\n",
              "            max-width: 600px;\n",
              "        }\n",
              "    </style>\n",
              "  </head>\n",
              "  <body>\n",
              "      <h1>Answer questions designed to probe social biases</h1>\n",
              "      <p>1. Explanation of the Task:<br><br>The task of answering questions designed to probe social biases involves using Natural Language Processing (NLP) to identify, understand, and respond to questions that are aimed at uncovering biases in social contexts. This could involve biases related to race, gender, age, religion, etc. The goal is to use NLP to not only understand the language and context of the questions but also to identify the underlying biases they may be trying to expose. This task is complex and challenging because it requires a deep understanding of both language and societal issues.<br><br>2. Example:<br><br>Let's consider a question: \"Why are women not as successful as men in tech industries?\"<br><br>3. Solution:<br><br>This question assumes that women are not as successful as men in tech industries, which is a bias in itself. An NLP model trained to identify and respond to such questions could answer in the following way:<br><br>\"Your question seems to be based on a common stereotype that women are not as successful as men in tech industries. However, it's important to note that success can't be generalized across a whole gender or industry. There are many successful women in tech. The issue might be better framed around the barriers and challenges that women face in the tech industry, such as gender discrimination and lack of representation, which can impact their opportunities and visibility.\"</p>\n",
              "  </body>\n",
              "  </html>\n",
              "  "
            ]
          },
          "metadata": {}
        },
        {
          "output_type": "display_data",
          "data": {
            "text/plain": [
              "<IPython.core.display.HTML object>"
            ],
            "text/html": [
              "\n",
              "  <!DOCTYPE html>\n",
              "  <html>\n",
              "  <head>\n",
              "      <title>Big-bench Tasks</title>\n",
              "      <style>\n",
              "        p {\n",
              "            max-width: 600px;\n",
              "        }\n",
              "    </style>\n",
              "  </head>\n",
              "  <body>\n",
              "      <h1>A social bias measurement task for multiple choice question answering models</h1>\n",
              "      <p>1. Explanation of the Task:<br><br>A social bias measurement task for multiple choice question answering models is a task that aims to evaluate the extent to which these models may exhibit social bias in their responses. Social bias in AI models refers to the unfair and unequal treatment of certain social groups over others, which can be based on factors like race, gender, age, or religion. This bias often stems from the training data used to train these models, which may contain inherent biases present in human society. <br><br>The task involves creating a set of multiple-choice questions that are designed to reveal any potential biases in the model's responses. For example, the questions could be designed to test whether the model favors male names over female names, or whether it associates certain jobs with certain genders or races. The model's responses to these questions are then analyzed to measure the extent of its social bias.<br><br>2. Example:<br><br>Let's consider a simple example. We have a multiple-choice question:<br><br>\"Who is more likely to be a nurse?\"<br>a) John<br>b) Mary<br><br>3. Solving the Example:<br><br>In an ideal scenario, a model that is free of social bias should not associate the profession of nursing with a particular gender. Therefore, it should not favor either 'John' or 'Mary' as being more likely to be a nurse. <br><br>However, if the model has been trained on biased data, it might associate nursing with females and therefore choose 'Mary'. This would indicate a gender bias in the model. <br><br>To solve this, we would need to retrain the model on more balanced data, and implement techniques to reduce bias in the model's predictions. This could involve techniques like bias mitigation algorithms, or using more diverse and representative training data.</p>\n",
              "  </body>\n",
              "  </html>\n",
              "  "
            ]
          },
          "metadata": {}
        },
        {
          "output_type": "display_data",
          "data": {
            "text/plain": [
              "<IPython.core.display.HTML object>"
            ],
            "text/html": [
              "\n",
              "  <!DOCTYPE html>\n",
              "  <html>\n",
              "  <head>\n",
              "      <title>Big-bench Tasks</title>\n",
              "      <style>\n",
              "        p {\n",
              "            max-width: 600px;\n",
              "        }\n",
              "    </style>\n",
              "  </head>\n",
              "  <body>\n",
              "      <h1>Answer questions designed to measure biases by varying target attributes</h1>\n",
              "      <p>1. Explanation:<br>The task you're referring to is about measuring biases in Natural Language Processing (NLP) systems. This is often done by creating questions or statements that vary target attributes, such as gender, race, age, etc., and then analyzing the system's responses. The goal is to identify if the system is showing any bias towards certain attributes. For example, if an AI system consistently associates positive attributes with male names and negative attributes with female names, it would be demonstrating gender bias.<br><br>2. Example:<br>Let's take an example of a simple question-answering system. We can test it for gender bias by asking it to complete sentences that vary only in the gender of the subject. For instance:<br><br>a) \"John is a nurse. He is very _______.\"<br>b) \"Jane is a nurse. She is very _______.\"<br><br>3. Solution:<br>To solve this, we would input these sentences into the system and analyze the adjectives it uses to complete the sentences. If the system consistently uses positive adjectives for John and negative ones for Jane, it would indicate a gender bias. <br><br>However, it's important to note that identifying bias is just the first step. The more complex task is to correct these biases, which often involves retraining the system with a more balanced dataset and implementing mechanisms to ensure fairness in the system's responses.</p>\n",
              "  </body>\n",
              "  </html>\n",
              "  "
            ]
          },
          "metadata": {}
        },
        {
          "output_type": "display_data",
          "data": {
            "text/plain": [
              "<IPython.core.display.HTML object>"
            ],
            "text/html": [
              "\n",
              "  <!DOCTYPE html>\n",
              "  <html>\n",
              "  <head>\n",
              "      <title>Big-bench Tasks</title>\n",
              "      <style>\n",
              "        p {\n",
              "            max-width: 600px;\n",
              "        }\n",
              "    </style>\n",
              "  </head>\n",
              "  <body>\n",
              "      <h1>Evaluate the result of a random Boolean expression</h1>\n",
              "      <p>1. Explanation:<br>Evaluating the result of a random Boolean expression is a task that involves determining the truth value of the expression. Boolean expressions are mathematical expressions that can only result in either true or false. They are composed of Boolean variables and operators like AND, OR, and NOT. <br><br>2. Example:<br>Let's consider a random Boolean expression: (True AND False) OR (NOT False)<br><br>3. Solution:<br>To solve this, we need to follow the rules of Boolean algebra. <br><br>- The AND operator returns True if both operands are True, otherwise it returns False.<br>- The OR operator returns True if at least one of the operands is True, otherwise it returns False.<br>- The NOT operator returns the opposite of the operand.<br><br>So, let's break down the expression:<br><br>- (True AND False) = False, because one of the operands is False.<br>- (NOT False) = True, because NOT changes the False to True.<br><br>Now, substitute these results back into the original expression:<br><br>- False OR True = True, because one of the operands is True.<br><br>So, the result of the Boolean expression (True AND False) OR (NOT False) is True.</p>\n",
              "  </body>\n",
              "  </html>\n",
              "  "
            ]
          },
          "metadata": {}
        },
        {
          "output_type": "display_data",
          "data": {
            "text/plain": [
              "<IPython.core.display.HTML object>"
            ],
            "text/html": [
              "\n",
              "  <!DOCTYPE html>\n",
              "  <html>\n",
              "  <head>\n",
              "      <title>Big-bench Tasks</title>\n",
              "      <style>\n",
              "        p {\n",
              "            max-width: 600px;\n",
              "        }\n",
              "    </style>\n",
              "  </head>\n",
              "  <body>\n",
              "      <h1>An indirect anaphora resolution task that is cast as a context dependent question answering problem</h1>\n",
              "      <p>1. Explanation:<br>Anaphora resolution is a task in Natural Language Processing (NLP) that involves finding the referents of anaphoric expressions in text. Anaphoric expressions are words or phrases that refer back to other words or phrases in the context, such as pronouns referring to nouns mentioned earlier. Indirect anaphora is a type of anaphora where the anaphoric expression does not directly refer to its antecedent but instead refers to something related to it.<br><br>When this task is cast as a context-dependent question answering problem, the goal is to answer questions about a text where the answer depends on understanding the anaphoric expressions in the context. The system needs to understand the context, identify the anaphoric expressions, find their referents, and use this information to answer the question.<br><br>2. Example:<br>Consider the following text: \"John went to the park. He brought his dog with him. It was a sunny day.\"<br><br>And the following question: \"Who brought his dog to the park?\"<br><br>3. Solution:<br>To solve this task, the system would first need to identify the anaphoric expressions in the question and the text. In this case, \"his\" in the question is an anaphoric expression referring to \"John\" in the text. <br><br>Next, the system would need to find the referents of these anaphoric expressions. In this case, \"his\" refers to \"John\".<br><br>Finally, the system would use this information to answer the question. In this case, the answer is \"John\".</p>\n",
              "  </body>\n",
              "  </html>\n",
              "  "
            ]
          },
          "metadata": {}
        },
        {
          "output_type": "display_data",
          "data": {
            "text/plain": [
              "<IPython.core.display.HTML object>"
            ],
            "text/html": [
              "\n",
              "  <!DOCTYPE html>\n",
              "  <html>\n",
              "  <head>\n",
              "      <title>Big-bench Tasks</title>\n",
              "      <style>\n",
              "        p {\n",
              "            max-width: 600px;\n",
              "        }\n",
              "    </style>\n",
              "  </head>\n",
              "  <body>\n",
              "      <h1>Answer questions about causal attribution</h1>\n",
              "      <p>1. Explanation:<br>Causal attribution in Natural Language Processing (NLP) refers to the task of identifying and understanding the cause-effect relationships in a given text. It involves determining what events, actions, or conditions cause certain outcomes. This task is crucial in various fields such as information extraction, text summarization, and question answering systems.<br><br>2. Example:<br>Let's consider a simple text: \"John forgot his umbrella. As a result, he got wet in the rain.\"<br><br>3. Solution:<br>In this example, the task of causal attribution would involve identifying the cause and effect. The cause is \"John forgot his umbrella\" and the effect is \"he got wet in the rain\". The causal relationship is indicated by the phrase \"As a result,\" which connects the cause and effect. Therefore, if asked a question like \"Why did John get wet in the rain?\", the answer derived from the causal attribution would be \"Because he forgot his umbrella\".</p>\n",
              "  </body>\n",
              "  </html>\n",
              "  "
            ]
          },
          "metadata": {}
        },
        {
          "output_type": "display_data",
          "data": {
            "text/plain": [
              "<IPython.core.display.HTML object>"
            ],
            "text/html": [
              "\n",
              "  <!DOCTYPE html>\n",
              "  <html>\n",
              "  <head>\n",
              "      <title>Big-bench Tasks</title>\n",
              "      <style>\n",
              "        p {\n",
              "            max-width: 600px;\n",
              "        }\n",
              "    </style>\n",
              "  </head>\n",
              "  <body>\n",
              "      <h1>Answer multiple-choice questions distinguishing cause and effect</h1>\n",
              "      <p>1. Explanation:<br>Answering multiple-choice questions distinguishing cause and effect is a task that involves understanding the relationship between different elements in a text. The cause is the reason why something happens, and the effect is what happens as a result. In Natural Language Processing (NLP), this task would involve training a model to understand and identify these relationships in a given text.<br><br>2. Example:<br>Let's consider a multiple-choice question:<br><br>\"Why did the Titanic sink?\"<br><br>A) It hit an iceberg.<br>B) It was too big.<br>C) The crew was inexperienced.<br>D) There were too many passengers.<br><br>3. Solution:<br>In this case, the cause of the Titanic sinking was that it hit an iceberg (Option A). The size of the ship, the experience of the crew, or the number of passengers did not directly cause the ship to sink. Therefore, an NLP model trained to identify cause and effect relationships should be able to correctly identify option A as the cause of the sinking of the Titanic. <br><br>This task would typically involve using techniques such as text classification, where the model is trained on a large number of similar questions and their correct answers. Over time, the model learns to identify the cause and effect relationships in the text and can then apply this knowledge to new, unseen questions.</p>\n",
              "  </body>\n",
              "  </html>\n",
              "  "
            ]
          },
          "metadata": {}
        },
        {
          "output_type": "display_data",
          "data": {
            "text/plain": [
              "<IPython.core.display.HTML object>"
            ],
            "text/html": [
              "\n",
              "  <!DOCTYPE html>\n",
              "  <html>\n",
              "  <head>\n",
              "      <title>Big-bench Tasks</title>\n",
              "      <style>\n",
              "        p {\n",
              "            max-width: 600px;\n",
              "        }\n",
              "    </style>\n",
              "  </head>\n",
              "  <body>\n",
              "      <h1>Find a move in the chess position resulting in checkmate</h1>\n",
              "      <p>As an AI developed by OpenAI, I specialize in Natural Language Processing (NLP), which involves understanding, interpreting, and generating human language in a valuable way. The task you've asked about, finding a move in a chess position resulting in checkmate, is more related to game theory and artificial intelligence, specifically in the field of decision-making algorithms.<br><br>However, I can still provide an example and solve it:<br><br>Let's consider a simple position where we have a king on H8, a queen on E5, and the opponent's king on H7. The task is to find a move that results in checkmate.<br><br>Solution: The queen can move to E7. This move puts the opponent's king in checkmate, as it cannot move to any square that is not under attack.</p>\n",
              "  </body>\n",
              "  </html>\n",
              "  "
            ]
          },
          "metadata": {}
        },
        {
          "output_type": "display_data",
          "data": {
            "text/plain": [
              "<IPython.core.display.HTML object>"
            ],
            "text/html": [
              "\n",
              "  <!DOCTYPE html>\n",
              "  <html>\n",
              "  <head>\n",
              "      <title>Big-bench Tasks</title>\n",
              "      <style>\n",
              "        p {\n",
              "            max-width: 600px;\n",
              "        }\n",
              "    </style>\n",
              "  </head>\n",
              "  <body>\n",
              "      <h1>Identify legal moves in the given chess position</h1>\n",
              "      <p>I'm sorry for any confusion, but identifying legal moves in a given chess position is not a task related to Natural Language Processing (NLP). NLP is a field of artificial intelligence that focuses on the interaction between computers and humans through natural language. The ultimate objective of NLP is to read, decipher, understand, and make sense of the human language in a valuable way.<br><br>However, I can provide a brief explanation of how you might approach identifying legal moves in a given chess position. <br><br>1. Explanation: <br>   In chess, the legal moves depend on the type of piece (pawn, rook, knight, bishop, queen, king) and its current position on the board. For example, a rook can move any number of squares along a rank or file, but cannot leap over other pieces. A bishop can move any number of squares diagonally, but cannot leap over other pieces. <br><br>2. Example: <br>   Let's consider a simple scenario where we have a king at position E1 and a rook at position A1. <br><br>3. Solution: <br>   The king at E1 can move to D1, D2, E2, or F1. The rook at A1 can move to any position along the A file (A2, A3, A4, etc. up to A8) or any position along the 1 rank (B1, C1, D1, etc. up to H1). <br><br>Please note that this is a simplified example and actual chess rules include more complex situations like castling, en passant, and pawn promotion. Also, the legal moves can be limited by the position of the opponent's pieces.</p>\n",
              "  </body>\n",
              "  </html>\n",
              "  "
            ]
          },
          "metadata": {}
        },
        {
          "output_type": "display_data",
          "data": {
            "text/plain": [
              "<IPython.core.display.HTML object>"
            ],
            "text/html": [
              "\n",
              "  <!DOCTYPE html>\n",
              "  <html>\n",
              "  <head>\n",
              "      <title>Big-bench Tasks</title>\n",
              "      <style>\n",
              "        p {\n",
              "            max-width: 600px;\n",
              "        }\n",
              "    </style>\n",
              "  </head>\n",
              "  <body>\n",
              "      <h1>Solve basic number theory problems generated by the Chinese remainder theorem</h1>\n",
              "      <p>The Chinese Remainder Theorem (CRT) is a number theory concept, not a Natural Language Processing (NLP) task. However, I can explain it and provide an example.<br><br>The Chinese Remainder Theorem is a theorem of number theory which gives a unique solution to simultaneous linear congruences with coprime moduli. In simpler terms, if given several numbers, each known to leave a different remainder when divided by a certain number, the theorem allows you to determine a unique number that leaves the same set of remainders when divided by the same numbers.<br><br>Example:<br>Let's consider the following system of congruences:<br><br>x ≡ 1 (mod 3)<br>x ≡ 2 (mod 4)<br>x ≡ 3 (mod 5)<br><br>To solve this, we first calculate the product of the moduli (N = 3*4*5 = 60). Then, for each congruence, we calculate Ni (N divided by the modulus of the congruence) and the multiplicative inverse of Ni modulo the modulus of the congruence.<br><br>For the first congruence, N1 = N/3 = 60/3 = 20. The multiplicative inverse of 20 modulo 3 is 2 (because 20*2 = 40 ≡ 1 (mod 3)).<br><br>For the second congruence, N2 = N/4 = 60/4 = 15. The multiplicative inverse of 15 modulo 4 is 3 (because 15*3 = 45 ≡ 1 (mod 4)).<br><br>For the third congruence, N3 = N/5 = 60/5 = 12. The multiplicative inverse of 12 modulo 5 is 1 (because 12*1 = 12 ≡ 1 (mod 5)).<br><br>Finally, we calculate x by adding up the product of the remainder, Ni, and the multiplicative inverse for each congruence, and then taking that sum modulo N:<br><br>x = (1*20*2 + 2*15*3 + 3*12*1) mod 60 = (40 + 90 + 36) mod 60 = 166 mod 60 = 46.<br><br>So, x = 46 is the solution to the system of congruences.</p>\n",
              "  </body>\n",
              "  </html>\n",
              "  "
            ]
          },
          "metadata": {}
        },
        {
          "output_type": "display_data",
          "data": {
            "text/plain": [
              "<IPython.core.display.HTML object>"
            ],
            "text/html": [
              "\n",
              "  <!DOCTYPE html>\n",
              "  <html>\n",
              "  <head>\n",
              "      <title>Big-bench Tasks</title>\n",
              "      <style>\n",
              "        p {\n",
              "            max-width: 600px;\n",
              "        }\n",
              "    </style>\n",
              "  </head>\n",
              "  <body>\n",
              "      <h1>Give an English language description of Python code</h1>\n",
              "      <p>1. Explanation of the Task:<br><br>The task is to provide an English language description of a given Python code. This involves understanding the functionality of the Python code and then describing it in simple, non-technical English language. This is a common task in code documentation and is crucial for ensuring that the code can be understood and maintained by others.<br><br>2. Example:<br><br>Let's take a simple Python code as an example:<br><br>```python<br>def add_numbers(a, b):<br>    return a + b<br><br>result = add_numbers(5, 3)<br>print(result)<br>```<br><br>3. Solution:<br><br>The given Python code defines a function called `add_numbers` that takes two inputs, `a` and `b`. This function returns the sum of `a` and `b`. <br><br>After defining the function, the code calls this function with the numbers 5 and 3 as inputs and stores the result in a variable called `result`. <br><br>Finally, it prints the value of `result` to the console. In this case, the output would be 8, because 5 plus 3 equals 8.</p>\n",
              "  </body>\n",
              "  </html>\n",
              "  "
            ]
          },
          "metadata": {}
        },
        {
          "output_type": "display_data",
          "data": {
            "text/plain": [
              "<IPython.core.display.HTML object>"
            ],
            "text/html": [
              "\n",
              "  <!DOCTYPE html>\n",
              "  <html>\n",
              "  <head>\n",
              "      <title>Big-bench Tasks</title>\n",
              "      <style>\n",
              "        p {\n",
              "            max-width: 600px;\n",
              "        }\n",
              "    </style>\n",
              "  </head>\n",
              "  <body>\n",
              "      <h1>Identify words associated with a given word</h1>\n",
              "      <p>1. Explanation:<br>The task you're referring to is often known as \"Word Association\" or \"Semantic Similarity\". This is a common task in Natural Language Processing (NLP) where the goal is to identify words that are closely related or associated with a given word. These associations can be based on semantic similarity, co-occurrence in the same context, or any other relation that brings words together. <br><br>For instance, if the given word is \"apple\", the associated words could be \"fruit\", \"tree\", \"pie\", \"juice\", etc. These words are associated with \"apple\" either because they are semantically similar (like \"fruit\") or because they often occur in the same context (like \"pie\").<br><br>2. Example:<br>Let's take the word \"dog\". We want to find words that are associated with \"dog\".<br><br>3. Solution:<br>To solve this, we can use a pre-trained word embedding model like Word2Vec or GloVe, which captures semantic similarity based on the context in which words appear. These models represent words as vectors in a high-dimensional space, where the distance and direction between vectors indicate their similarity.<br><br>Here's a simple Python code using the Gensim library to find words associated with \"dog\" using a pre-trained Word2Vec model:<br><br>```python<br>from gensim.models import KeyedVectors<br><br># Load pre-trained Word2Vec model<br>model = KeyedVectors.load_word2vec_format('GoogleNews-vectors-negative300.bin', binary=True)<br><br># Find the top 10 words associated with \"dog\"<br>associated_words = model.most_similar('dog', topn=10)<br><br>for word, similarity in associated_words:<br>    print(word, similarity)<br>```<br><br>This will output the top 10 words most similar to \"dog\" according to the Word2Vec model, along with their similarity scores. The higher the score, the more closely the word is associated with \"dog\".</p>\n",
              "  </body>\n",
              "  </html>\n",
              "  "
            ]
          },
          "metadata": {}
        },
        {
          "output_type": "display_data",
          "data": {
            "text/plain": [
              "<IPython.core.display.HTML object>"
            ],
            "text/html": [
              "\n",
              "  <!DOCTYPE html>\n",
              "  <html>\n",
              "  <head>\n",
              "      <title>Big-bench Tasks</title>\n",
              "      <style>\n",
              "        p {\n",
              "            max-width: 600px;\n",
              "        }\n",
              "    </style>\n",
              "  </head>\n",
              "  <body>\n",
              "      <h1>Identify the color specified by the given RGB HEX HSL or HCL encoding</h1>\n",
              "      <p>1. Explanation:<br>The task is about identifying the color specified by the given RGB (Red, Green, Blue), HEX (Hexadecimal), HSL (Hue, Saturation, Lightness), or HCL (Hue, Chroma, Luminance) encoding. These are different color models used in computer graphics and image analysis. <br><br>RGB is an additive color model where red, green, and blue light are added together in various ways to reproduce a broad array of colors. <br><br>HEX is a hexadecimal color code that is used in HTML, CSS, and design software. It is a six-digit combination of numbers and letters defined by its mix of red, green, and blue (RGB).<br><br>HSL stands for hue, saturation, and lightness - and represents a cylindrical-coordinate representation of colors.<br><br>HCL is a color space that is based on CIELAB, and while it is not as widely used as RGB or HSL, it is still used in some software, particularly for data visualization.<br><br>2. Example:<br>Let's take an example of a HEX color code: #FF5733<br><br>3. Solution:<br>The HEX color code #FF5733 represents an RGB color because HEX is just a hexadecimal representation of RGB. The first two characters after the hash represent the red color, the next two - green, and the last two - blue. <br><br>So, in our example, FF is for red, 57 is for green, and 33 is for blue. Converting these hexadecimal values to decimal, we get:<br><br>- Red: FF = 255<br>- Green: 57 = 87<br>- Blue: 33 = 51<br><br>So, the color represented by the HEX code #FF5733 is a color that has RGB values of (255, 87, 51). This color would be a shade of orange.</p>\n",
              "  </body>\n",
              "  </html>\n",
              "  "
            ]
          },
          "metadata": {}
        },
        {
          "output_type": "display_data",
          "data": {
            "text/plain": [
              "<IPython.core.display.HTML object>"
            ],
            "text/html": [
              "\n",
              "  <!DOCTYPE html>\n",
              "  <html>\n",
              "  <head>\n",
              "      <title>Big-bench Tasks</title>\n",
              "      <style>\n",
              "        p {\n",
              "            max-width: 600px;\n",
              "        }\n",
              "    </style>\n",
              "  </head>\n",
              "  <body>\n",
              "      <h1>A multi-domain complementary commonsense reasoning benchmark</h1>\n",
              "      <p>1. Explanation:<br><br>A multi-domain complementary commonsense reasoning benchmark is a task that involves creating a model that can understand and reason about commonsense knowledge across multiple domains. This task is designed to test the model's ability to understand and reason about various types of commonsense knowledge, such as physical, social, and temporal aspects of the world. The model is given a context and a question, and it must use its understanding of commonsense knowledge to answer the question correctly.<br><br>2. Example:<br><br>Let's consider a simple example. <br><br>Context: \"John went to the park. He saw a dog and started running.\"<br><br>Question: \"Why did John start running?\"<br><br>3. Solution:<br><br>To solve this task, the model needs to use its commonsense knowledge to infer that John started running because he saw a dog. This requires understanding that people often run when they see a dog, either because they are scared of dogs, or because they want to play with the dog. The model needs to use this commonsense knowledge to infer the most likely reason for John's behavior.<br><br>Answer: \"John started running because he saw a dog.\"</p>\n",
              "  </body>\n",
              "  </html>\n",
              "  "
            ]
          },
          "metadata": {}
        }
      ],
      "source": [
        "import time\n",
        "\n",
        "counter = 0\n",
        "nb_tasks = nbt\n",
        "for index, row in df.iterrows():\n",
        "    input_text = row['Tasks']                 # the complete prompt\n",
        "    counter += 1                              # task counter\n",
        "    if counter > nb_tasks:\n",
        "        break                                 # nb of tasks\n",
        "    task = openai_chat(input_text)            # model call\n",
        "    task = task.replace('\\n', '<br>')         # formatting the output\n",
        "    parts = input_text.split('Solve it:')     # extracting the task from the input\n",
        "    bb_task = parts[1].strip()                # The strip() function\n",
        "    display_response(input_text, task, bb_task) # displaying the task and response\n",
        "\n",
        "    if counter % 50 == 0:                     # if the counter is divisible by 50\n",
        "        print(f\"Processed {counter} tasks. Pausing for 60 seconds.\")\n",
        "        time.sleep(60)                        # pause for 60 seconds"
      ]
    }
  ],
  "metadata": {
    "colab": {
      "provenance": [],
      "machine_shape": "hm",
      "gpuType": "T4"
    },
    "kernelspec": {
      "display_name": "Python 3",
      "name": "python3"
    },
    "language_info": {
      "name": "python"
    },
    "accelerator": "GPU"
  },
  "nbformat": 4,
  "nbformat_minor": 0
}