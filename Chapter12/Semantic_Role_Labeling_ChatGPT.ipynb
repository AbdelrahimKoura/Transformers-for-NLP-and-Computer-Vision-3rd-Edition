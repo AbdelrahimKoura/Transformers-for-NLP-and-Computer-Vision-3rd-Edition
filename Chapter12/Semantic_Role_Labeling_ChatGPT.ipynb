{
  "cells": [
    {
      "cell_type": "markdown",
      "metadata": {
        "id": "b_QjF04i9neT"
      },
      "source": [
        "#Semantic Role Labeling with ChatGPT, GPT-4\n",
        "\n",
        "Copyright 2024 Denis Rothman, MIT License\n",
        "\n",
        "This notebook shows how to use OpenAI ChatGPT, GPT-4 with the OpenAI API to perform SRL tasks:\n",
        "\n",
        "1. Installing openai and your API key<br>\n",
        "2. ChatGPT(GPT-4) dialog function\n",
        "3. Semantic Role Labeling(SRL)\n",
        "\n",
        "\n"
      ]
    },
    {
      "cell_type": "code",
      "execution_count": null,
      "metadata": {
        "colab": {
          "base_uri": "https://localhost:8080/"
        },
        "id": "lUn5YJeQvy-F",
        "outputId": "c8c1702f-3dcf-4311-85d2-165556045a00"
      },
      "outputs": [
        {
          "name": "stdout",
          "output_type": "stream",
          "text": [
            "Looking in indexes: https://pypi.org/simple, https://us-python.pkg.dev/colab-wheels/public/simple/\n",
            "Requirement already satisfied: pip in /usr/local/lib/python3.10/dist-packages (23.1.2)\n"
          ]
        }
      ],
      "source": [
        "!pip install --upgrade pip"
      ]
    },
    {
      "cell_type": "markdown",
      "metadata": {
        "id": "Y-crABM8l3Xi"
      },
      "source": [
        "#1.Installing openai\n"
      ]
    },
    {
      "cell_type": "markdown",
      "metadata": {
        "id": "ygFUriSCvTNb"
      },
      "source": [
        "## installing and importing openai"
      ]
    },
    {
      "cell_type": "code",
      "execution_count": null,
      "metadata": {
        "colab": {
          "base_uri": "https://localhost:8080/"
        },
        "id": "9G79pIy_Mg5Y",
        "outputId": "16351e43-bc8f-4f58-a375-e2b8523dc29b"
      },
      "outputs": [
        {
          "name": "stdout",
          "output_type": "stream",
          "text": [
            "\u001b[2K     \u001b[90m━━━━━━━━━━━━━━━━━━━━━━━━━━━━━━━━━━━━━━━━\u001b[0m \u001b[32m73.6/73.6 kB\u001b[0m \u001b[31m3.1 MB/s\u001b[0m eta \u001b[36m0:00:00\u001b[0m\n",
            "\u001b[2K     \u001b[90m━━━━━━━━━━━━━━━━━━━━━━━━━━━━━━━━━━━━━━━━\u001b[0m \u001b[32m1.0/1.0 MB\u001b[0m \u001b[31m20.2 MB/s\u001b[0m eta \u001b[36m0:00:00\u001b[0m\n",
            "\u001b[2K     \u001b[90m━━━━━━━━━━━━━━━━━━━━━━━━━━━━━━━━━━━━━━\u001b[0m \u001b[32m114.5/114.5 kB\u001b[0m \u001b[31m12.4 MB/s\u001b[0m eta \u001b[36m0:00:00\u001b[0m\n",
            "\u001b[2K     \u001b[90m━━━━━━━━━━━━━━━━━━━━━━━━━━━━━━━━━━━━━━\u001b[0m \u001b[32m268.8/268.8 kB\u001b[0m \u001b[31m23.4 MB/s\u001b[0m eta \u001b[36m0:00:00\u001b[0m\n",
            "\u001b[2K     \u001b[90m━━━━━━━━━━━━━━━━━━━━━━━━━━━━━━━━━━━━━━\u001b[0m \u001b[32m149.6/149.6 kB\u001b[0m \u001b[31m14.6 MB/s\u001b[0m eta \u001b[36m0:00:00\u001b[0m\n",
            "\u001b[?25h"
          ]
        }
      ],
      "source": [
        "#Importing openai\n",
        "try:\n",
        "  import openai\n",
        "except:\n",
        "  !pip install openai -qq\n",
        "  import OpenAI"
      ]
    },
    {
      "cell_type": "markdown",
      "metadata": {
        "id": "R7YHxHaLmAEi"
      },
      "source": [
        "##API Key"
      ]
    },
    {
      "cell_type": "code",
      "execution_count": null,
      "metadata": {
        "colab": {
          "base_uri": "https://localhost:8080/"
        },
        "id": "Eb6gFplQqU5v",
        "outputId": "10d229e9-33ca-4318-c717-5a1be0683a7a"
      },
      "outputs": [
        {
          "name": "stdout",
          "output_type": "stream",
          "text": [
            "Mounted at /content/drive\n"
          ]
        }
      ],
      "source": [
        "#2.API Key\n",
        "#Store you key in a file and read it(you can type it directly in the notebook but it will be visible for somebody next to you)\n",
        "from google.colab import drive\n",
        "drive.mount('/content/drive')\n",
        "f = open(\"drive/MyDrive/files/api_key.txt\", \"r\")\n",
        "API_KEY=f.readline()\n",
        "f.close()\n",
        "\n",
        "#The OpenAI Key\n",
        "import os\n",
        "os.environ['OPENAI_API_KEY'] =API_KEY\n",
        "openai.api_key = os.getenv(\"OPENAI_API_KEY\")\n"
      ]
    },
    {
      "cell_type": "markdown",
      "metadata": {
        "id": "U03EQHLtmZLl"
      },
      "source": [
        "# ChatGPT(GPT-4) dialog function\n"
      ]
    },
    {
      "cell_type": "markdown",
      "metadata": {
        "id": "1moBmYTVp-ih"
      },
      "source": [
        "Preparing the NLP prompt message"
      ]
    },
    {
      "cell_type": "code",
      "execution_count": null,
      "metadata": {
        "id": "wl_ih8tPqebL"
      },
      "outputs": [],
      "source": [
        " def dialog(uinput):\n",
        "   #preparing the prompt for OpenAI\n",
        "   role=\"user\"\n",
        "\n",
        "   line = {\"role\": role, \"content\": uinput}\n",
        "\n",
        "   #creating the message\n",
        "   assert1={\"role\": \"system\", \"content\": \"You are a Natural Language Processing Assistant for Semantic Role Labeling.\"}\n",
        "   assert2={\"role\": \"assistant\", \"content\": \"You provide Semantic Role Labeling and display the result in a nice chart.\"}\n",
        "   assert3=line\n",
        "   iprompt = []\n",
        "   iprompt.append(assert1)\n",
        "   iprompt.append(assert2)\n",
        "   iprompt.append(assert3)\n",
        "\n",
        "   #sending the message to ChatGPT\n",
        "   client = OpenAI()\n",
        "   response = client.chat.completions.create(model=\"gpt-4\",messages=iprompt) #ChatGPT dialog\n",
        "   text=response[\"choices\"][0][\"message\"][\"content\"] #response in JSON\n",
        "\n",
        "   return text"
      ]
    },
    {
      "cell_type": "markdown",
      "metadata": {
        "id": "DmuWMj1b55od"
      },
      "source": [
        "The 3 **basic** text samples are relatively easy. <br>\n",
        "The 3 **difficult** text samples are challenging.\n",
        "\n",
        "**Basic**\n",
        "\n",
        "Sample1:\n",
        "\"Did Bob really think he could prepare a meal for 50 people in only a few hours?\"\n",
        "\n",
        "Sample 2:\n",
        "\"Mrs. and Mr. Tomaso went to Europe for vacation and visited Paris and first went to visit the Eiffel Tower.\"\n",
        "\n",
        "Sample 3:\n",
        "\"John wanted to drink tea, Mary likes to drink coffee but Karim drank some cool water and Faiza would like to drink tomato juice.\"\n",
        "\n",
        "**Difficult**\n",
        "\n",
        "Sample 4 :ambiguous subject<br>\n",
        "\"Alice, whose husband went jogging every Sunday, liked to go to a dancing class in the meantime.\"\n",
        "\n",
        "Sample 5: *round* can be a verb, a noun, preposition, etc.In this sentence, it is a verb<br>\n",
        "\"The bright sun, the blue sky, the warm sand, the palm trees, everything round off.\"\n",
        "\n",
        "Sample 6: *ice* can be a noun or verb in Hockey<br>\n",
        "\"Now, ice pucks guys!\""
      ]
    },
    {
      "cell_type": "markdown",
      "metadata": {
        "id": "6oGNrDUg52Jm"
      },
      "source": [
        "## Basic samples"
      ]
    },
    {
      "cell_type": "markdown",
      "metadata": {
        "id": "h8na1xlR1GKA"
      },
      "source": [
        "### Sample1:\n",
        "\n",
        "\"Did Bob really think he could prepare a meal for 50 people in only a few hours?\""
      ]
    },
    {
      "cell_type": "code",
      "execution_count": null,
      "metadata": {
        "colab": {
          "base_uri": "https://localhost:8080/"
        },
        "id": "ofo_ailR2TDg",
        "outputId": "b3804006-8786-4e23-8b51-6f1639b7f5f4"
      },
      "outputs": [
        {
          "name": "stdout",
          "output_type": "stream",
          "text": [
            "Viewer request Perform Semantic Role Labeling on the following sentence:Did Bob really think he could prepare a meal for 50 people in only a few hours?\n",
            "ChatGPT SRL: Here is the Semantic Role Labeling for the provided sentence:\n",
            "\n",
            "| Argument       | Role           | Description                                                              |\n",
            "|----------------|----------------|--------------------------------------------------------------------------|\n",
            "| Did            | O (Others)     | Auxiliary verb, not part of the main structure of the sentence           |\n",
            "| Bob            | A0 (Arg0)      | Agent, who performs the action (think)                                   |\n",
            "| really         | AM-ADV (Modifier)| Adverb to modify the verb (think)                                      |\n",
            "| think          | V (Verb)       | Main verb in the sentence (think)                                        |\n",
            "| he             | A1 (Arg1)      | Agent of the embedded sentence, performing the action (prepare)          |\n",
            "| could prepare  | A1-V (Action)  | The action being performed in the embedded sentence (prepare a meal)     |\n",
            "| a meal         | A1-Theme       | Object being prepared in the embedded sentence (a meal)                  |\n",
            "| for 50 people  | A1-Goal        | The number of people the meal is intended for                            |\n",
            "| in only a few hours| AM-TMP (Temporal)| The limited time frame in which the action is taking place            |\n",
            "\n",
            "Note that \"A1\" arguments are specific to the embedded sentence (e.g., \"prepare a meal\").\n"
          ]
        }
      ],
      "source": [
        "uinput=\"Perform Semantic Role Labeling on the following sentence:Did Bob really think he could prepare a meal for 50 people in only a few hours?\"\n",
        "text=dialog(uinput) #preparing the messages for ChatGPT\n",
        "print(\"Viewer request\",uinput)\n",
        "print(\"ChatGPT SRL:\",text)"
      ]
    },
    {
      "cell_type": "markdown",
      "metadata": {
        "id": "j7SBUpJx1QKP"
      },
      "source": [
        "### Sample 2:\n",
        "\n",
        "\"Mrs. and Mr. Tomaso went to Europe for vacation and visited Paris and first went to visit the Eiffel Tower.\""
      ]
    },
    {
      "cell_type": "code",
      "execution_count": null,
      "metadata": {
        "colab": {
          "base_uri": "https://localhost:8080/"
        },
        "id": "ZVvAd_DB08wF",
        "outputId": "6f4c8635-af34-49d4-d437-b70ecf2b1331"
      },
      "outputs": [
        {
          "name": "stdout",
          "output_type": "stream",
          "text": [
            "Viewer request Perform Semantic Role Labeling on the following sentence:Mrs. and Mr. Tomaso went to Europe for vacation and visited Paris and first went to visit the Eiffel Tower.\n",
            "ChatGPT SRL: Here is the Semantic Role Labeling breakdown for the given sentence:\n",
            "\n",
            "| Verb      | ARG0 (Agent) | ARG1 (Theme)    | ARG2 (Destination/Goal) | ARG3 (Source) | ARG4 (Predicate) |\n",
            "|-----------|--------------|-----------------|-------------------------|--------------|------------------|\n",
            "| went      | Mrs. and Mr. Tomaso | to Europe | for vacation        | | |\n",
            "| visited   | Mrs. and Mr. Tomaso | Paris        |                       |              |                  |\n",
            "| went      | Mrs. and Mr. Tomaso | to visit     | the Eiffel Tower      |              | first            |\n",
            "\n",
            "Note: \n",
            "- ARG0 represents the agent (doer of the action)\n",
            "- ARG1 represents the theme (primary object of the action)\n",
            "- ARG2 represents the destination or goal\n",
            "- ARG3 represents the source (starting point of the action)\n",
            "- ARG4 represents the predicate (how the action was done)\n"
          ]
        }
      ],
      "source": [
        "uinput=\"Perform Semantic Role Labeling on the following sentence:Mrs. and Mr. Tomaso went to Europe for vacation and visited Paris and first went to visit the Eiffel Tower.\"\n",
        "text=dialog(uinput) #preparing the messages for ChatGPT\n",
        "print(\"Viewer request\",uinput)\n",
        "print(\"ChatGPT SRL:\",text)"
      ]
    },
    {
      "cell_type": "markdown",
      "metadata": {
        "id": "vMKLCFaD1VJA"
      },
      "source": [
        "### Sample 3:\n",
        "\n",
        "\n",
        "\"John wanted to drink tea, Mary likes to drink coffee but Karim drank some cool water and Faiza would like to drink tomato juice.\""
      ]
    },
    {
      "cell_type": "code",
      "execution_count": null,
      "metadata": {
        "colab": {
          "base_uri": "https://localhost:8080/"
        },
        "id": "waNIZTR309aG",
        "outputId": "ba93ff35-4251-4efb-9af4-2bfb2a91a000"
      },
      "outputs": [
        {
          "name": "stdout",
          "output_type": "stream",
          "text": [
            "Viewer request Perform Semantic Role Labeling on the following sentence:ohn wanted to drink tea, Mary likes to drink coffee but Karim drank some cool water and Faiza would like to drink tomato juice.\n",
            "ChatGPT SRL: Here's the Semantic Role Labeling for the provided sentence:\n",
            "\n",
            "| VERB  | ARG0 (Subject) | ARG1 (Object)  | ARG2 (Manner/Instrument) | ARG3 (Times/Location) |\n",
            "|-------|----------------|----------------|--------------------------|-----------------------|\n",
            "| want  | John           | to drink tea   |                          |                       |\n",
            "| like  | Mary           | to drink coffee|                          |                       |\n",
            "| drink |  Karim         | some cool water|                          |                       |\n",
            "| like  | Faiza          | to drink tomato juice |                   |                       |\n",
            "\n",
            "In the given sentence, there are four primary actions (verbs) - \"wanted\", \"likes\", \"drank\", and \"would like\". For each verb, I've identified the subjects (ARG0) and their corresponding objects (ARG1).\n"
          ]
        }
      ],
      "source": [
        "uinput=\"Perform Semantic Role Labeling on the following sentence:ohn wanted to drink tea, Mary likes to drink coffee but Karim drank some cool water and Faiza would like to drink tomato juice.\"\n",
        "text=dialog(uinput) #preparing the messages for ChatGPT\n",
        "print(\"Viewer request\",uinput)\n",
        "print(\"ChatGPT SRL:\",text)"
      ]
    },
    {
      "cell_type": "markdown",
      "metadata": {
        "id": "dVMBJwp657Z6"
      },
      "source": [
        "## Difficult samples"
      ]
    },
    {
      "cell_type": "markdown",
      "metadata": {
        "id": "XuPnvjx_1Zkq"
      },
      "source": [
        "### Sample 4 :ambiguous subject\n",
        "\n",
        "\"Alice, whose husband went jogging every Sunday, liked to go to a dancing class in the meantime.\""
      ]
    },
    {
      "cell_type": "code",
      "execution_count": null,
      "metadata": {
        "colab": {
          "base_uri": "https://localhost:8080/"
        },
        "id": "eyVLcVj6091_",
        "outputId": "746b95f4-33df-4d6f-dcd7-6dc38b0cf4af"
      },
      "outputs": [
        {
          "name": "stdout",
          "output_type": "stream",
          "text": [
            "Viewer request Perform Semantic Role Labeling on the following sentence:Alice, whose husband went jogging every Sunday, liked to go to a dancing class in the meantime.\n",
            "ChatGPT SRL: Here is the Semantic Role Labeling chart for the given sentence:\n",
            "\n",
            "+------------------------------------------------------------------------------------------------------------------------+\n",
            "|        Role        |                                              Argument                                            |\n",
            "+------------------------------------------------------------------------------------------------------------------------+\n",
            "| Predicate-1        | went jogging                                                                                        |\n",
            "| Agent-1            | Alice's husband                                                                                     |\n",
            "| Frequency-1        | every Sunday                                                                                        |\n",
            "|                                                                                                                          |\n",
            "| Predicate-2        | liked                                                                                               |\n",
            "| Experiencer-2      | Alice                                                                                               |\n",
            "| Activity-2         | to go to a dancing class                                                                            |\n",
            "| Time-2             | in the meantime                                                                                     |\n",
            "+------------------------------------------------------------------------------------------------------------------------+\n",
            "\n",
            "Explanation:\n",
            "\n",
            "In the sentence, there are two main predicates: \"went jogging\" and \"liked\".\n",
            "\n",
            "- For Predicate-1 (went jogging), \"Alice's husband\" is the Agent, who goes jogging, and \"every Sunday\" is the Frequency at which he performs this action.\n",
            "- For Predicate-2 (liked), \"Alice\" is the Experiencer who likes doing something, \"to go to a dancing class\" is the Activity that she likes, and \"in the meantime\" is the Time at which she likes doing so, while her husband is jogging.\n"
          ]
        }
      ],
      "source": [
        "uinput=\"Perform Semantic Role Labeling on the following sentence:Alice, whose husband went jogging every Sunday, liked to go to a dancing class in the meantime.\"\n",
        "text=dialog(uinput) #preparing the messages for ChatGPT\n",
        "print(\"Viewer request\",uinput)\n",
        "print(\"ChatGPT SRL:\",text)"
      ]
    },
    {
      "cell_type": "markdown",
      "metadata": {
        "id": "utY0S4Sl1aDh"
      },
      "source": [
        "### Sample 5\n",
        "\n",
        " *round* can be a verb, a noun, preposition, etc.In this sentence, it is a verb<br>\n",
        "\"The bright sun, the blue sky, the warm sand, the palm trees, everything round off.\""
      ]
    },
    {
      "cell_type": "code",
      "execution_count": null,
      "metadata": {
        "colab": {
          "base_uri": "https://localhost:8080/"
        },
        "id": "bHhHHddC0-L5",
        "outputId": "d6af7dc2-9423-40ec-b38d-e7fda00b4e2b"
      },
      "outputs": [
        {
          "name": "stdout",
          "output_type": "stream",
          "text": [
            "Viewer request Perform Semantic Role Labeling on the following sentence:The bright sun, the blue sky, the warm sand, the palm trees, everything round off.\n",
            "ChatGPT Sentiment Analysis: I will analyze the sentence and display the results in a semantic role chart. Note that the sentence structure is a bit unusual, so I'll do my best with the given input. Here's the chart:\n",
            "\n",
            "```\n",
            "===============================================\n",
            "|Argument   | Description    |Example          |\n",
            "===============================================\n",
            "|   Verb    | round off      | everything      |\n",
            "|  ------------------------  ------------------ |\n",
            "| ArgM-LOC  | Location       | the bright sun,  |\n",
            "|           |                | the blue sky,    |\n",
            "|           |                | the warm sand,   |\n",
            "|           |                | the palm trees   |\n",
            "===============================================\n",
            "```\n",
            "\n",
            "In this case, the verb phrase \"round off\" indicates that \"everything\" (including the bright sun, blue sky, warm sand, and palm trees) are in the same setting or location.\n"
          ]
        }
      ],
      "source": [
        "uinput=\"Perform Semantic Role Labeling on the following sentence:The bright sun, the blue sky, the warm sand, the palm trees, everything round off.\"\n",
        "text=dialog(uinput) #preparing the messages for ChatGPT\n",
        "print(\"Viewer request\",uinput)\n",
        "print(\"ChatGPT Sentiment Analysis:\",text)"
      ]
    },
    {
      "cell_type": "markdown",
      "metadata": {
        "id": "PP1-XWe21aw1"
      },
      "source": [
        "### Sample 6\n",
        "\n",
        "*ice* can be a noun or verb in Hockey<br>\n",
        "This sentence seems to difficult for ChatGPT. The model isn't good at neing hockey coach!<br>\n",
        "\"Now, ice pucks guys!\""
      ]
    },
    {
      "cell_type": "code",
      "execution_count": null,
      "metadata": {
        "colab": {
          "base_uri": "https://localhost:8080/"
        },
        "id": "nD56SRycwLe-",
        "outputId": "f5fe1e22-5a53-43fb-b8f6-8f575292251e"
      },
      "outputs": [
        {
          "name": "stdout",
          "output_type": "stream",
          "text": [
            "Viewer request Perform Semantic Role Labeling on the following sentence:Now, ice pucks guys!\n",
            "ChatGPT SRL: Here's the Semantic Role Labeling result for the given sentence: \"Now, ice pucks guys!\"\n",
            "\n",
            "| Arg Label | Token(s)       | Description                            |\n",
            "|-----------|----------------|----------------------------------------|\n",
            "| Temporal  | Now            | When the action is happening           |\n",
            "| Verb      | Ice            | The main action                        |\n",
            "| Object    | Pucks          | The object being iced                  |\n",
            "| ArgM-CAU  | Guys           | The people causing the action to occur |\n",
            "\n",
            "Semantic Roles:\n",
            "- Temporal: \"Now\" refers to the time when the action is taking place.\n",
            "- Verb: \"Ice\" is the main action happening in the sentence.\n",
            "- Object: \"Pucks\" is the item that the action is being performed on.\n",
            "- ArgM-CAU: \"Guys\" are the people or the agents causing the action of icing the pucks.\n",
            "\n",
            "Note: The given sentence appears to have an informal or colloquial structure. The Semantic Role Labeling presented here is an interpretation based on the context provided.\n"
          ]
        }
      ],
      "source": [
        "uinput=\"Perform Semantic Role Labeling on the following sentence:Now, ice pucks guys!\"\n",
        "text=dialog(uinput) #preparing the messages for ChatGPT\n",
        "print(\"Viewer request\",uinput)\n",
        "print(\"ChatGPT SRL:\",text)"
      ]
    }
  ],
  "metadata": {
    "colab": {
      "provenance": []
    },
    "kernelspec": {
      "display_name": "Python 3",
      "name": "python3"
    },
    "language_info": {
      "name": "python"
    }
  },
  "nbformat": 4,
  "nbformat_minor": 0
}
