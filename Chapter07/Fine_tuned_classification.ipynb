{
  "cells": [
    {
      "cell_type": "markdown",
      "source": [
        "# Fine tuning classification example\n",
        "Copyright 2023, OpenAI & Denis Rothman MIT License\n",
        "\n",
        "OpenAI fine-tunes an ada classifier to distinguish between the two sports: Baseball and Hockey.\n",
        "\n",
        "This notebook is a modified version of   \n",
        "[OpenAI's Fine-tuned classification notebook](https://github.com/openai/openai-cookbook/blob/main/examples/Fine-tuned_classification.ipynb)\n",
        "\n",
        "Denis Rothman has modified parts of this notebook for educational purposes (sections, comments, and code). The main sections titles are those in Fine_tuning_GPT_3.ipynb in the GitHub repository. 2 sections were added:\n",
        "\n",
        "2.1.Measuring the model's accuracy  \n",
        "3.1.Generalization\n",
        "\n",
        "**Note**: Y*ou will have to run the fine-tuning process to create your model and then replace the model names in this notebook with your model name.*"
      ],
      "metadata": {
        "id": "8udVclnAULla"
      }
    },
    {
      "cell_type": "markdown",
      "source": [
        "# Installing OpenAI"
      ],
      "metadata": {
        "id": "Tvb3udX2JBXW"
      }
    },
    {
      "cell_type": "code",
      "source": [
        "try:\n",
        "  import openai\n",
        "except:\n",
        "  !pip install openai\n",
        "  import openai"
      ],
      "metadata": {
        "id": "sXPrYj3QVg7E"
      },
      "execution_count": null,
      "outputs": []
    },
    {
      "cell_type": "code",
      "source": [
        "#You can retrieve your API key from a file(1)\n",
        "# or enter it manually(2)\n",
        "\n",
        "#Comment this cell if you want to enter your key manually.\n",
        "#(1)Retrieve the API Key from a file\n",
        "#Store you key in a file and read it(you can type it directly in the notebook but it will be visible for somebody next to you)\n",
        "from google.colab import drive\n",
        "drive.mount('/content/drive')\n",
        "f = open(\"drive/MyDrive/files/api_key.txt\", \"r\")\n",
        "API_KEY=f.readline()\n",
        "f.close()"
      ],
      "metadata": {
        "colab": {
          "base_uri": "https://localhost:8080/"
        },
        "id": "Cl4HT9h3W3cR",
        "outputId": "b471ad5e-ddd9-42d8-9030-76c5cfc5ccff"
      },
      "execution_count": null,
      "outputs": [
        {
          "output_type": "stream",
          "name": "stdout",
          "text": [
            "Mounted at /content/drive\n"
          ]
        }
      ]
    },
    {
      "cell_type": "code",
      "source": [
        "#(2) Enter your manually by\n",
        "# replacing API_KEY by your key.\n",
        "#The OpenAI Key\n",
        "import os\n",
        "os.environ['OPENAI_API_KEY'] =API_KEY\n",
        "openai.api_key = os.getenv(\"OPENAI_API_KEY\")"
      ],
      "metadata": {
        "id": "dEEUHPzoXAam"
      },
      "execution_count": null,
      "outputs": []
    },
    {
      "cell_type": "markdown",
      "source": [
        "# 1.Preparing the dataset"
      ],
      "metadata": {
        "id": "rc5Gy52SJLpc"
      }
    },
    {
      "cell_type": "markdown",
      "source": [
        "Retrieving the dataset\n",
        " The newsgroup dataset can be loaded using sklearn."
      ],
      "metadata": {
        "id": "SBnjJTKjULlj"
      }
    },
    {
      "cell_type": "code",
      "execution_count": null,
      "source": [
        "from sklearn.datasets import fetch_20newsgroups\n",
        "import pandas as pd\n",
        "import openai\n",
        "\n",
        "categories = ['rec.sport.baseball', 'rec.sport.hockey']\n",
        "sports_dataset = fetch_20newsgroups(subset='train', shuffle=True, random_state=42, categories=categories)"
      ],
      "outputs": [],
      "metadata": {
        "id": "SObsxXTFULlg"
      }
    },
    {
      "cell_type": "markdown",
      "source": [
        "First we will look at the data itself:"
      ],
      "metadata": {
        "id": "qHcZa0QIJYEj"
      }
    },
    {
      "cell_type": "code",
      "execution_count": null,
      "source": [
        "print(sports_dataset['data'][0])"
      ],
      "outputs": [
        {
          "output_type": "stream",
          "name": "stdout",
          "text": [
            "From: dougb@comm.mot.com (Doug Bank)\n",
            "Subject: Re: Info needed for Cleveland tickets\n",
            "Reply-To: dougb@ecs.comm.mot.com\n",
            "Organization: Motorola Land Mobile Products Sector\n",
            "Distribution: usa\n",
            "Nntp-Posting-Host: 145.1.146.35\n",
            "Lines: 17\n",
            "\n",
            "In article <1993Apr1.234031.4950@leland.Stanford.EDU>, bohnert@leland.Stanford.EDU (matthew bohnert) writes:\n",
            "\n",
            "|> I'm going to be in Cleveland Thursday, April 15 to Sunday, April 18.\n",
            "|> Does anybody know if the Tribe will be in town on those dates, and\n",
            "|> if so, who're they playing and if tickets are available?\n",
            "\n",
            "The tribe will be in town from April 16 to the 19th.\n",
            "There are ALWAYS tickets available! (Though they are playing Toronto,\n",
            "and many Toronto fans make the trip to Cleveland as it is easier to\n",
            "get tickets in Cleveland than in Toronto.  Either way, I seriously\n",
            "doubt they will sell out until the end of the season.)\n",
            "\n",
            "-- \n",
            "Doug Bank                       Private Systems Division\n",
            "dougb@ecs.comm.mot.com          Motorola Communications Sector\n",
            "dougb@nwu.edu                   Schaumburg, Illinois\n",
            "dougb@casbah.acns.nwu.edu       708-576-8207                    \n",
            "\n"
          ]
        }
      ],
      "metadata": {
        "colab": {
          "base_uri": "https://localhost:8080/"
        },
        "id": "wSaB7cL7ULlj",
        "outputId": "187b115e-2bda-414f-8f35-97134900b689"
      }
    },
    {
      "cell_type": "code",
      "execution_count": null,
      "source": [
        "sports_dataset.target_names[sports_dataset['target'][0]]"
      ],
      "outputs": [
        {
          "output_type": "execute_result",
          "data": {
            "text/plain": [
              "'rec.sport.baseball'"
            ],
            "application/vnd.google.colaboratory.intrinsic+json": {
              "type": "string"
            }
          },
          "metadata": {},
          "execution_count": 6
        }
      ],
      "metadata": {
        "colab": {
          "base_uri": "https://localhost:8080/",
          "height": 36
        },
        "id": "9F__rNRGULll",
        "outputId": "f3985a38-4537-437e-8528-33bbb3f85d18"
      }
    },
    {
      "cell_type": "code",
      "execution_count": null,
      "source": [
        "len_all, len_baseball, len_hockey = len(sports_dataset.data), len([e for e in sports_dataset.target if e == 0]), len([e for e in sports_dataset.target if e == 1])\n",
        "print(f\"Total examples: {len_all}, Baseball examples: {len_baseball}, Hockey examples: {len_hockey}\")"
      ],
      "outputs": [
        {
          "output_type": "stream",
          "name": "stdout",
          "text": [
            "Total examples: 1197, Baseball examples: 597, Hockey examples: 600\n"
          ]
        }
      ],
      "metadata": {
        "colab": {
          "base_uri": "https://localhost:8080/"
        },
        "id": "ld79ApzYULlm",
        "outputId": "22ed65c1-ca8f-476e-b615-b8605e313bfc"
      }
    },
    {
      "cell_type": "markdown",
      "source": [
        "One sample from the baseball category can be seen above. It is an email to a mailing list. We can observe that we have 1197 examples in total, which are evenly split between the two sports."
      ],
      "metadata": {
        "id": "skG0OvrBULln"
      }
    },
    {
      "cell_type": "markdown",
      "source": [
        "## 1.1. Preparing the data in JSON\n",
        "\n",
        "We transform the dataset into a pandas dataframe, with a column for prompt and completion. The prompt contains the email from the mailing list, and the completion is a name of the sport, either hockey or baseball. For demonstration purposes only and speed of fine-tuning we take only 300 examples. In a real use case the more examples the better the performance."
      ],
      "metadata": {
        "id": "6SXgt8MqULlo"
      }
    },
    {
      "cell_type": "code",
      "execution_count": null,
      "source": [
        "import pandas as pd\n",
        "\n",
        "labels = [sports_dataset.target_names[x].split('.')[-1] for x in sports_dataset['target']]\n",
        "texts = [text.strip() for text in sports_dataset['data']]\n",
        "df = pd.DataFrame(zip(texts, labels), columns = ['prompt','completion']) #[:300]\n",
        "df.head()"
      ],
      "outputs": [
        {
          "output_type": "execute_result",
          "data": {
            "text/plain": [
              "                                              prompt completion\n",
              "0  From: dougb@comm.mot.com (Doug Bank)\\nSubject:...   baseball\n",
              "1  From: gld@cunixb.cc.columbia.edu (Gary L Dare)...     hockey\n",
              "2  From: rudy@netcom.com (Rudy Wade)\\nSubject: Re...   baseball\n",
              "3  From: monack@helium.gas.uug.arizona.edu (david...     hockey\n",
              "4  Subject: Let it be Known\\nFrom: <ISSBTL@BYUVM....   baseball"
            ],
            "text/html": [
              "\n",
              "  <div id=\"df-330e4c97-41cd-4bcf-b0c7-b5cbe473a203\">\n",
              "    <div class=\"colab-df-container\">\n",
              "      <div>\n",
              "<style scoped>\n",
              "    .dataframe tbody tr th:only-of-type {\n",
              "        vertical-align: middle;\n",
              "    }\n",
              "\n",
              "    .dataframe tbody tr th {\n",
              "        vertical-align: top;\n",
              "    }\n",
              "\n",
              "    .dataframe thead th {\n",
              "        text-align: right;\n",
              "    }\n",
              "</style>\n",
              "<table border=\"1\" class=\"dataframe\">\n",
              "  <thead>\n",
              "    <tr style=\"text-align: right;\">\n",
              "      <th></th>\n",
              "      <th>prompt</th>\n",
              "      <th>completion</th>\n",
              "    </tr>\n",
              "  </thead>\n",
              "  <tbody>\n",
              "    <tr>\n",
              "      <th>0</th>\n",
              "      <td>From: dougb@comm.mot.com (Doug Bank)\\nSubject:...</td>\n",
              "      <td>baseball</td>\n",
              "    </tr>\n",
              "    <tr>\n",
              "      <th>1</th>\n",
              "      <td>From: gld@cunixb.cc.columbia.edu (Gary L Dare)...</td>\n",
              "      <td>hockey</td>\n",
              "    </tr>\n",
              "    <tr>\n",
              "      <th>2</th>\n",
              "      <td>From: rudy@netcom.com (Rudy Wade)\\nSubject: Re...</td>\n",
              "      <td>baseball</td>\n",
              "    </tr>\n",
              "    <tr>\n",
              "      <th>3</th>\n",
              "      <td>From: monack@helium.gas.uug.arizona.edu (david...</td>\n",
              "      <td>hockey</td>\n",
              "    </tr>\n",
              "    <tr>\n",
              "      <th>4</th>\n",
              "      <td>Subject: Let it be Known\\nFrom: &lt;ISSBTL@BYUVM....</td>\n",
              "      <td>baseball</td>\n",
              "    </tr>\n",
              "  </tbody>\n",
              "</table>\n",
              "</div>\n",
              "      <button class=\"colab-df-convert\" onclick=\"convertToInteractive('df-330e4c97-41cd-4bcf-b0c7-b5cbe473a203')\"\n",
              "              title=\"Convert this dataframe to an interactive table.\"\n",
              "              style=\"display:none;\">\n",
              "        \n",
              "  <svg xmlns=\"http://www.w3.org/2000/svg\" height=\"24px\"viewBox=\"0 0 24 24\"\n",
              "       width=\"24px\">\n",
              "    <path d=\"M0 0h24v24H0V0z\" fill=\"none\"/>\n",
              "    <path d=\"M18.56 5.44l.94 2.06.94-2.06 2.06-.94-2.06-.94-.94-2.06-.94 2.06-2.06.94zm-11 1L8.5 8.5l.94-2.06 2.06-.94-2.06-.94L8.5 2.5l-.94 2.06-2.06.94zm10 10l.94 2.06.94-2.06 2.06-.94-2.06-.94-.94-2.06-.94 2.06-2.06.94z\"/><path d=\"M17.41 7.96l-1.37-1.37c-.4-.4-.92-.59-1.43-.59-.52 0-1.04.2-1.43.59L10.3 9.45l-7.72 7.72c-.78.78-.78 2.05 0 2.83L4 21.41c.39.39.9.59 1.41.59.51 0 1.02-.2 1.41-.59l7.78-7.78 2.81-2.81c.8-.78.8-2.07 0-2.86zM5.41 20L4 18.59l7.72-7.72 1.47 1.35L5.41 20z\"/>\n",
              "  </svg>\n",
              "      </button>\n",
              "      \n",
              "  <style>\n",
              "    .colab-df-container {\n",
              "      display:flex;\n",
              "      flex-wrap:wrap;\n",
              "      gap: 12px;\n",
              "    }\n",
              "\n",
              "    .colab-df-convert {\n",
              "      background-color: #E8F0FE;\n",
              "      border: none;\n",
              "      border-radius: 50%;\n",
              "      cursor: pointer;\n",
              "      display: none;\n",
              "      fill: #1967D2;\n",
              "      height: 32px;\n",
              "      padding: 0 0 0 0;\n",
              "      width: 32px;\n",
              "    }\n",
              "\n",
              "    .colab-df-convert:hover {\n",
              "      background-color: #E2EBFA;\n",
              "      box-shadow: 0px 1px 2px rgba(60, 64, 67, 0.3), 0px 1px 3px 1px rgba(60, 64, 67, 0.15);\n",
              "      fill: #174EA6;\n",
              "    }\n",
              "\n",
              "    [theme=dark] .colab-df-convert {\n",
              "      background-color: #3B4455;\n",
              "      fill: #D2E3FC;\n",
              "    }\n",
              "\n",
              "    [theme=dark] .colab-df-convert:hover {\n",
              "      background-color: #434B5C;\n",
              "      box-shadow: 0px 1px 3px 1px rgba(0, 0, 0, 0.15);\n",
              "      filter: drop-shadow(0px 1px 2px rgba(0, 0, 0, 0.3));\n",
              "      fill: #FFFFFF;\n",
              "    }\n",
              "  </style>\n",
              "\n",
              "      <script>\n",
              "        const buttonEl =\n",
              "          document.querySelector('#df-330e4c97-41cd-4bcf-b0c7-b5cbe473a203 button.colab-df-convert');\n",
              "        buttonEl.style.display =\n",
              "          google.colab.kernel.accessAllowed ? 'block' : 'none';\n",
              "\n",
              "        async function convertToInteractive(key) {\n",
              "          const element = document.querySelector('#df-330e4c97-41cd-4bcf-b0c7-b5cbe473a203');\n",
              "          const dataTable =\n",
              "            await google.colab.kernel.invokeFunction('convertToInteractive',\n",
              "                                                     [key], {});\n",
              "          if (!dataTable) return;\n",
              "\n",
              "          const docLinkHtml = 'Like what you see? Visit the ' +\n",
              "            '<a target=\"_blank\" href=https://colab.research.google.com/notebooks/data_table.ipynb>data table notebook</a>'\n",
              "            + ' to learn more about interactive tables.';\n",
              "          element.innerHTML = '';\n",
              "          dataTable['output_type'] = 'display_data';\n",
              "          await google.colab.output.renderOutput(dataTable, element);\n",
              "          const docLink = document.createElement('div');\n",
              "          docLink.innerHTML = docLinkHtml;\n",
              "          element.appendChild(docLink);\n",
              "        }\n",
              "      </script>\n",
              "    </div>\n",
              "  </div>\n",
              "  "
            ]
          },
          "metadata": {},
          "execution_count": 8
        }
      ],
      "metadata": {
        "colab": {
          "base_uri": "https://localhost:8080/",
          "height": 206
        },
        "id": "rjfRID96ULlp",
        "outputId": "7e61b487-22b8-4061-a462-97c92170e349"
      }
    },
    {
      "cell_type": "markdown",
      "source": [
        "Both baseball and hockey are single tokens. We save the dataset as a jsonl file."
      ],
      "metadata": {
        "id": "Q_KxaCBDULlq"
      }
    },
    {
      "cell_type": "code",
      "execution_count": null,
      "source": [
        "df.to_json(\"sport2.jsonl\", orient='records', lines=True)"
      ],
      "outputs": [],
      "metadata": {
        "id": "I87dX7pQULlq"
      }
    },
    {
      "cell_type": "markdown",
      "source": [
        "##  1.2. Converting the data to JSONL\n",
        "We can now use a data preparation tool which will suggest a few improvements to our dataset before fine-tuning. Before launching the tool we update the openai library to ensure we're using the latest data preparation tool. We additionally specify `-q` which auto-accepts all suggestions."
      ],
      "metadata": {
        "id": "qfPi_U3zULlr"
      }
    },
    {
      "cell_type": "code",
      "execution_count": null,
      "source": [
        "!openai tools fine_tunes.prepare_data -f sport2.jsonl -q"
      ],
      "outputs": [
        {
          "output_type": "stream",
          "name": "stdout",
          "text": [
            "Analyzing...\n",
            "\n",
            "- Your file contains 1197 prompt-completion pairs\n",
            "- Based on your data it seems like you're trying to fine-tune a model for classification\n",
            "- For classification, we recommend you try one of the faster and cheaper models, such as `ada`\n",
            "- For classification, you can estimate the expected model performance by keeping a held out dataset, which is not used for training\n",
            "- There are 11 examples that are very long. These are rows: [134, 200, 281, 320, 404, 595, 704, 838, 1113, 1139, 1174]\n",
            "For conditional generation, and for classification the examples shouldn't be longer than 2048 tokens.\n",
            "- Your data does not contain a common separator at the end of your prompts. Having a separator string appended to the end of the prompt makes it clearer to the fine-tuned model where the completion should begin. See https://platform.openai.com/docs/guides/fine-tuning/preparing-your-dataset for more detail and examples. If you intend to do open-ended generation, then you should leave the prompts empty\n",
            "- The completion should start with a whitespace character (` `). This tends to produce better results due to the tokenization we use. See https://platform.openai.com/docs/guides/fine-tuning/preparing-your-dataset for more details\n",
            "\n",
            "Based on the analysis we will perform the following actions:\n",
            "- [Recommended] Remove 11 long examples [Y/n]: Y\n",
            "- [Recommended] Add a suffix separator `\\n\\n###\\n\\n` to all prompts [Y/n]: Y\n",
            "- [Recommended] Add a whitespace character to the beginning of the completion [Y/n]: Y\n",
            "- [Recommended] Would you like to split into training and validation set? [Y/n]: Y\n",
            "\n",
            "\n",
            "Your data will be written to a new JSONL file. Proceed [Y/n]: Y\n",
            "\n",
            "Wrote modified files to `sport2_prepared_train.jsonl` and `sport2_prepared_valid.jsonl`\n",
            "Feel free to take a look!\n",
            "\n",
            "Now use that file when fine-tuning:\n",
            "> openai api fine_tunes.create -t \"sport2_prepared_train.jsonl\" -v \"sport2_prepared_valid.jsonl\" --compute_classification_metrics --classification_positive_class \" baseball\"\n",
            "\n",
            "After you’ve fine-tuned a model, remember that your prompt has to end with the indicator string `\\n\\n###\\n\\n` for the model to start generating completions, rather than continuing with the prompt.\n",
            "Once your model starts training, it'll approximately take 30.8 minutes to train a `curie` model, and less for `ada` and `babbage`. Queue will approximately take half an hour per job ahead of you.\n"
          ]
        }
      ],
      "metadata": {
        "id": "s46TcHu0ULlr",
        "colab": {
          "base_uri": "https://localhost:8080/"
        },
        "outputId": "cc938e41-d664-43f5-b442-6f153a1a52f7"
      }
    },
    {
      "cell_type": "markdown",
      "source": [
        "The tool helpfully suggests a few improvements to the dataset and splits the dataset into training and validation set.\n",
        "\n",
        "A suffix between a prompt and a completion is necessary to tell the model that the input text has stopped, and that it now needs to predict the class. Since we use the same separator in each example, the model is able to learn that it is meant to predict either baseball or hockey following the separator.\n",
        "A whitespace prefix in completions is useful, as most word tokens are tokenized with a space prefix.\n",
        "The tool also recognized that this is likely a classification task, so it suggested to split the dataset into training and validation datasets. This will allow us to easily measure expected performance on new data."
      ],
      "metadata": {
        "id": "m6hTdpQIULls"
      }
    },
    {
      "cell_type": "markdown",
      "source": [
        "# 2.Fine-tuning an original model\n",
        "\n",
        "We will fine-tune an ada model\n",
        "\n",
        "The tool suggests we run the following command to train the dataset. Since this is a classification task, we would like to know what the generalization performance on the provided validation set is for our classification use case. The tool suggests to add `--compute_classification_metrics --classification_positive_class \" baseball\"` in order to compute the classification metrics.\n",
        "\n",
        "We can simply copy the suggested command from the CLI tool. We specifically add `-m ada` to fine-tune a cheaper and faster ada model, which is usually comperable in performance to slower and more expensive models on classification use cases."
      ],
      "metadata": {
        "id": "oP8rndjiULls"
      }
    },
    {
      "cell_type": "code",
      "execution_count": null,
      "source": [
        "!openai api fine_tunes.create -t \"sport2_prepared_train.jsonl\" -v \"sport2_prepared_valid.jsonl\" --compute_classification_metrics --classification_positive_class \" baseball\" -m ada"
      ],
      "outputs": [],
      "metadata": {
        "id": "0n7ZXJAkULlt"
      }
    },
    {
      "cell_type": "code",
      "source": [
        "!openai api fine_tunes.follow -i [MODEL_ID]"
      ],
      "metadata": {
        "id": "02ebADnauX0A"
      },
      "execution_count": null,
      "outputs": []
    },
    {
      "cell_type": "code",
      "source": [
        "#Stream interrupted (client disconnected).\n",
        "#To resume the stream, run:\n",
        "#!openai api fine_tunes.follow -i [YOUR_MODEL]"
      ],
      "metadata": {
        "id": "PkINJs8Xax7A"
      },
      "execution_count": null,
      "outputs": []
    },
    {
      "cell_type": "markdown",
      "source": [
        "Let's retrieve the model to see if it is fully fine-tuned and ready as we did in section 4. in Fine_tuning_GPT_3.ipynb"
      ],
      "metadata": {
        "id": "YIQj_PvuOUFZ"
      }
    },
    {
      "cell_type": "code",
      "source": [
        "#ENTER your model name:\n",
        "response = openai.FineTune.retrieve('MODEL_ID')\n",
        "print(response)"
      ],
      "metadata": {
        "id": "ErQm2ncyub4C"
      },
      "execution_count": null,
      "outputs": []
    },
    {
      "cell_type": "code",
      "source": [
        "#ENTER your model name:\n",
        "response = openai.FineTune.retrieve('MODEL_ID')\n",
        "print(response)"
      ],
      "metadata": {
        "id": "qQdKTPYgM8_4"
      },
      "execution_count": null,
      "outputs": []
    },
    {
      "cell_type": "markdown",
      "source": [
        "When the model has been trained,  we can  we can use it for an inference task."
      ],
      "metadata": {
        "id": "RFS7sfZ0ULlt"
      }
    },
    {
      "cell_type": "markdown",
      "source": [
        "## 2.1. Measuring the model's Accuracy\n",
        "We can now download the results file to observe the expected performance on a held out validation set."
      ],
      "metadata": {
        "id": "W-ctJqnBULlu"
      }
    },
    {
      "cell_type": "code",
      "execution_count": null,
      "source": [
        "!openai api fine_tunes.results -i [YOUR_MODEL] > results.csv"
      ],
      "outputs": [],
      "metadata": {
        "id": "7nZceXRVULlu"
      }
    },
    {
      "cell_type": "code",
      "execution_count": 41,
      "source": [
        "results = pd.read_csv('results.csv')\n",
        "results[results['classification/accuracy'].notnull()].tail()"
      ],
      "outputs": [
        {
          "output_type": "execute_result",
          "data": {
            "text/plain": [
              "      step  elapsed_tokens  elapsed_examples  training_loss  \\\n",
              "930    931          423307               931       0.024512   \n",
              "1860  1861          846541              1861       0.024563   \n",
              "2790  2791         1270015              2791       0.010276   \n",
              "3720  3721         1693081              3721       0.010245   \n",
              "\n",
              "      training_sequence_accuracy  training_token_accuracy  validation_loss  \\\n",
              "930                          1.0                      1.0              NaN   \n",
              "1860                         1.0                      1.0              NaN   \n",
              "2790                         1.0                      1.0              NaN   \n",
              "3720                         1.0                      1.0         0.017013   \n",
              "\n",
              "      validation_sequence_accuracy  validation_token_accuracy  \\\n",
              "930                            NaN                        NaN   \n",
              "1860                           NaN                        NaN   \n",
              "2790                           NaN                        NaN   \n",
              "3720                           1.0                        1.0   \n",
              "\n",
              "      classification/accuracy  classification/precision  \\\n",
              "930                  0.936975                  0.990476   \n",
              "1860                 0.995798                  0.991667   \n",
              "2790                 0.995798                  0.991597   \n",
              "3720                 0.995798                  0.991736   \n",
              "\n",
              "      classification/recall  classification/auroc  classification/auprc  \\\n",
              "930                0.881356              0.995127              0.995035   \n",
              "1860               1.000000              0.999929              0.999930   \n",
              "2790               1.000000              0.999929              0.999928   \n",
              "3720               1.000000              0.999929              0.999931   \n",
              "\n",
              "      classification/f1.0  \n",
              "930              0.932735  \n",
              "1860             0.995816  \n",
              "2790             0.995781  \n",
              "3720             0.995851  "
            ],
            "text/html": [
              "\n",
              "  <div id=\"df-21161dfe-7643-4a8f-9be9-fa6259fcab54\">\n",
              "    <div class=\"colab-df-container\">\n",
              "      <div>\n",
              "<style scoped>\n",
              "    .dataframe tbody tr th:only-of-type {\n",
              "        vertical-align: middle;\n",
              "    }\n",
              "\n",
              "    .dataframe tbody tr th {\n",
              "        vertical-align: top;\n",
              "    }\n",
              "\n",
              "    .dataframe thead th {\n",
              "        text-align: right;\n",
              "    }\n",
              "</style>\n",
              "<table border=\"1\" class=\"dataframe\">\n",
              "  <thead>\n",
              "    <tr style=\"text-align: right;\">\n",
              "      <th></th>\n",
              "      <th>step</th>\n",
              "      <th>elapsed_tokens</th>\n",
              "      <th>elapsed_examples</th>\n",
              "      <th>training_loss</th>\n",
              "      <th>training_sequence_accuracy</th>\n",
              "      <th>training_token_accuracy</th>\n",
              "      <th>validation_loss</th>\n",
              "      <th>validation_sequence_accuracy</th>\n",
              "      <th>validation_token_accuracy</th>\n",
              "      <th>classification/accuracy</th>\n",
              "      <th>classification/precision</th>\n",
              "      <th>classification/recall</th>\n",
              "      <th>classification/auroc</th>\n",
              "      <th>classification/auprc</th>\n",
              "      <th>classification/f1.0</th>\n",
              "    </tr>\n",
              "  </thead>\n",
              "  <tbody>\n",
              "    <tr>\n",
              "      <th>930</th>\n",
              "      <td>931</td>\n",
              "      <td>423307</td>\n",
              "      <td>931</td>\n",
              "      <td>0.024512</td>\n",
              "      <td>1.0</td>\n",
              "      <td>1.0</td>\n",
              "      <td>NaN</td>\n",
              "      <td>NaN</td>\n",
              "      <td>NaN</td>\n",
              "      <td>0.936975</td>\n",
              "      <td>0.990476</td>\n",
              "      <td>0.881356</td>\n",
              "      <td>0.995127</td>\n",
              "      <td>0.995035</td>\n",
              "      <td>0.932735</td>\n",
              "    </tr>\n",
              "    <tr>\n",
              "      <th>1860</th>\n",
              "      <td>1861</td>\n",
              "      <td>846541</td>\n",
              "      <td>1861</td>\n",
              "      <td>0.024563</td>\n",
              "      <td>1.0</td>\n",
              "      <td>1.0</td>\n",
              "      <td>NaN</td>\n",
              "      <td>NaN</td>\n",
              "      <td>NaN</td>\n",
              "      <td>0.995798</td>\n",
              "      <td>0.991667</td>\n",
              "      <td>1.000000</td>\n",
              "      <td>0.999929</td>\n",
              "      <td>0.999930</td>\n",
              "      <td>0.995816</td>\n",
              "    </tr>\n",
              "    <tr>\n",
              "      <th>2790</th>\n",
              "      <td>2791</td>\n",
              "      <td>1270015</td>\n",
              "      <td>2791</td>\n",
              "      <td>0.010276</td>\n",
              "      <td>1.0</td>\n",
              "      <td>1.0</td>\n",
              "      <td>NaN</td>\n",
              "      <td>NaN</td>\n",
              "      <td>NaN</td>\n",
              "      <td>0.995798</td>\n",
              "      <td>0.991597</td>\n",
              "      <td>1.000000</td>\n",
              "      <td>0.999929</td>\n",
              "      <td>0.999928</td>\n",
              "      <td>0.995781</td>\n",
              "    </tr>\n",
              "    <tr>\n",
              "      <th>3720</th>\n",
              "      <td>3721</td>\n",
              "      <td>1693081</td>\n",
              "      <td>3721</td>\n",
              "      <td>0.010245</td>\n",
              "      <td>1.0</td>\n",
              "      <td>1.0</td>\n",
              "      <td>0.017013</td>\n",
              "      <td>1.0</td>\n",
              "      <td>1.0</td>\n",
              "      <td>0.995798</td>\n",
              "      <td>0.991736</td>\n",
              "      <td>1.000000</td>\n",
              "      <td>0.999929</td>\n",
              "      <td>0.999931</td>\n",
              "      <td>0.995851</td>\n",
              "    </tr>\n",
              "  </tbody>\n",
              "</table>\n",
              "</div>\n",
              "      <button class=\"colab-df-convert\" onclick=\"convertToInteractive('df-21161dfe-7643-4a8f-9be9-fa6259fcab54')\"\n",
              "              title=\"Convert this dataframe to an interactive table.\"\n",
              "              style=\"display:none;\">\n",
              "        \n",
              "  <svg xmlns=\"http://www.w3.org/2000/svg\" height=\"24px\"viewBox=\"0 0 24 24\"\n",
              "       width=\"24px\">\n",
              "    <path d=\"M0 0h24v24H0V0z\" fill=\"none\"/>\n",
              "    <path d=\"M18.56 5.44l.94 2.06.94-2.06 2.06-.94-2.06-.94-.94-2.06-.94 2.06-2.06.94zm-11 1L8.5 8.5l.94-2.06 2.06-.94-2.06-.94L8.5 2.5l-.94 2.06-2.06.94zm10 10l.94 2.06.94-2.06 2.06-.94-2.06-.94-.94-2.06-.94 2.06-2.06.94z\"/><path d=\"M17.41 7.96l-1.37-1.37c-.4-.4-.92-.59-1.43-.59-.52 0-1.04.2-1.43.59L10.3 9.45l-7.72 7.72c-.78.78-.78 2.05 0 2.83L4 21.41c.39.39.9.59 1.41.59.51 0 1.02-.2 1.41-.59l7.78-7.78 2.81-2.81c.8-.78.8-2.07 0-2.86zM5.41 20L4 18.59l7.72-7.72 1.47 1.35L5.41 20z\"/>\n",
              "  </svg>\n",
              "      </button>\n",
              "      \n",
              "  <style>\n",
              "    .colab-df-container {\n",
              "      display:flex;\n",
              "      flex-wrap:wrap;\n",
              "      gap: 12px;\n",
              "    }\n",
              "\n",
              "    .colab-df-convert {\n",
              "      background-color: #E8F0FE;\n",
              "      border: none;\n",
              "      border-radius: 50%;\n",
              "      cursor: pointer;\n",
              "      display: none;\n",
              "      fill: #1967D2;\n",
              "      height: 32px;\n",
              "      padding: 0 0 0 0;\n",
              "      width: 32px;\n",
              "    }\n",
              "\n",
              "    .colab-df-convert:hover {\n",
              "      background-color: #E2EBFA;\n",
              "      box-shadow: 0px 1px 2px rgba(60, 64, 67, 0.3), 0px 1px 3px 1px rgba(60, 64, 67, 0.15);\n",
              "      fill: #174EA6;\n",
              "    }\n",
              "\n",
              "    [theme=dark] .colab-df-convert {\n",
              "      background-color: #3B4455;\n",
              "      fill: #D2E3FC;\n",
              "    }\n",
              "\n",
              "    [theme=dark] .colab-df-convert:hover {\n",
              "      background-color: #434B5C;\n",
              "      box-shadow: 0px 1px 3px 1px rgba(0, 0, 0, 0.15);\n",
              "      filter: drop-shadow(0px 1px 2px rgba(0, 0, 0, 0.3));\n",
              "      fill: #FFFFFF;\n",
              "    }\n",
              "  </style>\n",
              "\n",
              "      <script>\n",
              "        const buttonEl =\n",
              "          document.querySelector('#df-21161dfe-7643-4a8f-9be9-fa6259fcab54 button.colab-df-convert');\n",
              "        buttonEl.style.display =\n",
              "          google.colab.kernel.accessAllowed ? 'block' : 'none';\n",
              "\n",
              "        async function convertToInteractive(key) {\n",
              "          const element = document.querySelector('#df-21161dfe-7643-4a8f-9be9-fa6259fcab54');\n",
              "          const dataTable =\n",
              "            await google.colab.kernel.invokeFunction('convertToInteractive',\n",
              "                                                     [key], {});\n",
              "          if (!dataTable) return;\n",
              "\n",
              "          const docLinkHtml = 'Like what you see? Visit the ' +\n",
              "            '<a target=\"_blank\" href=https://colab.research.google.com/notebooks/data_table.ipynb>data table notebook</a>'\n",
              "            + ' to learn more about interactive tables.';\n",
              "          element.innerHTML = '';\n",
              "          dataTable['output_type'] = 'display_data';\n",
              "          await google.colab.output.renderOutput(dataTable, element);\n",
              "          const docLink = document.createElement('div');\n",
              "          docLink.innerHTML = docLinkHtml;\n",
              "          element.appendChild(docLink);\n",
              "        }\n",
              "      </script>\n",
              "    </div>\n",
              "  </div>\n",
              "  "
            ]
          },
          "metadata": {},
          "execution_count": 41
        }
      ],
      "metadata": {
        "colab": {
          "base_uri": "https://localhost:8080/",
          "height": 210
        },
        "id": "hP6r9USOULlu",
        "outputId": "a54817ee-3349-49a1-e268-a268feeea3a2"
      }
    },
    {
      "cell_type": "markdown",
      "source": [
        "The accuracy reaches 99.6%. On the plot below we can see how accuracy on the validation set increases during the training run."
      ],
      "metadata": {
        "id": "gnLYJQgCULlv"
      }
    },
    {
      "cell_type": "markdown",
      "source": [
        "**ChatGPT Plus, GPT-4 describes the columns contained in the metrics file.**\n",
        "\n",
        "This log file or report was generated during the machine learning training process. It records key metrics for the training and validation process. Here's what each column means:\n",
        "\n",
        "1. `step`: This is the iteration number. In each step, a batch of examples is processed by the model.\n",
        "\n",
        "2. `elapsed_tokens`: This is the total number of tokens processed so far. A token is typically a word or a character, depending on the language model.\n",
        "\n",
        "3. `elapsed_examples`: This is the total number of examples processed so far. An example corresponds to a single data point in your training or validation set.\n",
        "\n",
        "4. `training_loss`: This is the loss value for the training set. The loss is a measure of the difference between the model's predictions and the actual values in the training set. The goal of training is to minimize this value.\n",
        "\n",
        "5. `training_sequence_accuracy`: This is the sequence-level accuracy for the training set. It measures how often the model correctly predicts entire sequences in the training set.\n",
        "\n",
        "6. `training_token_accuracy`: This is the token-level accuracy for the training set. It measures how often the model correctly predicts individual tokens in the training set.\n",
        "\n",
        "7. `validation_loss`: This is the loss value for the validation set. It's similar to the training loss, but it's calculated using a separate dataset that the model doesn't train on. This helps to ensure that the model is not just memorizing the training data, but is actually learning to generalize to new data.\n",
        "\n",
        "8. `validation_sequence_accuracy`: This is the sequence-level accuracy for the validation set. It measures how often the model correctly predicts entire sequences in the validation set.\n",
        "\n",
        "9. `validation_token_accuracy`: This is the token-level accuracy for the validation set. It measures how often the model correctly predicts individual tokens in the validation set.\n",
        "\n",
        "10. `classification/accuracy`: This is the overall accuracy of the model's classifications.\n",
        "\n",
        "11. `classification/precision`: This is the precision of the model's classifications. Precision is the number of true positives divided by the sum of true positives and false positives. It measures the model's ability to correctly identify only relevant instances.\n",
        "\n",
        "12. `classification/recall`: This is the recall of the model's classifications. Recall is the number of true positives divided by the sum of true positives and false negatives. It measures the model's ability to find all the relevant instances.\n",
        "\n",
        "13. `classification/auroc`: This stands for \"Area Under the Receiver Operating Characteristic curve\". It measures the model's ability to distinguish between classes.\n",
        "\n",
        "14. `classification/auprc`: This stands for \"Area Under the Precision-Recall Curve\". It also measures the model's ability to distinguish between classes, but it gives more weight to precision.\n",
        "\n",
        "15. `classification/f1.0`: This is the F1 score of the model's classifications, which is the harmonic mean of precision and recall. It provides a single measure of the model's performance that balances both precision and recall.\n",
        "\n",
        "Empty entries in the log indicate that the particular metric was not computed or not applicable for that step."
      ],
      "metadata": {
        "id": "0KYFn5ach8kt"
      }
    },
    {
      "cell_type": "code",
      "execution_count": 35,
      "source": [
        "results[results['classification/accuracy'].notnull()]['classification/accuracy'].plot()"
      ],
      "outputs": [
        {
          "output_type": "execute_result",
          "data": {
            "text/plain": [
              "<Axes: >"
            ]
          },
          "metadata": {},
          "execution_count": 35
        },
        {
          "output_type": "display_data",
          "data": {
            "text/plain": [
              "<Figure size 640x480 with 1 Axes>"
            ],
            "image/png": "[encoded data removed]"
          },
          "metadata": {}
        }
      ],
      "metadata": {
        "id": "QpcoaNMoULlv",
        "colab": {
          "base_uri": "https://localhost:8080/",
          "height": 447
        },
        "outputId": "04653215-66b1-4536-ca9a-37c18ce0a5bb"
      }
    },
    {
      "cell_type": "markdown",
      "source": [
        "# 3.Running the fine-tuned GPT-3 model\n",
        "\n",
        "We will now run the model for a classification task\n",
        "\n",
        "We can now call the model to get the predictions."
      ],
      "metadata": {
        "id": "WuOJI0n6ULlw"
      }
    },
    {
      "cell_type": "code",
      "execution_count": 42,
      "source": [
        "test = pd.read_json('sport2_prepared_valid.jsonl', lines=True)\n",
        "test.head(10)"
      ],
      "outputs": [
        {
          "output_type": "execute_result",
          "data": {
            "text/plain": [
              "                                              prompt completion\n",
              "0  From: gld@cunixb.cc.columbia.edu (Gary L Dare)...     hockey\n",
              "1  From: smorris@venus.lerc.nasa.gov (Ron Morris ...     hockey\n",
              "2  From: golchowy@alchemy.chem.utoronto.ca (Geral...     hockey\n",
              "3  From: krattige@hpcc01.corp.hp.com (Kim Krattig...   baseball\n",
              "4  From: warped@cs.montana.edu (Doug Dolven)\\nSub...   baseball\n",
              "5  From: jerry@sheldev.shel.isc-br.com (Gerald La...   baseball\n",
              "6  From: kime@mongoose.torolab.ibm.com (Edward Ki...   baseball\n",
              "7  From: cmk@athena.mit.edu (Charles M Kozierok)\\...   baseball\n",
              "8  From: pkortela@snakemail.hut.fi (Petteri Korte...     hockey\n",
              "9  From: gak@wrs.com (Richard Stueven)\\nSubject: ...     hockey"
            ],
            "text/html": [
              "\n",
              "  <div id=\"df-8d0f4d4d-ea47-4a13-b11f-da7da48e0f72\">\n",
              "    <div class=\"colab-df-container\">\n",
              "      <div>\n",
              "<style scoped>\n",
              "    .dataframe tbody tr th:only-of-type {\n",
              "        vertical-align: middle;\n",
              "    }\n",
              "\n",
              "    .dataframe tbody tr th {\n",
              "        vertical-align: top;\n",
              "    }\n",
              "\n",
              "    .dataframe thead th {\n",
              "        text-align: right;\n",
              "    }\n",
              "</style>\n",
              "<table border=\"1\" class=\"dataframe\">\n",
              "  <thead>\n",
              "    <tr style=\"text-align: right;\">\n",
              "      <th></th>\n",
              "      <th>prompt</th>\n",
              "      <th>completion</th>\n",
              "    </tr>\n",
              "  </thead>\n",
              "  <tbody>\n",
              "    <tr>\n",
              "      <th>0</th>\n",
              "      <td>From: gld@cunixb.cc.columbia.edu (Gary L Dare)...</td>\n",
              "      <td>hockey</td>\n",
              "    </tr>\n",
              "    <tr>\n",
              "      <th>1</th>\n",
              "      <td>From: smorris@venus.lerc.nasa.gov (Ron Morris ...</td>\n",
              "      <td>hockey</td>\n",
              "    </tr>\n",
              "    <tr>\n",
              "      <th>2</th>\n",
              "      <td>From: golchowy@alchemy.chem.utoronto.ca (Geral...</td>\n",
              "      <td>hockey</td>\n",
              "    </tr>\n",
              "    <tr>\n",
              "      <th>3</th>\n",
              "      <td>From: krattige@hpcc01.corp.hp.com (Kim Krattig...</td>\n",
              "      <td>baseball</td>\n",
              "    </tr>\n",
              "    <tr>\n",
              "      <th>4</th>\n",
              "      <td>From: warped@cs.montana.edu (Doug Dolven)\\nSub...</td>\n",
              "      <td>baseball</td>\n",
              "    </tr>\n",
              "    <tr>\n",
              "      <th>5</th>\n",
              "      <td>From: jerry@sheldev.shel.isc-br.com (Gerald La...</td>\n",
              "      <td>baseball</td>\n",
              "    </tr>\n",
              "    <tr>\n",
              "      <th>6</th>\n",
              "      <td>From: kime@mongoose.torolab.ibm.com (Edward Ki...</td>\n",
              "      <td>baseball</td>\n",
              "    </tr>\n",
              "    <tr>\n",
              "      <th>7</th>\n",
              "      <td>From: cmk@athena.mit.edu (Charles M Kozierok)\\...</td>\n",
              "      <td>baseball</td>\n",
              "    </tr>\n",
              "    <tr>\n",
              "      <th>8</th>\n",
              "      <td>From: pkortela@snakemail.hut.fi (Petteri Korte...</td>\n",
              "      <td>hockey</td>\n",
              "    </tr>\n",
              "    <tr>\n",
              "      <th>9</th>\n",
              "      <td>From: gak@wrs.com (Richard Stueven)\\nSubject: ...</td>\n",
              "      <td>hockey</td>\n",
              "    </tr>\n",
              "  </tbody>\n",
              "</table>\n",
              "</div>\n",
              "      <button class=\"colab-df-convert\" onclick=\"convertToInteractive('df-8d0f4d4d-ea47-4a13-b11f-da7da48e0f72')\"\n",
              "              title=\"Convert this dataframe to an interactive table.\"\n",
              "              style=\"display:none;\">\n",
              "        \n",
              "  <svg xmlns=\"http://www.w3.org/2000/svg\" height=\"24px\"viewBox=\"0 0 24 24\"\n",
              "       width=\"24px\">\n",
              "    <path d=\"M0 0h24v24H0V0z\" fill=\"none\"/>\n",
              "    <path d=\"M18.56 5.44l.94 2.06.94-2.06 2.06-.94-2.06-.94-.94-2.06-.94 2.06-2.06.94zm-11 1L8.5 8.5l.94-2.06 2.06-.94-2.06-.94L8.5 2.5l-.94 2.06-2.06.94zm10 10l.94 2.06.94-2.06 2.06-.94-2.06-.94-.94-2.06-.94 2.06-2.06.94z\"/><path d=\"M17.41 7.96l-1.37-1.37c-.4-.4-.92-.59-1.43-.59-.52 0-1.04.2-1.43.59L10.3 9.45l-7.72 7.72c-.78.78-.78 2.05 0 2.83L4 21.41c.39.39.9.59 1.41.59.51 0 1.02-.2 1.41-.59l7.78-7.78 2.81-2.81c.8-.78.8-2.07 0-2.86zM5.41 20L4 18.59l7.72-7.72 1.47 1.35L5.41 20z\"/>\n",
              "  </svg>\n",
              "      </button>\n",
              "      \n",
              "  <style>\n",
              "    .colab-df-container {\n",
              "      display:flex;\n",
              "      flex-wrap:wrap;\n",
              "      gap: 12px;\n",
              "    }\n",
              "\n",
              "    .colab-df-convert {\n",
              "      background-color: #E8F0FE;\n",
              "      border: none;\n",
              "      border-radius: 50%;\n",
              "      cursor: pointer;\n",
              "      display: none;\n",
              "      fill: #1967D2;\n",
              "      height: 32px;\n",
              "      padding: 0 0 0 0;\n",
              "      width: 32px;\n",
              "    }\n",
              "\n",
              "    .colab-df-convert:hover {\n",
              "      background-color: #E2EBFA;\n",
              "      box-shadow: 0px 1px 2px rgba(60, 64, 67, 0.3), 0px 1px 3px 1px rgba(60, 64, 67, 0.15);\n",
              "      fill: #174EA6;\n",
              "    }\n",
              "\n",
              "    [theme=dark] .colab-df-convert {\n",
              "      background-color: #3B4455;\n",
              "      fill: #D2E3FC;\n",
              "    }\n",
              "\n",
              "    [theme=dark] .colab-df-convert:hover {\n",
              "      background-color: #434B5C;\n",
              "      box-shadow: 0px 1px 3px 1px rgba(0, 0, 0, 0.15);\n",
              "      filter: drop-shadow(0px 1px 2px rgba(0, 0, 0, 0.3));\n",
              "      fill: #FFFFFF;\n",
              "    }\n",
              "  </style>\n",
              "\n",
              "      <script>\n",
              "        const buttonEl =\n",
              "          document.querySelector('#df-8d0f4d4d-ea47-4a13-b11f-da7da48e0f72 button.colab-df-convert');\n",
              "        buttonEl.style.display =\n",
              "          google.colab.kernel.accessAllowed ? 'block' : 'none';\n",
              "\n",
              "        async function convertToInteractive(key) {\n",
              "          const element = document.querySelector('#df-8d0f4d4d-ea47-4a13-b11f-da7da48e0f72');\n",
              "          const dataTable =\n",
              "            await google.colab.kernel.invokeFunction('convertToInteractive',\n",
              "                                                     [key], {});\n",
              "          if (!dataTable) return;\n",
              "\n",
              "          const docLinkHtml = 'Like what you see? Visit the ' +\n",
              "            '<a target=\"_blank\" href=https://colab.research.google.com/notebooks/data_table.ipynb>data table notebook</a>'\n",
              "            + ' to learn more about interactive tables.';\n",
              "          element.innerHTML = '';\n",
              "          dataTable['output_type'] = 'display_data';\n",
              "          await google.colab.output.renderOutput(dataTable, element);\n",
              "          const docLink = document.createElement('div');\n",
              "          docLink.innerHTML = docLinkHtml;\n",
              "          element.appendChild(docLink);\n",
              "        }\n",
              "      </script>\n",
              "    </div>\n",
              "  </div>\n",
              "  "
            ]
          },
          "metadata": {},
          "execution_count": 42
        }
      ],
      "metadata": {
        "colab": {
          "base_uri": "https://localhost:8080/",
          "height": 363
        },
        "id": "V2YEzY4JULlw",
        "outputId": "7365e72b-f7bc-4e4a-8cf2-d0a8a6523699"
      }
    },
    {
      "cell_type": "markdown",
      "source": [
        "We need to use the same separator following the prompt which we used during fine-tuning. In this case it is `\\n\\n###\\n\\n`. Since we're concerned with classification, we want the temperature to be as low as possible, and we only require one token completion to determine the prediction of the model."
      ],
      "metadata": {
        "id": "gqTbIk7rULlw"
      }
    },
    {
      "cell_type": "code",
      "execution_count": 37,
      "source": [
        "ft_model ='[MODEL_NAME]'\n",
        "res = openai.Completion.create(model=ft_model, prompt=test['prompt'][0] + '\\n\\n###\\n\\n', max_tokens=1, temperature=0)\n",
        "res['choices'][0]['text']"
      ],
      "outputs": [
        {
          "output_type": "execute_result",
          "data": {
            "text/plain": [
              "' hockey'"
            ],
            "application/vnd.google.colaboratory.intrinsic+json": {
              "type": "string"
            }
          },
          "metadata": {},
          "execution_count": 37
        }
      ],
      "metadata": {
        "colab": {
          "base_uri": "https://localhost:8080/",
          "height": 35
        },
        "id": "R8sp5uvQULlx",
        "outputId": "da85202a-3976-4521-cc5b-a70bc71e7c58"
      }
    },
    {
      "cell_type": "markdown",
      "source": [
        "To get the log probabilities, we can specify logprobs parameter on the completion request"
      ],
      "metadata": {
        "id": "d7gqqxMTULlx"
      }
    },
    {
      "cell_type": "code",
      "execution_count": 43,
      "source": [
        "res = openai.Completion.create(model=ft_model, prompt=test['prompt'][0] + '\\n\\n###\\n\\n', max_tokens=1, temperature=0, logprobs=2)\n",
        "res['choices'][0]['logprobs']['top_logprobs'][0]"
      ],
      "outputs": [
        {
          "output_type": "execute_result",
          "data": {
            "text/plain": [
              "<OpenAIObject at 0x7f1c298501d0> JSON: {\n",
              "  \" hockey\": -0.00018343095,\n",
              "  \" Hockey\": -8.753902\n",
              "}"
            ]
          },
          "metadata": {},
          "execution_count": 43
        }
      ],
      "metadata": {
        "id": "rwN-zWRRULlx",
        "colab": {
          "base_uri": "https://localhost:8080/"
        },
        "outputId": "be471a93-b96c-4245-cfa2-4d7ef8c6b736"
      }
    },
    {
      "cell_type": "markdown",
      "source": [
        "We can see that the model predicts hockey as a lot more likely than baseball, which is the correct prediction. By requesting log_probs, we can see the prediction (log) probability for each class."
      ],
      "metadata": {
        "id": "BcQZ4HKtULly"
      }
    },
    {
      "cell_type": "markdown",
      "source": [
        "## 3.1. Generalization\n",
        "Interestingly, our fine-tuned classifier is quite versatile. Despite being trained on emails to different mailing lists, it also successfully predicts tweets."
      ],
      "metadata": {
        "id": "S5HnSI2TULly"
      }
    },
    {
      "cell_type": "code",
      "execution_count": 39,
      "source": [
        "sample_hockey_tweet = \"\"\"Thank you to the\n",
        "@Canes\n",
        " and all you amazing Caniacs that have been so supportive! You guys are some of the best fans in the NHL without a doubt! Really excited to start this new chapter in my career with the\n",
        "@DetroitRedWings\n",
        " !!\"\"\"\n",
        "res = openai.Completion.create(model=ft_model, prompt=sample_hockey_tweet + '\\n\\n###\\n\\n', max_tokens=1, temperature=0, logprobs=2)\n",
        "res['choices'][0]['text']"
      ],
      "outputs": [
        {
          "output_type": "execute_result",
          "data": {
            "text/plain": [
              "' hockey'"
            ],
            "application/vnd.google.colaboratory.intrinsic+json": {
              "type": "string"
            }
          },
          "metadata": {},
          "execution_count": 39
        }
      ],
      "metadata": {
        "id": "Xpl0-nLKULly",
        "colab": {
          "base_uri": "https://localhost:8080/",
          "height": 35
        },
        "outputId": "e068d2e7-cefb-4083-8233-e1a66411ecfb"
      }
    },
    {
      "cell_type": "code",
      "execution_count": 40,
      "source": [
        "sample_baseball_tweet=\"\"\"BREAKING: The Tampa Bay Rays are finalizing a deal to acquire slugger Nelson Cruz from the Minnesota Twins, sources tell ESPN.\"\"\"\n",
        "res = openai.Completion.create(model=ft_model, prompt=sample_baseball_tweet + '\\n\\n###\\n\\n', max_tokens=1, temperature=0, logprobs=2)\n",
        "res['choices'][0]['text']"
      ],
      "outputs": [
        {
          "output_type": "execute_result",
          "data": {
            "text/plain": [
              "' baseball'"
            ],
            "application/vnd.google.colaboratory.intrinsic+json": {
              "type": "string"
            }
          },
          "metadata": {},
          "execution_count": 40
        }
      ],
      "metadata": {
        "id": "h8Gu9ZLhULlz",
        "colab": {
          "base_uri": "https://localhost:8080/",
          "height": 35
        },
        "outputId": "f01e6a10-a5d1-46da-8de9-d34f817e9bd7"
      }
    },
    {
      "cell_type": "markdown",
      "source": [
        "# 4. Further testing"
      ],
      "metadata": {
        "id": "T80n1M9WlGBK"
      }
    },
    {
      "cell_type": "code",
      "source": [
        "response = openai.Completion.create(\n",
        "  model=\"text-davinci-003\",\n",
        "  prompt=\"Please classify the following text as either \\\"hockey\\\" or \\\"baseball\\\":\\n\\nThis game would have been great as part of a double-header on ABC or ESPN; the league would have been able to push back-to-back wins by Le Magnifique and The Great One. Unfortunately, the only network that would have done that was SCA\",\n",
        "  temperature=1,\n",
        "  max_tokens=10,\n",
        "  top_p=1,\n",
        "  frequency_penalty=0,\n",
        "  presence_penalty=0\n",
        ")"
      ],
      "metadata": {
        "id": "PRd0NcDFlFcV"
      },
      "execution_count": 50,
      "outputs": []
    },
    {
      "cell_type": "code",
      "source": [
        "response"
      ],
      "metadata": {
        "colab": {
          "base_uri": "https://localhost:8080/"
        },
        "id": "UHisiT7VnA9z",
        "outputId": "26c29721-33e5-4f24-e3ea-cdac6ed62f2e"
      },
      "execution_count": 51,
      "outputs": [
        {
          "output_type": "execute_result",
          "data": {
            "text/plain": [
              "<OpenAIObject text_completion id=cmpl-7UKcQNPteF0IZhejYomBVepx5C9ZP at 0x7f1c29572250> JSON: {\n",
              "  \"id\": \"cmpl-7UKcQNPteF0IZhejYomBVepx5C9ZP\",\n",
              "  \"object\": \"text_completion\",\n",
              "  \"created\": 1687463454,\n",
              "  \"model\": \"text-davinci-003\",\n",
              "  \"choices\": [\n",
              "    {\n",
              "      \"text\": \".\\n\\nHockey\",\n",
              "      \"index\": 0,\n",
              "      \"logprobs\": null,\n",
              "      \"finish_reason\": \"stop\"\n",
              "    }\n",
              "  ],\n",
              "  \"usage\": {\n",
              "    \"prompt_tokens\": 73,\n",
              "    \"completion_tokens\": 5,\n",
              "    \"total_tokens\": 78\n",
              "  }\n",
              "}"
            ]
          },
          "metadata": {},
          "execution_count": 51
        }
      ]
    }
  ],
  "metadata": {
    "orig_nbformat": 4,
    "language_info": {
      "name": "python",
      "version": "3.7.3",
      "mimetype": "text/x-python",
      "codemirror_mode": {
        "name": "ipython",
        "version": 3
      },
      "pygments_lexer": "ipython3",
      "nbconvert_exporter": "python",
      "file_extension": ".py"
    },
    "kernelspec": {
      "name": "python3",
      "display_name": "Python 3.7.3 64-bit ('base': conda)"
    },
    "interpreter": {
      "hash": "3b138a8faad971cc852f62bcf00f59ea0e31721743ea2c5a866ca26adf572e75"
    },
    "colab": {
      "provenance": [],
      "toc_visible": true
    }
  },
  "nbformat": 4,
  "nbformat_minor": 0
}