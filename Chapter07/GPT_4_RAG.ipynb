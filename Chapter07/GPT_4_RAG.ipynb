{
  "nbformat": 4,
  "nbformat_minor": 0,
  "metadata": {
    "colab": {
      "provenance": []
    },
    "kernelspec": {
      "name": "python3",
      "display_name": "Python 3"
    },
    "language_info": {
      "name": "python"
    },
    "widgets": {
      "application/vnd.jupyter.widget-state+json": {
        "c6a89c378a4747b1be76a1a0376d1931": {
          "model_module": "@jupyter-widgets/controls",
          "model_name": "HTMLModel",
          "model_module_version": "1.5.0",
          "state": {
            "_dom_classes": [],
            "_model_module": "@jupyter-widgets/controls",
            "_model_module_version": "1.5.0",
            "_model_name": "HTMLModel",
            "_view_count": null,
            "_view_module": "@jupyter-widgets/controls",
            "_view_module_version": "1.5.0",
            "_view_name": "HTMLView",
            "description": "",
            "description_tooltip": null,
            "layout": "IPY_MODEL_520b2361429543f988e812ac4079cd08",
            "placeholder": "​",
            "style": "IPY_MODEL_5541a9ab20114881b9dea281e1032736",
            "value": "Climate change impacts the physical environment, ecosystems, and human societies. It leads to an overall warming trend, more extreme weather conditions, and rising sea levels. These changes can negatively affect nature and wildlife, as well as human settlements and societies."
          }
        },
        "520b2361429543f988e812ac4079cd08": {
          "model_module": "@jupyter-widgets/base",
          "model_name": "LayoutModel",
          "model_module_version": "1.2.0",
          "state": {
            "_model_module": "@jupyter-widgets/base",
            "_model_module_version": "1.2.0",
            "_model_name": "LayoutModel",
            "_view_count": null,
            "_view_module": "@jupyter-widgets/base",
            "_view_module_version": "1.2.0",
            "_view_name": "LayoutView",
            "align_content": null,
            "align_items": null,
            "align_self": null,
            "border": null,
            "bottom": null,
            "display": null,
            "flex": null,
            "flex_flow": null,
            "grid_area": null,
            "grid_auto_columns": null,
            "grid_auto_flow": null,
            "grid_auto_rows": null,
            "grid_column": null,
            "grid_gap": null,
            "grid_row": null,
            "grid_template_areas": null,
            "grid_template_columns": null,
            "grid_template_rows": null,
            "height": null,
            "justify_content": null,
            "justify_items": null,
            "left": null,
            "margin": null,
            "max_height": null,
            "max_width": null,
            "min_height": null,
            "min_width": null,
            "object_fit": null,
            "object_position": null,
            "order": null,
            "overflow": null,
            "overflow_x": null,
            "overflow_y": null,
            "padding": null,
            "right": null,
            "top": null,
            "visibility": null,
            "width": null
          }
        },
        "5541a9ab20114881b9dea281e1032736": {
          "model_module": "@jupyter-widgets/controls",
          "model_name": "DescriptionStyleModel",
          "model_module_version": "1.5.0",
          "state": {
            "_model_module": "@jupyter-widgets/controls",
            "_model_module_version": "1.5.0",
            "_model_name": "DescriptionStyleModel",
            "_view_count": null,
            "_view_module": "@jupyter-widgets/base",
            "_view_module_version": "1.2.0",
            "_view_name": "StyleView",
            "description_width": ""
          }
        }
      }
    }
  },
  "cells": [
    {
      "cell_type": "markdown",
      "source": [
        "# Introducing  RAG(Retrieval Augmented Generation)\n",
        "\n",
        "Copyright 2024 Denis Rothman, MIT License\n",
        "\n",
        "Notebook summary:\n",
        "\n",
        "1.Installation\n",
        "\n",
        "2.Document Retrieval\n",
        "\n",
        "3.Retrival Augmented Generation"
      ],
      "metadata": {
        "id": "I1oKpHRMUwMt"
      }
    },
    {
      "cell_type": "markdown",
      "source": [
        "# 1.Installation"
      ],
      "metadata": {
        "id": "WVq_B28o3HoV"
      }
    },
    {
      "cell_type": "code",
      "source": [
        "!pip install tiktoken"
      ],
      "metadata": {
        "id": "In_lr_olRab5"
      },
      "execution_count": null,
      "outputs": []
    },
    {
      "cell_type": "code",
      "source": [
        "!pip install cohere"
      ],
      "metadata": {
        "id": "KPwK7H_iRhrq"
      },
      "execution_count": null,
      "outputs": []
    },
    {
      "cell_type": "code",
      "source": [
        "#Importing openai\n",
        "try:\n",
        "  import openai\n",
        "except:\n",
        "  !pip install openai\n",
        "  import openai"
      ],
      "metadata": {
        "id": "JJgADXeHVuZm"
      },
      "execution_count": null,
      "outputs": []
    },
    {
      "cell_type": "code",
      "source": [
        "#API Key\n",
        "#Store you key in a file and read it(you can type it directly in the notebook but it will be visible for somebody next to you)\n",
        "from google.colab import drive\n",
        "drive.mount('/content/drive')\n",
        "f = open(\"drive/MyDrive/files/api_key.txt\", \"r\")\n",
        "API_KEY=f.readline()\n",
        "f.close()\n",
        "\n",
        "#The OpenAI Key\n",
        "import os\n",
        "os.environ['OPENAI_API_KEY'] =API_KEY\n",
        "openai.api_key = os.getenv(\"OPENAI_API_KEY\")"
      ],
      "metadata": {
        "id": "2UEypqDkVvST",
        "colab": {
          "base_uri": "https://localhost:8080/"
        },
        "outputId": "e2006fe2-1f46-4d66-c560-9b8897c18863"
      },
      "execution_count": 4,
      "outputs": [
        {
          "output_type": "stream",
          "name": "stdout",
          "text": [
            "Mounted at /content/drive\n"
          ]
        }
      ]
    },
    {
      "cell_type": "code",
      "source": [
        "!pip install ipywidgets"
      ],
      "metadata": {
        "id": "nxD6jcUnWuZW"
      },
      "execution_count": null,
      "outputs": []
    },
    {
      "cell_type": "code",
      "source": [
        "!pip install beautifulsoup4 requests transformers"
      ],
      "metadata": {
        "id": "7Xd3KL19lxc2"
      },
      "execution_count": null,
      "outputs": []
    },
    {
      "cell_type": "markdown",
      "source": [
        "# 2.Document Retrieval"
      ],
      "metadata": {
        "id": "3Y6i6gnU3dzX"
      }
    },
    {
      "cell_type": "code",
      "source": [
        "import requests\n",
        "from bs4 import BeautifulSoup\n",
        "from transformers import pipeline"
      ],
      "metadata": {
        "id": "xbW1f1o-l0cS"
      },
      "execution_count": 7,
      "outputs": []
    },
    {
      "cell_type": "code",
      "source": [
        "def select_urls_based_on_query(user_query):\n",
        "    # URLs related to 'climate'\n",
        "    climate_urls = [\n",
        "        \"https://en.wikipedia.org/wiki/Climate_change\",  # Replace with actual URLs\n",
        "        \"https://en.wikipedia.org/wiki/Effects_of_climate_change\"\n",
        "    ]\n",
        "\n",
        "    # URLs related to 'RAG'\n",
        "    rag_urls = [\n",
        "        \"https://en.wikipedia.org/wiki/Large_language_model\",  # Replace with actual URLs\n",
        "        \"https://huggingface.co/blog/ray-rag\"\n",
        "    ]\n",
        "\n",
        "    # Check if 'climate' is in the user query\n",
        "    if \"climate\" in user_query.lower():\n",
        "        return climate_urls\n",
        "\n",
        "    # Check if 'RAG' is in the user query\n",
        "    elif \"RAG\" in user_query:\n",
        "        return rag_urls\n",
        "\n",
        "    # Default return if no keyword matches\n",
        "    return []"
      ],
      "metadata": {
        "id": "K_jkGkgz2L7w"
      },
      "execution_count": 8,
      "outputs": []
    },
    {
      "cell_type": "code",
      "source": [
        "def fetch_and_summarize(user_query):\n",
        "    urls = select_urls_based_on_query(user_query)\n",
        "\n",
        "    summarizer = pipeline(\"summarization\", model=\"sshleifer/distilbart-cnn-12-6\")\n",
        "\n",
        "    summaries = []\n",
        "    for url in urls:\n",
        "        page = requests.get(url)\n",
        "        soup = BeautifulSoup(page.content, 'html.parser')\n",
        "\n",
        "        # Try to extract the main article text more accurately\n",
        "        # This is a generic example and might need to be adjusted for specific websites\n",
        "        article = soup.find('article')\n",
        "        if article:\n",
        "            article_text = article.get_text()\n",
        "        else:\n",
        "            paragraphs = soup.find_all('p')\n",
        "            article_text = ' '.join([para.get_text() for para in paragraphs])\n",
        "\n",
        "        # Truncate if too long for the model\n",
        "        if len(article_text) > 1024:\n",
        "            article_text = article_text[:1024]\n",
        "\n",
        "        summary = summarizer(article_text, max_length=130, min_length=30, do_sample=False)[0]['summary_text']\n",
        "        summaries.append(summary)\n",
        "\n",
        "    return summaries"
      ],
      "metadata": {
        "id": "eyAn9ksil17h"
      },
      "execution_count": 9,
      "outputs": []
    },
    {
      "cell_type": "markdown",
      "source": [
        "# 3.Retrieval Augmented Generation"
      ],
      "metadata": {
        "id": "Xkh3-zFS3k0D"
      }
    },
    {
      "cell_type": "code",
      "source": [
        "from openai import OpenAI\n",
        "import ipywidgets as widgets\n",
        "from IPython.display import display\n",
        "\n",
        "client = OpenAI()\n",
        "\n",
        "AImodel = \"gpt-4\" # or select another model\n",
        "\n",
        "# Function to interact with OpenAI's model\n",
        "def openai_chat(input_text, document_excerpt, web_article_summary):\n",
        "    # Start the OpenAI API call to generate a chat response\n",
        "    response = client.chat.completions.create(\n",
        "        model=AImodel,  # Specifies the model to use (e.g., \"gpt-3.5-turbo\")\n",
        "        messages=[\n",
        "            {\n",
        "                \"role\": \"system\",  # \"system\" role for providing contextual information\n",
        "                \"content\": f\"The following is an excerpt from a document about climate change: {document_excerpt}\"\n",
        "                # The document excerpt is now a variable passed to the function\n",
        "            },\n",
        "            {\n",
        "                \"role\": \"system\",  # Another \"system\" role message\n",
        "                \"content\": f\"The following is a summary of a web article on renewable energy: {web_article_summary}\"\n",
        "                # The web article summary is now a variable passed to the function\n",
        "            },\n",
        "            {\n",
        "                \"role\": \"user\",  # \"user\" role for the actual user query\n",
        "                \"content\": input_text\n",
        "                # The user's query or input that the model will respond to\n",
        "            }\n",
        "        ],\n",
        "        temperature=0.1,  # Controls randomness. Lower values make responses more deterministic.\n",
        "        max_tokens=150,   # Sets the maximum length of the response in terms of tokens (words/parts of words).\n",
        "        top_p=0.9,        # Nucleus sampling: A higher value increases diversity of the response.\n",
        "        frequency_penalty=0.5,  # Reduces repetition of the same text. Higher values discourage repetition.\n",
        "        presence_penalty=0.5    # Reduces repetition of similar topics. Higher values encourage new topics.\n",
        "    )\n",
        "    # the response object is not a dictionary. It is an instance of the ChatCompletion class\n",
        "    # to access the content property, use dot notation instead of bracket notation\n",
        "    return response.choices[0].message.content\n",
        "\n",
        "input_text = \"What are the impacts of climate change?\"\n",
        "#input_text = \"What is RAG\"\n",
        "\n",
        "# 1. you can create a function specifically for your domain with different cases:\n",
        "    # Check if 'climate' is in the user query\n",
        "if \"climate\" in input_text.lower():\n",
        "        document_excerpt = \"Climate change refers to significant changes in global temperatures and weather patterns over time.\"\n",
        "    # Check if 'RAG' is in the user query\n",
        "if \"RAG\" in input_text.lower():\n",
        "        document_excerpt = \"OpenAI documentation states that RAG or retrieval augmented generation can tell the model about relevant documents.\"\n",
        "\n",
        "\n",
        "# 2. and/or you can automate the retrieval\n",
        "summaries = fetch_and_summarize(input_text)\n",
        "#print(summaries)\n",
        "web_article_summary = summaries\n",
        "\n",
        "iresponse = openai_chat(input_text, document_excerpt, web_article_summary)\n",
        "formatted_response = iresponse.replace('\\n', '<br>')  # Replace \\n with HTML line breaks\n",
        "display(widgets.HTML(value=formatted_response))  # Display response as HTML"
      ],
      "metadata": {
        "id": "ujZwIkLORL7S",
        "colab": {
          "base_uri": "https://localhost:8080/",
          "height": 105,
          "referenced_widgets": [
            "c6a89c378a4747b1be76a1a0376d1931",
            "520b2361429543f988e812ac4079cd08",
            "5541a9ab20114881b9dea281e1032736"
          ]
        },
        "outputId": "74dc2620-6faa-44c6-8780-13545fe63e2c"
      },
      "execution_count": 12,
      "outputs": [
        {
          "output_type": "display_data",
          "data": {
            "text/plain": [
              "HTML(value='Climate change impacts the physical environment, ecosystems, and human societies. It leads to an o…"
            ],
            "application/vnd.jupyter.widget-view+json": {
              "version_major": 2,
              "version_minor": 0,
              "model_id": "c6a89c378a4747b1be76a1a0376d1931"
            }
          },
          "metadata": {}
        }
      ]
    }
  ]
}