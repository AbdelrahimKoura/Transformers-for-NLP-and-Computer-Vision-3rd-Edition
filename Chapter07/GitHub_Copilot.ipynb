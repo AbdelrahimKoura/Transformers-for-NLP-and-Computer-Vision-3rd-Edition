{
  "cells": [
    {
      "cell_type": "markdown",
      "metadata": {
        "id": "xUBUmS3_-Gs0"
      },
      "source": [
        "# GitHub Copilot\n",
        "\n",
        "copyright 2023, Denis Rothman, MIT License"
      ]
    },
    {
      "cell_type": "code",
      "execution_count": null,
      "metadata": {
        "id": "C9lcgVa_91Lj"
      },
      "outputs": [],
      "source": [
        "print(\"GitHub Copilot\")"
      ]
    }
  ],
  "metadata": {
    "colab": {
      "authorship_tag": "ABX9TyMY7ctLKOMhkxGtcKhueWaP",
      "provenance": []
    },
    "kernelspec": {
      "display_name": "Python 3",
      "name": "python3"
    },
    "language_info": {
      "name": "python"
    }
  },
  "nbformat": 4,
  "nbformat_minor": 0
}
