{
  "nbformat": 4,
  "nbformat_minor": 0,
  "metadata": {
    "colab": {
      "provenance": [],
      "authorship_tag": "ABX9TyMY7ctLKOMhkxGtcKhueWaP"
    },
    "kernelspec": {
      "name": "python3",
      "display_name": "Python 3"
    },
    "language_info": {
      "name": "python"
    }
  },
  "cells": [
    {
      "cell_type": "markdown",
      "source": [
        "# GitHub Copilot\n",
        "\n",
        "copyright 2023, Denis Rothman, MIT License"
      ],
      "metadata": {
        "id": "xUBUmS3_-Gs0"
      }
    },
    {
      "cell_type": "code",
      "execution_count": null,
      "metadata": {
        "id": "C9lcgVa_91Lj"
      },
      "outputs": [],
      "source": []
    }
  ]
}