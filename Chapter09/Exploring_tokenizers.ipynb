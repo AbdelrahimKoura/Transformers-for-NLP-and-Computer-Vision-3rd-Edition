{
  "nbformat": 4,
  "nbformat_minor": 0,
  "metadata": {
    "colab": {
      "provenance": [],
      "toc_visible": true,
      "authorship_tag": "ABX9TyMY/8/u7qj8HMMkb/rK+LmE"
    },
    "kernelspec": {
      "name": "python3",
      "display_name": "Python 3"
    },
    "language_info": {
      "name": "python"
    },
    "widgets": {
      "application/vnd.jupyter.widget-state+json": {
        "3900a01b427249f3977c5196e9df2420": {
          "model_module": "@jupyter-widgets/controls",
          "model_name": "TextModel",
          "model_module_version": "1.5.0",
          "state": {
            "_dom_classes": [],
            "_model_module": "@jupyter-widgets/controls",
            "_model_module_version": "1.5.0",
            "_model_name": "TextModel",
            "_view_count": null,
            "_view_module": "@jupyter-widgets/controls",
            "_view_module_version": "1.5.0",
            "_view_name": "TextView",
            "continuous_update": true,
            "description": "",
            "description_tooltip": null,
            "disabled": false,
            "layout": "IPY_MODEL_f0020ccffbbb42f1990f857eb9de1f54",
            "placeholder": "Filter vocabulary",
            "style": "IPY_MODEL_93881f8c7dde47c097c5fb6dd0ce82b0",
            "value": "#"
          }
        },
        "f0020ccffbbb42f1990f857eb9de1f54": {
          "model_module": "@jupyter-widgets/base",
          "model_name": "LayoutModel",
          "model_module_version": "1.2.0",
          "state": {
            "_model_module": "@jupyter-widgets/base",
            "_model_module_version": "1.2.0",
            "_model_name": "LayoutModel",
            "_view_count": null,
            "_view_module": "@jupyter-widgets/base",
            "_view_module_version": "1.2.0",
            "_view_name": "LayoutView",
            "align_content": null,
            "align_items": null,
            "align_self": null,
            "border": null,
            "bottom": null,
            "display": null,
            "flex": null,
            "flex_flow": null,
            "grid_area": null,
            "grid_auto_columns": null,
            "grid_auto_flow": null,
            "grid_auto_rows": null,
            "grid_column": null,
            "grid_gap": null,
            "grid_row": null,
            "grid_template_areas": null,
            "grid_template_columns": null,
            "grid_template_rows": null,
            "height": null,
            "justify_content": null,
            "justify_items": null,
            "left": null,
            "margin": null,
            "max_height": null,
            "max_width": null,
            "min_height": null,
            "min_width": null,
            "object_fit": null,
            "object_position": null,
            "order": null,
            "overflow": null,
            "overflow_x": null,
            "overflow_y": null,
            "padding": null,
            "right": null,
            "top": null,
            "visibility": null,
            "width": null
          }
        },
        "93881f8c7dde47c097c5fb6dd0ce82b0": {
          "model_module": "@jupyter-widgets/controls",
          "model_name": "DescriptionStyleModel",
          "model_module_version": "1.5.0",
          "state": {
            "_model_module": "@jupyter-widgets/controls",
            "_model_module_version": "1.5.0",
            "_model_name": "DescriptionStyleModel",
            "_view_count": null,
            "_view_module": "@jupyter-widgets/base",
            "_view_module_version": "1.2.0",
            "_view_name": "StyleView",
            "description_width": ""
          }
        },
        "882416ddfd17408b8f49c69a2cd534c3": {
          "model_module": "@jupyter-widgets/controls",
          "model_name": "HTMLModel",
          "model_module_version": "1.5.0",
          "state": {
            "_dom_classes": [],
            "_model_module": "@jupyter-widgets/controls",
            "_model_module_version": "1.5.0",
            "_model_name": "HTMLModel",
            "_view_count": null,
            "_view_module": "@jupyter-widgets/controls",
            "_view_module_version": "1.5.0",
            "_view_name": "HTMLView",
            "description": "",
            "description_tooltip": null,
            "layout": "IPY_MODEL_77f0650d3ac843a492429cff68b323b5",
            "placeholder": "​",
            "style": "IPY_MODEL_e93b3d1d9f344ea4837f3961deaaa4f2",
            "value": "Token            ID\n------------  -----\n#              1001\n##!           29612\n##\"           29613\n###           29614\n##$           29615\n##%           29616\n##&           29617\n##'           29618\n##(           29619\n##)           29620\n##*           29621\n##+           29622\n##,           29623\n##-           29624\n##.           29625\n##/           29626\n##0            2692\n##00           8889\n##01          24096\n##0s          16223\n##1            2487\n##10          10790\n##100         18613\n##11          14526\n##12          12521\n##13          17134\n##14          16932\n##15          16068\n##16          16048\n##17          16576\n##18          15136\n##19          16147\n##2            2475\n##20          11387\n##200         28332\n##21          17465\n##22          19317\n##23          21926\n##24          18827\n##25          17788\n##26          23833\n##27          22907\n##28          22407\n##29          24594\n##3            2509\n##30          14142\n##31          21486\n##32          16703\n##33          22394\n##34          22022\n##35          19481\n##36          21619\n##37          24434\n##38          22025\n##39          23499\n##3d          29097\n##4            2549\n##40          12740\n##400         29537\n##41          23632\n##42          20958\n##43          23777\n##44          22932\n##45          19961\n##46          21472\n##47          22610\n##48          18139\n##49          26224\n##4th         26724\n##5            2629\n##50          12376\n##500         29345\n##51          22203\n##52          25746\n##53          22275\n##54          27009\n##55          24087\n##56          26976\n##57          28311\n##58          27814\n##59          28154\n##6            2575\n##60          16086\n##64          21084\n##65          26187\n##66          28756\n##6th         25994\n##7            2581\n##70          19841\n##75          23352\n##7th         27506\n##8            2620\n##80          17914\n##85          27531\n##86          20842\n##8th         28264\n##9            2683\n##90          21057\n##9th         25660\n##:           29627\n##;           29628\n##<           29629\n##=           29630\n##>           29631\n##?           29632\n##@           29633\n##[           29634\n##\\           29635\n##]           29636\n##^           29637\n##_           29638\n##`           29639\n##a            2050\n##a1          27717\n##aa          11057\n##aan         14634\n##aar         26526\n##ab           7875\n##aba         19736\n##abad        10542\n##abas        27537\n##abe         16336\n##abi         28518\n##abia        29039\n##ability      8010\n##able         3085\n##ably         8231\n##aby         21275\n##ac           6305\n##aca         19629\n##ace         10732\n##aceae       18339\n##aceous      25560\n##ach          6776\n##achal       24409\n##ache        15395\n##achi        21046\n##acies       20499\n##acing       26217\n##acio        21361\n##acion       21736\n##acious      20113\n##ack          8684\n##acker       25418\n##acle        18630\n##aco         22684\n##act         18908\n##actic       28804\n##active      19620\n##acy         15719\n##ad           4215\n##ada          8447\n##adan        26335\n##aday        28039\n##ade          9648\n##ades        18673\n##adi         17190\n##adia        25205\n##ading       23782\n##ado          9365\n##ador        26467\n##ados        28118\n##ads         19303\n##adt         18727\n##ady         18632\n##ae           6679\n##aea         21996\n##ael         21147\n##aer         27867\n##af          10354\n##ag           8490\n##aga         16098\n##agawa       20812\n##age          4270\n##aged        18655\n##ager        17325\n##ages        13923\n##agger       27609\n##agh         17988\n##aghan       26685\n##agi         22974\n##aging       16594\n##agne        25440\n##ago         23692\n##ags         26454\n##ah           4430\n##aha         23278\n##ahl         28083\n##ahu         21463\n##ai           4886\n##aia         27131\n##aid         14326\n##ail         12502\n##ailed       17440\n##ailing      29544\n##ain          8113\n##aina        27971\n##aine        18175\n##ains        28247\n##aint        22325\n##air         11215\n##aire        14737\n##ais         15593\n##aith        22465\n##aj          13006\n##aja         22734\n##ajan        28869\n##ak           4817\n##aka         11905\n##ake         13808\n##aker        22626\n##akes        20060\n##akh         27573\n##aki          8978\n##aking       15495\n##ako         20411\n##aks         29243\n##al           2389\n##ala          7911\n##ald         19058\n##aldi        24657\n##aldo        27318\n##ale          9453\n##ales        23266\n##ali         11475\n##alia        22786\n##alic        27072\n##aling       21682\n##alis        13911\n##ality       23732\n##all          8095\n##alla        25425\n##alle        24164\n##ally         3973\n##alo         23067\n##als          9777\n##aly         20766\n##am           3286\n##ama          8067\n##aman        23093\n##ame         14074\n##amen        27245\n##ament       24996\n##americana   27026\n##ami         10631\n##amina       27651\n##amine       19915\n##ammed       27479\n##amo         22591\n##amp         16613\n##amps        25167\n##ams         13596\n##amy         24079\n##an           2319\n##ana          5162\n##anal        27953\n##analysis    25902\n##ance         6651\n##ances       26755\n##ancy        11656\n##and          5685\n##anda        13832\n##ander       12243\n##ando        28574\n##andra       29159\n##ands        29560\n##ane          7231\n##aneous      17191\n##ang          5654\n##anga        18222\n##ange        22043\n##anger       25121\n##ango        23422\n##ani          7088\n##ania        13241\n##anial       27532\n##anian       26032\n##anies       28064\n##ann         11639\n##anna        25789\n##anne        20147\n##ano          6761\n##anor        27869\n##anov        25417\n##ans          6962\n##ant          4630\n##anta        26802\n##ante        12956\n##antes       24985\n##antly       15706\n##anto        21634\n##ants        11390\n##anu         24076\n##anum        27975\n##anus        20849\n##any         19092\n##anza        16076\n##ao           7113\n##ap           9331\n##apa         22068\n##ape         24065\n##apes        29040\n##app         29098\n##apple       23804\n##aq          20784\n##ar           2906\n##ara          5400\n##arable      25236\n##aran        20486\n##arat        25879\n##ard          4232\n##arded       28037\n##arding      29154\n##ardo        24649\n##ards        18117\n##are         12069\n##ares        17933\n##ari          8486\n##aria        10980\n##arian       12199\n##arians      28369\n##aries       12086\n##arina       27943\n##aring       22397\n##ario        16843\n##arion       27548\n##aris        23061\n##arium       17285\n##ark         17007\n##arm         27292\n##arney       25831\n##arns        23549\n##aro         10464\n##around      24490\n##ars         11650\n##art          8445\n##arte        24847\n##arth        22425\n##arts        20591\n##arty        23871\n##aru         15728\n##arus        29133\n##ary          5649\n##as           3022\n##asa         16782\n##asco        28187\n##ase         11022\n##ash         11823\n##ashi        12914\n##asi         21369\n##asia        15396\n##asian       24145\n##ask         19895\n##ass         12054\n##asse        27241\n##ast         14083\n##aster       24268\n##astic       20875\n##asurable    28329\n##at           4017\n##ata          6790\n##atable      27892\n##atal        27815\n##ate          3686\n##ated         4383\n##ately       28239\n##ater        24932\n##ates         8520\n##ath          8988\n##athan       29246\n##athi        25457\n##athic       20972\n##athing      22314\n##athlon      17563\n##athy        17308\n##ati         10450\n##atic        12070\n##atics       17592\n##atin        20363\n##ating        5844\n##ation        3370\n##ations      10708\n##ative        8082\n##ato         10610\n##aton        22436\n##ator         8844\n##ators       18926\n##atory       14049\n##ats         11149\n##att         19321\n##atter       20097\n##atus        15590\n##atz         20501\n##au           4887\n##aud         19513\n##auer        21126\n##ault        23505\n##aur         21159\n##aurus       17342\n##aus         20559\n##ausen       25701\n##aux         13754\n##av          11431\n##ava         12462\n##ave         10696\n##aver        22208\n##aves        21055\n##avi         18891\n##avia        15164\n##avian       21654\n##avio        28471\n##avs         29553\n##aw          10376\n##awa         10830\n##awan        25903\n##away         9497\n##ax           8528\n##ay           4710\n##aya         12186\n##ayan        25868\n##ayo         28852\n##ays         22916\n##ayton       29319\n##az          10936\n##azi         16103\n##b            2497\n##ba           3676\n##bach         7693\n##back         5963\n##backs       12221\n##bad          9024\n##bag         16078\n##bags        26813\n##bah         24206\n##bahn        16052\n##bai         26068\n##bain        29148\n##bal         10264\n##bala        25060\n##balance     26657\n##baldi       28807\n##ball         7384\n##balls       18510\n##ban          8193\n##bana        19445\n##band        12733\n##bane        27543\n##bang        25153\n##bank         9299\n##bant        29604\n##bar          8237\n##bara        20709\n##bard        21458\n##bari        25990\n##bas         22083\n##base        15058\n##basket      25351\n##bat         14479\n##bate        20179\n##bation      23757\n##bau         27773\n##baum        14898\n##bay         15907\n##bb          10322\n##bba         22414\n##bbe         19473\n##bbed        15499\n##bber        29325\n##bbies       27982\n##bbing       23200\n##bble        11362\n##bbled       12820\n##bbling      15343\n##bbly        24200\n##bbon        27684\n##bbs         17226\n##bby         14075\n##bc           9818\n##be           4783\n##beam        28302\n##beat        19442\n##beau        26401\n##beck        12750\n##bed          8270\n##bedo        28759\n##bee         11306\n##bei         19205\n##bek         24597\n##bel          8671\n##bell        17327\n##bella       21700\n##belle       25766\n##belt        21561\n##ben         10609\n##ber          5677\n##bered       22408\n##berg         4059\n##berger      14859\n##berman      23991\n##berries     20968\n##berry        9766\n##bers        17198\n##bert         8296\n##berto       21201\n##bery        22509\n##bes         12681\n##bet         20915\n##bey         19182\n##bf          29292\n##bh          23706\n##bha         22655\n##bham        25522\n##bi           5638\n##bia         11607\n##bial        21102\n##bian        15599\n##bians       26376\n##bib         28065\n##bic         13592\n##bid         17062\n##bie         11283\n##bies        20536\n##bil         14454\n##bilis       27965\n##bilities    14680\n##bility       8553\n##bill        24457\n##bin          8428\n##bina        21114\n##bine        16765\n##bing        10472\n##bino        21891\n##bio         26282\n##biology     21685\n##biotic      26591\n##bir         17706\n##bird         9001\n##birds       12887\n##bis         18477\n##bit         16313\n##bius        17028\n##bl          16558\n##bla         28522\n##ble          3468\n##bled        23242\n##bler        16213\n##bles        13510\n##bley        29538\n##bling        9709\n##block       23467\n##blood       26682\n##bly          6321\n##bm          25526\n##bn          24700\n##bner        29388\n##bo           5092\n##board        6277\n##boarding    21172\n##boards      15271\n##boat        11975\n##boats       19468\n##body        23684\n##bol         14956\n##bola        24290\n##bold        27495\n##bolic       18647\n##bolt        22803\n##bon         11735\n##bone        14417\n##book         8654\n##books       17470\n##boot        27927\n##bor         12821\n##borg        11755\n##born        10280\n##borne       19288\n##boro        12691\n##borough     10235\n##bos         15853\n##bot         18384\n##bots        27014\n##bound       15494\n##bour        25127\n##bourg       20431\n##bourne      11634\n##bow         18912\n##box          8758\n##boy         11097\n##boys        24916\n##br          19892\n##bra         10024\n##brand       23544\n##brate       22008\n##brates      25258\n##bre         13578\n##bread       27035\n##break       23890\n##breaker     21204\n##breakers    27623\n##bri         23736\n##bria        21556\n##brick       25646\n##bridge       6374\n##bright      26614\n##bro         12618\n##broken      29162\n##bron        21337\n##brook        9697\n##bruck       28985\n##brush       18623\n##bry         25731\n##bs           5910\n##bson        27355\n##bt          19279\n##bu           8569\n##buch        25987\n##buck        24204\n##building    25820\n##bula        28507\n##bular       28808\n##bund        27265\n##burg         4645\n##burgh       15496\n##burn         8022\n##buro        23670\n##bury         4917\n##bus          8286\n##bush        22427\n##bution      29446\n##by           3762\n##c            2278\n##ca           3540\n##cable       21170\n##cade        21869\n##cake        17955\n##cal          9289\n##cala        25015\n##cam         28727\n##camp        26468\n##can          9336\n##cana        28621\n##cano        23803\n##cans        26642\n##cao         20808\n##cap         17695\n##cape        19464\n##car         10010\n##carbon      26190\n##card        11522\n##cards       17965\n##care        16302\n##carriage    21539\n##cars        20745\n##cas         15671\n##case        18382\n##cased       28969\n##cast        10526\n##caster      25490\n##castle      23662\n##cat         11266\n##cate        16280\n##cated       12921\n##cating      18252\n##cation      10719\n##cats        19588\n##cave        27454\n##cb          27421\n##cc           9468\n##cca         16665\n##cchi        25955\n##cci         14693\n##cco         21408\n##ccus        27631\n##cd          19797\n##ce           3401\n##cea         21456\n##ceae         9071\n##ced         11788\n##cede        22119\n##cek         25368\n##cel         29109\n##cellular    16882\n##cen         27524\n##cence       29320\n##cend        23865\n##cene        17968\n##cens        19023\n##cent        13013\n##centric     22461\n##ception     24422\n##ceptive     28687\n##cer         17119\n##cera        19357\n##ces          9623\n##cey         25810\n##ch           2818\n##cha          7507\n##chaft       29043\n##chai        24925\n##chal        18598\n##champ       25450\n##chan        14856\n##chang       22305\n##channel     26058\n##charged     22620\n##chase       26300\n##che          5403\n##ched         7690\n##chee        25923\n##chel        15721\n##chemical    15869\n##chemist     24229\n##chen         8661\n##cheng       21043\n##chenko      25872\n##cheon       28099\n##cher         7474\n##chers       21844\n##ches         8376\n##chester     25322\n##chet        20318\n##chev        16179\n##chfield     22693\n##chi          5428\n##chia        20881\n##child       19339\n##chin        17231\n##ching        8450\n##chio        23584\n##chison      27795\n##chman       19944\n##chment      22729\n##chner       28254\n##cho          9905\n##chon        24561\n##christ      26654\n##chrome      20366\n##chs         18069\n##cht         10143\n##chu         20760\n##chua        26200\n##chuk        26516\n##chule       20269\n##church      22743\n##chus        16194\n##chy         11714\n##ci           6895\n##cia          7405\n##cial        13247\n##cian        14483\n##ciation     23247\n##cic         19053\n##cide        27082\n##cie         23402\n##ciency      29125\n##cier        19562\n##cies         9243\n##ciful       26336\n##cin         15459\n##cina        28748\n##cine        16567\n##cing         6129\n##cini        27085\n##cino        21081\n##cio          9793\n##cion        10446\n##cious       18436\n##cis         22987\n##cise        18380\n##cision      28472\n##cit         26243\n##cite        17847\n##city        12972\n##cius        25393\n##ck           3600\n##cke         19869\n##cked        18141\n##cken        19766\n##cker         9102\n##ckey        29183\n##cki         18009\n##cking       23177\n##ckle        19250\n##ckman       24080\n##cko         19665\n##cks         10603\n##cky         17413\n##cl          20464\n##claim       25154\n##claiming    27640\n##class       26266\n##clave       23650\n##cle         14321\n##cles        18954\n##cliff       27580\n##cliffe      18115\n##clops       28659\n##cloth       23095\n##clusive     23633\n##cm          27487\n##co           3597\n##coat        16531\n##cock        13959\n##code        16044\n##codes       23237\n##coe         16288\n##col         25778\n##cola        26289\n##coll        26895\n##cology      19824\n##color       18717\n##com          9006\n##comb        18274\n##combe       14149\n##coming      18935\n##con          8663\n##cona        24366\n##connected   24230\n##cope        16186\n##copic       26461\n##cor         27108\n##core        17345\n##corp        24586\n##cos         13186\n##cot         24310\n##cote        19800\n##cott        13124\n##court       13421\n##cous        27199\n##cp          21906\n##cr          26775\n##craft       10419\n##crat        23185\n##cratic      17510\n##crats       23423\n##cre         16748\n##creen       24410\n##crest       25313\n##cript       23235\n##croft       14716\n##cross       16458\n##crow        24375\n##cs           6169\n##ct           6593\n##cta         25572\n##ctable      23576\n##cted        10985\n##cter        21162\n##ctic        13306\n##cting       11873\n##ction        7542\n##ctions      22014\n##ctive       15277\n##cton        28312\n##ctor        16761\n##ctors       24817\n##ctric       22601\n##cts         16649\n##ctuated     25638\n##ctum        27272\n##cture       14890\n##cturing     19159\n##ctus        22675\n##cu          10841\n##cuit        28168\n##cula        19879\n##cular       15431\n##cule        21225\n##cultural    29415\n##culture     14561\n##culus       28703\n##cum         24894\n##cup         15569\n##cure        23887\n##cured       19405\n##cus          7874\n##cut         12690\n##cute        26869\n##cuting      29163\n##cy           5666\n##cycle       23490\n##cytes       27321\n##cz          27966\n##d            2094\n##da           2850\n##dable       20782\n##dad         14697\n##dae          6858\n##dah         18417\n##dai         21351\n##dak         23597\n##dal          9305\n##dale         5634\n##dalen       26414\n##dam         17130\n##dan          7847\n##dana        25917\n##dance       25514\n##dant        28210\n##dar          7662\n##dara        25329\n##das          8883\n##date        13701\n##dates       27122\n##dating      16616\n##dation      20207\n##dav         29045\n##day         10259\n##db          18939\n##dberg       25190\n##dc          16409\n##dd          14141\n##dda         25062\n##dded        19520\n##dden        17101\n##dder        20791\n##ddin        18277\n##dding       27027\n##ddle        20338\n##ddled       28090\n##ddling      21814\n##ddy         14968\n##de           3207\n##deck        26547\n##ded          5732\n##dee         26095\n##deh         25383\n##dek         24463\n##del          9247\n##dell        12662\n##den          4181\n##dened       24589\n##dent        16454\n##dents       28986\n##der          4063\n##dermott     29370\n##dern        25888\n##ders        13375\n##des          6155\n##dev         24844\n##dez         24601\n##df          20952\n##dge         11818\n##dget        24291\n##dgets       28682\n##dh          16425\n##dha         17516\n##dham        17661\n##dhar        25632\n##dhi         19114\n##di           4305\n##dia          9032\n##dial        27184\n##dian        11692\n##dic         14808\n##dicate      16467\n##dicated     26022\n##dication    25027\n##dice        24598\n##dick        24066\n##dict        29201\n##die         10265\n##dier        24612\n##dies        18389\n##dilly       28832\n##dim         22172\n##diment      21341\n##din          8718\n##dina        18979\n##dine        10672\n##ding         4667\n##dington     21504\n##dini        26039\n##dio         20617\n##dion        29573\n##dis         10521\n##dit         23194\n##dition      20562\n##ditional    27064\n##dity        25469\n##dium        12811\n##dl          19422\n##dle         10362\n##dled        20043\n##dler        21222\n##dles        27822\n##dley        14232\n##dling       14423\n##dlow        27002\n##dly         18718\n##dm          22117\n##dman        21804\n##dna         28911\n##dner        28001\n##do           3527\n##dock        14647\n##dog         16168\n##dom          9527\n##dome        26173\n##don          5280\n##dong        17679\n##door        23835\n##dor          7983\n##dora        24562\n##dorf        11592\n##dorff       26559\n##dos         12269\n##dot         27364\n##dote        23681\n##dou         26797\n##down         7698\n##dp          18927\n##dr          13626\n##dra          7265\n##dran        24914\n##dre         16200\n##drich       23335\n##drick       24092\n##dridge      21482\n##drik        28730\n##drive       23663\n##dro         22196\n##drome       29171\n##dron        19440\n##drop        25711\n##drum        21884\n##dry         21190\n##ds           5104\n##dson        25112\n##dt          11927\n##du           8566\n##duced       28901\n##ducted      29510\n##duction     16256\n##ductive     26638\n##due         20041\n##duk         28351\n##dun         27584\n##dur         24979\n##dus         17619\n##dust        24220\n##dy           5149\n##dya         25838\n##e            2063\n##ea           5243\n##ead         13775\n##eak         25508\n##eal         15879\n##ean         11219\n##ear         14644\n##earing      27242\n##ears        26492\n##ease        19500\n##eased       25063\n##eau         10207\n##eaux        25639\n##eb          15878\n##eber        22669\n##eborg       27614\n##ec           8586\n##eca         19281\n##ece         26005\n##ech         15937\n##eche        27635\n##ecin        28191\n##eck         11012\n##economic    23035\n##ect         22471\n##ection      18491\n##ecure       29150\n##ed           2098\n##eda         11960\n##edance      29605\n##edd         22367\n##ede         14728\n##eded        19082\n##edes        18352\n##edge        24225\n##edging      28002\n##eding       17819\n##edly        26207\n##edo         26010\n##ee           4402\n##eed         13089\n##eem         21564\n##een         12129\n##eer         11510\n##eering      20550\n##eers        22862\n##ees         10285\n##eet         15558\n##ef          12879\n##efe         27235\n##efined      28344\n##eft         29218\n##eg          13910\n##ega         29107\n##egan        20307\n##ege         24746\n##eger        26320\n##ego         20265\n##egorical    27203\n##eh          11106\n##ehan        24660\n##ei           7416\n##eia         27958\n##eil         24359\n##eim         12112\n##ein         12377\n##eira        21302\n##eiro        17166\n##eis         17580\n##eit         20175\n##ej          20518\n##ek           5937\n##eka         19025\n##eke         23941\n##eki         26576\n##el           2884\n##ela         10581\n##eland       25689\n##eld         14273\n##ele         12260\n##eles        26741\n##eley        22352\n##eli         20806\n##elia        13902\n##elial       24587\n##elin        18809\n##elis        29282\n##ell          5349\n##ella         8411\n##ellant      24178\n##elle        14774\n##elled       21148\n##eller       24038\n##elles       22869\n##elli        13348\n##elling      23918\n##ello        15350\n##elman       23830\n##elo         18349\n##els          9050\n##elt         20042\n##ely         26006\n##em           6633\n##ema         14545\n##eman        16704\n##emann       17545\n##eme         21382\n##ement       13665\n##emi         23238\n##emia        17577\n##emon        26941\n##emy         26662\n##en           2368\n##ena          8189\n##enary       24553\n##enas        26474\n##enay        27727\n##enbach      21409\n##enberg      11029\n##enburg      12059\n##ence        10127\n##encia       27742\n##encies      15266\n##ency        11916\n##end         10497\n##ended       21945\n##endez       28787\n##ending      18537\n##endra       19524\n##ene          8625\n##ened         6675\n##ener        24454\n##enes        28553\n##eng         13159\n##enham       23580\n##eni         18595\n##enia        19825\n##ening        7406\n##enity       20693\n##enko        17868\n##enna        24397\n##enne        24336\n##ennial      22929\n##eno         16515\n##ens          6132\n##ensburg     28812\n##ense        16700\n##ensis        9911\n##enstein     21819\n##ent          4765\n##ental       21050\n##entation    19304\n##ente        15781\n##ented       14088\n##enter       29110\n##entes       26933\n##ential      24271\n##enting      26951\n##ently       28198\n##ents        11187\n##eo           8780\n##eon         10242\n##eous        14769\n##ep          13699\n##ept         23606\n##eptive      22048\n##er           2121\n##era          6906\n##eral        21673\n##eran        23169\n##eras        24140\n##erate       22139\n##erated      16848\n##eration     16754\n##erative     25284\n##ere          7869\n##ered         6850\n##erence      20935\n##eres        18702\n##ergy        24395\n##eri         11124\n##eria        11610\n##erian       27549\n##eric        22420\n##erie        17378\n##eries       28077\n##erik        27350\n##erin        23282\n##erina       26052\n##erine       24226\n##ering        7999\n##erland      22492\n##erly        12561\n##erman       18689\n##ern         11795\n##ero         10624\n##eron        26534\n##eros        27360\n##erre        28849\n##erry        19826\n##ers          2545\n##erson       18617\n##ert          8743\n##erted       28728\n##erton       20995\n##erty        15010\n##erus        21608\n##erved       25944\n##erving      25164\n##ery          7301\n##es           2229\n##esa         22447\n##escence     28964\n##escu        19434\n##ese          6810\n##eses        23072\n##esh          9953\n##esian       25253\n##esis        19009\n##eson        21421\n##ess          7971\n##essed       23656\n##esses       26636\n##est          4355\n##ested       17944\n##ester       20367\n##esthesia    25344\n##estinal     19126\n##estra       26199\n##et           3388\n##eta         12928\n##etano       28752\n##etched      29574\n##ete         12870\n##eter        15141\n##eth         11031\n##eti         20624\n##etic        16530\n##eto         18903\n##ets          8454\n##ett          6582\n##etta        16549\n##ette         7585\n##ettes       26592\n##etti        18319\n##etto        20082\n##ety         27405\n##etz         26327\n##eu          13765\n##eum         14820\n##eur         11236\n##eurs        26744\n##eus         10600\n##eux         20860\n##ev           6777\n##eva         13331\n##eve         18697\n##ever        22507\n##eves        23047\n##evic        17726\n##evich       16277\n##eville      21187\n##eving       23559\n##evsky       27015\n##ew           7974\n##ex          10288\n##ey           3240\n##eye         17683\n##eyer        20211\n##ez           9351\n##eza         28640\n##ezer        25733\n##f            2546\n##fa           7011\n##face        12172\n##factory     21450\n##fahan       28975\n##fall        13976\n##falls       28067\n##fan         15143\n##far         14971\n##fare        17883\n##farlane     23511\n##fast        24333\n##fat         27753\n##fb          26337\n##fc          11329\n##fe           7959\n##fect        25969\n##fed         25031\n##feit        21156\n##feld         8151\n##fell        23510\n##felt        26675\n##fen         18940\n##feng        24383\n##fer          7512\n##fera        27709\n##ference     25523\n##fers        24396\n##fest        14081\n##ff           4246\n##ffa         20961\n##ffe         16020\n##ffed        15388\n##ffen        18032\n##ffer        12494\n##ffey        24513\n##ffi         26989\n##ffie        29055\n##ffin        15379\n##ffle        18142\n##ffled       28579\n##ffs         21807\n##ffy         16329\n##fi           8873\n##fia         22749\n##fication    10803\n##fide        20740\n##fied        10451\n##field        3790\n##fields      15155\n##fies        14213\n##fight       20450\n##fighter     20027\n##fighting    22158\n##film        23665\n##filtration  28674\n##fin         16294\n##finder      23695\n##fine        23460\n##finger      20349\n##fire        10273\n##fires       26332\n##firm        27972\n##firmed      23141\n##fish         7529\n##fixed       23901\n##fk          24316\n##fl          10258\n##fle         21031\n##fleet       27657\n##fles        28331\n##flict       29301\n##flies       24019\n##flight      28968\n##flow        12314\n##flower      14156\n##fly         14151\n##fm          16715\n##fo          14876\n##foil        24323\n##fold        10371\n##folding     21508\n##folia       21710\n##folk        29284\n##foot        13064\n##for         29278\n##force       14821\n##ford         3877\n##form        14192\n##formed      29021\n##forms       22694\n##fort        13028\n##forth       15628\n##founded     21001\n##fp          22540\n##fr          19699\n##fra         27843\n##frame       15643\n##free        23301\n##frey        22586\n##frid        27439\n##front       12792\n##fs          10343\n##ft           6199\n##fted        18915\n##fting       26169\n##fu          11263\n##ful          3993\n##fully        7699\n##fulness     20938\n##fur         27942\n##furt        24428\n##fus         25608\n##fusion      20523\n##fy          12031\n##fying       14116\n##g            2290\n##ga           3654\n##gaard       18839\n##gai         23805\n##gal          9692\n##gall        22263\n##gam         22864\n##game        16650\n##games       26393\n##gami        26517\n##gan          5289\n##gang        24930\n##ganj        22738\n##gano        29451\n##gaon        27073\n##gar          6843\n##gara        24864\n##gard        13444\n##garh        13484\n##gart        27378\n##gas         12617\n##gat         20697\n##gata        26589\n##gate         5867\n##gated       11644\n##gating      16961\n##gation      12540\n##gative      26792\n##gau         20420\n##gawa        21188\n##gb          18259\n##gc          18195\n##ge           3351\n##ged          5999\n##gee         18372\n##gel         12439\n##gement      20511\n##gen          6914\n##genase      28835\n##gence       17905\n##genesis     23737\n##genic       16505\n##gens        21230\n##gent        11461\n##geny        17487\n##ger          4590\n##gers        15776\n##ges          8449\n##get         18150\n##gf          25708\n##gg          13871\n##gga         23033\n##gged        15567\n##gger        13327\n##gging       12588\n##ggio        20650\n##ggle        24679\n##ggles       24989\n##ggs         21314\n##ggy         22772\n##gh           5603\n##ghan        22218\n##ghi         28891\n##ght         13900\n##ghton       21763\n##gi           5856\n##gia         10440\n##gible       18507\n##gic         12863\n##gical       26715\n##gie         11239\n##gies        17252\n##gil         20142\n##gill        19791\n##gin         11528\n##gina        20876\n##ginal       24965\n##ging         4726\n##gingly      28392\n##gins        16529\n##gio         11411\n##giri        23243\n##girl        15239\n##gis         17701\n##gist        24063\n##git         23806\n##giving      23795\n##gizing      28660\n##gl          23296\n##glass       15621\n##gle          9354\n##gled        11533\n##gler        17420\n##glers       25555\n##gles        17125\n##gley        22971\n##gli         25394\n##glia        20011\n##gling       18483\n##glio        29480\n##gly         25643\n##gm          21693\n##gman        25494\n##gn          16206\n##gna         16989\n##gnan        28207\n##gnant       27881\n##gne         10177\n##gned        19225\n##gni         29076\n##gno         26745\n##gnon        26977\n##gny         19393\n##go           3995\n##going       26966\n##gol         24141\n##gold        21270\n##gon          7446\n##gonal       20028\n##gong        17036\n##good        24146\n##gor         20255\n##gos         12333\n##gp          21600\n##gpur        25758\n##gr          16523\n##gra         17643\n##grad        16307\n##grade       24170\n##gram        13113\n##grant       18980\n##grants      27444\n##graph       14413\n##grapher     18657\n##graphic     14773\n##graphs      27341\n##graphy      12565\n##grass       19673\n##grate       22780\n##grating     28183\n##gration     29397\n##grave       12830\n##gre         17603\n##gree        28637\n##gren        13565\n##grin        24860\n##ground      16365\n##grounds     28951\n##group       17058\n##grove       21525\n##growth      26982\n##gs           5620\n##gt          13512\n##gu          12193\n##gua         19696\n##guard       18405\n##guchi       16918\n##gue          9077\n##gues        22967\n##gui         25698\n##guide       28582\n##gul         24848\n##gum         22850\n##gun         12734\n##gur         27390\n##gus         12349\n##gut         27920\n##gy           6292\n##h            2232\n##ha           3270\n##hab         25459\n##had         16102\n##hae         25293\n##hai         10932\n##hair        26227\n##hak         20459\n##hal          8865\n##hala        19531\n##hale        15238\n##haling      23896\n##hall         9892\n##ham          3511\n##hammer      19742\n##hampton     21946\n##han          4819\n##hana        15788\n##hand        11774\n##hane        28006\n##hang        18003\n##hani        23573\n##har          8167\n##hara        11077\n##harat       28074\n##hard        11783\n##hardt       13778\n##hari        18428\n##hart        10686\n##has         14949\n##hat         12707\n##haus        13821\n##hausen      13062\n##havan       24652\n##haven       14650\n##haw         14238\n##hawk        17998\n##hawks       16043\n##hay         24180\n##haya        26115\n##hc          16257\n##hd          14945\n##hdi         22960\n##he           5369\n##hea         20192\n##head         4974\n##heads       13038\n##hear        26560\n##heard       26362\n##heart       22375\n##hearted     27693\n##heater      27847\n##hed          9072\n##hedral      27310\n##hedron      26440\n##hee         21030\n##hei         26036\n##heim         8049\n##heimer      18826\n##hein        26496\n##hel         16001\n##held        24850\n##hell        18223\n##helm        24546\n##hem         29122\n##hema        28433\n##hen         10222\n##hend        22342\n##henko       19767\n##her          5886\n##hered       27190\n##hering      22658\n##hers        22328\n##herton      27949\n##hes         15689\n##hesion      21471\n##hesis       24124\n##hesive      21579\n##het         27065\n##hetic       20086\n##hett        28499\n##hey         14844\n##hg          25619\n##hh          23644\n##hi           4048\n##hia         12995\n##hian        14204\n##hic         16066\n##hid         27511\n##hide        26100\n##hiff        25798\n##hiko        22204\n##hil         19466\n##hila        26415\n##hill         7100\n##him         14341\n##hima        16369\n##hin         10606\n##hine        14014\n##hing        12053\n##hini        20535\n##hip          5605\n##hips        19801\n##hir         11961\n##hire        20908\n##hiro        18334\n##his         24158\n##hism        23108\n##hit         16584\n##hita        23935\n##hiti        27798\n##hl           7317\n##hler        13620\n##hli         27766\n##hly         27732\n##hm          14227\n##hma         22444\n##hman        13890\n##hmi         26837\n##hn           7295\n##hner        28989\n##ho           6806\n##hoe         14490\n##hof         14586\n##hoff        17896\n##hog         25852\n##hol         14854\n##hold        12640\n##holder      14528\n##holders     17794\n##holding     23410\n##hole        11484\n##holes       19990\n##holm        18884\n##holz        28094\n##hom         23393\n##hon          8747\n##hone        27406\n##hong        19991\n##hony        27629\n##hood         9021\n##hoot        23416\n##hop         18471\n##hope        26441\n##hopper      27330\n##hor         16368\n##hora        16977\n##hore        16892\n##horn         9769\n##horpe       22044\n##horse       23024\n##hort        27794\n##hos         15006\n##hosh        26643\n##hosis       25229\n##hot         12326\n##house        4580\n##houses      15666\n##how         14406\n##hp          22269\n##hr           8093\n##hra         13492\n##hre         28362\n##hrer        17875\n##hri         26378\n##hs           7898\n##ht          11039\n##hta         22893\n##hu           6979\n##hua         14691\n##hue         20169\n##hui         20552\n##hul         21886\n##hum         28600\n##hun         17157\n##hunter      25629\n##hur         24572\n##hurst       10510\n##hus          9825\n##hwa         18663\n##hy          10536\n##hya         17915\n##hyl         29598\n##hyllum      27750\n##i            2072\n##ia           2401\n##iable       19210\n##iac         20469\n##iaceae      23357\n##iad         28665\n##iae         19001\n##iah         12215\n##ial          4818\n##ials        26340\n##iam         25107\n##ian          2937\n##iana        11410\n##iance       28335\n##iani        25443\n##iano        15668\n##ians         7066\n##iard        14619\n##iary        17302\n##ias          7951\n##iate        13143\n##iated       15070\n##iating      15370\n##iation      18963\n##ib          12322\n##iba         18410\n##ibar        26656\n##ibe         20755\n##ibility     13464\n##ible         7028\n##ibly        17296\n##ic           2594\n##ica          5555\n##ical         7476\n##ically      15004\n##icate       24695\n##icated      17872\n##ication     21261\n##icative     25184\n##ice          6610\n##ices        23522\n##ich          7033\n##iche        17322\n##ichi        11319\n##ici         28775\n##icia        24108\n##icide       21752\n##icides      22698\n##iciencies   28227\n##icient      20132\n##icing       23553\n##icio        27113\n##ick          6799\n##icle        25128\n##icles       20921\n##ico         11261\n##icon        28524\n##ics          6558\n##iction      28097\n##icular      21412\n##iculate     24153\n##icum        22167\n##icus        14239\n##icz         18682\n##id           3593\n##ida          8524\n##idad        27893\n##idae         6096\n##idal        16975\n##ide          5178\n##ided        14097\n##ider        18688\n##ides         8621\n##idge        13623\n##idi         28173\n##idia        29342\n##idium       28742\n##ido         13820\n##idon        28201\n##ids          9821\n##ie           2666\n##iec         23783\n##ied          6340\n##ieg         28872\n##iel          9257\n##ield        12891\n##ien          9013\n##ience       13684\n##iens        24836\n##iensis      27806\n##ient        11638\n##iente       25099\n##ier          3771\n##iere        21253\n##ieri        21939\n##iers        10136\n##ies          3111\n##iest        10458\n##ieu         17301\n##ieving      25587\n##if          10128\n##iface       29164\n##ife         29323\n##ifer        23780\n##iferous     23930\n##iff         13355\n##ific        18513\n##ification    9031\n##ifice       23664\n##ified        7810\n##ifier       18095\n##ifiers      28295\n##ifies       14144\n##ifolia      29244\n##iform       22631\n##iful        18424\n##ify          8757\n##ifying      11787\n##ig           8004\n##iga         13340\n##igan        10762\n##igate       28731\n##ige         25538\n##igen        29206\n##iger        17071\n##igh         18377\n##ight        18743\n##ign         23773\n##ignant      25593\n##ignment     24838\n##ignon       24796\n##igny        26978\n##igo         14031\n##igraphy     23132\n##ih          19190\n##ii           6137\n##iidae       15648\n##iii         28954\n##ij          28418\n##ija         14713\n##iji         27821\n##ik           5480\n##ika          7556\n##ike         17339\n##ikh         28209\n##iki         17471\n##iko         12676\n##il           4014\n##ila         11733\n##ilation     29545\n##ilde        23891\n##ile          9463\n##iled        18450\n##ili         18622\n##ilia        27861\n##iling       16281\n##ilis        24411\n##ilised      21758\n##ility       15148\n##ill          8591\n##illa         9386\n##ille        10484\n##illo        10486\n##illon       20343\n##illy        20577\n##ilo         22360\n##ils         12146\n##ily          6588\n##im           5714\n##ima          9581\n##iman        18505\n##imate       21499\n##imated      20592\n##imating     22835\n##ime         14428\n##imeter      19198\n##imeters     28136\n##imi         27605\n##imo         16339\n##imov        25299\n##imum        28591\n##imus        19315\n##in           2378\n##ina          3981\n##inae        16414\n##inal        13290\n##inas        15227\n##inate       14776\n##inated      15833\n##inates      28184\n##inating     19185\n##ination     12758\n##inations    22045\n##inator      23207\n##inatory     28230\n##ind         22254\n##inda        23938\n##ine          3170\n##ined        21280\n##inen        21820\n##iner        26455\n##ines        10586\n##iness        9961\n##ing          2075\n##inga        28234\n##ingdon      29138\n##inge        23496\n##ingen       15542\n##inger        9912\n##ingham      16445\n##inging      23180\n##ingly       15787\n##ings         8613\n##ington       7853\n##inho        29344\n##ini          5498\n##inia        23309\n##inian       15830\n##ining       24002\n##inium       27585\n##ink         19839\n##inking      29377\n##inkles      28562\n##inn         23111\n##ino          5740\n##ins          7076\n##inski       19880\n##insky       20894\n##int         18447\n##inton       27028\n##inus        13429\n##iny         24300\n##io           3695\n##iography    26535\n##iol         20282\n##iology      20569\n##iom         18994\n##ioms        29178\n##ion          3258\n##ional       19301\n##ioned       19798\n##ions         8496\n##ior         25346\n##ios         10735\n##iot         25185\n##ious         6313\n##iously      19426\n##ip          11514\n##ipe         15457\n##ipes        28108\n##iq          18515\n##ique         7413\n##iques       19516\n##ir           4313\n##ira          7895\n##ire          7442\n##ired        27559\n##iri         15735\n##iring       24771\n##iro          9711\n##irs         18894\n##irus        26013\n##is           2483\n##isa         14268\n##isan        29196\n##isance      28138\n##isation      6648\n##isch        19946\n##ische       13719\n##ischen      24488\n##isches      27239\n##ise          5562\n##ised         5084\n##isen        28992\n##iser        17288\n##ises        13087\n##ish          4509\n##isha        24032\n##ished       13295\n##ishing      21837\n##ishly       19983\n##ishment     21808\n##isi         17417\n##ising        9355\n##ision       19969\n##isk         20573\n##islaus      25678\n##islav       19834\n##ism          2964\n##isman       20257\n##isms        22556\n##iso         19565\n##ison        10929\n##iss         14643\n##issa        21205\n##isse        23491\n##isson       24077\n##ist          2923\n##ista        11921\n##istan       23137\n##iste        27870\n##ister       12911\n##istic        6553\n##istle       24242\n##istles      28738\n##isto        20483\n##ists         5130\n##it           4183\n##ita          6590\n##itaire      29422\n##ital        18400\n##itan        25451\n##itarian     25691\n##itas        24317\n##itate       17570\n##itated      15198\n##itating     16518\n##itation     18557\n##itative     29293\n##itch        20189\n##ite          4221\n##ited        17572\n##iter        21646\n##ites         7616\n##ith          8939\n##itha        26054\n##iti         25090\n##itia        29050\n##itic        18291\n##itical      26116\n##ities        6447\n##iting       15402\n##ition       22753\n##itis        13706\n##itive       13043\n##ito          9956\n##itor        15660\n##itors       27287\n##its         12762\n##itt         12474\n##itte        27100\n##itude       18679\n##itung       28813\n##ity          3012\n##itz          8838\n##itzer       19253\n##iu          17922\n##ium          5007\n##ius          4173\n##iv          12848\n##iva         11444\n##ivar        28739\n##ivate       21466\n##ivated      21967\n##ivating     17441\n##ivation     25761\n##ive          3512\n##ively       14547\n##iver        16402\n##ives        24653\n##iving       14966\n##ivision     24607\n##ivism       22486\n##ivist       21997\n##ivity        7730\n##ivo         20984\n##ix           7646\n##iy          28008\n##iya          8717\n##iz          10993\n##iza         21335\n##izan        27334\n##ization      3989\n##izations    22318\n##ize          4697\n##ized         3550\n##izer        17629\n##izes        10057\n##izing        6026\n##izzly       29266\n##j            3501\n##ja           3900\n##jack        17364\n##jad         27875\n##jah         18878\n##jak         18317\n##jal         25787\n##jali        28948\n##jan          8405\n##jana        18803\n##jar         16084\n##jas         17386\n##je           6460\n##jean        27687\n##ject        20614\n##jected      24455\n##jee         16963\n##jer         20009\n##jet         15759\n##jevic       26782\n##jhl         29001\n##ji           4478\n##jia         26541\n##jian        27685\n##jiang       21786\n##jic         25008\n##jima        19417\n##jin         14642\n##jing        29518\n##jit         18902\n##jk          15992\n##jm          24703\n##jn          22895\n##jo           5558\n##jon         14339\n##jong        21958\n##jord        24876\n##jos         19929\n##jou         23099\n##joy         24793\n##js          22578\n##ju           9103\n##jun         19792\n##jure        25243\n##jured       26949\n##just        29427\n##k            2243\n##ka           2912\n##kai         11151\n##kal         12902\n##kala        26907\n##kali        28613\n##kam         27052\n##kan          9126\n##kar          6673\n##kara        16566\n##kari        20224\n##kas         13716\n##kat         24498\n##kata        29123\n##kato        26020\n##kawa        13069\n##kaya        20718\n##ke           3489\n##ked          8126\n##kee         20553\n##keeper      13106\n##keepers     24764\n##keeping     18321\n##kei         29501\n##kel         11705\n##kell        18690\n##ken          7520\n##ker          5484\n##kers        11451\n##kes          9681\n##key         14839\n##kh          10023\n##kha         15256\n##khan        26370\n##khand       25910\n##khar        22510\n##khov        25495\n##ki           3211\n##kia         21128\n##kian        28545\n##kic         29493\n##kie         11602\n##kiewicz     28563\n##kill        15872\n##kim         21138\n##kin          4939\n##kind        18824\n##king         6834\n##kins        14322\n##kir         23630\n##kis         14270\n##kit         23615\n##kk          19658\n##kka         15714\n##kken        24192\n##kker        23793\n##kki         24103\n##kko         22426\n##kla         26086\n##kle         19099\n##kled        19859\n##kley        22315\n##kling       20260\n##km          22287\n##kney        26993\n##ko           3683\n##koff        26126\n##kon         19648\n##kong        25460\n##kor         21815\n##kos         15710\n##kot         23342\n##kota        27380\n##koto        24886\n##kou         24861\n##kov          7724\n##kova        18810\n##kovic       14733\n##kovich      28195\n##kovsky      23829\n##kow         24144\n##kowski      15449\n##kr          21638\n##kra         22272\n##krishna     23017\n##ks           5705\n##ksha        28132\n##kshi        27488\n##kson        26579\n##kt          25509\n##kti         22462\n##ku           5283\n##kulam       28871\n##kumar       18494\n##kur         18569\n##kura        28260\n##kus         22332\n##kushima     24917\n##ky           4801\n##kyu         23076\n##l            2140\n##la           2721\n##lab         20470\n##lace        19217\n##lad         27266\n##lag         17802\n##lage        20679\n##lah         14431\n##lai         19771\n##laid        24393\n##lain        15987\n##lais        28704\n##laise       25122\n##lak         23451\n##lake        14530\n##lal         13837\n##lam         10278\n##lan          5802\n##lana        16695\n##lance       23078\n##land         3122\n##landa       24448\n##lander      22691\n##lands        8653\n##lane        20644\n##lang        25023\n##lani        21141\n##lar          8017\n##lard        20822\n##lars        28695\n##lary        28221\n##las          8523\n##lase        25002\n##lash        27067\n##lass        27102\n##lassified   24938\n##lastic      28723\n##lat         20051\n##late        13806\n##lated       13776\n##lateral     28277\n##lates       26786\n##lating      22248\n##lation      13490\n##lative      26255\n##lau         17298\n##laus        28128\n##lav         14973\n##law         14919\n##lay          8485\n##laya        22923\n##layer       24314\n##laze        24472\n##lb          20850\n##lberg       22927\n##lbert       23373\n##lby         14510\n##lc          15472\n##lce         23314\n##lch         29358\n##lco         22499\n##ld           6392\n##lda         15150\n##lde         17920\n##lden        28476\n##lder        16502\n##lding       24573\n##ldon        19932\n##le           2571\n##lea         19738\n##leader      19000\n##leaf        19213\n##lean        20898\n##led          3709\n##lee         10559\n##leen        24129\n##leg         23115\n##lei         23057\n##leigh       13615\n##lein        19856\n##lellan      25839\n##lem         16930\n##len          7770\n##lena        20844\n##lence       22717\n##lene        11474\n##lent        16136\n##ler          3917\n##lers        12910\n##les          4244\n##lese        24527\n##less         3238\n##lessly      10895\n##lessness    24913\n##let          7485\n##lete        25890\n##leton       19263\n##lets        13461\n##lett        20897\n##lette       27901\n##lev         20414\n##lewood      26580\n##ley          3051\n##lez         28060\n##lf          10270\n##lford       23211\n##lga         27887\n##lge         28875\n##lham        25968\n##lho         28061\n##li           3669\n##lia          6632\n##lian        15204\n##lib         29521\n##lic         10415\n##lica        19341\n##lice        13231\n##lices       29146\n##lich        18337\n##liche       27412\n##lick        25230\n##lid         21273\n##lidae       21595\n##lide        24198\n##lie          8751\n##lier        14355\n##lies        11983\n##liest       21292\n##life        15509\n##liffe       27931\n##lift        18412\n##lifting     26644\n##liga        14715\n##light        7138\n##lights      15733\n##lik         18393\n##lika        25421\n##like        10359\n##lim         17960\n##lin          4115\n##lina        13786\n##lind        27164\n##line         4179\n##lined       18194\n##liner       20660\n##lines       12735\n##liness      20942\n##ling         2989\n##linger      23101\n##lings       11227\n##lington     18722\n##lini        22153\n##lining      16992\n##link        13767\n##lino        25226\n##lins        24412\n##linson      25051\n##lio         12798\n##lion        18964\n##lip         15000\n##lis          6856\n##lish        13602\n##lism        28235\n##list         9863\n##listic      27348\n##lists       27103\n##lit         15909\n##lita        27606\n##lite        22779\n##lithic      28508\n##lity        18605\n##litz        24725\n##lium        21816\n##lius        15513\n##lization    22731\n##lized       28931\n##lizer       28863\n##lk          13687\n##lka         26518\n##lke         28143\n##lkirk       23913\n##ll           3363\n##lla          4571\n##llah        18599\n##llan        19036\n##lland       26087\n##llar        17305\n##llary       24435\n##llas        25816\n##llation     20382\n##lle          6216\n##lled        11001\n##llen        12179\n##ller        10820\n##lles        20434\n##llet        22592\n##lley        25105\n##lli          6894\n##llie        23697\n##llin        21202\n##lling       13112\n##llins       26655\n##llis        21711\n##llo          7174\n##llon        22179\n##lls         12718\n##llum        20845\n##llus        20159\n##lly          9215\n##lm          13728\n##lma         19145\n##lman        12624\n##lmer        23398\n##ln          19666\n##lo           4135\n##load        11066\n##loaded      17468\n##loading     18570\n##lock         7878\n##loe         26846\n##log         21197\n##logic       27179\n##logical      9966\n##logie       27095\n##logies      21615\n##logist      10727\n##logists     18738\n##logram      24915\n##logue       24277\n##logy         6483\n##loh         24729\n##loid        27710\n##lok         29027\n##lom         21297\n##lon          7811\n##lone        27165\n##long        10052\n##lor         10626\n##lord        19980\n##lore        20186\n##los         10483\n##lot         10994\n##lou         23743\n##lous        15534\n##lov         14301\n##lova        24221\n##lovic       29356\n##low          8261\n##lowe        27663\n##lp          14277\n##lr          20974\n##ls           4877\n##lson        14881\n##lster       29576\n##lston       21540\n##lt           7096\n##lta         24458\n##lten        29005\n##lter        21928\n##lth         24658\n##lto         23223\n##lton        13947\n##lts         21593\n##lty         24228\n##lu           7630\n##lub         27959\n##lum         12942\n##lun         26896\n##lund        18028\n##lus          7393\n##lusion      24117\n##lux         25148\n##lva         22144\n##lved        26832\n##lver        26229\n##lves        20899\n##lving       25780\n##lvis        28530\n##lwyn        29287\n##ly           2135\n##lyn          9644\n##lynn        27610\n##lysis       26394\n##lz          23858\n##m            2213\n##ma           2863\n##mable       24088\n##mac         22911\n##mack        26945\n##mad         25666\n##mada        23574\n##made        21565\n##mage        26860\n##mah         25687\n##maid        28478\n##mail        21397\n##main        24238\n##maker        8571\n##makers      12088\n##making      12614\n##mal          9067\n##mament      28119\n##man          2386\n##mana        24805\n##mani        20799\n##mania       27010\n##mann         5804\n##mans        15154\n##manship     21530\n##mar          7849\n##mara        28225\n##mare        24376\n##marine      21966\n##mark        10665\n##market      20285\n##marks       27373\n##mart        22345\n##mas          9335\n##master       8706\n##masters     27751\n##mat         18900\n##mata        21022\n##mate         8585\n##mates       15416\n##matic       12644\n##mation      28649\n##max         17848\n##may         27871\n##mb          14905\n##mba         11201\n##mbe         18552\n##mber        21784\n##mberg       29084\n##mbit        28878\n##mble        19661\n##mbled       23931\n##mbling      29256\n##mbo         13344\n##mbre        19908\n##mbs         29232\n##mc          12458\n##md          26876\n##me           4168\n##med          7583\n##media       16969\n##mei         26432\n##meister     28824\n##mel         10199\n##men          3549\n##ment         3672\n##mental      26901\n##mento       23065\n##ments        8163\n##meo         26247\n##mer          5017\n##meral       28990\n##mere        13759\n##meric       25531\n##merie       28677\n##mering      27851\n##mers        16862\n##mes          7834\n##met         11368\n##meter       22828\n##metric      12589\n##metry       24327\n##meyer       24344\n##mg          24798\n##mi           4328\n##mia         10092\n##mian        20924\n##mic          7712\n##mics        22924\n##mide        24284\n##mie          9856\n##miento      28883\n##mies        28397\n##mill        19912\n##min         10020\n##mina        22311\n##minate      19269\n##minated     26972\n##minating    27932\n##mind        23356\n##mine        11233\n##mined       25089\n##ming         6562\n##mini        25300\n##mins        21266\n##minster     24431\n##mir         14503\n##mis         15630\n##mise        28732\n##mism        26725\n##missible    26770\n##mission     25481\n##missive     27876\n##mist        23738\n##mit         22930\n##mite        23419\n##mith        19864\n##mity        16383\n##mium        27759\n##miya        29312\n##ml          19968\n##mler        18602\n##mm           7382\n##mma         14760\n##mme         20058\n##mmel        29033\n##mmer        15810\n##mming       25057\n##mmon        24521\n##mmy         18879\n##mo           5302\n##mobile      17751\n##mology      20570\n##mon          8202\n##mona        21781\n##mond        11442\n##monium      26387\n##mons        16563\n##mont         9629\n##mony        22847\n##moor        17622\n##mora        22122\n##moral       22049\n##more         5974\n##mori        24610\n##morphic     18078\n##morphism    19539\n##mos         15530\n##most        11800\n##mot         18938\n##moto        15319\n##mount       20048\n##mounted     27632\n##mour        20360\n##mous        27711\n##mouth       14359\n##movable     25661\n##mp           8737\n##mple        23344\n##mps         25370\n##mpt         27718\n##mpton       26793\n##ms           5244\n##mt          20492\n##mu          12274\n##mum         27147\n##mun         23041\n##mund        25574\n##mur         20136\n##mura        16069\n##mus          7606\n##music       27275\n##mussen      29134\n##mut         28120\n##mute        26746\n##mx          22984\n##my           8029\n##n            2078\n##na           2532\n##nable       22966\n##nac         18357\n##nad         25389\n##nae         17452\n##nagar       14346\n##nage        27031\n##nah         15272\n##nai         26416\n##nail        25464\n##naire       20589\n##nais        28020\n##nal         12032\n##nall        22270\n##nally       26827\n##nam         13129\n##name        18442\n##nami        28987\n##nan          7229\n##nant        16885\n##nar         11802\n##nard        16564\n##nare        26148\n##nary        24041\n##nas         11649\n##nat         19833\n##nate        12556\n##nated       23854\n##nath        16207\n##nation       9323\n##national    25434\n##nator       27413\n##naud        26160\n##naut        24619\n##nay         16741\n##nb          27698\n##nbc         28957\n##nberg       11144\n##nberger     28825\n##nburg       22642\n##nc          12273\n##nca         20909\n##nce          5897\n##nch         12680\n##nche        26091\n##nched       19282\n##ncia        22750\n##ncies       14767\n##nco         15305\n##nction      27989\n##ncy          9407\n##nd           4859\n##nda          8943\n##nde         13629\n##nded        25848\n##nden        25915\n##nder        11563\n##ndi         16089\n##nding       15683\n##ndo         15482\n##ndon        19333\n##ndra        17670\n##nds         18376\n##ndt         26379\n##ne           2638\n##nea         22084\n##neas        26737\n##neck        18278\n##ned          7228\n##nee         24045\n##neer        19755\n##neil        27276\n##nel         11877\n##nell         9091\n##nem         25832\n##nen         10224\n##nent        21576\n##neo         23585\n##ner          3678\n##ners        16912\n##nery        27415\n##nes          5267\n##nese        14183\n##nesia       21509\n##nesian      20281\n##ness         2791\n##nessy       25441\n##net          7159\n##nets        22781\n##nett        15361\n##neuve       28104\n##ney          5420\n##ng           3070\n##nga         13807\n##nge         15465\n##nged        21558\n##ngen        25997\n##nger        11392\n##nging       22373\n##ngo         16656\n##nh          25311\n##nham        20465\n##ni           3490\n##nia          6200\n##nian        11148\n##nic          8713\n##nica        12782\n##nical       20913\n##nick        13542\n##nidae       29135\n##nie          8034\n##nier        14862\n##nies        15580\n##nified      25201\n##nig         25518\n##night       15864\n##nik          8238\n##nikov       22576\n##nin         11483\n##nine        19105\n##ning         5582\n##nington     23155\n##nio         27678\n##nir         29339\n##nis          8977\n##nish        24014\n##nished      28357\n##nism        28113\n##nist        26942\n##nity        22758\n##nitz        22792\n##nium        14907\n##nius        20447\n##nivorous    29193\n##nk           8950\n##nka         25804\n##nko         16107\n##nl          20554\n##nn          10695\n##nna          9516\n##nne         10087\n##nni         23500\n##nnis        27803\n##no           3630\n##nob         25083\n##nock        18057\n##nology      21020\n##non          8540\n##nor         12131\n##nos         15460\n##nosis       27109\n##nostic      28199\n##not         17048\n##note        22074\n##notes       20564\n##nous        18674\n##nov         16693\n##nova        13455\n##now         19779\n##np          16275\n##nr          16118\n##ns           3619\n##nse         12325\n##nsed        27730\n##nsen        29428\n##nsis        11745\n##nsk         25564\n##nsky        25655\n##nson        15551\n##nsor        29577\n##nst         23808\n##nstein      15493\n##nt           3372\n##nta         12380\n##ntal        15758\n##ntation     23436\n##nte         10111\n##nted        14706\n##ntes        17340\n##nti         16778\n##ntial       19909\n##ntine       26730\n##nting       24360\n##ntino       25318\n##ntly        20630\n##nto         13663\n##nton        15104\n##nts          7666\n##nty         29405\n##nu          11231\n##num         19172\n##nus         10182\n##nut         24072\n##nx          26807\n##ny           4890\n##nya         17238\n##nz          14191\n##nza         16786\n##nzo         25650\n##o            2080\n##oa          10441\n##oat         16503\n##ob          16429\n##obe         20891\n##oc          10085\n##oca         24755\n##ocating     27483\n##ocation     23909\n##ocene       25793\n##och         11663\n##oche        23555\n##ock          7432\n##ocks        25384\n##oco         24163\n##ocytes      28788\n##od           7716\n##oda         13390\n##ode         10244\n##oder        27381\n##odes        19847\n##odies       27391\n##odle        26156\n##odon        28716\n##ods         20620\n##oe           8913\n##oed         29099\n##oes         22504\n##oese        23379\n##of          11253\n##off          7245\n##offs        27475\n##oft         15794\n##og           8649\n##oga         18170\n##ogan        21131\n##oge         23884\n##ogen        23924\n##ogenic      24278\n##ogical      20734\n##ogist       22522\n##ogo         22844\n##ographer    26145\n##ographic    13705\n##ography      9888\n##ogy         15707\n##oh          11631\n##oi          10448\n##oia         25463\n##oic         19419\n##oid          9314\n##oides       25064\n##oids        17086\n##oin         28765\n##oint        25785\n##oir         21165\n##oire        26250\n##ois         10054\n##oise        23565\n##oit         28100\n##oj          29147\n##oja         22918\n##ok           6559\n##oka         12352\n##oke         11045\n##oked        23461\n##oki         23212\n##oko         16366\n##oku         21940\n##ol           4747\n##ola          6030\n##olar        19478\n##olate       19425\n##old         11614\n##ole          9890\n##oles        29111\n##olf         28027\n##oli         10893\n##olic        23518\n##olin        18861\n##olio        29401\n##olis        20872\n##oll         14511\n##olo         12898\n##ological    10091\n##ologies     20792\n##ologist      8662\n##ologists    16886\n##ology        6779\n##ols         27896\n##olt         27914\n##olved       16116\n##om           5358\n##oma          9626\n##oman        20778\n##omba        24991\n##ome          8462\n##ometer      18721\n##ometric     28993\n##omi         20936\n##omic        22026\n##omics       25524\n##omo         19506\n##omorphic    28503\n##omp         25377\n##oms         22225\n##omy         16940\n##on           2239\n##ona          7856\n##onal        16026\n##onale       22823\n##onate       21149\n##ond         15422\n##onda        29067\n##one          5643\n##oned        17799\n##ones        21821\n##oney        17791\n##ong          5063\n##onga        26356\n##oni         10698\n##onia        12488\n##onic        12356\n##oning       13369\n##onis        27296\n##onne        18256\n##ono         17175\n##ons          5644\n##ont         12162\n##onte        28040\n##onus        24891\n##ony         16585\n##onzo        29452\n##oo           9541\n##ood         17139\n##oof         21511\n##ook         14659\n##ool         13669\n##oom         17650\n##oon          7828\n##oons        27174\n##oop         18589\n##ooped       20671\n##ooping      29046\n##oor         16506\n##oot         17206\n##op           7361\n##opa         29477\n##ope         17635\n##oped        24174\n##open        26915\n##oper        25918\n##opers       27342\n##ophone      25232\n##oping       17686\n##ople        27469\n##opped       27288\n##ops         11923\n##opsis       22599\n##optera      25324\n##opus        24676\n##or           2953\n##ora          6525\n##oran        18842\n##oration     21223\n##ord          8551\n##ore          5686\n##ored        19574\n##ores        16610\n##orescence   20030\n##orestation  25794\n##orf         16347\n##org         21759\n##ori         10050\n##oria        11069\n##oric        29180\n##ories       18909\n##orin        28741\n##orio        27416\n##oris        21239\n##orn          9691\n##orne        23846\n##orno        26295\n##oro         14604\n##orough      26388\n##orous       25373\n##orra        24285\n##orro        29459\n##ors          5668\n##ort         11589\n##orted       15613\n##orth        28610\n##orum        20527\n##orus        21694\n##ory         10253\n##os           2891\n##osa          8820\n##osaurus     25767\n##ose          9232\n##osed        24768\n##oses        27465\n##osh         17369\n##oshi        24303\n##osi         20049\n##osing       18606\n##osis        12650\n##osition     19234\n##osity       25949\n##oslav       23085\n##oso         19137\n##osomal      27642\n##osphere     25444\n##oss         15094\n##ossa        21842\n##ost         14122\n##osta        28696\n##ostal       29381\n##ot           4140\n##ota         17287\n##ote         12184\n##oted        27428\n##oteric      29112\n##oth         14573\n##otho        29288\n##otic        20214\n##otide       26601\n##oting       20656\n##oto         11439\n##oton        25862\n##ots         12868\n##ott         14517\n##otte        28495\n##otted       26174\n##otti        21325\n##otto        23052\n##otype       26305\n##ou           7140\n##oud         19224\n##oue         27872\n##ough        10593\n##ouin        25058\n##ouk         27967\n##oulos       28262\n##oum         24778\n##oun         23709\n##ound        28819\n##ounded      26240\n##ount        21723\n##our          8162\n##oured       16777\n##ouring      27897\n##ours        22957\n##ous          3560\n##ouse        15441\n##ously       13453\n##out          5833\n##outh        17167\n##outs        12166\n##oux         28700\n##ov           4492\n##ova          7103\n##ove         21818\n##oven        25592\n##over         7840\n##overs       24302\n##ovic         9142\n##ovich       12303\n##ovo         16059\n##ovsky       21983\n##ow           5004\n##owa         21293\n##owe         29385\n##owed        15096\n##ower        25114\n##owing       14138\n##own         12384\n##ows         15568\n##owski       15249\n##ox          11636\n##oxide       28479\n##oy           6977\n##oya         18232\n##oys         27153\n##oz          18153\n##oza         25036\n##p            2361\n##pa           4502\n##pac         19498\n##pace        15327\n##pack        23947\n##pad         15455\n##page        13704\n##pal         12952\n##pala        19636\n##pan          9739\n##pani        26569\n##pants       27578\n##paper       23298\n##par         19362\n##para        28689\n##park        14432\n##partisan    26053\n##parts       26950\n##pas         19707\n##pass        15194\n##pate        17585\n##path        15069\n##pathic      25940\n##pathy       20166\n##pati        24952\n##patient     24343\n##pc          15042\n##pd          17299\n##pe           5051\n##ped          5669\n##pee         28084\n##peed        25599\n##pel         11880\n##pen         11837\n##per          4842\n##peration    29487\n##pers         7347\n##person      27576\n##personal    28823\n##pes         10374\n##pet         22327\n##pf          14376\n##pg          26952\n##ph           8458\n##pha         21890\n##phate       24556\n##pher        27921\n##pheus       22809\n##phi         21850\n##phic        17926\n##phila       26083\n##phile       24862\n##phine       20738\n##phobia      24920\n##phobic      20200\n##phon        20846\n##phone        9864\n##phones      19093\n##phonic      27385\n##phs         18757\n##phus        25255\n##phy         21281\n##physical    23302\n##physics     15638\n##pi           8197\n##pia         19312\n##pic         24330\n##pid         23267\n##pie         14756\n##piece       11198\n##pies        13046\n##pile        22090\n##pin          8091\n##pina        26787\n##pine        19265\n##ping         4691\n##pins        27915\n##pio         22071\n##pipe        24548\n##piration    16781\n##pire        20781\n##pired       21649\n##pis         18136\n##pit         23270\n##pkins       29531\n##pl          24759\n##placed      22829\n##plane       11751\n##planes      26634\n##plate       15725\n##play        13068\n##ple         10814\n##pled        21132\n##ples        21112\n##plex        19386\n##plication   21557\n##plicity     27293\n##plify       28250\n##plin        28296\n##pling       14353\n##ply         22086\n##pm           9737\n##pment       24073\n##po           6873\n##pod         27633\n##pods        22925\n##point        8400\n##points      26521\n##pol         18155\n##pole        15049\n##polis       17699\n##pon         26029\n##pone        29513\n##poo         24667\n##pool        16869\n##pop         16340\n##por         17822\n##pore        26691\n##port         6442\n##ports       25378\n##pose        20688\n##posed       19155\n##position    26994\n##post        19894\n##pot         11008\n##poulos      24662\n##pour        27757\n##power       11452\n##powered     27267\n##powering    23948\n##pp           9397\n##ppa         13944\n##ppe         21512\n##pped        11469\n##ppel        27877\n##pper        18620\n##ppet        29519\n##pping       14853\n##pps         28281\n##ppy         27659\n##pr          18098\n##pre         28139\n##pres        28994\n##press       20110\n##pressed     19811\n##pressing    24128\n##pressive    27484\n##print       16550\n##pro         21572\n##promising   25013\n##proof       18907\n##ps           4523\n##pse         29251\n##psis        18409\n##psy         18075\n##pt          13876\n##pta         22799\n##ptic        20746\n##ption       16790\n##ptive       24971\n##pton        15857\n##pts         22798\n##pu          14289\n##pur          5311\n##pura        21228\n##puram       17809\n##puri        24661\n##pus         12207\n##put         18780\n##puted       29462\n##pw          28400\n##py           7685\n##q            4160\n##qa          19062\n##qi          14702\n##qing        19784\n##qu          28940\n##qua         16211\n##qual        26426\n##quay        25575\n##que          4226\n##quel        22197\n##quent       15417\n##ques        10997\n##quest       15500\n##quet        12647\n##quette      29416\n##qui         15549\n##quil        26147\n##quin        12519\n##quisite     24871\n##quist       18331\n##quitable    28298\n##qvist       28705\n##r            2099\n##ra           2527\n##rable       16670\n##rac         22648\n##race        22903\n##raction     25533\n##ractive     26884\n##rad         12173\n##rada        28510\n##rade        13662\n##rae         16652\n##raf         27528\n##rag         29181\n##ragan       28905\n##rage        24449\n##rah         10404\n##rai         14995\n##rail        15118\n##rain        21166\n##raine       26456\n##rained      27361\n##raj         14220\n##rak         16555\n##ral          7941\n##ram          6444\n##rama        14672\n##ran          5521\n##rana        16737\n##rance       21621\n##rand        13033\n##rane        18053\n##rang        24388\n##rangle      21476\n##rani        21578\n##rank        26763\n##rano        20770\n##rant        17884\n##rao         25667\n##raph        24342\n##raphic      20721\n##raphy       26228\n##rar         19848\n##rard        25561\n##ras          8180\n##rase        23797\n##rasia       27839\n##rat          8609\n##rata        14660\n##rate        11657\n##rated        9250\n##rates       20370\n##rath        27362\n##ratic       23671\n##rating      15172\n##ration       8156\n##rations     28893\n##rative      18514\n##rator       16259\n##raus        25965\n##rave        22401\n##ray          9447\n##raya        29539\n##raz         20409\n##raße        27807\n##rb          15185\n##rba         28483\n##rber        20473\n##rbin        27366\n##rc          11890\n##rca         18992\n##rce         19170\n##rch         11140\n##rchy        29389\n##rcle        21769\n##rco         29566\n##rcus        29006\n##rd           4103\n##rda         13639\n##rdan        26992\n##rde         25547\n##rden        18246\n##rder        26764\n##rdes        26371\n##rdi         17080\n##rdial       25070\n##rdo         20683\n##rdon        28176\n##rds         17811\n##rdy         17460\n##re           2890\n##rea         16416\n##real        22852\n##reate       29313\n##recht       28109\n##red          5596\n##redo        23417\n##ree          9910\n##reen        28029\n##region      23784\n##rek         16816\n##rel         16570\n##rell        16230\n##rella       21835\n##relli       22948\n##rem         28578\n##ren          7389\n##rence       24413\n##rent        22787\n##rer         14544\n##rera        24068\n##res          6072\n##resh        21898\n##ress         8303\n##ressed      16119\n##resses      25932\n##rest        28533\n##ret         13465\n##reus        23446\n##rew         15603\n##rey         15202\n##rf          12881\n##rford       26430\n##rg          10623\n##rga         28921\n##rgan        16998\n##rge         20800\n##rgen        25892\n##rgeon       28242\n##rger        25858\n##rgh         27172\n##rgo         18581\n##rgos        22280\n##rgy         22637\n##rh          25032\n##ri           3089\n##ria          4360\n##rial        14482\n##riam        25557\n##rian         6862\n##rians       23543\n##riated      25475\n##riation     18769\n##ric          7277\n##rica        14735\n##rice        17599\n##rich        13149\n##rick        11285\n##ricted      20623\n##ricting     28827\n##rid         14615\n##ride        15637\n##riders      28116\n##ridge        9438\n##riding      21930\n##rie          7373\n##ried        11998\n##rien        23144\n##rier        16252\n##ries         5134\n##riety       27840\n##rified      22618\n##rift        16338\n##right       15950\n##rigue       27611\n##rigues      22934\n##rik         15564\n##rika        23778\n##ril         15928\n##rill        24714\n##rily        11272\n##rim         20026\n##rin          6657\n##rina        11796\n##rine        11467\n##ring         4892\n##rington     17281\n##rini        22612\n##rino        17815\n##rio          9488\n##rion        14772\n##rip         29443\n##ris          6935\n##rise        29346\n##rish        18774\n##rissa       26571\n##rist        15061\n##rit         14778\n##rita        17728\n##ritan       25279\n##rite        17625\n##rites       28884\n##rith        24292\n##rito        28414\n##rity        15780\n##rium        18802\n##rius        13245\n##river       24352\n##rix         17682\n##riz         21885\n##rization    26910\n##rize        25709\n##rized       18425\n##rk           8024\n##rka         22379\n##rke         25074\n##rked        19849\n##rkin        26891\n##rks         19987\n##rky         15952\n##rl          12190\n##rland       18324\n##rle         20927\n##rled        27501\n##rley        12866\n##rlin        19403\n##rling       22036\n##rly         21194\n##rm          10867\n##rma         17830\n##rman        14515\n##rmed        29540\n##rmi         28550\n##rmin        27512\n##rn           6826\n##rna         12789\n##rne         12119\n##rned        21119\n##rner        18703\n##rnet        26573\n##rney        27114\n##rnier       28484\n##rnik        26437\n##rno         19139\n##ro           3217\n##rocity      21735\n##rock        16901\n##rod         14127\n##rogate      21799\n##rogated     26565\n##rogen       22991\n##roi         26692\n##roid        22943\n##roids       29514\n##rok         27923\n##rol         13153\n##roll        28402\n##roller      26611\n##rom         21716\n##romatic     23645\n##ron          4948\n##rona        26788\n##rone        20793\n##rong        17583\n##ronia       28140\n##rons        28212\n##rook        25399\n##room         9954\n##rooms       29020\n##rop         18981\n##ropolis     23248\n##ropriation  26121\n##ror         29165\n##ros          7352\n##rose        13278\n##rosis       29166\n##ross        25725\n##rot         21709\n##rou         22494\n##roud        21332\n##roup        22107\n##rous        13288\n##routed      25849\n##rov         12298\n##rove        17597\n##roved       26251\n##roving      22046\n##row         10524\n##roy         13238\n##rp          14536\n##rr          12171\n##rra         11335\n##rrado       27933\n##rral        24988\n##rran        28327\n##rrard       29599\n##rre         14343\n##rred        20529\n##rrell       14069\n##rret        27032\n##rri         18752\n##rrick       24999\n##rricular    21231\n##rrie        22155\n##rrier       27051\n##rries       26801\n##rrigan      28706\n##rring       18807\n##rro         18933\n##rrow        28597\n##rry         12244\n##rs           2869\n##rsa         22381\n##rse         22573\n##rsk         27472\n##rso         25301\n##rson        17753\n##rst         12096\n##rsten       19020\n##rt           5339\n##rta         13320\n##rte         19731\n##rted        17724\n##rter        19418\n##rth         15265\n##rti         28228\n##rting       24097\n##rton        11715\n##rts         21217\n##ru           6820\n##ruck        29314\n##ructured    26134\n##rud         28121\n##rued        28551\n##ruff        26919\n##rug         26549\n##rum          6824\n##run         15532\n##runa        26605\n##runner      23195\n##rup         21531\n##rus          7946\n##rut         22134\n##rva         19146\n##rval        26585\n##rvis        29074\n##rwin        27349\n##rwood       20941\n##ry           2854\n##rya         20444\n##ryl         23320\n##ryn         18143\n##rys         24769\n##rz          15378\n##rza         24175\n##rzburg      29136\n##rzy         28534\n##s            2015\n##sa           3736\n##sable       19150\n##sack        25607\n##sai         15816\n##saka        29289\n##sal         12002\n##sam         21559\n##san          8791\n##sant        22341\n##sar         10286\n##sari        22740\n##sas         20939\n##sat         16846\n##sation      26652\n##sau         23823\n##saurus      22244\n##say         24322\n##sb          19022\n##sberg       11711\n##sboro       25623\n##sburg        9695\n##sbury       18065\n##sby         14478\n##sc          11020\n##sca         15782\n##scan        29378\n##scent       27654\n##sch         11624\n##schaft      26527\n##sche        22842\n##schen       23796\n##scia        27210\n##sco          9363\n##scoe        28147\n##scope       26127\n##scopic      24895\n##screen      18182\n##scribe      29234\n##script      22483\n##scu         28817\n##sd          16150\n##sdale       15145\n##sden        27903\n##se           3366\n##sea         17310\n##section     29015\n##sed          6924\n##see         19763\n##sef         20106\n##sei         20240\n##sel         11246\n##sell        23836\n##selle       19358\n##sen          5054\n##ser          8043\n##ses          8583\n##set         13462\n##sett        21678\n##sey          7952\n##sf          22747\n##sfield      15951\n##sford       17658\n##sg          28745\n##sh           4095\n##sha          7377\n##shaft       25679\n##shah        25611\n##sham        21010\n##shan         9688\n##shaw        17980\n##shed        14740\n##sher        19603\n##shi          6182\n##shida       25541\n##shima       24772\n##shin        17426\n##shing       12227\n##ship         9650\n##shire        7430\n##sho         22231\n##shore       19208\n##shot        19040\n##shu         14235\n##si           5332\n##sia          8464\n##sian        17043\n##sibility    28255\n##sible       19307\n##sic         19570\n##side         7363\n##sie         11741\n##sier        20236\n##sies        14625\n##sight       25807\n##sil         27572\n##sily        26863\n##sin         11493\n##sing         7741\n##sio         20763\n##sion        10992\n##sions       27466\n##sir         29481\n##sis          6190\n##sit         28032\n##sities      24279\n##sitor       28307\n##sity        17759\n##sius        24721\n##sive        12742\n##sk           6711\n##ska          8337\n##skaya       23070\n##ske         17140\n##ski          5488\n##skie        23955\n##skin        29334\n##sko         21590\n##sky          5874\n##sl          14540\n##sle         25016\n##sler        20590\n##sley         8002\n##slin        22908\n##sling       28886\n##slow        26338\n##sm           6491\n##sma         26212\n##sman        11512\n##smith       21405\n##smo         25855\n##sms         19230\n##sner        20479\n##so           6499\n##sol         19454\n##som         25426\n##some        14045\n##son          3385\n##sonic       18585\n##sons        23345\n##sop         28793\n##sor         21748\n##sos         17063\n##sov         23230\n##sp          13102\n##space       23058\n##spar        27694\n##sper        17668\n##sphere      23874\n##sport       20205\n##sque        17729\n##sr          21338\n##ss           4757\n##ssa         11488\n##ssar        25556\n##sse         11393\n##ssed        29417\n##ssee        29522\n##ssel        21218\n##ssen        14416\n##sser        18116\n##ssi         18719\n##ssing       18965\n##ssion       28231\n##ssler       23385\n##sso         24137\n##sson         7092\n##st           3367\n##sta          9153\n##stad        16917\n##stadt       21543\n##stan        12693\n##stand       21515\n##standing    24911\n##star        14117\n##static      16677\n##station     20100\n##ste         13473\n##stead       25647\n##sted        14701\n##stein        8602\n##stellar     29028\n##stems       29189\n##sten        16173\n##ster         6238\n##stered      24167\n##sters       15608\n##sti         16643\n##stic        10074\n##stick       21354\n##stis        29472\n##stituting   21532\n##stle        22516\n##sto         16033\n##stock       14758\n##ston         7106\n##stone        9221\n##stones      29423\n##stor        23809\n##storm       19718\n##stov        29473\n##stown       13731\n##stra        20528\n##straße      24967\n##stream      21422\n##strel       26877\n##strom       15687\n##sts         12837\n##sty         21756\n##su           6342\n##suit        28880\n##suka        26544\n##suke        16867\n##sul         23722\n##sum         17421\n##sume        23545\n##sun         19729\n##sund        25168\n##sur         26210\n##sure        28632\n##sus         13203\n##sville       9337\n##sw          26760\n##swell       19228\n##swick       27720\n##sworth      12255\n##sy           6508\n##systems     29390\n##sz          17112\n##sław        23305\n##t            2102\n##ta           2696\n##table       10880\n##tablished   28146\n##tad         17713\n##tadt        18808\n##taff        22542\n##tag         15900\n##tage        26702\n##tagram      23091\n##tai         15444\n##tail        14162\n##tails       22081\n##tain        18249\n##tained      28055\n##taka        28412\n##take        15166\n##taken       25310\n##taking      17904\n##tal          9080\n##tale        22059\n##talk        28014\n##tam         15464\n##tama        28282\n##tan          5794\n##tana        20496\n##tance       26897\n##tang        26067\n##tangle      23395\n##tangled     27898\n##tani        17681\n##tania       21013\n##tao         28555\n##tar          7559\n##tara        27115\n##tarian      28897\n##taro        28160\n##tary        18219\n##tas         10230\n##tase        18260\n##tat         29336\n##tate        12259\n##tated       16238\n##tation      12516\n##tative      27453\n##tc          13535\n##tch         10649\n##tched       28265\n##te           2618\n##tea         27058\n##teacher     24741\n##tead        14565\n##tec         26557\n##tech        15007\n##ted          3064\n##tee         17389\n##tees        28313\n##tein         9589\n##tek         23125\n##tel          9834\n##tell        23567\n##tem         18532\n##ten          6528\n##tenberg     21806\n##tens        25808\n##tension     29048\n##ter          3334\n##tera        14621\n##tered       14050\n##tering      17989\n##tern        16451\n##terol       27833\n##ters         7747\n##tery        20902\n##tes          4570\n##test        22199\n##tet         22513\n##text        18209\n##tf          24475\n##tford       26341\n##th           2705\n##tha          8322\n##thal        24090\n##tham        22536\n##than        21604\n##the         10760\n##thed        23816\n##ther        12399\n##therapy     20900\n##thermal     23367\n##thes        24138\n##thesis      25078\n##thest       20515\n##thi         15222\n##thic        23048\n##thing       20744\n##thor        27844\n##thorpe      22398\n##ths         26830\n##thus        19877\n##thy         16921\n##ti           3775\n##tia         10711\n##tial        20925\n##tian        10772\n##tic          4588\n##tica        22723\n##tical       14656\n##tically     25084\n##tick        26348\n##tics        14606\n##ticus       29587\n##tidae       21861\n##tie          9515\n##tier        17579\n##ties         7368\n##tify        27351\n##tight       26143\n##tila        26065\n##tile        15286\n##tility      18724\n##till        28345\n##time         7292\n##tin          7629\n##tina        13770\n##tine        10196\n##ting         3436\n##tino        25690\n##tion         3508\n##tions        9285\n##tious       20771\n##tip         25101\n##tique       28437\n##tis          7315\n##tish        24788\n##tism        17456\n##tist        16774\n##tite        23096\n##titled      21309\n##titles      27430\n##tituted     29139\n##tium        16398\n##tius        22638\n##tiv         29068\n##tive         6024\n##tively      25499\n##tized       23355\n##tl          19646\n##tlan        28922\n##tland       19270\n##tle          9286\n##tled        14782\n##tlement     24007\n##tler        25091\n##tley        18492\n##tling       15073\n##tly         14626\n##tm          21246\n##tma         29418\n##tman        22942\n##tment       21181\n##tner        18885\n##tness       27401\n##to           3406\n##tock        17406\n##tok         18715\n##tology      23479\n##tom         20389\n##ton          2669\n##tone         5524\n##tones       11115\n##tonic       25009\n##tooth       19392\n##top         14399\n##tops        25181\n##tor          4263\n##tore        19277\n##tori        29469\n##torium      24390\n##torm        20654\n##tors         6591\n##tort        25485\n##tory         7062\n##tos         13122\n##tose        22282\n##tosis       25950\n##tou         24826\n##tour        21163\n##tov         26525\n##tow         18790\n##tower       23196\n##town         4665\n##toy         29578\n##tp          25856\n##tr          16344\n##tra          6494\n##tracted     24301\n##train       23654\n##tral        21493\n##tray        28473\n##tre          7913\n##tream       25379\n##tree        13334\n##tres        19168\n##tri         18886\n##tric        12412\n##trick       22881\n##trics       29392\n##tries       21011\n##trip        24901\n##trix        29184\n##tro         13181\n##trom        13887\n##tron        15312\n##tropical    25528\n##truct       18300\n##tructing    26310\n##trum        24456\n##trust       24669\n##try         11129\n##ts           3215\n##tsa         27110\n##tsk         29064\n##tsky        26824\n##tson        25656\n##tsu         10422\n##tt           4779\n##tta          5946\n##ttal        28200\n##tte          4674\n##tted        16190\n##tten        25970\n##tter        12079\n##ttered      14795\n##ttering     19567\n##tters       24168\n##ttes        14581\n##tti          6916\n##tting       13027\n##ttle        26328\n##tto          9284\n##tton        15474\n##tty         15353\n##tu           8525\n##tua         26302\n##tub         28251\n##tucket      29315\n##tula        28970\n##tum         11667\n##tung        21847\n##tur         20689\n##tura        27431\n##ture        11244\n##tures       22662\n##turing      16037\n##turn        22299\n##tus          5809\n##tute        24518\n##tv           9189\n##twined      21077\n##ty           3723\n##tya         21426\n##tyle        27983\n##tyn         25680\n##type        13874\n##typic       23186\n##typical     27086\n##tz           5753\n##tze         23102\n##tzer        29546\n##u            2226\n##ua           6692\n##ual          8787\n##ually       28488\n##uan         13860\n##uance       26620\n##uaries      22579\n##uary        24384\n##uate        20598\n##uated       16453\n##uating      24133\n##uation      14505\n##ub          12083\n##uba         19761\n##uber        21436\n##uc          14194\n##uca         18100\n##ucci        16835\n##uce         18796\n##uch         10875\n##uche        19140\n##ucher       22368\n##uchi        15217\n##ucible      21104\n##uck         12722\n##ud           6784\n##uda         14066\n##uddin       17375\n##ude         12672\n##udeau       27627\n##uded        13936\n##udence      29424\n##uder        29190\n##udes        22087\n##udge        15979\n##udged       27066\n##udi         21041\n##uding       24539\n##udy         20217\n##ue           5657\n##uel         16284\n##uen         24997\n##uer         13094\n##ues         15808\n##uet         23361\n##uez         29488\n##uf          16093\n##ug          15916\n##uga         16377\n##uge         22890\n##ugh          8953\n##ught        18533\n##uh          27225\n##ui          10179\n##uid         21272\n##uil         19231\n##uin         20023\n##uing        25165\n##uis         27020\n##uising      28580\n##uit         14663\n##uity        18518\n##uj          23049\n##uk           6968\n##uka         15750\n##uke         15851\n##uki         14228\n##ul           5313\n##ula          7068\n##ular         7934\n##ulata       18060\n##ulate        9869\n##ulated       8898\n##ulates      18969\n##ulating     10924\n##ulation      9513\n##ulator      20350\n##uld         21285\n##ule          9307\n##uled        18696\n##ulent       27581\n##ules        16308\n##ulf         21007\n##uli         15859\n##ulia        20922\n##ulin        18639\n##ulio        24825\n##ull         18083\n##ulla        22187\n##ulo         18845\n##ulous       16203\n##ulously     21227\n##uls         28426\n##ulsion      23316\n##ulsive      23004\n##ult         11314\n##ulton       22145\n##ulu         20391\n##ulum        25100\n##ulus        11627\n##um           2819\n##uma         12248\n##uman        19042\n##umatic      25360\n##umb         25438\n##umber       29440\n##umble       26607\n##ume         17897\n##umen        27417\n##umi         12717\n##uming       24270\n##ump         24237\n##ums         18163\n##un           4609\n##una          9521\n##unas        23904\n##unce        17457\n##unced       22392\n##unciation   24101\n##und          8630\n##unda        18426\n##under       20824\n##unds        26698\n##une          9816\n##unes        26639\n##ung          5575\n##ungen       23239\n##uni         19496\n##unk         16814\n##uno         27819\n##unt         16671\n##uo          19098\n##uous         8918\n##uously      28078\n##up           6279\n##uppe        29547\n##ups         22264\n##upt         29441\n##ur           3126\n##ura          4648\n##urable      23086\n##urai        24804\n##ural        11137\n##uram        27618\n##urance      25863\n##uration     18924\n##urbed       29595\n##ure          5397\n##ured        12165\n##urer        27595\n##ures        14900\n##urg         12514\n##urgent      27176\n##uri          9496\n##uria        27703\n##urian       29091\n##uring       12228\n##urities     29366\n##urity       25137\n##urized      28405\n##urn         14287\n##urne        21737\n##uro         10976\n##uron        21017\n##urrent      29264\n##urs          9236\n##urse        28393\n##urst        29402\n##urt         19585\n##uru         14129\n##urus        20089\n##ury         13098\n##us           2271\n##usa         10383\n##use          8557\n##used        13901\n##user        20330\n##uses        25581\n##ush         20668\n##usia        24118\n##using       18161\n##usion       14499\n##usions      22016\n##usly        27191\n##uso         26658\n##uss         17854\n##ust         19966\n##ut           4904\n##uta         13210\n##utable      23056\n##utation     26117\n##ute         10421\n##uted        12926\n##uter        19901\n##uth         14317\n##uti         21823\n##uting       20807\n##ution       13700\n##utive       28546\n##utnant      24620\n##uto         16161\n##uts         16446\n##utter       26878\n##uttered     23128\n##utus        23998\n##utz         20267\n##uve         22909\n##uven        27346\n##uw          25974\n##ux           5602\n##uy          26230\n##uz          17040\n##uze         20395\n##v            2615\n##va           3567\n##vable       12423\n##vac         24887\n##vah         21927\n##val         10175\n##vale        17479\n##valent      24879\n##van          6212\n##vana        27313\n##vance       21789\n##vances      26711\n##vani        27760\n##vant        18941\n##vao         24682\n##var         10755\n##vara        24516\n##vard        25911\n##vary        21639\n##vas         12044\n##vat         22879\n##vate        16952\n##vati        20203\n##vating      26477\n##vation      21596\n##vb          26493\n##vc          25465\n##vd          16872\n##ve           3726\n##ved          7178\n##veda        28614\n##vel         15985\n##ven          8159\n##venor       26806\n##vent        15338\n##venting     26703\n##ver          6299\n##vera        26061\n##verance     21998\n##vere        28943\n##vered       25896\n##vern        23062\n##vers        14028\n##verse       16070\n##version     27774\n##vert        16874\n##verted      26686\n##very        27900\n##ves          6961\n##vet         19510\n##vey         12417\n##vez         26132\n##vi           5737\n##via          9035\n##vial        18660\n##vian        18073\n##vic          7903\n##vich        12933\n##vid         17258\n##vie         13469\n##vier        14356\n##viere       27087\n##vies        25929\n##view         8584\n##vik         13309\n##vil         14762\n##vili        21661\n##vill        26548\n##ville        3077\n##vin          6371\n##vina        17948\n##vine        20534\n##ving         6455\n##vington     21827\n##vino        26531\n##vinsky      27704\n##vio         25500\n##vious       24918\n##vir         21663\n##vira        24093\n##virus       23350\n##vis         11365\n##vish        24968\n##vision      17084\n##vita        28403\n##vite        25217\n##vitt        28656\n##vity        24872\n##vius        26055\n##vn          16022\n##vna         29207\n##vo           6767\n##vocation    19152\n##voking      22776\n##von         17789\n##vor         14550\n##vos         19862\n##vot         22994\n##vr          19716\n##vre         12229\n##vres        24790\n##vron        28588\n##vs          15088\n##vsky        15904\n##vu          19722\n##vus         27500\n##vy          10736\n##vyn         23487\n##w            2860\n##wa           4213\n##wad         26016\n##wai         21547\n##waite       29601\n##wal         13476\n##wala        23877\n##wald        11191\n##walk        17122\n##walker      26965\n##wall         9628\n##wan          7447\n##wana        21761\n##wang        16600\n##wani        29092\n##war          9028\n##wara        11872\n##ward         7652\n##ware         8059\n##wari        20031\n##wark        24298\n##wart        18367\n##was         17311\n##wash        28556\n##washed      27283\n##wat         24281\n##watch       18866\n##water        5880\n##wave        16535\n##way          4576\n##ways        14035\n##wc          16526\n##wd          21724\n##we           8545\n##wear        16689\n##weather     28949\n##wed         15557\n##wee         28394\n##weed        18041\n##week        28075\n##wehr        27156\n##wei         19845\n##weig        27204\n##weight      11179\n##weiler      22384\n##well         4381\n##wen         12449\n##wer         13777\n##werk        29548\n##wes         18192\n##west        19650\n##wg          27767\n##wheel       22920\n##while       19927\n##wi           9148\n##wice        23425\n##wich        12414\n##wick         7184\n##wicz        21355\n##wide        22517\n##wife        19993\n##wig         16279\n##wil         29602\n##win         10105\n##wind        11101\n##wine        21924\n##wing         9328\n##wire        20357\n##wise        14244\n##with        24415\n##witz        15362\n##wives       23744\n##wk          26291\n##wl          13668\n##wled        28365\n##wley        20609\n##wn           7962\n##wny         22251\n##wo          12155\n##woman       10169\n##won         19291\n##wood         3702\n##woods       25046\n##word        18351\n##words       22104\n##work         6198\n##working     21398\n##works        9316\n##world       11108\n##worm        22769\n##worth        5172\n##worthy      13966\n##wr          13088\n##wright      26460\n##write       26373\n##writer      15994\n##writing     18560\n##written     15773\n##ws           9333\n##wski        10344\n##wt          26677\n##wu          16050\n##wy          18418\n##wyl         27740\n##wyn         11761\n##x            2595\n##xa          18684\n##xed         19068\n##xes         20156\n##xi           9048\n##xia         14787\n##xide        19491\n##xie         16898\n##xin         20303\n##xing        19612\n##xious       25171\n##xley        20959\n##xon         22500\n##xt          18413\n##xton        14226\n##xx          20348\n##xy          18037\n##y            2100\n##ya           3148\n##yad         25152\n##yah         17560\n##yal         21095\n##yala        28617\n##yam         14852\n##yama        11613\n##yan          7054\n##yana        16811\n##yang        12198\n##yar         13380\n##yard        14132\n##yas         16303\n##yat         26139\n##yce         29297\n##ych         17994\n##yck         28377\n##yd          25688\n##yde         18124\n##ye           6672\n##year        29100\n##yed         20821\n##yeh         25673\n##yen         20684\n##yer         10532\n##yes         23147\n##yev         17240\n##yi          10139\n##yin         25811\n##ying        14147\n##yk          15922\n##yl           8516\n##yla         23943\n##yle         12844\n##yler        20853\n##yles        26274\n##ylus        18871\n##ym          24335\n##yman        17906\n##yme         25219\n##yn           6038\n##yna         18279\n##yne          9654\n##yo           7677\n##yon         14001\n##yoshi       19196\n##you         29337\n##yp          22571\n##ype         18863\n##yr          12541\n##yra         19563\n##yre         16363\n##yria        20379\n##ys           7274\n##yse         23274\n##ysis        20960\n##yson        25385\n##yst         27268\n##yt          22123\n##yte         17250\n##ythe        26688\n##ytic        21252\n##yu          10513\n##yuan        17236\n##yuki        19663\n##ywood       26985\n##yx          17275\n##yya         19903\n##z            2480\n##za           4143\n##zai         25290\n##zak         20685\n##zaki        18637\n##zal         16739\n##zam         20722\n##zan         13471\n##zano        24147\n##zar          9057\n##zard        26154\n##zation       9276\n##zawa        19708\n##zbek        28733\n##zcz         29419\n##zd          26494\n##ze           4371\n##zed          5422\n##zee         23940\n##zek         24506\n##zel         12638\n##zell        24085\n##zen         10431\n##zer          6290\n##zers        16750\n##zes         11254\n##zh          27922\n##zhi         19436\n##zhou         9791\n##zi           5831\n##zia         12871\n##zic         27586\n##zie         14272\n##zier        21548\n##zily        28431\n##zin         17168\n##zine        21254\n##zing         6774\n##zio         12426\n##zione       20574\n##zko         29002\n##zle         29247\n##zman        24340\n##zo           6844\n##zog         28505\n##zon         11597\n##zone        15975\n##zong        13150\n##zoo         23221\n##zos         28370\n##zow         22670\n##zquez       22938\n##zu           9759\n##zuka        22968\n##zuki        24015\n##zumi        28114\n##zy           9096\n##zyn         23749\n##zz          13213\n##zza         20715\n##zzi         13793\n##zziness     29212\n##zzle        17644\n##zzled       17269\n##zzling      20838\n##zzo         12036\n##zzy         28753\n##{           29640\n##|           29641\n##}           29642\n##~           29643\n##¡           29644\n##¢           29645\n##£           29646\n##¤           29647\n##¥           29648\n##¦           29649\n##§           29650\n##¨           29651\n##©           29652\n##ª           29653\n##«           29654\n##¬           29655\n##®           29656\n##°            7737\n##±           29657\n##²           10701\n##³           18107\n##´           29658\n##´s          21932\n##µ           29659\n##¶           29660\n##·           29661\n##¹           27904\n##º           29662\n##»           29663\n##¼           29664\n##½           13714\n##¾           29665\n##¿           29666\n##×           26306\n##ß           19310\n##ße          17499\n##æ           29667\n##ð           29668\n##÷           29669\n##ø           16415\n##øy          27688\n##þ           29670\n##đ           29671\n##ħ           29672\n##ı           11722\n##ł           18818\n##ła          22972\n##ław         19704\n##ŋ           29673\n##œ           29674\n##ƒ           29675\n##ɐ           29676\n##ɑ           29677\n##ɒ           29678\n##ɔ           29679\n##ɕ           29680\n##ə           29681\n##ɛ           29275\n##ɡ           29682\n##ɣ           29683\n##ɨ           29684\n##ɪ           29685\n##ɫ           29686\n##ɬ           29687\n##ɯ           29688\n##ɲ           29689\n##ɴ           29690\n##ɹ           29691\n##ɾ           29692\n##ʀ           29693\n##ʁ           29694\n##ʂ           29695\n##ʃ           29696\n##ʉ           29697\n##ʊ           29698\n##ʋ           29699\n##ʌ           29700\n##ʎ           29701\n##ʐ           29702\n##ʑ           29703\n##ʒ           29704\n##ʔ           29705\n##ʰ           29706\n##ʲ           29707\n##ʳ           29708\n##ʷ           29709\n##ʸ           29710\n##ʻ           29711\n##ʻi          26444\n##ʼ           29712\n##ʾ           29713\n##ʿ           29714\n##ˈ           29715\n##ː           23432\n##ˡ           29716\n##ˢ           29717\n##ˣ           29718\n##ˤ           29719\n##α           14608\n##β           29720\n##γ           29721\n##δ           29722\n##ε           29723\n##ζ           29724\n##η           24824\n##ης          29155\n##θ           29725\n##ι           18199\n##ια          27432\n##κ           29726\n##λ           29727\n##μ           29728\n##ν           16177\n##ξ           29729\n##ο           29730\n##ος          15297\n##ου          26789\n##π           29731\n##ρ           29732\n##ς           19579\n##σ           29733\n##τ           29734\n##υ           29735\n##φ           29736\n##χ           29737\n##ψ           29738\n##ω           29739\n##а           10260\n##ан          28995\n##б           29740\n##в           25529\n##г           29741\n##д           29742\n##е           15290\n##евич        22646\n##ж           29743\n##з           29744\n##и           10325\n##ии          15414\n##ия          23483\n##к           23925\n##ка          28598\n##л           29436\n##м           29745\n##н           18947\n##на          19865\n##о           14150\n##ов          19259\n##ович        16198\n##п           29746\n##р           16856\n##с           29747\n##т           22919\n##у           29748\n##ф           29749\n##х           29750\n##ц           29751\n##ч           29752\n##ш           29753\n##щ           29754\n##ъ           29755\n##ы           29113\n##ь           23742\n##э           29756\n##ю           29757\n##я           17432\n##ђ           29758\n##є           29759\n##і           29760\n##ј           29761\n##љ           29762\n##њ           29763\n##ћ           29764\n##ӏ           29765\n##ա           29766\n##բ           29767\n##գ           29768\n##դ           29769\n##ե           29770\n##թ           29771\n##ի           29772\n##լ           29773\n##կ           29774\n##հ           29775\n##մ           29776\n##յ           29777\n##ն           29778\n##ո           29779\n##պ           29780\n##ս           29781\n##վ           29782\n##տ           29783\n##ր           29784\n##ւ           29785\n##ք           29786\n##־           29787\n##א           29788\n##ב           29789\n##ג           29790\n##ד           29791\n##ה           29128\n##ו           29792\n##ז           29793\n##ח           29794\n##ט           29795\n##י           29796\n##ך           29797\n##כ           29798\n##ל           29799\n##ם           29800\n##מ           29801\n##ן           29802\n##נ           29803\n##ס           29804\n##ע           29805\n##ף           29806\n##פ           29807\n##ץ           29808\n##צ           29809\n##ק           29810\n##ר           29811\n##ש           29812\n##ת           29813\n##،           29814\n##ء           29815\n##ا           25573\n##ان          18511\n##ب           29816\n##باد         25799\n##ة           19433\n##ت           29817\n##ث           29818\n##ج           29819\n##ح           29820\n##خ           29821\n##د           15394\n##ذ           29822\n##ر           17149\n##ز           29823\n##س           29824\n##ش           29825\n##ص           29826\n##ض           29827\n##ط           29828\n##ظ           29829\n##ع           29830\n##غ           29831\n##ـ           29832\n##ف           29833\n##ق           29834\n##ك           29835\n##ل           23673\n##م           22192\n##ن           15915\n##ه           14157\n##و           29836\n##ى           29837\n##ي           14498\n##ٹ           29838\n##پ           29839\n##چ           29840\n##ک           29841\n##گ           29842\n##ں           29843\n##ھ           29844\n##ہ           29845\n##ی           24830\n##ے           29846\n##अ           29847\n##आ           29848\n##उ           29849\n##ए           29850\n##क           29851\n##ख           29852\n##ग           29853\n##च           29854\n##ज           29855\n##ट           29856\n##ड           29857\n##ण           29858\n##त           29859\n##थ           29860\n##द           29861\n##ध           29862\n##न           29863\n##प           29864\n##ब           29865\n##भ           29866\n##म           29867\n##य           29868\n##र           29869\n##ल           29870\n##व           29871\n##श           29872\n##ष           29873\n##स           29874\n##ह           29875\n##ा           29876\n##ि           29877\n##ी           29878\n##ो           29879\n##।           29880\n##॥           29881\n##ং           29882\n##অ           29883\n##আ           29884\n##ই           29885\n##উ           29886\n##এ           29887\n##ও           29888\n##ক           29889\n##খ           29890\n##গ           29891\n##চ           29892\n##ছ           29893\n##জ           29894\n##ট           29895\n##ড           29896\n##ণ           29897\n##ত           29898\n##থ           29899\n##দ           29900\n##ধ           29901\n##ন           29902\n##প           29903\n##ব           29904\n##ভ           29905\n##ম           29906\n##য           29907\n##র           29908\n##ল           29909\n##শ           29910\n##ষ           29911\n##স           29912\n##হ           29913\n##া           29914\n##ি           29915\n##ী           29916\n##ে           29917\n##க           29918\n##ச           29919\n##ட           29920\n##த           29921\n##ந           29922\n##ன           29923\n##ப           29924\n##ம           29925\n##ய           29926\n##ர           29927\n##ல           29928\n##ள           29929\n##வ           29930\n##ா           29931\n##ி           29932\n##ு           29933\n##ே           29934\n##ை           29935\n##ನ           29936\n##ರ           29937\n##ಾ           29938\n##ක           29939\n##ය           29940\n##ර           29941\n##ල           29942\n##ව           29943\n##ා           29944\n##ก           29945\n##ง           29946\n##ต           29947\n##ท           29948\n##น           29949\n##พ           29950\n##ม           29951\n##ย           29952\n##ร           29953\n##ล           29954\n##ว           29955\n##ส           29956\n##อ           29957\n##า           29958\n##เ           29959\n##་           29960\n##།           29961\n##ག           29962\n##ང           29963\n##ད           29964\n##ན           29965\n##པ           29966\n##བ           29967\n##མ           29968\n##འ           29969\n##ར           29970\n##ལ           29971\n##ས           29972\n##မ           29973\n##ა           29974\n##ბ           29975\n##გ           29976\n##დ           29977\n##ე           29978\n##ვ           29979\n##თ           29980\n##ი           29981\n##კ           29982\n##ლ           29983\n##მ           29984\n##ნ           29985\n##ო           29986\n##რ           29987\n##ს           29988\n##ტ           29989\n##უ           29990\n##ᄀ          29991\n##ᄂ          29992\n##ᄃ          29993\n##ᄅ          29994\n##ᄆ          29995\n##ᄇ          29996\n##ᄉ          29997\n##ᄊ          29998\n##ᄋ          29999\n##ᄌ          30000\n##ᄎ          30001\n##ᄏ          30002\n##ᄐ          30003\n##ᄑ          30004\n##ᄒ          30005\n##ᅡ           30006\n##ᅢ           30007\n##ᅥ           30008\n##ᅦ           30009\n##ᅧ           30010\n##ᅩ           30011\n##ᅪ           30012\n##ᅭ           30013\n##ᅮ           30014\n##ᅯ           30015\n##ᅲ           30016\n##ᅳ           30017\n##ᅴ           30018\n##ᅵ           30019\n##ᆨ           30020\n##ᆫ           30021\n##ᆯ           30022\n##ᆷ           30023\n##ᆸ           30024\n##ᆼ           30025\n##ᴬ           30026\n##ᴮ           30027\n##ᴰ           30028\n##ᴵ           30029\n##ᴺ           30030\n##ᵀ           30031\n##ᵃ           30032\n##ᵇ           30033\n##ᵈ           30034\n##ᵉ           30035\n##ᵍ           30036\n##ᵏ           30037\n##ᵐ           30038\n##ᵒ           30039\n##ᵖ           30040\n##ᵗ           30041\n##ᵘ           30042\n##ᵢ           19109\n##ᵣ           30043\n##ᵤ           30044\n##ᵥ           30045\n##ᶜ           30046\n##ᶠ           30047\n##‐           30048\n##‑           30049\n##‒           30050\n##–           30051\n##—           30052\n##―           30053\n##‖           30054\n##‘           30055\n##’           30056\n##‚           30057\n##“           30058\n##”           30059\n##„           30060\n##†           30061\n##‡           30062\n##•           30063\n##…           30064\n##‰           30065\n##′           30066\n##″           30067\n##›           30068\n##‿           30069\n##⁄           30070\n##⁄₄          27392\n##⁰           30071\n##ⁱ           30072\n##⁴           30073\n##⁵           30074\n##⁶           30075\n##⁷           30076\n##⁸           30077\n##⁹           30078\n##⁺           12744\n##⁻           30079\n##ⁿ           30080\n##₀           17110\n##₁           11871\n##₂            8229\n##₃           11622\n##₄           17004\n##₅           30081\n##₆           30082\n##₇           30083\n##₈           30084\n##₉           30085\n##₊           30086\n##₍           30087\n##₎           30088\n##ₐ           30089\n##ₑ           30090\n##ₒ           30091\n##ₓ           30092\n##ₕ           30093\n##ₖ           30094\n##ₗ           30095\n##ₘ           30096\n##ₙ           19110\n##ₚ           30097\n##ₛ           30098\n##ₜ           30099\n##₤           30100\n##₩           30101\n##€           30102\n##₱           30103\n##₹           30104\n##ℓ           30105\n##№           30106\n##ℝ           30107\n##™           30108\n##⅓           30109\n##⅔           30110\n##←           30111\n##↑           30112\n##→           30113\n##↓           30114\n##↔           30115\n##↦           30116\n##⇄           30117\n##⇌           30118\n##⇒           30119\n##∂           30120\n##∅           30121\n##∆           30122\n##∇           30123\n##∈           30124\n##−           22543\n##−1          27944\n##∗           30125\n##∘           30126\n##√           30127\n##∞           30128\n##∧           30129\n##∨           30130\n##∩           30131\n##∪           30132\n##≈           30133\n##≡           30134\n##≤           30135\n##≥           30136\n##⊂           30137\n##⊆           30138\n##⊕           30139\n##⊗           30140\n##⋅           30141\n##─           30142\n##│           30143\n##■           30144\n##▪           30145\n##●           30146\n##★           30147\n##☆           30148\n##☉           30149\n##♠           30150\n##♣           30151\n##♥           30152\n##♦           30153\n##♭           24102\n##♯           30154\n##⟨           30155\n##⟩           30156\n##ⱼ           30157\n##⺩          30158\n##⺼          30159\n##⽥          30160\n##、          30161\n##。          30162\n##〈          30163\n##〉          30164\n##《          30165\n##》          30166\n##「          30167\n##」          30168\n##『          30169\n##』          30170\n##〜          30171\n##あ          30172\n##い          30173\n##う          30174\n##え          30175\n##お          30176\n##か          30177\n##き          30178\n##く          30179\n##け          30180\n##こ          30181\n##さ          30182\n##し          30183\n##す          30184\n##せ          30185\n##そ          30186\n##た          30187\n##ち          30188\n##っ          30189\n##つ          30190\n##て          30191\n##と          30192\n##な          30193\n##に          30194\n##ぬ          30195\n##ね          30196\n##の          30197\n##は          30198\n##ひ          30199\n##ふ          30200\n##へ          30201\n##ほ          30202\n##ま          30203\n##み          30204\n##む          30205\n##め          30206\n##も          30207\n##や          30208\n##ゆ          30209\n##よ          30210\n##ら          30211\n##り          30212\n##る          30213\n##れ          30214\n##ろ          30215\n##を          30216\n##ん          30217\n##ァ          30218\n##ア          30219\n##ィ          30220\n##イ          30221\n##ウ          30222\n##ェ          30223\n##エ          30224\n##オ          30225\n##カ          30226\n##キ          30227\n##ク          30228\n##ケ          30229\n##コ          30230\n##サ          30231\n##シ          30232\n##ス          30233\n##セ          30234\n##タ          30235\n##チ          30236\n##ッ          30237\n##ツ          30238\n##テ          30239\n##ト          30240\n##ナ          30241\n##ニ          30242\n##ノ          30243\n##ハ          30244\n##ヒ          30245\n##フ          30246\n##ヘ          30247\n##ホ          30248\n##マ          30249\n##ミ          30250\n##ム          30251\n##メ          30252\n##モ          30253\n##ャ          30254\n##ュ          30255\n##ョ          30256\n##ラ          30257\n##リ          30258\n##ル          30259\n##レ          30260\n##ロ          30261\n##ワ          30262\n##ン          30263\n##・          30264\n##ー          30265\n##一          30266\n##三          30267\n##上          30268\n##下          30269\n##不          30270\n##世          30271\n##中          30272\n##主          30273\n##久          30274\n##之          30275\n##也          30276\n##事          30277\n##二          30278\n##五          30279\n##井          30280\n##京          30281\n##人          30282\n##亻          30283\n##仁          30284\n##介          30285\n##代          30286\n##仮          30287\n##伊          30288\n##会          30289\n##佐          30290\n##侍          30291\n##保          30292\n##信          30293\n##健          30294\n##元          30295\n##光          30296\n##八          30297\n##公          30298\n##内          30299\n##出          30300\n##分          30301\n##前          30302\n##劉          30303\n##力          30304\n##加          30305\n##勝          30306\n##北          30307\n##区          30308\n##十          30309\n##千          30310\n##南          30311\n##博          30312\n##原          30313\n##口          30314\n##古          30315\n##史          30316\n##司          30317\n##合          30318\n##吉          30319\n##同          30320\n##名          30321\n##和          30322\n##囗          30323\n##四          30324\n##国          30325\n##國          30326\n##土          30327\n##地          30328\n##坂          30329\n##城          30330\n##堂          30331\n##場          30332\n##士          30333\n##夏          30334\n##外          30335\n##大          30336\n##天          30337\n##太          30338\n##夫          30339\n##奈          30340\n##女          30341\n##子          30342\n##学          30343\n##宀          30344\n##宇          30345\n##安          30346\n##宗          30347\n##定          30348\n##宣          30349\n##宮          30350\n##家          30351\n##宿          30352\n##寺          30353\n##將          30354\n##小          30355\n##尚          30356\n##山          30357\n##岡          30358\n##島          30359\n##崎          30360\n##川          30361\n##州          30362\n##巿          30363\n##帝          30364\n##平          30365\n##年          30366\n##幸          30367\n##广          30368\n##弘          30369\n##張          30370\n##彳          30371\n##後          30372\n##御          30373\n##德          30374\n##心          30375\n##忄          30376\n##志          30377\n##忠          30378\n##愛          30379\n##成          30380\n##我          30381\n##戦          30382\n##戸          30383\n##手          30384\n##扌          30385\n##政          30386\n##文          30387\n##新          30388\n##方          30389\n##日          30390\n##明          30391\n##星          30392\n##春          30393\n##昭          30394\n##智          30395\n##曲          30396\n##書          30397\n##月          30398\n##有          30399\n##朝          30400\n##木          30401\n##本          30402\n##李          30403\n##村          30404\n##東          30405\n##松          30406\n##林          30407\n##森          30408\n##楊          30409\n##樹          30410\n##橋          30411\n##歌          30412\n##止          30413\n##正          30414\n##武          30415\n##比          30416\n##氏          30417\n##民          30418\n##水          30419\n##氵          30420\n##氷          30421\n##永          30422\n##江          30423\n##沢          30424\n##河          30425\n##治          30426\n##法          30427\n##海          30428\n##清          30429\n##漢          30430\n##瀬          30431\n##火          30432\n##版          30433\n##犬          30434\n##王          30435\n##生          30436\n##田          30437\n##男          30438\n##疒          30439\n##発          30440\n##白          30441\n##的          30442\n##皇          30443\n##目          30444\n##相          30445\n##省          30446\n##真          30447\n##石          30448\n##示          30449\n##社          30450\n##神          30451\n##福          30452\n##禾          30453\n##秀          30454\n##秋          30455\n##空          30456\n##立          30457\n##章          30458\n##竹          30459\n##糹          30460\n##美          30461\n##義          30462\n##耳          30463\n##良          30464\n##艹          30465\n##花          30466\n##英          30467\n##華          30468\n##葉          30469\n##藤          30470\n##行          30471\n##街          30472\n##西          30473\n##見          30474\n##訁          30475\n##語          30476\n##谷          30477\n##貝          30478\n##貴          30479\n##車          30480\n##軍          30481\n##辶          30482\n##道          30483\n##郎          30484\n##郡          30485\n##部          30486\n##都          30487\n##里          30488\n##野          30489\n##金          30490\n##鈴          30491\n##镇          30492\n##長          30493\n##門          30494\n##間          30495\n##阝          30496\n##阿          30497\n##陳          30498\n##陽          30499\n##雄          30500\n##青          30501\n##面          30502\n##風          30503\n##食          30504\n##香          30505\n##馬          30506\n##高          30507\n##龍          30508\n##龸          30509\n##ﬁ           30510\n##ﬂ           30511\n##！          30512\n##（          30513\n##）          30514\n##，          30515\n##－          30516\n##．          30517\n##／          30518\n##：          30519\n##？          30520\n##～          30521"
          }
        },
        "77f0650d3ac843a492429cff68b323b5": {
          "model_module": "@jupyter-widgets/base",
          "model_name": "LayoutModel",
          "model_module_version": "1.2.0",
          "state": {
            "_model_module": "@jupyter-widgets/base",
            "_model_module_version": "1.2.0",
            "_model_name": "LayoutModel",
            "_view_count": null,
            "_view_module": "@jupyter-widgets/base",
            "_view_module_version": "1.2.0",
            "_view_name": "LayoutView",
            "align_content": null,
            "align_items": null,
            "align_self": null,
            "border": null,
            "bottom": null,
            "display": null,
            "flex": null,
            "flex_flow": null,
            "grid_area": null,
            "grid_auto_columns": null,
            "grid_auto_flow": null,
            "grid_auto_rows": null,
            "grid_column": null,
            "grid_gap": null,
            "grid_row": null,
            "grid_template_areas": null,
            "grid_template_columns": null,
            "grid_template_rows": null,
            "height": null,
            "justify_content": null,
            "justify_items": null,
            "left": null,
            "margin": null,
            "max_height": null,
            "max_width": null,
            "min_height": null,
            "min_width": null,
            "object_fit": null,
            "object_position": null,
            "order": null,
            "overflow": null,
            "overflow_x": null,
            "overflow_y": null,
            "padding": null,
            "right": null,
            "top": null,
            "visibility": null,
            "width": null
          }
        },
        "e93b3d1d9f344ea4837f3961deaaa4f2": {
          "model_module": "@jupyter-widgets/controls",
          "model_name": "DescriptionStyleModel",
          "model_module_version": "1.5.0",
          "state": {
            "_model_module": "@jupyter-widgets/controls",
            "_model_module_version": "1.5.0",
            "_model_name": "DescriptionStyleModel",
            "_view_count": null,
            "_view_module": "@jupyter-widgets/base",
            "_view_module_version": "1.2.0",
            "_view_name": "StyleView",
            "description_width": ""
          }
        },
        "84e912d8292c42b2828f373320ac87f6": {
          "model_module": "@jupyter-widgets/controls",
          "model_name": "TextModel",
          "model_module_version": "1.5.0",
          "state": {
            "_dom_classes": [],
            "_model_module": "@jupyter-widgets/controls",
            "_model_module_version": "1.5.0",
            "_model_name": "TextModel",
            "_view_count": null,
            "_view_module": "@jupyter-widgets/controls",
            "_view_module_version": "1.5.0",
            "_view_name": "TextView",
            "continuous_update": true,
            "description": "Enter a Word:",
            "description_tooltip": null,
            "disabled": false,
            "layout": "IPY_MODEL_9b051e90fd8142e5ae01ae9d08f27a87",
            "placeholder": "​",
            "style": "IPY_MODEL_95c29dab2b234bbeb93f55753500a895",
            "value": "word"
          }
        },
        "9b051e90fd8142e5ae01ae9d08f27a87": {
          "model_module": "@jupyter-widgets/base",
          "model_name": "LayoutModel",
          "model_module_version": "1.2.0",
          "state": {
            "_model_module": "@jupyter-widgets/base",
            "_model_module_version": "1.2.0",
            "_model_name": "LayoutModel",
            "_view_count": null,
            "_view_module": "@jupyter-widgets/base",
            "_view_module_version": "1.2.0",
            "_view_name": "LayoutView",
            "align_content": null,
            "align_items": null,
            "align_self": null,
            "border": null,
            "bottom": null,
            "display": null,
            "flex": null,
            "flex_flow": null,
            "grid_area": null,
            "grid_auto_columns": null,
            "grid_auto_flow": null,
            "grid_auto_rows": null,
            "grid_column": null,
            "grid_gap": null,
            "grid_row": null,
            "grid_template_areas": null,
            "grid_template_columns": null,
            "grid_template_rows": null,
            "height": null,
            "justify_content": null,
            "justify_items": null,
            "left": null,
            "margin": null,
            "max_height": null,
            "max_width": null,
            "min_height": null,
            "min_width": null,
            "object_fit": null,
            "object_position": null,
            "order": null,
            "overflow": null,
            "overflow_x": null,
            "overflow_y": null,
            "padding": null,
            "right": null,
            "top": null,
            "visibility": null,
            "width": null
          }
        },
        "95c29dab2b234bbeb93f55753500a895": {
          "model_module": "@jupyter-widgets/controls",
          "model_name": "DescriptionStyleModel",
          "model_module_version": "1.5.0",
          "state": {
            "_model_module": "@jupyter-widgets/controls",
            "_model_module_version": "1.5.0",
            "_model_name": "DescriptionStyleModel",
            "_view_count": null,
            "_view_module": "@jupyter-widgets/base",
            "_view_module_version": "1.2.0",
            "_view_name": "StyleView",
            "description_width": ""
          }
        },
        "15f076368c4148819dc62e704c31b615": {
          "model_module": "@jupyter-widgets/controls",
          "model_name": "ButtonModel",
          "model_module_version": "1.5.0",
          "state": {
            "_dom_classes": [],
            "_model_module": "@jupyter-widgets/controls",
            "_model_module_version": "1.5.0",
            "_model_name": "ButtonModel",
            "_view_count": null,
            "_view_module": "@jupyter-widgets/controls",
            "_view_module_version": "1.5.0",
            "_view_name": "ButtonView",
            "button_style": "",
            "description": "Tokenize",
            "disabled": false,
            "icon": "",
            "layout": "IPY_MODEL_1cc7f5ab5d424e409ace2f89beb79758",
            "style": "IPY_MODEL_3c73482fb3974f7ca6734f3ba5ac4fc0",
            "tooltip": ""
          }
        },
        "1cc7f5ab5d424e409ace2f89beb79758": {
          "model_module": "@jupyter-widgets/base",
          "model_name": "LayoutModel",
          "model_module_version": "1.2.0",
          "state": {
            "_model_module": "@jupyter-widgets/base",
            "_model_module_version": "1.2.0",
            "_model_name": "LayoutModel",
            "_view_count": null,
            "_view_module": "@jupyter-widgets/base",
            "_view_module_version": "1.2.0",
            "_view_name": "LayoutView",
            "align_content": null,
            "align_items": null,
            "align_self": null,
            "border": null,
            "bottom": null,
            "display": null,
            "flex": null,
            "flex_flow": null,
            "grid_area": null,
            "grid_auto_columns": null,
            "grid_auto_flow": null,
            "grid_auto_rows": null,
            "grid_column": null,
            "grid_gap": null,
            "grid_row": null,
            "grid_template_areas": null,
            "grid_template_columns": null,
            "grid_template_rows": null,
            "height": null,
            "justify_content": null,
            "justify_items": null,
            "left": null,
            "margin": null,
            "max_height": null,
            "max_width": null,
            "min_height": null,
            "min_width": null,
            "object_fit": null,
            "object_position": null,
            "order": null,
            "overflow": null,
            "overflow_x": null,
            "overflow_y": null,
            "padding": null,
            "right": null,
            "top": null,
            "visibility": null,
            "width": null
          }
        },
        "3c73482fb3974f7ca6734f3ba5ac4fc0": {
          "model_module": "@jupyter-widgets/controls",
          "model_name": "ButtonStyleModel",
          "model_module_version": "1.5.0",
          "state": {
            "_model_module": "@jupyter-widgets/controls",
            "_model_module_version": "1.5.0",
            "_model_name": "ButtonStyleModel",
            "_view_count": null,
            "_view_module": "@jupyter-widgets/base",
            "_view_module_version": "1.2.0",
            "_view_name": "StyleView",
            "button_color": null,
            "font_weight": ""
          }
        }
      }
    }
  },
  "cells": [
    {
      "cell_type": "markdown",
      "source": [
        "#Exploring tokenizers\n",
        "Copyright 2023, Denis Rothman\n",
        "\n"
      ],
      "metadata": {
        "id": "Y79WGn91ZYRi"
      }
    },
    {
      "cell_type": "markdown",
      "source": [
        "#Installing libraries"
      ],
      "metadata": {
        "id": "dx0khf5vfen9"
      }
    },
    {
      "cell_type": "code",
      "source": [
        "#Hugging Face Transformers\n",
        "!pip install transformers"
      ],
      "metadata": {
        "id": "_cmecMd8Z3zS",
        "colab": {
          "base_uri": "https://localhost:8080/"
        },
        "outputId": "df21ac79-6bb4-47ca-fd37-0e7658fa0248"
      },
      "execution_count": 1,
      "outputs": [
        {
          "output_type": "stream",
          "name": "stdout",
          "text": [
            "Looking in indexes: https://pypi.org/simple, https://us-python.pkg.dev/colab-wheels/public/simple/\n",
            "Collecting transformers\n",
            "  Downloading transformers-4.29.2-py3-none-any.whl (7.1 MB)\n",
            "\u001b[2K     \u001b[90m━━━━━━━━━━━━━━━━━━━━━━━━━━━━━━━━━━━━━━━━\u001b[0m \u001b[32m7.1/7.1 MB\u001b[0m \u001b[31m56.5 MB/s\u001b[0m eta \u001b[36m0:00:00\u001b[0m\n",
            "\u001b[?25hRequirement already satisfied: filelock in /usr/local/lib/python3.10/dist-packages (from transformers) (3.12.0)\n",
            "Collecting huggingface-hub<1.0,>=0.14.1 (from transformers)\n",
            "  Downloading huggingface_hub-0.15.1-py3-none-any.whl (236 kB)\n",
            "\u001b[2K     \u001b[90m━━━━━━━━━━━━━━━━━━━━━━━━━━━━━━━━━━━━━━\u001b[0m \u001b[32m236.8/236.8 kB\u001b[0m \u001b[31m23.4 MB/s\u001b[0m eta \u001b[36m0:00:00\u001b[0m\n",
            "\u001b[?25hRequirement already satisfied: numpy>=1.17 in /usr/local/lib/python3.10/dist-packages (from transformers) (1.22.4)\n",
            "Requirement already satisfied: packaging>=20.0 in /usr/local/lib/python3.10/dist-packages (from transformers) (23.1)\n",
            "Requirement already satisfied: pyyaml>=5.1 in /usr/local/lib/python3.10/dist-packages (from transformers) (6.0)\n",
            "Requirement already satisfied: regex!=2019.12.17 in /usr/local/lib/python3.10/dist-packages (from transformers) (2022.10.31)\n",
            "Requirement already satisfied: requests in /usr/local/lib/python3.10/dist-packages (from transformers) (2.27.1)\n",
            "Collecting tokenizers!=0.11.3,<0.14,>=0.11.1 (from transformers)\n",
            "  Downloading tokenizers-0.13.3-cp310-cp310-manylinux_2_17_x86_64.manylinux2014_x86_64.whl (7.8 MB)\n",
            "\u001b[2K     \u001b[90m━━━━━━━━━━━━━━━━━━━━━━━━━━━━━━━━━━━━━━━━\u001b[0m \u001b[32m7.8/7.8 MB\u001b[0m \u001b[31m30.7 MB/s\u001b[0m eta \u001b[36m0:00:00\u001b[0m\n",
            "\u001b[?25hRequirement already satisfied: tqdm>=4.27 in /usr/local/lib/python3.10/dist-packages (from transformers) (4.65.0)\n",
            "Requirement already satisfied: fsspec in /usr/local/lib/python3.10/dist-packages (from huggingface-hub<1.0,>=0.14.1->transformers) (2023.4.0)\n",
            "Requirement already satisfied: typing-extensions>=3.7.4.3 in /usr/local/lib/python3.10/dist-packages (from huggingface-hub<1.0,>=0.14.1->transformers) (4.5.0)\n",
            "Requirement already satisfied: urllib3<1.27,>=1.21.1 in /usr/local/lib/python3.10/dist-packages (from requests->transformers) (1.26.15)\n",
            "Requirement already satisfied: certifi>=2017.4.17 in /usr/local/lib/python3.10/dist-packages (from requests->transformers) (2022.12.7)\n",
            "Requirement already satisfied: charset-normalizer~=2.0.0 in /usr/local/lib/python3.10/dist-packages (from requests->transformers) (2.0.12)\n",
            "Requirement already satisfied: idna<4,>=2.5 in /usr/local/lib/python3.10/dist-packages (from requests->transformers) (3.4)\n",
            "Installing collected packages: tokenizers, huggingface-hub, transformers\n",
            "Successfully installed huggingface-hub-0.15.1 tokenizers-0.13.3 transformers-4.29.2\n"
          ]
        }
      ]
    },
    {
      "cell_type": "code",
      "source": [
        "#Printing tabular data in Python\n",
        "!pip install tabulate"
      ],
      "metadata": {
        "colab": {
          "base_uri": "https://localhost:8080/"
        },
        "id": "7OaY1-xQcvqL",
        "outputId": "ca2666f0-811d-40e0-983a-1a394c879113"
      },
      "execution_count": 2,
      "outputs": [
        {
          "output_type": "stream",
          "name": "stdout",
          "text": [
            "Looking in indexes: https://pypi.org/simple, https://us-python.pkg.dev/colab-wheels/public/simple/\n",
            "Requirement already satisfied: tabulate in /usr/local/lib/python3.10/dist-packages (0.8.10)\n"
          ]
        }
      ]
    },
    {
      "cell_type": "code",
      "source": [
        "#Natural Language Toolkit\n",
        "!pip install nltk"
      ],
      "metadata": {
        "id": "O3mo9cr7BfQf",
        "colab": {
          "base_uri": "https://localhost:8080/"
        },
        "outputId": "0092051c-7081-4f54-dfec-236b7a305788"
      },
      "execution_count": 3,
      "outputs": [
        {
          "output_type": "stream",
          "name": "stdout",
          "text": [
            "Looking in indexes: https://pypi.org/simple, https://us-python.pkg.dev/colab-wheels/public/simple/\n",
            "Requirement already satisfied: nltk in /usr/local/lib/python3.10/dist-packages (3.8.1)\n",
            "Requirement already satisfied: click in /usr/local/lib/python3.10/dist-packages (from nltk) (8.1.3)\n",
            "Requirement already satisfied: joblib in /usr/local/lib/python3.10/dist-packages (from nltk) (1.2.0)\n",
            "Requirement already satisfied: regex>=2021.8.3 in /usr/local/lib/python3.10/dist-packages (from nltk) (2022.10.31)\n",
            "Requirement already satisfied: tqdm in /usr/local/lib/python3.10/dist-packages (from nltk) (4.65.0)\n"
          ]
        }
      ]
    },
    {
      "cell_type": "markdown",
      "source": [
        "# Word and sentence tokenizers"
      ],
      "metadata": {
        "id": "141_2xAuBxWW"
      }
    },
    {
      "cell_type": "code",
      "source": [
        "import nltk\n",
        "nltk.download('punkt')\n",
        "from nltk.tokenize import sent_tokenize, word_tokenize, RegexpTokenizer, \\\n",
        "    TreebankWordTokenizer, WhitespaceTokenizer, PunktSentenceTokenizer, \\\n",
        "    WordPunctTokenizer, MWETokenizer"
      ],
      "metadata": {
        "colab": {
          "base_uri": "https://localhost:8080/"
        },
        "id": "06xBwHvHD_yH",
        "outputId": "d2b6353c-762c-4956-e523-4151329c6793"
      },
      "execution_count": 4,
      "outputs": [
        {
          "output_type": "stream",
          "name": "stderr",
          "text": [
            "[nltk_data] Downloading package punkt to /root/nltk_data...\n",
            "[nltk_data]   Unzipping tokenizers/punkt.zip.\n"
          ]
        }
      ]
    },
    {
      "cell_type": "markdown",
      "source": [
        "## Sentence Tokenization"
      ],
      "metadata": {
        "id": "a-20uKHIjK9U"
      }
    },
    {
      "cell_type": "code",
      "source": [
        "# Sentence Tokenization\n",
        "text = \"This is a sentence. This is another one.\"\n",
        "sentences = sent_tokenize(text)\n",
        "print(\"Sentence Tokenization:\")\n",
        "print(sentences)\n",
        "print()"
      ],
      "metadata": {
        "colab": {
          "base_uri": "https://localhost:8080/"
        },
        "id": "_hEGbMsRXlBD",
        "outputId": "01a3dce3-7345-4367-c5f0-16fb99381f7c"
      },
      "execution_count": 5,
      "outputs": [
        {
          "output_type": "stream",
          "name": "stdout",
          "text": [
            "Sentence Tokenization:\n",
            "['This is a sentence.', 'This is another one.']\n",
            "\n"
          ]
        }
      ]
    },
    {
      "cell_type": "markdown",
      "source": [
        "## Word Tokenization"
      ],
      "metadata": {
        "id": "oLAXgZzCjOXb"
      }
    },
    {
      "cell_type": "code",
      "source": [
        "# Word Tokenization\n",
        "sentence = \"This sentence contains several words.\"\n",
        "words = word_tokenize(sentence)\n",
        "print(\"Word Tokenization:\")\n",
        "print(words)\n",
        "print()"
      ],
      "metadata": {
        "colab": {
          "base_uri": "https://localhost:8080/"
        },
        "id": "liTcgpt1EnkZ",
        "outputId": "fac647f3-2619-4109-a46f-bb3027a657d2"
      },
      "execution_count": 6,
      "outputs": [
        {
          "output_type": "stream",
          "name": "stdout",
          "text": [
            "Word Tokenization:\n",
            "['This', 'sentence', 'contains', 'several', 'words', '.']\n",
            "\n"
          ]
        }
      ]
    },
    {
      "cell_type": "markdown",
      "source": [
        "## Regular Expression Tokenization"
      ],
      "metadata": {
        "id": "3Py7lEUTjQ-B"
      }
    },
    {
      "cell_type": "code",
      "source": [
        "# Regular Expression Tokenization\n",
        "tokenizer = RegexpTokenizer(r'\\w+')\n",
        "text = \"Let's see how to tokenize a sentence.\"\n",
        "tokens = tokenizer.tokenize(text)\n",
        "print(\"Regular Expression Tokenization:\")\n",
        "print(tokens)\n",
        "print()"
      ],
      "metadata": {
        "colab": {
          "base_uri": "https://localhost:8080/"
        },
        "id": "d1lb8JJdEqJ4",
        "outputId": "bfbdb958-c344-4c01-8cb5-641bef173fcc"
      },
      "execution_count": 7,
      "outputs": [
        {
          "output_type": "stream",
          "name": "stdout",
          "text": [
            "Regular Expression Tokenization:\n",
            "['Let', 's', 'see', 'how', 'to', 'tokenize', 'a', 'sentence']\n",
            "\n"
          ]
        }
      ]
    },
    {
      "cell_type": "markdown",
      "source": [
        "## Treebank Tokenization"
      ],
      "metadata": {
        "id": "qv5S4RymjTyl"
      }
    },
    {
      "cell_type": "code",
      "source": [
        "# Treebank Tokenization\n",
        "tokenizer = TreebankWordTokenizer()\n",
        "text = \"There aren't that many tokenizers.\"\n",
        "tokens = tokenizer.tokenize(text)\n",
        "print(\"Treebank Tokenization:\")\n",
        "print(tokens)\n",
        "print()"
      ],
      "metadata": {
        "colab": {
          "base_uri": "https://localhost:8080/"
        },
        "id": "JCUUTY6NEtyo",
        "outputId": "372aa6e1-7b11-4008-d853-54e2d331fbaa"
      },
      "execution_count": 8,
      "outputs": [
        {
          "output_type": "stream",
          "name": "stdout",
          "text": [
            "Treebank Tokenization:\n",
            "['There', 'are', \"n't\", 'that', 'many', 'tokenizers', '.']\n",
            "\n"
          ]
        }
      ]
    },
    {
      "cell_type": "markdown",
      "source": [
        "## White Space Tokenization"
      ],
      "metadata": {
        "id": "llg8kLo_jeX5"
      }
    },
    {
      "cell_type": "code",
      "source": [
        "# White Space Tokenizationtokenizer\n",
        "from nltk.tokenize import WhitespaceTokenizer\n",
        "tokenizer=WhitespaceTokenizer()\n",
        "text = \"Tokenize this sequence of words using white space. There aren't many words.\"\n",
        "tokens = tokenizer.tokenize(text)\n",
        "print(\"White Space Tokenization:\")\n",
        "print(tokens)\n",
        "print()"
      ],
      "metadata": {
        "colab": {
          "base_uri": "https://localhost:8080/"
        },
        "id": "Qr6lzqfbExt-",
        "outputId": "40b426b9-b091-4b2c-e723-bfc473535d03"
      },
      "execution_count": 9,
      "outputs": [
        {
          "output_type": "stream",
          "name": "stdout",
          "text": [
            "White Space Tokenization:\n",
            "['Tokenize', 'this', 'sequence', 'of', 'words', 'using', 'white', 'space.', 'There', \"aren't\", 'many', 'words.']\n",
            "\n"
          ]
        }
      ]
    },
    {
      "cell_type": "markdown",
      "source": [
        "## Punkt Sentence Tokenization"
      ],
      "metadata": {
        "id": "mZm5oCN0jhmp"
      }
    },
    {
      "cell_type": "code",
      "source": [
        "# Punkt Sentence Tokenization\n",
        "tokenizer = PunktSentenceTokenizer()\n",
        "text = \"A tokenizer can be trained. Many tokenizers aren't trained.\"\n",
        "sentences = tokenizer.tokenize(text)\n",
        "print(\"Punkt Sentence Tokenization:\")\n",
        "print(sentences)\n",
        "print()"
      ],
      "metadata": {
        "colab": {
          "base_uri": "https://localhost:8080/"
        },
        "id": "ZPnc7wRIE1L-",
        "outputId": "3aef398e-6078-4ef2-8177-c41077d57d21"
      },
      "execution_count": 10,
      "outputs": [
        {
          "output_type": "stream",
          "name": "stdout",
          "text": [
            "Punkt Sentence Tokenization:\n",
            "['A tokenizer can be trained.', \"Many tokenizers aren't trained.\"]\n",
            "\n"
          ]
        }
      ]
    },
    {
      "cell_type": "markdown",
      "source": [
        "## Word Punctuation Tokenization"
      ],
      "metadata": {
        "id": "lce7xrkYjk63"
      }
    },
    {
      "cell_type": "code",
      "source": [
        "# Word Punctuation Tokenization\n",
        "tokenizer = WordPunctTokenizer()\n",
        "text = \"They won a prize! They were overjoyed.\"\n",
        "tokens = tokenizer.tokenize(text)\n",
        "print(\"Word Punctuation Tokenization:\")\n",
        "print(tokens)\n",
        "print()"
      ],
      "metadata": {
        "colab": {
          "base_uri": "https://localhost:8080/"
        },
        "id": "ZZ7ThQnpE30t",
        "outputId": "93f3195c-82fb-4b96-a02d-bec1afd48c0b"
      },
      "execution_count": 11,
      "outputs": [
        {
          "output_type": "stream",
          "name": "stdout",
          "text": [
            "Word Punctuation Tokenization:\n",
            "['They', 'won', 'a', 'prize', '!', 'They', 'were', 'overjoyed', '.']\n",
            "\n"
          ]
        }
      ]
    },
    {
      "cell_type": "markdown",
      "source": [
        "## Multi-Word Expression Tokenization"
      ],
      "metadata": {
        "id": "7zbhFTVgjnjk"
      }
    },
    {
      "cell_type": "code",
      "source": [
        "# Multi-Word Expression Tokenization\n",
        "tokenizer = MWETokenizer()\n",
        "tokenizer.add_mwe((\"can\", \"not\"))\n",
        "text = \"I cannot go to the movies today\"\n",
        "tokens = tokenizer.tokenize(text.split())\n",
        "print(\"Multi-Word Expression Tokenization:\")\n",
        "print(tokens)\n",
        "print()"
      ],
      "metadata": {
        "colab": {
          "base_uri": "https://localhost:8080/"
        },
        "id": "R9dsCsPFE7a3",
        "outputId": "0b9a2d17-a13b-40fd-faad-3ddf551a992e"
      },
      "execution_count": 12,
      "outputs": [
        {
          "output_type": "stream",
          "name": "stdout",
          "text": [
            "Multi-Word Expression Tokenization:\n",
            "['I', 'cannot', 'go', 'to', 'the', 'movies', 'today']\n",
            "\n"
          ]
        }
      ]
    },
    {
      "cell_type": "markdown",
      "source": [
        "# Subword tokenizers"
      ],
      "metadata": {
        "id": "yaq7Ib7_y1G_"
      }
    },
    {
      "cell_type": "markdown",
      "source": [
        "## Detecting the type of tokenizer"
      ],
      "metadata": {
        "id": "JUMhAGyzao2r"
      }
    },
    {
      "cell_type": "markdown",
      "source": [
        "beginning of WIP code until book title finalized"
      ],
      "metadata": {
        "id": "JegP-BXOwpnj"
      }
    },
    {
      "cell_type": "code",
      "source": [
        "from google.colab import drive\n",
        "drive.mount('/content/drive')\n",
        "with open(\"drive/MyDrive/files/github.txt\", \"r\") as f:\n",
        "      PERSONAL_ACCESS_TOKEN = f.readline().strip()"
      ],
      "metadata": {
        "colab": {
          "base_uri": "https://localhost:8080/"
        },
        "id": "OPWGadPQw7J2",
        "outputId": "f272fec9-31dc-48d9-efa1-5d4f8f771767"
      },
      "execution_count": 13,
      "outputs": [
        {
          "output_type": "stream",
          "name": "stdout",
          "text": [
            "Mounted at /content/drive\n"
          ]
        }
      ]
    },
    {
      "cell_type": "code",
      "source": [
        "import requests\n",
        "url=  'https://raw.githubusercontent.com/Denis2054/Transformers_3rd_Edition/main/Chapter08/merges.txt'\n",
        "output_filename = 'merges.txt'\n",
        "token =  PERSONAL_ACCESS_TOKEN\n",
        "\n",
        "headers = {\n",
        "    'Authorization': f'Token {token}'\n",
        "}\n",
        "\n",
        "response = requests.get(url, headers=headers)\n",
        "\n",
        "if response.status_code == 200:\n",
        "    with open(output_filename, 'wb') as file:\n",
        "        file.write(response.content)\n",
        "        print('File downloaded successfully.')\n",
        "else:\n",
        "    print('Error downloading file.')"
      ],
      "metadata": {
        "colab": {
          "base_uri": "https://localhost:8080/"
        },
        "id": "6HOOJNYYpj7c",
        "outputId": "309ed6a9-96b5-4ded-ad75-8311f426db67"
      },
      "execution_count": 14,
      "outputs": [
        {
          "output_type": "stream",
          "name": "stdout",
          "text": [
            "File downloaded successfully.\n"
          ]
        }
      ]
    },
    {
      "cell_type": "code",
      "source": [
        "import requests\n",
        "url=  'https://raw.githubusercontent.com/Denis2054/Transformers_3rd_Edition/main/Chapter08/vocab.json'\n",
        "output_filename = 'vocab.json'\n",
        "token =  PERSONAL_ACCESS_TOKEN\n",
        "\n",
        "headers = {\n",
        "    'Authorization': f'Token {token}'\n",
        "}\n",
        "\n",
        "response = requests.get(url, headers=headers)\n",
        "\n",
        "if response.status_code == 200:\n",
        "    with open(output_filename, 'wb') as file:\n",
        "        file.write(response.content)\n",
        "        print('File downloaded successfully.')\n",
        "else:\n",
        "    print('Error downloading file.')"
      ],
      "metadata": {
        "colab": {
          "base_uri": "https://localhost:8080/"
        },
        "outputId": "38fd4ca0-8821-4709-fb72-0b9f2a5a348e",
        "id": "I426mv3Rx6xS"
      },
      "execution_count": 15,
      "outputs": [
        {
          "output_type": "stream",
          "name": "stdout",
          "text": [
            "File downloaded successfully.\n"
          ]
        }
      ]
    },
    {
      "cell_type": "markdown",
      "source": [
        "end of WIP code until book title finalized"
      ],
      "metadata": {
        "id": "rUDWiBsZw0NI"
      }
    },
    {
      "cell_type": "code",
      "execution_count": 16,
      "metadata": {
        "vscode": {
          "languageId": "python"
        },
        "id": "Lcxxvgnhpwte"
      },
      "outputs": [],
      "source": [
        "#1.Load merges.txt using the Colab file manager\n",
        "#2.Downloading the file from GitHub\n",
        "#!curl -L https://raw.githubusercontent.com/Denis2054/***book title***/main/Chapter09/merges.txt --output \"merges.txt\""
      ]
    },
    {
      "cell_type": "code",
      "execution_count": 17,
      "metadata": {
        "id": "HOk4iZ9YZvec",
        "vscode": {
          "languageId": "python"
        }
      },
      "outputs": [],
      "source": [
        "#1.Load vocab.json using the Colab file manager\n",
        "#2.Downloading the file from GitHub\n",
        "#!curl -L https://raw.githubusercontent.com/Denis2054/Transformers-for-NLP-2nd-Edition/main/Chapter09/vocab.txt --output \"vocab.json\""
      ]
    },
    {
      "cell_type": "markdown",
      "source": [
        "Determining if the tokenizer is WordPiece or BPE"
      ],
      "metadata": {
        "id": "Qf5iqZ3xlxZY"
      }
    },
    {
      "cell_type": "code",
      "source": [
        "from transformers import RobertaTokenizer\n",
        "tokenizer = RobertaTokenizer.from_pretrained(\"/content\", max_length=512)\n",
        "\n",
        "# Get the vocabulary\n",
        "vocab = tokenizer.get_vocab()\n",
        "\n",
        "# Check if WordPiece or another type of tokenization was used\n",
        "is_wordpiece = any(token.startswith('##') for token in vocab)\n",
        "\n",
        "# Print the tokenizer type\n",
        "if is_wordpiece:\n",
        "    print(\"Tokenizer type: WordPiece\")\n",
        "else:\n",
        "    print(\"Tokenizer type: BPE\")"
      ],
      "metadata": {
        "colab": {
          "base_uri": "https://localhost:8080/"
        },
        "id": "PeXdsgeVkiiM",
        "outputId": "76bafc0c-2a82-406a-e387-fb11b1eeb685"
      },
      "execution_count": 24,
      "outputs": [
        {
          "output_type": "stream",
          "name": "stdout",
          "text": [
            "Tokenizer type: BPE\n"
          ]
        }
      ]
    },
    {
      "cell_type": "code",
      "source": [
        "from transformers import BertTokenizer\n",
        "\n",
        "# Load the BERT tokenizer\n",
        "model_name = 'bert-base-uncased'\n",
        "tokenizer = BertTokenizer.from_pretrained(model_name)\n",
        "\n",
        "# Get the vocabulary\n",
        "vocab = tokenizer.get_vocab()"
      ],
      "metadata": {
        "id": "wNvoye5iur1x"
      },
      "execution_count": 25,
      "outputs": []
    },
    {
      "cell_type": "code",
      "source": [
        "# Check if WordPiece or another type of tokenization was used\n",
        "is_wordpiece = any(token.startswith('##') for token in vocab)\n",
        "\n",
        "# Print the tokenizer type\n",
        "if is_wordpiece:\n",
        "    print(\"Tokenizer type: WordPiece\")\n",
        "else:\n",
        "    print(\"Tokenizer type: BPE\")"
      ],
      "metadata": {
        "colab": {
          "base_uri": "https://localhost:8080/"
        },
        "id": "0UM9X1AOuzV1",
        "outputId": "95a254c2-d096-49ad-8105-fffcc3107d81"
      },
      "execution_count": 27,
      "outputs": [
        {
          "output_type": "stream",
          "name": "stdout",
          "text": [
            "Tokenizer type: WordPiece\n"
          ]
        }
      ]
    },
    {
      "cell_type": "code",
      "source": [
        "# Print the vocabulary\n",
        "for token, id in vocab.items():\n",
        "    print(f'{token}: {id}')"
      ],
      "metadata": {
        "id": "RT-zYD8Xbk9C"
      },
      "execution_count": null,
      "outputs": []
    },
    {
      "cell_type": "markdown",
      "source": [
        "## Displaying token-ID mappings"
      ],
      "metadata": {
        "id": "zfYYRaBpf4ge"
      }
    },
    {
      "cell_type": "code",
      "source": [
        "from tabulate import tabulate\n",
        "import ipywidgets as widgets\n",
        "from IPython.display import display\n",
        "from transformers import BertTokenizer\n",
        "\n",
        "# Load the BERT tokenizer\n",
        "model_name = 'bert-base-uncased'\n",
        "tokenizer = BertTokenizer.from_pretrained(model_name)\n",
        "\n",
        "# Get the vocabulary\n",
        "vocab = tokenizer.get_vocab()\n",
        "\n",
        "# Convert the vocabulary to a list of tuples\n",
        "vocab_list = list(vocab.items())\n",
        "\n",
        "# Print words one under the other\n",
        "#for word, _ in vocab_list:\n",
        "#    print(word)"
      ],
      "metadata": {
        "id": "LMMS0zxces7k"
      },
      "execution_count": 28,
      "outputs": []
    },
    {
      "cell_type": "code",
      "source": [
        "# Sort the vocabulary by token\n",
        "sorted_vocab = sorted(vocab_list, key=lambda x: x[0])\n",
        "\n",
        "# Create a text input widget for filtering\n",
        "filter_widget = widgets.Text(placeholder='Filter vocabulary')\n",
        "\n",
        "# Function to filter and display the vocabulary\n",
        "def filter_vocabulary(filter_text):\n",
        "    filtered_vocab = [word for word in sorted_vocab if word[0].startswith(filter_text)]\n",
        "    table = tabulate(filtered_vocab, headers=['Token', 'ID'])\n",
        "    display(widgets.HTML(table))\n",
        "\n",
        "# Call the filter function when the widget value changes\n",
        "filter_widget.observe(lambda event: filter_vocabulary(event.new), names='value')\n",
        "\n",
        "# Display the filter widget\n",
        "display(filter_widget)"
      ],
      "metadata": {
        "colab": {
          "base_uri": "https://localhost:8080/",
          "height": 1000,
          "referenced_widgets": [
            "3900a01b427249f3977c5196e9df2420",
            "f0020ccffbbb42f1990f857eb9de1f54",
            "93881f8c7dde47c097c5fb6dd0ce82b0",
            "882416ddfd17408b8f49c69a2cd534c3",
            "77f0650d3ac843a492429cff68b323b5",
            "e93b3d1d9f344ea4837f3961deaaa4f2"
          ]
        },
        "id": "Qlc0nq_1eLcx",
        "outputId": "47dcdbc5-8aff-45b6-dc72-2634358fde17"
      },
      "execution_count": 32,
      "outputs": [
        {
          "output_type": "display_data",
          "data": {
            "text/plain": [
              "Text(value='', placeholder='Filter vocabulary')"
            ],
            "application/vnd.jupyter.widget-view+json": {
              "version_major": 2,
              "version_minor": 0,
              "model_id": "3900a01b427249f3977c5196e9df2420"
            }
          },
          "metadata": {}
        },
        {
          "output_type": "display_data",
          "data": {
            "text/plain": [
              "HTML(value='Token            ID\\n------------  -----\\n#              1001\\n##!           29612\\n##\"           …"
            ],
            "application/vnd.jupyter.widget-view+json": {
              "version_major": 2,
              "version_minor": 0,
              "model_id": "882416ddfd17408b8f49c69a2cd534c3"
            }
          },
          "metadata": {}
        }
      ]
    },
    {
      "cell_type": "markdown",
      "source": [
        "## Analyzing and controlling the quality of token-ID mappings"
      ],
      "metadata": {
        "id": "IdbJuRVliH6E"
      }
    },
    {
      "cell_type": "code",
      "source": [
        "# Load the BERT tokenizer\n",
        "model_name = 'bert-base-uncased'\n",
        "tokenizer = BertTokenizer.from_pretrained(model_name)\n",
        "\n",
        "# Function to tokenize a word and provide information\n",
        "def tokenize_word(word):\n",
        "    # Tokenize the word\n",
        "    tokens = tokenizer.tokenize(word)\n",
        "    # Check if the word was found directly or is the result of a subword process\n",
        "    if len(tokens) == 1 and tokens[0] == word:\n",
        "        process = \"Direct\"\n",
        "    else:\n",
        "        process = \"Subword\"\n",
        "    # Display the word and process information\n",
        "    print(\"Word:\", word)\n",
        "    print(\"Tokenized Tokens:\", tokens)\n",
        "    print(\"Tokenization Process:\", process)\n",
        "\n",
        "# Create a widget for entering the word\n",
        "word_input = widgets.Text(description='Enter a Word:')\n",
        "display(word_input)\n",
        "\n",
        "# Create an event handler for the widget\n",
        "def on_button_click(b):\n",
        "    word = word_input.value\n",
        "    tokenize_word(word)\n",
        "\n",
        "# Create a button widget for triggering the tokenization process\n",
        "button = widgets.Button(description=\"Tokenize\")\n",
        "button.on_click(on_button_click)\n",
        "display(button)"
      ],
      "metadata": {
        "colab": {
          "base_uri": "https://localhost:8080/",
          "height": 355,
          "referenced_widgets": [
            "84e912d8292c42b2828f373320ac87f6",
            "9b051e90fd8142e5ae01ae9d08f27a87",
            "95c29dab2b234bbeb93f55753500a895",
            "15f076368c4148819dc62e704c31b615",
            "1cc7f5ab5d424e409ace2f89beb79758",
            "3c73482fb3974f7ca6734f3ba5ac4fc0"
          ]
        },
        "id": "lMlcaQF3gLtN",
        "outputId": "c9fd0808-0874-4436-876e-2fe282ba969b"
      },
      "execution_count": 33,
      "outputs": [
        {
          "output_type": "display_data",
          "data": {
            "text/plain": [
              "Text(value='', description='Enter a Word:')"
            ],
            "application/vnd.jupyter.widget-view+json": {
              "version_major": 2,
              "version_minor": 0,
              "model_id": "84e912d8292c42b2828f373320ac87f6"
            }
          },
          "metadata": {}
        },
        {
          "output_type": "display_data",
          "data": {
            "text/plain": [
              "Button(description='Tokenize', style=ButtonStyle())"
            ],
            "application/vnd.jupyter.widget-view+json": {
              "version_major": 2,
              "version_minor": 0,
              "model_id": "15f076368c4148819dc62e704c31b615"
            }
          },
          "metadata": {}
        },
        {
          "output_type": "stream",
          "name": "stdout",
          "text": [
            "Word: word\n",
            "Tokenized Tokens: ['word']\n",
            "Tokenization Process: Direct\n",
            "Word: word\n",
            "Tokenized Tokens: ['word']\n",
            "Tokenization Process: Direct\n",
            "Word: word\n",
            "Tokenized Tokens: ['word']\n",
            "Tokenization Process: Direct\n",
            "Word: word\n",
            "Tokenized Tokens: ['word']\n",
            "Tokenization Process: Direct\n",
            "Word: word\n",
            "Tokenized Tokens: ['word']\n",
            "Tokenization Process: Direct\n"
          ]
        }
      ]
    }
  ]
}