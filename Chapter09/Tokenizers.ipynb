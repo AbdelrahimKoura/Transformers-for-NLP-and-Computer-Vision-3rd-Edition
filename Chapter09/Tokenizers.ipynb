{
  "nbformat": 4,
  "nbformat_minor": 0,
  "metadata": {
    "colab": {
      "provenance": [],
      "machine_shape": "hm",
      "toc_visible": true
    },
    "kernelspec": {
      "name": "python3",
      "display_name": "Python 3"
    },
    "accelerator": "GPU"
  },
  "cells": [
    {
      "cell_type": "markdown",
      "metadata": {
        "id": "7fjcTlyE3WvR"
      },
      "source": [
        "#Tokenizers\n",
        "Copyright 2021-2023 Denis Rothman, MIT License\n",
        "\n",
        "Reference 1 for word embedding:\n",
        "https://www.geeksforgeeks.org/python-word-embedding-using-word2vec/\n",
        "\n",
        "Reference 2 for cosine similarity:\n",
        "[SciKit Learn cosine similarity documentation](https://scikit-learn.org/stable/modules/generated/sklearn.metrics.pairwise.cosine_similarity.html)\n",
        "\n"
      ]
    },
    {
      "cell_type": "markdown",
      "source": [
        "#Pre-Requisistes"
      ],
      "metadata": {
        "id": "JV6bzj6-BelA"
      }
    },
    {
      "cell_type": "code",
      "metadata": {
        "id": "JKJ8Saf6vR9b"
      },
      "source": [
        "!pip install gensim\n",
        "import nltk\n",
        "nltk.download('punkt')"
      ],
      "execution_count": null,
      "outputs": []
    },
    {
      "cell_type": "code",
      "metadata": {
        "id": "7o7EeDUUu0Sh"
      },
      "source": [
        "import math\n",
        "import numpy as np\n",
        "from nltk.tokenize import sent_tokenize, word_tokenize \n",
        "import gensim \n",
        "from gensim.models import Word2Vec \n",
        "import numpy as np\n",
        "from sklearn.metrics.pairwise import cosine_similarity\n",
        "import matplotlib.pyplot as plt\n",
        "import warnings \n",
        "warnings.filterwarnings(action = 'ignore') "
      ],
      "execution_count": null,
      "outputs": []
    },
    {
      "cell_type": "markdown",
      "source": [
        "#Word2Vec Tokenization\n"
      ],
      "metadata": {
        "id": "Bk0LxtnfBgqx"
      }
    },
    {
      "cell_type": "code",
      "execution_count": null,
      "metadata": {
        "colab": {
          "base_uri": "https://localhost:8080/"
        },
        "outputId": "56f37024-c1c5-4137-d245-ea2571ea8e3c",
        "vscode": {
          "languageId": "python"
        },
        "id": "XpP0lw6Ueh2S"
      },
      "outputs": [
        {
          "output_type": "stream",
          "name": "stdout",
          "text": [
            "  % Total    % Received % Xferd  Average Speed   Time    Time     Time  Current\n",
            "                                 Dload  Upload   Total   Spent    Left  Speed\n",
            "100 10.9M  100 10.9M    0     0  8582k      0  0:00:01  0:00:01 --:--:-- 8582k\n"
          ]
        }
      ],
      "source": [
        "#1.Load text.txt using the Colab file manager\n",
        "#2.Downloading the file from GitHub\n",
        "!curl -L https://raw.githubusercontent.com/Denis2054/Transformers-for-NLP-2nd-Edition/master/Chapter09/text.txt --output \"text.txt\""
      ]
    },
    {
      "cell_type": "code",
      "metadata": {
        "id": "1NRomrXEJOxJ",
        "colab": {
          "base_uri": "https://localhost:8080/"
        },
        "outputId": "20ea23a6-911a-42c7-fa9a-43885b9a4832"
      },
      "source": [
        "#‘text.txt’ file \n",
        "sample = open(\"text.txt\", \"r\") \n",
        "s = sample.read() \n",
        "\n",
        "# processing escape characters \n",
        "f = s.replace(\"\\n\", \" \") \n",
        "\n",
        "data = [] \n",
        "# sentence parsing\n",
        "for i in sent_tokenize(f): \n",
        "\ttemp = [] \n",
        "\t# tokenize the sentence into words \n",
        "\tfor j in word_tokenize(i): \n",
        "\t\ttemp.append(j.lower())\n",
        "\tdata.append(temp)\n",
        "\n",
        "# Creating Skip Gram model \n",
        "model2 = gensim.models.Word2Vec(data, min_count = 1, vector_size = 512,window = 5, sg = 1) \n",
        "print(model2)"
      ],
      "execution_count": null,
      "outputs": [
        {
          "output_type": "stream",
          "name": "stdout",
          "text": [
            "Word2Vec<vocab=11770, vector_size=512, alpha=0.025>\n"
          ]
        }
      ]
    },
    {
      "cell_type": "markdown",
      "source": [
        "#Cosine Similarity"
      ],
      "metadata": {
        "id": "caCHjrHxBiXu"
      }
    },
    {
      "cell_type": "code",
      "metadata": {
        "id": "YcC_3JLcJTgw"
      },
      "source": [
        "def similarity(word1,word2):\n",
        "        cosine=False #default value\n",
        "        try:\n",
        "                a=model2[word1]\n",
        "                cosine=True\n",
        "        except KeyError:     #The KeyError exception is raised\n",
        "                print(word1, \":[unk] key not found in dictionary\")#False implied\n",
        "\n",
        "        try:\n",
        "                b=model2[word2]#a=True implied\n",
        "        except KeyError:       #The KeyError exception is raised\n",
        "                cosine=False   #both a and b must be true\n",
        "                print(word2, \":[unk] key not found in dictionary\")\n",
        "\n",
        "        if(cosine==True):\n",
        "                b=model2[word2]\n",
        "                # compute cosine similarity\n",
        "                dot = np.dot(a, b)\n",
        "                norma = np.linalg.norm(a)\n",
        "                normb = np.linalg.norm(b)\n",
        "                cos = dot / (norma * normb)\n",
        "\n",
        "                aa = a.reshape(1,512) \n",
        "                ba = b.reshape(1,512)\n",
        "                #print(\"Word1\",aa)\n",
        "                #print(\"Word2\",ba)\n",
        "                cos_lib = cosine_similarity(aa, ba)\n",
        "                #print(cos_lib,\"word similarity\")\n",
        "          \n",
        "        if(cosine==False):cos_lib=0;\n",
        "        return cos_lib"
      ],
      "execution_count": null,
      "outputs": []
    },
    {
      "cell_type": "markdown",
      "source": [
        "#Case 0: Words in the dataset and the dictionary"
      ],
      "metadata": {
        "id": "BG8ANf4iAwqy"
      }
    },
    {
      "cell_type": "code",
      "source": [
        "def similarity(word1, word2):\n",
        "    cosine = False  # default value\n",
        "    try:\n",
        "        a = model2.wv[word1]\n",
        "        cosine = True\n",
        "    except KeyError:     # The KeyError exception is raised\n",
        "        print(\"The word \",word1,\" does not exist in the dictionary\")\n",
        "    try:\n",
        "        b = model2.wv[word2]\n",
        "    except KeyError:     # The KeyError exception is raised\n",
        "        print(\"The word \",word2,\" does not exist in the dictionary\")\n",
        "        cosine = False  # reset to False if the second word doesn't exist\n",
        "    if cosine: # if both words are in the vocabulary\n",
        "        return cosine_similarity([a],[b]) # sklearn cosine_similarity requires 2D arrays\n",
        "    else:\n",
        "        return 0 # if either word is not in the vocabulary return similarity as 0"
      ],
      "metadata": {
        "id": "E_rtBGT8msIa"
      },
      "execution_count": null,
      "outputs": []
    },
    {
      "cell_type": "code",
      "source": [
        "word1 = \"freedom\"\n",
        "word2 = \"liberty\"\n",
        "print(\"Similarity between\", word1, \"and\", word2, \"is\", similarity(word1, word2))"
      ],
      "metadata": {
        "colab": {
          "base_uri": "https://localhost:8080/"
        },
        "id": "L-KYdjiZmxSe",
        "outputId": "5f0ffb33-7a3d-4490-e52c-18b068301702"
      },
      "execution_count": null,
      "outputs": [
        {
          "output_type": "stream",
          "name": "stdout",
          "text": [
            "Similarity between freedom and liberty is [[0.34439567]]\n"
          ]
        }
      ]
    },
    {
      "cell_type": "markdown",
      "source": [
        "#Case 1: Words not in the dataset or the dictionary"
      ],
      "metadata": {
        "id": "EpjN79c2Ay-g"
      }
    },
    {
      "cell_type": "code",
      "metadata": {
        "id": "4B7vvKxOLbYC",
        "colab": {
          "base_uri": "https://localhost:8080/"
        },
        "outputId": "16c389f4-089b-4b6c-89fc-c2377fc6c98c"
      },
      "source": [
        "word1=\"corporations\";word2=\"rights\"\n",
        "print(\"Similarity\",similarity(word1,word2),word1,word2)"
      ],
      "execution_count": null,
      "outputs": [
        {
          "output_type": "stream",
          "name": "stdout",
          "text": [
            "The word  corporations  does not exist in the dictionary\n",
            "Similarity 0 corporations rights\n"
          ]
        }
      ]
    },
    {
      "cell_type": "markdown",
      "source": [
        "#Case 2: Noisy Relationship"
      ],
      "metadata": {
        "id": "BEA37lv5AuSS"
      }
    },
    {
      "cell_type": "code",
      "metadata": {
        "id": "qkFIC79JCQJp",
        "colab": {
          "base_uri": "https://localhost:8080/"
        },
        "outputId": "683d03db-b974-41ce-ddda-0e709100c426"
      },
      "source": [
        "word1=\"etext\";word2=\"declaration\"\n",
        "print(\"Similarity\",similarity(word1,word2),word1,word2)"
      ],
      "execution_count": null,
      "outputs": [
        {
          "output_type": "stream",
          "name": "stdout",
          "text": [
            "Similarity [[0.53831613]] etext declaration\n"
          ]
        }
      ]
    },
    {
      "cell_type": "markdown",
      "source": [
        "#Case 3: Words in the text but not in the dictionary"
      ],
      "metadata": {
        "id": "E7Jbj4PvBKiY"
      }
    },
    {
      "cell_type": "code",
      "metadata": {
        "id": "16uvrkFODNjv",
        "colab": {
          "base_uri": "https://localhost:8080/"
        },
        "outputId": "c98f7929-8bba-4257-dd6b-14955609aa89"
      },
      "source": [
        "word1=\"pie\";word2=\"logic\"\n",
        "print(\"Similarity\",similarity(word1,word2),word1,word2)"
      ],
      "execution_count": null,
      "outputs": [
        {
          "output_type": "stream",
          "name": "stdout",
          "text": [
            "The word  pie  does not exist in the dictionary\n",
            "Similarity 0 pie logic\n"
          ]
        }
      ]
    },
    {
      "cell_type": "markdown",
      "source": [
        "#Case 4: Rare words"
      ],
      "metadata": {
        "id": "1-c3wayoBNSm"
      }
    },
    {
      "cell_type": "code",
      "metadata": {
        "id": "mKVPiEi-GZtf",
        "colab": {
          "base_uri": "https://localhost:8080/"
        },
        "outputId": "28b9c61c-dc2c-481a-acbe-117fcc1ebc56"
      },
      "source": [
        "word1=\"justiciar\";word2=\"judgement\"\n",
        "print(\"Similarity\",similarity(word1,word2),word1,word2)"
      ],
      "execution_count": null,
      "outputs": [
        {
          "output_type": "stream",
          "name": "stdout",
          "text": [
            "Similarity [[0.23555668]] justiciar judgement\n"
          ]
        }
      ]
    },
    {
      "cell_type": "markdown",
      "source": [
        "#Case 5: Replacing rare words"
      ],
      "metadata": {
        "id": "8z197XkNBO07"
      }
    },
    {
      "cell_type": "code",
      "metadata": {
        "id": "0xZtAm3DHGJg",
        "colab": {
          "base_uri": "https://localhost:8080/"
        },
        "outputId": "803c796c-1a6f-4f1b-bc99-d107fd790bdb"
      },
      "source": [
        "word1=\"judge\";word2=\"judgement\"\n",
        "print(\"Similarity\",similarity(word1,word2),word1,word2)"
      ],
      "execution_count": null,
      "outputs": [
        {
          "output_type": "stream",
          "name": "stdout",
          "text": [
            "Similarity [[0.17460659]] judge judgement\n"
          ]
        }
      ]
    },
    {
      "cell_type": "markdown",
      "source": [
        "#Case 6: Entailment"
      ],
      "metadata": {
        "id": "di4xu5j5BPGO"
      }
    },
    {
      "cell_type": "code",
      "metadata": {
        "id": "wOSID8kXHXWt",
        "colab": {
          "base_uri": "https://localhost:8080/"
        },
        "outputId": "213a420f-e6a9-47c9-fe12-047b645bb4b5"
      },
      "source": [
        "word1=\"pay\";word2=\"debt\"\n",
        "print(\"Similarity\",similarity(word1,word2),word1,word2)"
      ],
      "execution_count": null,
      "outputs": [
        {
          "output_type": "stream",
          "name": "stdout",
          "text": [
            "Similarity [[0.53250474]] pay debt\n"
          ]
        }
      ]
    }
  ]
}