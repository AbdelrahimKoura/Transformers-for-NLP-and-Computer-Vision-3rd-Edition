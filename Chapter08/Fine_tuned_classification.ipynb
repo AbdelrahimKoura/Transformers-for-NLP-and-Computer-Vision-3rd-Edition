{
  "cells": [
    {
      "cell_type": "markdown",
      "source": [
        "# Fine tuning classification example\n",
        "Copyright 2023, OpenAI & Denis Rothman MIT License\n",
        "\n",
        "OpenAI fine-tunes an ada classifier to distinguish between the two sports: Baseball and Hockey.\n",
        "\n",
        "This notebook is a modified version of   \n",
        "[OpenAI's Fine-tuned classification notebook](https://github.com/openai/openai-cookbook/blob/main/examples/Fine-tuned_classification.ipynb)\n",
        "\n",
        "Denis Rothman has modified parts of this notebook for educational purposes (sections, comments, and code). The main sections titles are those in Fine_tuning_GPT_3.ipynb in the GitHub repository. 2 sections were added:\n",
        "\n",
        "2.1.Measuring the model's accuracy  \n",
        "3.1.Generalization\n",
        "\n",
        "**Note**: Y*ou will have to run the fine-tuning process to create your model and then replace the model names in this notebook with your model name.*"
      ],
      "metadata": {
        "id": "8udVclnAULla"
      }
    },
    {
      "cell_type": "markdown",
      "source": [
        "# Installing OpenAI"
      ],
      "metadata": {
        "id": "Tvb3udX2JBXW"
      }
    },
    {
      "cell_type": "code",
      "source": [
        "try:\n",
        "  import openai\n",
        "except:\n",
        "  !pip install openai\n",
        "  import openai"
      ],
      "metadata": {
        "id": "sXPrYj3QVg7E",
        "colab": {
          "base_uri": "https://localhost:8080/"
        },
        "outputId": "503fa2b5-6920-4bfb-b9bc-37bba119fc36"
      },
      "execution_count": 1,
      "outputs": [
        {
          "output_type": "stream",
          "name": "stdout",
          "text": [
            "Collecting openai\n",
            "  Downloading openai-0.27.8-py3-none-any.whl (73 kB)\n",
            "\u001b[?25l     \u001b[90m━━━━━━━━━━━━━━━━━━━━━━━━━━━━━━━━━━━━━━━━\u001b[0m \u001b[32m0.0/73.6 kB\u001b[0m \u001b[31m?\u001b[0m eta \u001b[36m-:--:--\u001b[0m\r\u001b[2K     \u001b[90m━━━━━━━━━━━━━━━━━━━━━━━━━━━━━━━━━━━━━━━━\u001b[0m \u001b[32m73.6/73.6 kB\u001b[0m \u001b[31m2.7 MB/s\u001b[0m eta \u001b[36m0:00:00\u001b[0m\n",
            "\u001b[?25hRequirement already satisfied: requests>=2.20 in /usr/local/lib/python3.10/dist-packages (from openai) (2.27.1)\n",
            "Requirement already satisfied: tqdm in /usr/local/lib/python3.10/dist-packages (from openai) (4.65.0)\n",
            "Requirement already satisfied: aiohttp in /usr/local/lib/python3.10/dist-packages (from openai) (3.8.4)\n",
            "Requirement already satisfied: urllib3<1.27,>=1.21.1 in /usr/local/lib/python3.10/dist-packages (from requests>=2.20->openai) (1.26.16)\n",
            "Requirement already satisfied: certifi>=2017.4.17 in /usr/local/lib/python3.10/dist-packages (from requests>=2.20->openai) (2023.5.7)\n",
            "Requirement already satisfied: charset-normalizer~=2.0.0 in /usr/local/lib/python3.10/dist-packages (from requests>=2.20->openai) (2.0.12)\n",
            "Requirement already satisfied: idna<4,>=2.5 in /usr/local/lib/python3.10/dist-packages (from requests>=2.20->openai) (3.4)\n",
            "Requirement already satisfied: attrs>=17.3.0 in /usr/local/lib/python3.10/dist-packages (from aiohttp->openai) (23.1.0)\n",
            "Requirement already satisfied: multidict<7.0,>=4.5 in /usr/local/lib/python3.10/dist-packages (from aiohttp->openai) (6.0.4)\n",
            "Requirement already satisfied: async-timeout<5.0,>=4.0.0a3 in /usr/local/lib/python3.10/dist-packages (from aiohttp->openai) (4.0.2)\n",
            "Requirement already satisfied: yarl<2.0,>=1.0 in /usr/local/lib/python3.10/dist-packages (from aiohttp->openai) (1.9.2)\n",
            "Requirement already satisfied: frozenlist>=1.1.1 in /usr/local/lib/python3.10/dist-packages (from aiohttp->openai) (1.3.3)\n",
            "Requirement already satisfied: aiosignal>=1.1.2 in /usr/local/lib/python3.10/dist-packages (from aiohttp->openai) (1.3.1)\n",
            "Installing collected packages: openai\n",
            "Successfully installed openai-0.27.8\n"
          ]
        }
      ]
    },
    {
      "cell_type": "code",
      "source": [
        "#You can retrieve your API key from a file(1)\n",
        "# or enter it manually(2)\n",
        "\n",
        "#Comment this cell if you want to enter your key manually.\n",
        "#(1)Retrieve the API Key from a file\n",
        "#Store you key in a file and read it(you can type it directly in the notebook but it will be visible for somebody next to you)\n",
        "from google.colab import drive\n",
        "drive.mount('/content/drive')\n",
        "f = open(\"drive/MyDrive/files/api_key.txt\", \"r\")\n",
        "API_KEY=f.readline()\n",
        "f.close()"
      ],
      "metadata": {
        "colab": {
          "base_uri": "https://localhost:8080/"
        },
        "id": "Cl4HT9h3W3cR",
        "outputId": "8cea0b2b-aa12-492d-a8fa-59e92d9f0379"
      },
      "execution_count": 2,
      "outputs": [
        {
          "output_type": "stream",
          "name": "stdout",
          "text": [
            "Mounted at /content/drive\n"
          ]
        }
      ]
    },
    {
      "cell_type": "code",
      "source": [
        "#(2) Enter your manually by\n",
        "# replacing API_KEY by your key.\n",
        "#The OpenAI Key\n",
        "import os\n",
        "os.environ['OPENAI_API_KEY'] =API_KEY\n",
        "openai.api_key = os.getenv(\"OPENAI_API_KEY\")"
      ],
      "metadata": {
        "id": "dEEUHPzoXAam"
      },
      "execution_count": 3,
      "outputs": []
    },
    {
      "cell_type": "markdown",
      "source": [
        "# 1.Preparing the dataset"
      ],
      "metadata": {
        "id": "rc5Gy52SJLpc"
      }
    },
    {
      "cell_type": "markdown",
      "source": [
        "Retrieving the dataset\n",
        " The newsgroup dataset can be loaded using sklearn."
      ],
      "metadata": {
        "id": "SBnjJTKjULlj"
      }
    },
    {
      "cell_type": "code",
      "execution_count": 4,
      "source": [
        "from sklearn.datasets import fetch_20newsgroups\n",
        "import pandas as pd\n",
        "import openai\n",
        "\n",
        "categories = ['rec.sport.baseball', 'rec.sport.hockey']\n",
        "sports_dataset = fetch_20newsgroups(subset='train', shuffle=True, random_state=42, categories=categories)"
      ],
      "outputs": [],
      "metadata": {
        "id": "SObsxXTFULlg"
      }
    },
    {
      "cell_type": "markdown",
      "source": [
        "First we will look at the data itself:"
      ],
      "metadata": {
        "id": "qHcZa0QIJYEj"
      }
    },
    {
      "cell_type": "code",
      "execution_count": 5,
      "source": [
        "print(sports_dataset['data'][0])"
      ],
      "outputs": [
        {
          "output_type": "stream",
          "name": "stdout",
          "text": [
            "From: dougb@comm.mot.com (Doug Bank)\n",
            "Subject: Re: Info needed for Cleveland tickets\n",
            "Reply-To: dougb@ecs.comm.mot.com\n",
            "Organization: Motorola Land Mobile Products Sector\n",
            "Distribution: usa\n",
            "Nntp-Posting-Host: 145.1.146.35\n",
            "Lines: 17\n",
            "\n",
            "In article <1993Apr1.234031.4950@leland.Stanford.EDU>, bohnert@leland.Stanford.EDU (matthew bohnert) writes:\n",
            "\n",
            "|> I'm going to be in Cleveland Thursday, April 15 to Sunday, April 18.\n",
            "|> Does anybody know if the Tribe will be in town on those dates, and\n",
            "|> if so, who're they playing and if tickets are available?\n",
            "\n",
            "The tribe will be in town from April 16 to the 19th.\n",
            "There are ALWAYS tickets available! (Though they are playing Toronto,\n",
            "and many Toronto fans make the trip to Cleveland as it is easier to\n",
            "get tickets in Cleveland than in Toronto.  Either way, I seriously\n",
            "doubt they will sell out until the end of the season.)\n",
            "\n",
            "-- \n",
            "Doug Bank                       Private Systems Division\n",
            "dougb@ecs.comm.mot.com          Motorola Communications Sector\n",
            "dougb@nwu.edu                   Schaumburg, Illinois\n",
            "dougb@casbah.acns.nwu.edu       708-576-8207                    \n",
            "\n"
          ]
        }
      ],
      "metadata": {
        "id": "wSaB7cL7ULlj",
        "colab": {
          "base_uri": "https://localhost:8080/"
        },
        "outputId": "97681d58-19e0-43ef-c7d0-4f0554e9826f"
      }
    },
    {
      "cell_type": "code",
      "execution_count": 6,
      "source": [
        "sports_dataset.target_names[sports_dataset['target'][0]]"
      ],
      "outputs": [
        {
          "output_type": "execute_result",
          "data": {
            "text/plain": [
              "'rec.sport.baseball'"
            ],
            "application/vnd.google.colaboratory.intrinsic+json": {
              "type": "string"
            }
          },
          "metadata": {},
          "execution_count": 6
        }
      ],
      "metadata": {
        "colab": {
          "base_uri": "https://localhost:8080/",
          "height": 36
        },
        "id": "9F__rNRGULll",
        "outputId": "2bdbd183-47ba-45f1-e0d8-469ccfcd08d0"
      }
    },
    {
      "cell_type": "code",
      "execution_count": 7,
      "source": [
        "len_all, len_baseball, len_hockey = len(sports_dataset.data), len([e for e in sports_dataset.target if e == 0]), len([e for e in sports_dataset.target if e == 1])\n",
        "print(f\"Total examples: {len_all}, Baseball examples: {len_baseball}, Hockey examples: {len_hockey}\")"
      ],
      "outputs": [
        {
          "output_type": "stream",
          "name": "stdout",
          "text": [
            "Total examples: 1197, Baseball examples: 597, Hockey examples: 600\n"
          ]
        }
      ],
      "metadata": {
        "colab": {
          "base_uri": "https://localhost:8080/"
        },
        "id": "ld79ApzYULlm",
        "outputId": "a552108e-9276-4845-b230-afbe085ab123"
      }
    },
    {
      "cell_type": "markdown",
      "source": [
        "One sample from the baseball category can be seen above. It is an email to a mailing list. We can observe that we have 1197 examples in total, which are evenly split between the two sports."
      ],
      "metadata": {
        "id": "skG0OvrBULln"
      }
    },
    {
      "cell_type": "markdown",
      "source": [
        "## 1.1. Preparing the data in JSON\n",
        "\n",
        "We transform the dataset into a pandas dataframe, with a column for prompt and completion. The prompt contains the email from the mailing list, and the completion is a name of the sport, either hockey or baseball. For demonstration purposes only and speed of fine-tuning we take only 300 examples. In a real use case the more examples the better the performance."
      ],
      "metadata": {
        "id": "6SXgt8MqULlo"
      }
    },
    {
      "cell_type": "code",
      "execution_count": 8,
      "source": [
        "import pandas as pd\n",
        "\n",
        "labels = [sports_dataset.target_names[x].split('.')[-1] for x in sports_dataset['target']]\n",
        "texts = [text.strip() for text in sports_dataset['data']]\n",
        "df = pd.DataFrame(zip(texts, labels), columns = ['prompt','completion']) #[:300]\n",
        "df.head()"
      ],
      "outputs": [
        {
          "output_type": "execute_result",
          "data": {
            "text/plain": [
              "                                              prompt completion\n",
              "0  From: dougb@comm.mot.com (Doug Bank)\\nSubject:...   baseball\n",
              "1  From: gld@cunixb.cc.columbia.edu (Gary L Dare)...     hockey\n",
              "2  From: rudy@netcom.com (Rudy Wade)\\nSubject: Re...   baseball\n",
              "3  From: monack@helium.gas.uug.arizona.edu (david...     hockey\n",
              "4  Subject: Let it be Known\\nFrom: <ISSBTL@BYUVM....   baseball"
            ],
            "text/html": [
              "\n",
              "  <div id=\"df-f4b795ac-9ce7-4d69-9f5d-0b6fdbd5340d\">\n",
              "    <div class=\"colab-df-container\">\n",
              "      <div>\n",
              "<style scoped>\n",
              "    .dataframe tbody tr th:only-of-type {\n",
              "        vertical-align: middle;\n",
              "    }\n",
              "\n",
              "    .dataframe tbody tr th {\n",
              "        vertical-align: top;\n",
              "    }\n",
              "\n",
              "    .dataframe thead th {\n",
              "        text-align: right;\n",
              "    }\n",
              "</style>\n",
              "<table border=\"1\" class=\"dataframe\">\n",
              "  <thead>\n",
              "    <tr style=\"text-align: right;\">\n",
              "      <th></th>\n",
              "      <th>prompt</th>\n",
              "      <th>completion</th>\n",
              "    </tr>\n",
              "  </thead>\n",
              "  <tbody>\n",
              "    <tr>\n",
              "      <th>0</th>\n",
              "      <td>From: dougb@comm.mot.com (Doug Bank)\\nSubject:...</td>\n",
              "      <td>baseball</td>\n",
              "    </tr>\n",
              "    <tr>\n",
              "      <th>1</th>\n",
              "      <td>From: gld@cunixb.cc.columbia.edu (Gary L Dare)...</td>\n",
              "      <td>hockey</td>\n",
              "    </tr>\n",
              "    <tr>\n",
              "      <th>2</th>\n",
              "      <td>From: rudy@netcom.com (Rudy Wade)\\nSubject: Re...</td>\n",
              "      <td>baseball</td>\n",
              "    </tr>\n",
              "    <tr>\n",
              "      <th>3</th>\n",
              "      <td>From: monack@helium.gas.uug.arizona.edu (david...</td>\n",
              "      <td>hockey</td>\n",
              "    </tr>\n",
              "    <tr>\n",
              "      <th>4</th>\n",
              "      <td>Subject: Let it be Known\\nFrom: &lt;ISSBTL@BYUVM....</td>\n",
              "      <td>baseball</td>\n",
              "    </tr>\n",
              "  </tbody>\n",
              "</table>\n",
              "</div>\n",
              "      <button class=\"colab-df-convert\" onclick=\"convertToInteractive('df-f4b795ac-9ce7-4d69-9f5d-0b6fdbd5340d')\"\n",
              "              title=\"Convert this dataframe to an interactive table.\"\n",
              "              style=\"display:none;\">\n",
              "        \n",
              "  <svg xmlns=\"http://www.w3.org/2000/svg\" height=\"24px\"viewBox=\"0 0 24 24\"\n",
              "       width=\"24px\">\n",
              "    <path d=\"M0 0h24v24H0V0z\" fill=\"none\"/>\n",
              "    <path d=\"M18.56 5.44l.94 2.06.94-2.06 2.06-.94-2.06-.94-.94-2.06-.94 2.06-2.06.94zm-11 1L8.5 8.5l.94-2.06 2.06-.94-2.06-.94L8.5 2.5l-.94 2.06-2.06.94zm10 10l.94 2.06.94-2.06 2.06-.94-2.06-.94-.94-2.06-.94 2.06-2.06.94z\"/><path d=\"M17.41 7.96l-1.37-1.37c-.4-.4-.92-.59-1.43-.59-.52 0-1.04.2-1.43.59L10.3 9.45l-7.72 7.72c-.78.78-.78 2.05 0 2.83L4 21.41c.39.39.9.59 1.41.59.51 0 1.02-.2 1.41-.59l7.78-7.78 2.81-2.81c.8-.78.8-2.07 0-2.86zM5.41 20L4 18.59l7.72-7.72 1.47 1.35L5.41 20z\"/>\n",
              "  </svg>\n",
              "      </button>\n",
              "      \n",
              "  <style>\n",
              "    .colab-df-container {\n",
              "      display:flex;\n",
              "      flex-wrap:wrap;\n",
              "      gap: 12px;\n",
              "    }\n",
              "\n",
              "    .colab-df-convert {\n",
              "      background-color: #E8F0FE;\n",
              "      border: none;\n",
              "      border-radius: 50%;\n",
              "      cursor: pointer;\n",
              "      display: none;\n",
              "      fill: #1967D2;\n",
              "      height: 32px;\n",
              "      padding: 0 0 0 0;\n",
              "      width: 32px;\n",
              "    }\n",
              "\n",
              "    .colab-df-convert:hover {\n",
              "      background-color: #E2EBFA;\n",
              "      box-shadow: 0px 1px 2px rgba(60, 64, 67, 0.3), 0px 1px 3px 1px rgba(60, 64, 67, 0.15);\n",
              "      fill: #174EA6;\n",
              "    }\n",
              "\n",
              "    [theme=dark] .colab-df-convert {\n",
              "      background-color: #3B4455;\n",
              "      fill: #D2E3FC;\n",
              "    }\n",
              "\n",
              "    [theme=dark] .colab-df-convert:hover {\n",
              "      background-color: #434B5C;\n",
              "      box-shadow: 0px 1px 3px 1px rgba(0, 0, 0, 0.15);\n",
              "      filter: drop-shadow(0px 1px 2px rgba(0, 0, 0, 0.3));\n",
              "      fill: #FFFFFF;\n",
              "    }\n",
              "  </style>\n",
              "\n",
              "      <script>\n",
              "        const buttonEl =\n",
              "          document.querySelector('#df-f4b795ac-9ce7-4d69-9f5d-0b6fdbd5340d button.colab-df-convert');\n",
              "        buttonEl.style.display =\n",
              "          google.colab.kernel.accessAllowed ? 'block' : 'none';\n",
              "\n",
              "        async function convertToInteractive(key) {\n",
              "          const element = document.querySelector('#df-f4b795ac-9ce7-4d69-9f5d-0b6fdbd5340d');\n",
              "          const dataTable =\n",
              "            await google.colab.kernel.invokeFunction('convertToInteractive',\n",
              "                                                     [key], {});\n",
              "          if (!dataTable) return;\n",
              "\n",
              "          const docLinkHtml = 'Like what you see? Visit the ' +\n",
              "            '<a target=\"_blank\" href=https://colab.research.google.com/notebooks/data_table.ipynb>data table notebook</a>'\n",
              "            + ' to learn more about interactive tables.';\n",
              "          element.innerHTML = '';\n",
              "          dataTable['output_type'] = 'display_data';\n",
              "          await google.colab.output.renderOutput(dataTable, element);\n",
              "          const docLink = document.createElement('div');\n",
              "          docLink.innerHTML = docLinkHtml;\n",
              "          element.appendChild(docLink);\n",
              "        }\n",
              "      </script>\n",
              "    </div>\n",
              "  </div>\n",
              "  "
            ]
          },
          "metadata": {},
          "execution_count": 8
        }
      ],
      "metadata": {
        "colab": {
          "base_uri": "https://localhost:8080/",
          "height": 206
        },
        "id": "rjfRID96ULlp",
        "outputId": "a934f646-239b-4faa-aa22-5c9a3d83b1cc"
      }
    },
    {
      "cell_type": "markdown",
      "source": [
        "Both baseball and hockey are single tokens. We save the dataset as a jsonl file."
      ],
      "metadata": {
        "id": "Q_KxaCBDULlq"
      }
    },
    {
      "cell_type": "code",
      "execution_count": 9,
      "source": [
        "df.to_json(\"sport2.jsonl\", orient='records', lines=True)"
      ],
      "outputs": [],
      "metadata": {
        "id": "I87dX7pQULlq"
      }
    },
    {
      "cell_type": "markdown",
      "source": [
        "##  1.2. Converting the data to JSONL\n",
        "We can now use a data preparation tool which will suggest a few improvements to our dataset before fine-tuning. Before launching the tool we update the openai library to ensure we're using the latest data preparation tool. We additionally specify `-q` which auto-accepts all suggestions."
      ],
      "metadata": {
        "id": "qfPi_U3zULlr"
      }
    },
    {
      "cell_type": "code",
      "execution_count": 10,
      "source": [
        "!openai tools fine_tunes.prepare_data -f sport2.jsonl -q"
      ],
      "outputs": [
        {
          "output_type": "stream",
          "name": "stdout",
          "text": [
            "Analyzing...\n",
            "\n",
            "- Your file contains 1197 prompt-completion pairs\n",
            "- Based on your data it seems like you're trying to fine-tune a model for classification\n",
            "- For classification, we recommend you try one of the faster and cheaper models, such as `ada`\n",
            "- For classification, you can estimate the expected model performance by keeping a held out dataset, which is not used for training\n",
            "- There are 11 examples that are very long. These are rows: [134, 200, 281, 320, 404, 595, 704, 838, 1113, 1139, 1174]\n",
            "For conditional generation, and for classification the examples shouldn't be longer than 2048 tokens.\n",
            "- Your data does not contain a common separator at the end of your prompts. Having a separator string appended to the end of the prompt makes it clearer to the fine-tuned model where the completion should begin. See https://platform.openai.com/docs/guides/fine-tuning/preparing-your-dataset for more detail and examples. If you intend to do open-ended generation, then you should leave the prompts empty\n",
            "- The completion should start with a whitespace character (` `). This tends to produce better results due to the tokenization we use. See https://platform.openai.com/docs/guides/fine-tuning/preparing-your-dataset for more details\n",
            "\n",
            "Based on the analysis we will perform the following actions:\n",
            "- [Recommended] Remove 11 long examples [Y/n]: Y\n",
            "- [Recommended] Add a suffix separator `\\n\\n###\\n\\n` to all prompts [Y/n]: Y\n",
            "- [Recommended] Add a whitespace character to the beginning of the completion [Y/n]: Y\n",
            "- [Recommended] Would you like to split into training and validation set? [Y/n]: Y\n",
            "\n",
            "\n",
            "Your data will be written to a new JSONL file. Proceed [Y/n]: Y\n",
            "\n",
            "Wrote modified files to `sport2_prepared_train.jsonl` and `sport2_prepared_valid.jsonl`\n",
            "Feel free to take a look!\n",
            "\n",
            "Now use that file when fine-tuning:\n",
            "> openai api fine_tunes.create -t \"sport2_prepared_train.jsonl\" -v \"sport2_prepared_valid.jsonl\" --compute_classification_metrics --classification_positive_class \" baseball\"\n",
            "\n",
            "After you’ve fine-tuned a model, remember that your prompt has to end with the indicator string `\\n\\n###\\n\\n` for the model to start generating completions, rather than continuing with the prompt.\n",
            "Once your model starts training, it'll approximately take 30.8 minutes to train a `curie` model, and less for `ada` and `babbage`. Queue will approximately take half an hour per job ahead of you.\n"
          ]
        }
      ],
      "metadata": {
        "id": "s46TcHu0ULlr",
        "colab": {
          "base_uri": "https://localhost:8080/"
        },
        "outputId": "c4cc7bf7-b5d9-455c-bd5c-f29adaf3bc20"
      }
    },
    {
      "cell_type": "markdown",
      "source": [
        "The tool helpfully suggests a few improvements to the dataset and splits the dataset into training and validation set.\n",
        "\n",
        "A suffix between a prompt and a completion is necessary to tell the model that the input text has stopped, and that it now needs to predict the class. Since we use the same separator in each example, the model is able to learn that it is meant to predict either baseball or hockey following the separator.\n",
        "A whitespace prefix in completions is useful, as most word tokens are tokenized with a space prefix.\n",
        "The tool also recognized that this is likely a classification task, so it suggested to split the dataset into training and validation datasets. This will allow us to easily measure expected performance on new data."
      ],
      "metadata": {
        "id": "m6hTdpQIULls"
      }
    },
    {
      "cell_type": "markdown",
      "source": [
        "# 2.Fine-tuning an original model\n",
        "\n",
        "We will fine-tune an ada model\n",
        "\n",
        "The tool suggests we run the following command to train the dataset. Since this is a classification task, we would like to know what the generalization performance on the provided validation set is for our classification use case. The tool suggests to add `--compute_classification_metrics --classification_positive_class \" baseball\"` in order to compute the classification metrics.\n",
        "\n",
        "We can simply copy the suggested command from the CLI tool. We specifically add `-m ada` to fine-tune a cheaper and faster ada model, which is usually comperable in performance to slower and more expensive models on classification use cases."
      ],
      "metadata": {
        "id": "oP8rndjiULls"
      }
    },
    {
      "cell_type": "code",
      "execution_count": 11,
      "source": [
        "!openai api fine_tunes.create -t \"sport2_prepared_train.jsonl\" -v \"sport2_prepared_valid.jsonl\" --compute_classification_metrics --classification_positive_class \" baseball\" -m ada"
      ],
      "outputs": [
        {
          "output_type": "stream",
          "name": "stdout",
          "text": [
            "Found potentially duplicated files with name 'sport2_prepared_train.jsonl', purpose 'fine-tune' and size 1519036 bytes\n",
            "file-VpPReLAF3CNYfKJQsXU6VoJr\n",
            "file-9c2KSujuFM81MBqqBwDf4MXL\n",
            "file-x2pq76x8Ct43oO0pwnGwpLL9\n",
            "file-5julvdjokxdNCAWShRSVAnOC\n",
            "Enter file ID to reuse an already uploaded file, or an empty string to upload this file anyway: Y\n",
            "File id 'Y' is not among the IDs of the potentially duplicated files\n",
            "\n",
            "Enter file ID to reuse an already uploaded file, or an empty string to upload this file anyway: Y\n",
            "File id 'Y' is not among the IDs of the potentially duplicated files\n",
            "\n",
            "Enter file ID to reuse an already uploaded file, or an empty string to upload this file anyway: \n",
            "Upload progress: 100% 1.52M/1.52M [00:00<00:00, 367Mit/s]\n",
            "Uploaded file from sport2_prepared_train.jsonl: file-4YVuNE10anfjOMFJ2wWwgLom\n",
            "Found potentially duplicated files with name 'sport2_prepared_valid.jsonl', purpose 'fine-tune' and size 387349 bytes\n",
            "file-JotOMlL56cZSbKDWveXtEadL\n",
            "file-1YKvIsRmGRPYdk9c03X6tAqp\n",
            "file-nGCY6uHgZ5S8tbJFsMHad2tr\n",
            "file-8ZGzC5aH5KPXs22vTGNTIkmB\n",
            "Enter file ID to reuse an already uploaded file, or an empty string to upload this file anyway: \n",
            "Upload progress: 100% 387k/387k [00:00<00:00, 415Mit/s]\n",
            "Uploaded file from sport2_prepared_valid.jsonl: file-5NfdCNY31LfcOnvCbQhAyVCJ\n",
            "Created fine-tune: ft-bmoroNoRBjVCMpmiN5ZCWGmI\n",
            "Streaming events until fine-tuning is complete...\n",
            "\n",
            "(Ctrl-C will interrupt the stream, but not cancel the fine-tune)\n",
            "[2023-07-02 08:39:05] Created fine-tune: ft-bmoroNoRBjVCMpmiN5ZCWGmI\n",
            "\n",
            "Stream interrupted (client disconnected).\n",
            "To resume the stream, run:\n",
            "\n",
            "  openai api fine_tunes.follow -i ft-bmoroNoRBjVCMpmiN5ZCWGmI\n",
            "\n"
          ]
        }
      ],
      "metadata": {
        "id": "0n7ZXJAkULlt",
        "colab": {
          "base_uri": "https://localhost:8080/"
        },
        "outputId": "31e1d2fb-1c48-43e3-d2ff-85bdef961270"
      }
    },
    {
      "cell_type": "code",
      "source": [
        "#Stream interrupted (client disconnected).\n",
        "#To resume the stream, run the following line with your model:\n",
        "!openai api fine_tunes.follow -i ft-bmoroNoRBjVCMpmiN5ZCWGmI"
      ],
      "metadata": {
        "colab": {
          "base_uri": "https://localhost:8080/"
        },
        "id": "02ebADnauX0A",
        "outputId": "a3b2f184-c2f0-48f3-c74b-c63021f7e50f"
      },
      "execution_count": 12,
      "outputs": [
        {
          "output_type": "stream",
          "name": "stdout",
          "text": [
            "[2023-06-22 20:33:20] Created fine-tune: ft-GAHIYikxW0Eia8a8KC0hplIS\n",
            "[2023-06-22 20:39:02] Fine-tune costs $0.78\n",
            "[2023-06-22 20:39:03] Fine-tune enqueued. Queue number: 18\n",
            "[2023-06-22 20:40:18] Fine-tune is in the queue. Queue number: 17\n",
            "[2023-06-22 20:46:04] Fine-tune is in the queue. Queue number: 16\n",
            "[2023-06-22 20:46:59] Fine-tune is in the queue. Queue number: 15\n",
            "[2023-06-22 20:53:17] Fine-tune is in the queue. Queue number: 14\n",
            "[2023-06-22 20:55:23] Fine-tune is in the queue. Queue number: 13\n",
            "[2023-06-22 20:55:25] Fine-tune is in the queue. Queue number: 12\n",
            "[2023-06-22 21:03:17] Fine-tune is in the queue. Queue number: 11\n",
            "[2023-06-22 21:10:26] Fine-tune is in the queue. Queue number: 10\n",
            "[2023-06-22 21:10:34] Fine-tune is in the queue. Queue number: 9\n",
            "[2023-06-22 21:11:21] Fine-tune is in the queue. Queue number: 8\n",
            "[2023-06-22 21:17:40] Fine-tune is in the queue. Queue number: 7\n",
            "[2023-06-22 21:18:24] Fine-tune is in the queue. Queue number: 6\n",
            "[2023-06-22 21:18:44] Fine-tune is in the queue. Queue number: 5\n",
            "[2023-06-22 21:18:57] Fine-tune is in the queue. Queue number: 4\n",
            "[2023-06-22 21:22:10] Fine-tune is in the queue. Queue number: 3\n",
            "[2023-06-22 21:23:56] Fine-tune is in the queue. Queue number: 2\n",
            "[2023-06-22 21:24:51] Fine-tune is in the queue. Queue number: 1\n",
            "[2023-06-22 21:27:27] Fine-tune is in the queue. Queue number: 0\n",
            "[2023-06-22 21:28:11] Fine-tune started\n",
            "[2023-06-22 21:31:00] Completed epoch 1/4\n",
            "[2023-06-22 21:33:43] Completed epoch 2/4\n",
            "[2023-06-22 21:36:24] Completed epoch 3/4\n",
            "[2023-06-22 21:39:04] Completed epoch 4/4\n",
            "[2023-06-22 21:39:41] Uploaded model: ada:ft-personal-2023-06-22-21-39-41\n",
            "[2023-06-22 21:39:42] Uploaded result file: file-C1GYkegTEPGA8M2sVT0vqFNz\n",
            "[2023-06-22 21:39:42] Fine-tune succeeded\n",
            "\n",
            "Job complete! Status: succeeded 🎉\n",
            "Try out your fine-tuned model:\n",
            "\n",
            "openai api completions.create -m ada:ft-personal-2023-06-22-21-39-41 -p <YOUR_PROMPT>\n"
          ]
        }
      ]
    },
    {
      "cell_type": "markdown",
      "source": [
        "Let's retrieve the model to see if it is fully fine-tuned and ready as we did in section 4. in Fine_tuning_GPT_3.ipynb"
      ],
      "metadata": {
        "id": "YIQj_PvuOUFZ"
      }
    },
    {
      "cell_type": "code",
      "source": [
        "#ENTER your model name:\n",
        "response = openai.FineTune.retrieve('ft-GAHIYikxW0Eia8a8KC0hplIS')\n",
        "print(response)"
      ],
      "metadata": {
        "id": "ErQm2ncyub4C",
        "colab": {
          "base_uri": "https://localhost:8080/"
        },
        "outputId": "39185554-cb4c-4844-d45b-37e9d8b3b057"
      },
      "execution_count": 13,
      "outputs": [
        {
          "output_type": "stream",
          "name": "stdout",
          "text": [
            "{\n",
            "  \"object\": \"fine-tune\",\n",
            "  \"id\": \"ft-GAHIYikxW0Eia8a8KC0hplIS\",\n",
            "  \"hyperparams\": {\n",
            "    \"n_epochs\": 4,\n",
            "    \"batch_size\": 1,\n",
            "    \"prompt_loss_weight\": 0.01,\n",
            "    \"learning_rate_multiplier\": 0.1,\n",
            "    \"classification_positive_class\": \" baseball\",\n",
            "    \"compute_classification_metrics\": true\n",
            "  },\n",
            "  \"organization_id\": \"org-h2Kjmcir4wyGtqq1mJALLGIb\",\n",
            "  \"model\": \"ada\",\n",
            "  \"training_files\": [\n",
            "    {\n",
            "      \"object\": \"file\",\n",
            "      \"id\": \"file-5julvdjokxdNCAWShRSVAnOC\",\n",
            "      \"purpose\": \"fine-tune\",\n",
            "      \"filename\": \"sport2_prepared_train.jsonl\",\n",
            "      \"bytes\": 1519036,\n",
            "      \"created_at\": 1687465813,\n",
            "      \"status\": \"processed\",\n",
            "      \"status_details\": null\n",
            "    }\n",
            "  ],\n",
            "  \"validation_files\": [\n",
            "    {\n",
            "      \"object\": \"file\",\n",
            "      \"id\": \"file-8ZGzC5aH5KPXs22vTGNTIkmB\",\n",
            "      \"purpose\": \"fine-tune\",\n",
            "      \"filename\": \"sport2_prepared_valid.jsonl\",\n",
            "      \"bytes\": 387349,\n",
            "      \"created_at\": 1687466000,\n",
            "      \"status\": \"processed\",\n",
            "      \"status_details\": null\n",
            "    }\n",
            "  ],\n",
            "  \"result_files\": [\n",
            "    {\n",
            "      \"object\": \"file\",\n",
            "      \"id\": \"file-C1GYkegTEPGA8M2sVT0vqFNz\",\n",
            "      \"purpose\": \"fine-tune-results\",\n",
            "      \"filename\": \"compiled_results.csv\",\n",
            "      \"bytes\": 215048,\n",
            "      \"created_at\": 1687469982,\n",
            "      \"status\": \"processed\",\n",
            "      \"status_details\": null\n",
            "    }\n",
            "  ],\n",
            "  \"created_at\": 1687466000,\n",
            "  \"updated_at\": 1687469982,\n",
            "  \"status\": \"succeeded\",\n",
            "  \"fine_tuned_model\": \"ada:ft-personal-2023-06-22-21-39-41\",\n",
            "  \"events\": [\n",
            "    {\n",
            "      \"object\": \"fine-tune-event\",\n",
            "      \"level\": \"info\",\n",
            "      \"message\": \"Created fine-tune: ft-GAHIYikxW0Eia8a8KC0hplIS\",\n",
            "      \"created_at\": 1687466000\n",
            "    },\n",
            "    {\n",
            "      \"object\": \"fine-tune-event\",\n",
            "      \"level\": \"info\",\n",
            "      \"message\": \"Fine-tune costs $0.78\",\n",
            "      \"created_at\": 1687466342\n",
            "    },\n",
            "    {\n",
            "      \"object\": \"fine-tune-event\",\n",
            "      \"level\": \"info\",\n",
            "      \"message\": \"Fine-tune enqueued. Queue number: 18\",\n",
            "      \"created_at\": 1687466343\n",
            "    },\n",
            "    {\n",
            "      \"object\": \"fine-tune-event\",\n",
            "      \"level\": \"info\",\n",
            "      \"message\": \"Fine-tune is in the queue. Queue number: 17\",\n",
            "      \"created_at\": 1687466418\n",
            "    },\n",
            "    {\n",
            "      \"object\": \"fine-tune-event\",\n",
            "      \"level\": \"info\",\n",
            "      \"message\": \"Fine-tune is in the queue. Queue number: 16\",\n",
            "      \"created_at\": 1687466764\n",
            "    },\n",
            "    {\n",
            "      \"object\": \"fine-tune-event\",\n",
            "      \"level\": \"info\",\n",
            "      \"message\": \"Fine-tune is in the queue. Queue number: 15\",\n",
            "      \"created_at\": 1687466819\n",
            "    },\n",
            "    {\n",
            "      \"object\": \"fine-tune-event\",\n",
            "      \"level\": \"info\",\n",
            "      \"message\": \"Fine-tune is in the queue. Queue number: 14\",\n",
            "      \"created_at\": 1687467197\n",
            "    },\n",
            "    {\n",
            "      \"object\": \"fine-tune-event\",\n",
            "      \"level\": \"info\",\n",
            "      \"message\": \"Fine-tune is in the queue. Queue number: 13\",\n",
            "      \"created_at\": 1687467323\n",
            "    },\n",
            "    {\n",
            "      \"object\": \"fine-tune-event\",\n",
            "      \"level\": \"info\",\n",
            "      \"message\": \"Fine-tune is in the queue. Queue number: 12\",\n",
            "      \"created_at\": 1687467325\n",
            "    },\n",
            "    {\n",
            "      \"object\": \"fine-tune-event\",\n",
            "      \"level\": \"info\",\n",
            "      \"message\": \"Fine-tune is in the queue. Queue number: 11\",\n",
            "      \"created_at\": 1687467797\n",
            "    },\n",
            "    {\n",
            "      \"object\": \"fine-tune-event\",\n",
            "      \"level\": \"info\",\n",
            "      \"message\": \"Fine-tune is in the queue. Queue number: 10\",\n",
            "      \"created_at\": 1687468226\n",
            "    },\n",
            "    {\n",
            "      \"object\": \"fine-tune-event\",\n",
            "      \"level\": \"info\",\n",
            "      \"message\": \"Fine-tune is in the queue. Queue number: 9\",\n",
            "      \"created_at\": 1687468234\n",
            "    },\n",
            "    {\n",
            "      \"object\": \"fine-tune-event\",\n",
            "      \"level\": \"info\",\n",
            "      \"message\": \"Fine-tune is in the queue. Queue number: 8\",\n",
            "      \"created_at\": 1687468281\n",
            "    },\n",
            "    {\n",
            "      \"object\": \"fine-tune-event\",\n",
            "      \"level\": \"info\",\n",
            "      \"message\": \"Fine-tune is in the queue. Queue number: 7\",\n",
            "      \"created_at\": 1687468660\n",
            "    },\n",
            "    {\n",
            "      \"object\": \"fine-tune-event\",\n",
            "      \"level\": \"info\",\n",
            "      \"message\": \"Fine-tune is in the queue. Queue number: 6\",\n",
            "      \"created_at\": 1687468704\n",
            "    },\n",
            "    {\n",
            "      \"object\": \"fine-tune-event\",\n",
            "      \"level\": \"info\",\n",
            "      \"message\": \"Fine-tune is in the queue. Queue number: 5\",\n",
            "      \"created_at\": 1687468724\n",
            "    },\n",
            "    {\n",
            "      \"object\": \"fine-tune-event\",\n",
            "      \"level\": \"info\",\n",
            "      \"message\": \"Fine-tune is in the queue. Queue number: 4\",\n",
            "      \"created_at\": 1687468737\n",
            "    },\n",
            "    {\n",
            "      \"object\": \"fine-tune-event\",\n",
            "      \"level\": \"info\",\n",
            "      \"message\": \"Fine-tune is in the queue. Queue number: 3\",\n",
            "      \"created_at\": 1687468930\n",
            "    },\n",
            "    {\n",
            "      \"object\": \"fine-tune-event\",\n",
            "      \"level\": \"info\",\n",
            "      \"message\": \"Fine-tune is in the queue. Queue number: 2\",\n",
            "      \"created_at\": 1687469036\n",
            "    },\n",
            "    {\n",
            "      \"object\": \"fine-tune-event\",\n",
            "      \"level\": \"info\",\n",
            "      \"message\": \"Fine-tune is in the queue. Queue number: 1\",\n",
            "      \"created_at\": 1687469091\n",
            "    },\n",
            "    {\n",
            "      \"object\": \"fine-tune-event\",\n",
            "      \"level\": \"info\",\n",
            "      \"message\": \"Fine-tune is in the queue. Queue number: 0\",\n",
            "      \"created_at\": 1687469247\n",
            "    },\n",
            "    {\n",
            "      \"object\": \"fine-tune-event\",\n",
            "      \"level\": \"info\",\n",
            "      \"message\": \"Fine-tune started\",\n",
            "      \"created_at\": 1687469291\n",
            "    },\n",
            "    {\n",
            "      \"object\": \"fine-tune-event\",\n",
            "      \"level\": \"info\",\n",
            "      \"message\": \"Completed epoch 1/4\",\n",
            "      \"created_at\": 1687469460\n",
            "    },\n",
            "    {\n",
            "      \"object\": \"fine-tune-event\",\n",
            "      \"level\": \"info\",\n",
            "      \"message\": \"Completed epoch 2/4\",\n",
            "      \"created_at\": 1687469623\n",
            "    },\n",
            "    {\n",
            "      \"object\": \"fine-tune-event\",\n",
            "      \"level\": \"info\",\n",
            "      \"message\": \"Completed epoch 3/4\",\n",
            "      \"created_at\": 1687469784\n",
            "    },\n",
            "    {\n",
            "      \"object\": \"fine-tune-event\",\n",
            "      \"level\": \"info\",\n",
            "      \"message\": \"Completed epoch 4/4\",\n",
            "      \"created_at\": 1687469944\n",
            "    },\n",
            "    {\n",
            "      \"object\": \"fine-tune-event\",\n",
            "      \"level\": \"info\",\n",
            "      \"message\": \"Uploaded model: ada:ft-personal-2023-06-22-21-39-41\",\n",
            "      \"created_at\": 1687469981\n",
            "    },\n",
            "    {\n",
            "      \"object\": \"fine-tune-event\",\n",
            "      \"level\": \"info\",\n",
            "      \"message\": \"Uploaded result file: file-C1GYkegTEPGA8M2sVT0vqFNz\",\n",
            "      \"created_at\": 1687469982\n",
            "    },\n",
            "    {\n",
            "      \"object\": \"fine-tune-event\",\n",
            "      \"level\": \"info\",\n",
            "      \"message\": \"Fine-tune succeeded\",\n",
            "      \"created_at\": 1687469982\n",
            "    }\n",
            "  ]\n",
            "}\n"
          ]
        }
      ]
    },
    {
      "cell_type": "code",
      "source": [
        "#ENTER your model name:\n",
        "response = openai.FineTune.retrieve('ft-GAHIYikxW0Eia8a8KC0hplIS')\n",
        "print(response)"
      ],
      "metadata": {
        "id": "qQdKTPYgM8_4",
        "colab": {
          "base_uri": "https://localhost:8080/"
        },
        "outputId": "100f5c87-bbc9-41e0-ce05-59be7c0c45fd"
      },
      "execution_count": 14,
      "outputs": [
        {
          "output_type": "stream",
          "name": "stdout",
          "text": [
            "{\n",
            "  \"object\": \"fine-tune\",\n",
            "  \"id\": \"ft-GAHIYikxW0Eia8a8KC0hplIS\",\n",
            "  \"hyperparams\": {\n",
            "    \"n_epochs\": 4,\n",
            "    \"batch_size\": 1,\n",
            "    \"prompt_loss_weight\": 0.01,\n",
            "    \"learning_rate_multiplier\": 0.1,\n",
            "    \"classification_positive_class\": \" baseball\",\n",
            "    \"compute_classification_metrics\": true\n",
            "  },\n",
            "  \"organization_id\": \"org-h2Kjmcir4wyGtqq1mJALLGIb\",\n",
            "  \"model\": \"ada\",\n",
            "  \"training_files\": [\n",
            "    {\n",
            "      \"object\": \"file\",\n",
            "      \"id\": \"file-5julvdjokxdNCAWShRSVAnOC\",\n",
            "      \"purpose\": \"fine-tune\",\n",
            "      \"filename\": \"sport2_prepared_train.jsonl\",\n",
            "      \"bytes\": 1519036,\n",
            "      \"created_at\": 1687465813,\n",
            "      \"status\": \"processed\",\n",
            "      \"status_details\": null\n",
            "    }\n",
            "  ],\n",
            "  \"validation_files\": [\n",
            "    {\n",
            "      \"object\": \"file\",\n",
            "      \"id\": \"file-8ZGzC5aH5KPXs22vTGNTIkmB\",\n",
            "      \"purpose\": \"fine-tune\",\n",
            "      \"filename\": \"sport2_prepared_valid.jsonl\",\n",
            "      \"bytes\": 387349,\n",
            "      \"created_at\": 1687466000,\n",
            "      \"status\": \"processed\",\n",
            "      \"status_details\": null\n",
            "    }\n",
            "  ],\n",
            "  \"result_files\": [\n",
            "    {\n",
            "      \"object\": \"file\",\n",
            "      \"id\": \"file-C1GYkegTEPGA8M2sVT0vqFNz\",\n",
            "      \"purpose\": \"fine-tune-results\",\n",
            "      \"filename\": \"compiled_results.csv\",\n",
            "      \"bytes\": 215048,\n",
            "      \"created_at\": 1687469982,\n",
            "      \"status\": \"processed\",\n",
            "      \"status_details\": null\n",
            "    }\n",
            "  ],\n",
            "  \"created_at\": 1687466000,\n",
            "  \"updated_at\": 1687469982,\n",
            "  \"status\": \"succeeded\",\n",
            "  \"fine_tuned_model\": \"ada:ft-personal-2023-06-22-21-39-41\",\n",
            "  \"events\": [\n",
            "    {\n",
            "      \"object\": \"fine-tune-event\",\n",
            "      \"level\": \"info\",\n",
            "      \"message\": \"Created fine-tune: ft-GAHIYikxW0Eia8a8KC0hplIS\",\n",
            "      \"created_at\": 1687466000\n",
            "    },\n",
            "    {\n",
            "      \"object\": \"fine-tune-event\",\n",
            "      \"level\": \"info\",\n",
            "      \"message\": \"Fine-tune costs $0.78\",\n",
            "      \"created_at\": 1687466342\n",
            "    },\n",
            "    {\n",
            "      \"object\": \"fine-tune-event\",\n",
            "      \"level\": \"info\",\n",
            "      \"message\": \"Fine-tune enqueued. Queue number: 18\",\n",
            "      \"created_at\": 1687466343\n",
            "    },\n",
            "    {\n",
            "      \"object\": \"fine-tune-event\",\n",
            "      \"level\": \"info\",\n",
            "      \"message\": \"Fine-tune is in the queue. Queue number: 17\",\n",
            "      \"created_at\": 1687466418\n",
            "    },\n",
            "    {\n",
            "      \"object\": \"fine-tune-event\",\n",
            "      \"level\": \"info\",\n",
            "      \"message\": \"Fine-tune is in the queue. Queue number: 16\",\n",
            "      \"created_at\": 1687466764\n",
            "    },\n",
            "    {\n",
            "      \"object\": \"fine-tune-event\",\n",
            "      \"level\": \"info\",\n",
            "      \"message\": \"Fine-tune is in the queue. Queue number: 15\",\n",
            "      \"created_at\": 1687466819\n",
            "    },\n",
            "    {\n",
            "      \"object\": \"fine-tune-event\",\n",
            "      \"level\": \"info\",\n",
            "      \"message\": \"Fine-tune is in the queue. Queue number: 14\",\n",
            "      \"created_at\": 1687467197\n",
            "    },\n",
            "    {\n",
            "      \"object\": \"fine-tune-event\",\n",
            "      \"level\": \"info\",\n",
            "      \"message\": \"Fine-tune is in the queue. Queue number: 13\",\n",
            "      \"created_at\": 1687467323\n",
            "    },\n",
            "    {\n",
            "      \"object\": \"fine-tune-event\",\n",
            "      \"level\": \"info\",\n",
            "      \"message\": \"Fine-tune is in the queue. Queue number: 12\",\n",
            "      \"created_at\": 1687467325\n",
            "    },\n",
            "    {\n",
            "      \"object\": \"fine-tune-event\",\n",
            "      \"level\": \"info\",\n",
            "      \"message\": \"Fine-tune is in the queue. Queue number: 11\",\n",
            "      \"created_at\": 1687467797\n",
            "    },\n",
            "    {\n",
            "      \"object\": \"fine-tune-event\",\n",
            "      \"level\": \"info\",\n",
            "      \"message\": \"Fine-tune is in the queue. Queue number: 10\",\n",
            "      \"created_at\": 1687468226\n",
            "    },\n",
            "    {\n",
            "      \"object\": \"fine-tune-event\",\n",
            "      \"level\": \"info\",\n",
            "      \"message\": \"Fine-tune is in the queue. Queue number: 9\",\n",
            "      \"created_at\": 1687468234\n",
            "    },\n",
            "    {\n",
            "      \"object\": \"fine-tune-event\",\n",
            "      \"level\": \"info\",\n",
            "      \"message\": \"Fine-tune is in the queue. Queue number: 8\",\n",
            "      \"created_at\": 1687468281\n",
            "    },\n",
            "    {\n",
            "      \"object\": \"fine-tune-event\",\n",
            "      \"level\": \"info\",\n",
            "      \"message\": \"Fine-tune is in the queue. Queue number: 7\",\n",
            "      \"created_at\": 1687468660\n",
            "    },\n",
            "    {\n",
            "      \"object\": \"fine-tune-event\",\n",
            "      \"level\": \"info\",\n",
            "      \"message\": \"Fine-tune is in the queue. Queue number: 6\",\n",
            "      \"created_at\": 1687468704\n",
            "    },\n",
            "    {\n",
            "      \"object\": \"fine-tune-event\",\n",
            "      \"level\": \"info\",\n",
            "      \"message\": \"Fine-tune is in the queue. Queue number: 5\",\n",
            "      \"created_at\": 1687468724\n",
            "    },\n",
            "    {\n",
            "      \"object\": \"fine-tune-event\",\n",
            "      \"level\": \"info\",\n",
            "      \"message\": \"Fine-tune is in the queue. Queue number: 4\",\n",
            "      \"created_at\": 1687468737\n",
            "    },\n",
            "    {\n",
            "      \"object\": \"fine-tune-event\",\n",
            "      \"level\": \"info\",\n",
            "      \"message\": \"Fine-tune is in the queue. Queue number: 3\",\n",
            "      \"created_at\": 1687468930\n",
            "    },\n",
            "    {\n",
            "      \"object\": \"fine-tune-event\",\n",
            "      \"level\": \"info\",\n",
            "      \"message\": \"Fine-tune is in the queue. Queue number: 2\",\n",
            "      \"created_at\": 1687469036\n",
            "    },\n",
            "    {\n",
            "      \"object\": \"fine-tune-event\",\n",
            "      \"level\": \"info\",\n",
            "      \"message\": \"Fine-tune is in the queue. Queue number: 1\",\n",
            "      \"created_at\": 1687469091\n",
            "    },\n",
            "    {\n",
            "      \"object\": \"fine-tune-event\",\n",
            "      \"level\": \"info\",\n",
            "      \"message\": \"Fine-tune is in the queue. Queue number: 0\",\n",
            "      \"created_at\": 1687469247\n",
            "    },\n",
            "    {\n",
            "      \"object\": \"fine-tune-event\",\n",
            "      \"level\": \"info\",\n",
            "      \"message\": \"Fine-tune started\",\n",
            "      \"created_at\": 1687469291\n",
            "    },\n",
            "    {\n",
            "      \"object\": \"fine-tune-event\",\n",
            "      \"level\": \"info\",\n",
            "      \"message\": \"Completed epoch 1/4\",\n",
            "      \"created_at\": 1687469460\n",
            "    },\n",
            "    {\n",
            "      \"object\": \"fine-tune-event\",\n",
            "      \"level\": \"info\",\n",
            "      \"message\": \"Completed epoch 2/4\",\n",
            "      \"created_at\": 1687469623\n",
            "    },\n",
            "    {\n",
            "      \"object\": \"fine-tune-event\",\n",
            "      \"level\": \"info\",\n",
            "      \"message\": \"Completed epoch 3/4\",\n",
            "      \"created_at\": 1687469784\n",
            "    },\n",
            "    {\n",
            "      \"object\": \"fine-tune-event\",\n",
            "      \"level\": \"info\",\n",
            "      \"message\": \"Completed epoch 4/4\",\n",
            "      \"created_at\": 1687469944\n",
            "    },\n",
            "    {\n",
            "      \"object\": \"fine-tune-event\",\n",
            "      \"level\": \"info\",\n",
            "      \"message\": \"Uploaded model: ada:ft-personal-2023-06-22-21-39-41\",\n",
            "      \"created_at\": 1687469981\n",
            "    },\n",
            "    {\n",
            "      \"object\": \"fine-tune-event\",\n",
            "      \"level\": \"info\",\n",
            "      \"message\": \"Uploaded result file: file-C1GYkegTEPGA8M2sVT0vqFNz\",\n",
            "      \"created_at\": 1687469982\n",
            "    },\n",
            "    {\n",
            "      \"object\": \"fine-tune-event\",\n",
            "      \"level\": \"info\",\n",
            "      \"message\": \"Fine-tune succeeded\",\n",
            "      \"created_at\": 1687469982\n",
            "    }\n",
            "  ]\n",
            "}\n"
          ]
        }
      ]
    },
    {
      "cell_type": "markdown",
      "source": [
        "When the model has been trained,  we can  we can use it for an inference task."
      ],
      "metadata": {
        "id": "RFS7sfZ0ULlt"
      }
    },
    {
      "cell_type": "markdown",
      "source": [
        "## 2.1. Measuring the model's Accuracy\n",
        "We can now download the results file to observe the expected performance on a held out validation set."
      ],
      "metadata": {
        "id": "W-ctJqnBULlu"
      }
    },
    {
      "cell_type": "code",
      "execution_count": 15,
      "source": [
        "!openai api fine_tunes.results -i ft-GAHIYikxW0Eia8a8KC0hplIS > results.csv"
      ],
      "outputs": [],
      "metadata": {
        "id": "7nZceXRVULlu"
      }
    },
    {
      "cell_type": "code",
      "execution_count": 16,
      "source": [
        "results = pd.read_csv('results.csv')\n",
        "results[results['classification/accuracy'].notnull()].tail()"
      ],
      "outputs": [
        {
          "output_type": "execute_result",
          "data": {
            "text/plain": [
              "      step  elapsed_tokens  elapsed_examples  training_loss  \\\n",
              "930    931          424403               931       0.020933   \n",
              "1863  1864          847616              1864       0.020720   \n",
              "2793  2794         1270906              2794       0.023920   \n",
              "3722  3723         1693363              3723       0.010076   \n",
              "\n",
              "      training_sequence_accuracy  training_token_accuracy  validation_loss  \\\n",
              "930                          1.0                      1.0              NaN   \n",
              "1863                         1.0                      1.0              NaN   \n",
              "2793                         1.0                      1.0              NaN   \n",
              "3722                         1.0                      1.0              NaN   \n",
              "\n",
              "      validation_sequence_accuracy  validation_token_accuracy  \\\n",
              "930                            NaN                        NaN   \n",
              "1863                           NaN                        NaN   \n",
              "2793                           NaN                        NaN   \n",
              "3722                           NaN                        NaN   \n",
              "\n",
              "      classification/accuracy  classification/precision  \\\n",
              "930                  0.957983                  0.928571   \n",
              "1863                 0.991597                  0.991597   \n",
              "2793                 0.978992                  0.966942   \n",
              "3722                 0.987395                  0.983471   \n",
              "\n",
              "      classification/recall  classification/auroc  classification/auprc  \\\n",
              "930                0.991525              0.986935              0.982878   \n",
              "1863               0.991597              0.999576              0.999595   \n",
              "2793               0.991525              0.999576              0.999582   \n",
              "3722               0.991667              0.999506              0.999539   \n",
              "\n",
              "      classification/f1.0  \n",
              "930              0.959016  \n",
              "1863             0.991597  \n",
              "2793             0.979079  \n",
              "3722             0.987552  "
            ],
            "text/html": [
              "\n",
              "  <div id=\"df-5a3bca6b-15cd-4157-acd8-f972c80f4331\">\n",
              "    <div class=\"colab-df-container\">\n",
              "      <div>\n",
              "<style scoped>\n",
              "    .dataframe tbody tr th:only-of-type {\n",
              "        vertical-align: middle;\n",
              "    }\n",
              "\n",
              "    .dataframe tbody tr th {\n",
              "        vertical-align: top;\n",
              "    }\n",
              "\n",
              "    .dataframe thead th {\n",
              "        text-align: right;\n",
              "    }\n",
              "</style>\n",
              "<table border=\"1\" class=\"dataframe\">\n",
              "  <thead>\n",
              "    <tr style=\"text-align: right;\">\n",
              "      <th></th>\n",
              "      <th>step</th>\n",
              "      <th>elapsed_tokens</th>\n",
              "      <th>elapsed_examples</th>\n",
              "      <th>training_loss</th>\n",
              "      <th>training_sequence_accuracy</th>\n",
              "      <th>training_token_accuracy</th>\n",
              "      <th>validation_loss</th>\n",
              "      <th>validation_sequence_accuracy</th>\n",
              "      <th>validation_token_accuracy</th>\n",
              "      <th>classification/accuracy</th>\n",
              "      <th>classification/precision</th>\n",
              "      <th>classification/recall</th>\n",
              "      <th>classification/auroc</th>\n",
              "      <th>classification/auprc</th>\n",
              "      <th>classification/f1.0</th>\n",
              "    </tr>\n",
              "  </thead>\n",
              "  <tbody>\n",
              "    <tr>\n",
              "      <th>930</th>\n",
              "      <td>931</td>\n",
              "      <td>424403</td>\n",
              "      <td>931</td>\n",
              "      <td>0.020933</td>\n",
              "      <td>1.0</td>\n",
              "      <td>1.0</td>\n",
              "      <td>NaN</td>\n",
              "      <td>NaN</td>\n",
              "      <td>NaN</td>\n",
              "      <td>0.957983</td>\n",
              "      <td>0.928571</td>\n",
              "      <td>0.991525</td>\n",
              "      <td>0.986935</td>\n",
              "      <td>0.982878</td>\n",
              "      <td>0.959016</td>\n",
              "    </tr>\n",
              "    <tr>\n",
              "      <th>1863</th>\n",
              "      <td>1864</td>\n",
              "      <td>847616</td>\n",
              "      <td>1864</td>\n",
              "      <td>0.020720</td>\n",
              "      <td>1.0</td>\n",
              "      <td>1.0</td>\n",
              "      <td>NaN</td>\n",
              "      <td>NaN</td>\n",
              "      <td>NaN</td>\n",
              "      <td>0.991597</td>\n",
              "      <td>0.991597</td>\n",
              "      <td>0.991597</td>\n",
              "      <td>0.999576</td>\n",
              "      <td>0.999595</td>\n",
              "      <td>0.991597</td>\n",
              "    </tr>\n",
              "    <tr>\n",
              "      <th>2793</th>\n",
              "      <td>2794</td>\n",
              "      <td>1270906</td>\n",
              "      <td>2794</td>\n",
              "      <td>0.023920</td>\n",
              "      <td>1.0</td>\n",
              "      <td>1.0</td>\n",
              "      <td>NaN</td>\n",
              "      <td>NaN</td>\n",
              "      <td>NaN</td>\n",
              "      <td>0.978992</td>\n",
              "      <td>0.966942</td>\n",
              "      <td>0.991525</td>\n",
              "      <td>0.999576</td>\n",
              "      <td>0.999582</td>\n",
              "      <td>0.979079</td>\n",
              "    </tr>\n",
              "    <tr>\n",
              "      <th>3722</th>\n",
              "      <td>3723</td>\n",
              "      <td>1693363</td>\n",
              "      <td>3723</td>\n",
              "      <td>0.010076</td>\n",
              "      <td>1.0</td>\n",
              "      <td>1.0</td>\n",
              "      <td>NaN</td>\n",
              "      <td>NaN</td>\n",
              "      <td>NaN</td>\n",
              "      <td>0.987395</td>\n",
              "      <td>0.983471</td>\n",
              "      <td>0.991667</td>\n",
              "      <td>0.999506</td>\n",
              "      <td>0.999539</td>\n",
              "      <td>0.987552</td>\n",
              "    </tr>\n",
              "  </tbody>\n",
              "</table>\n",
              "</div>\n",
              "      <button class=\"colab-df-convert\" onclick=\"convertToInteractive('df-5a3bca6b-15cd-4157-acd8-f972c80f4331')\"\n",
              "              title=\"Convert this dataframe to an interactive table.\"\n",
              "              style=\"display:none;\">\n",
              "        \n",
              "  <svg xmlns=\"http://www.w3.org/2000/svg\" height=\"24px\"viewBox=\"0 0 24 24\"\n",
              "       width=\"24px\">\n",
              "    <path d=\"M0 0h24v24H0V0z\" fill=\"none\"/>\n",
              "    <path d=\"M18.56 5.44l.94 2.06.94-2.06 2.06-.94-2.06-.94-.94-2.06-.94 2.06-2.06.94zm-11 1L8.5 8.5l.94-2.06 2.06-.94-2.06-.94L8.5 2.5l-.94 2.06-2.06.94zm10 10l.94 2.06.94-2.06 2.06-.94-2.06-.94-.94-2.06-.94 2.06-2.06.94z\"/><path d=\"M17.41 7.96l-1.37-1.37c-.4-.4-.92-.59-1.43-.59-.52 0-1.04.2-1.43.59L10.3 9.45l-7.72 7.72c-.78.78-.78 2.05 0 2.83L4 21.41c.39.39.9.59 1.41.59.51 0 1.02-.2 1.41-.59l7.78-7.78 2.81-2.81c.8-.78.8-2.07 0-2.86zM5.41 20L4 18.59l7.72-7.72 1.47 1.35L5.41 20z\"/>\n",
              "  </svg>\n",
              "      </button>\n",
              "      \n",
              "  <style>\n",
              "    .colab-df-container {\n",
              "      display:flex;\n",
              "      flex-wrap:wrap;\n",
              "      gap: 12px;\n",
              "    }\n",
              "\n",
              "    .colab-df-convert {\n",
              "      background-color: #E8F0FE;\n",
              "      border: none;\n",
              "      border-radius: 50%;\n",
              "      cursor: pointer;\n",
              "      display: none;\n",
              "      fill: #1967D2;\n",
              "      height: 32px;\n",
              "      padding: 0 0 0 0;\n",
              "      width: 32px;\n",
              "    }\n",
              "\n",
              "    .colab-df-convert:hover {\n",
              "      background-color: #E2EBFA;\n",
              "      box-shadow: 0px 1px 2px rgba(60, 64, 67, 0.3), 0px 1px 3px 1px rgba(60, 64, 67, 0.15);\n",
              "      fill: #174EA6;\n",
              "    }\n",
              "\n",
              "    [theme=dark] .colab-df-convert {\n",
              "      background-color: #3B4455;\n",
              "      fill: #D2E3FC;\n",
              "    }\n",
              "\n",
              "    [theme=dark] .colab-df-convert:hover {\n",
              "      background-color: #434B5C;\n",
              "      box-shadow: 0px 1px 3px 1px rgba(0, 0, 0, 0.15);\n",
              "      filter: drop-shadow(0px 1px 2px rgba(0, 0, 0, 0.3));\n",
              "      fill: #FFFFFF;\n",
              "    }\n",
              "  </style>\n",
              "\n",
              "      <script>\n",
              "        const buttonEl =\n",
              "          document.querySelector('#df-5a3bca6b-15cd-4157-acd8-f972c80f4331 button.colab-df-convert');\n",
              "        buttonEl.style.display =\n",
              "          google.colab.kernel.accessAllowed ? 'block' : 'none';\n",
              "\n",
              "        async function convertToInteractive(key) {\n",
              "          const element = document.querySelector('#df-5a3bca6b-15cd-4157-acd8-f972c80f4331');\n",
              "          const dataTable =\n",
              "            await google.colab.kernel.invokeFunction('convertToInteractive',\n",
              "                                                     [key], {});\n",
              "          if (!dataTable) return;\n",
              "\n",
              "          const docLinkHtml = 'Like what you see? Visit the ' +\n",
              "            '<a target=\"_blank\" href=https://colab.research.google.com/notebooks/data_table.ipynb>data table notebook</a>'\n",
              "            + ' to learn more about interactive tables.';\n",
              "          element.innerHTML = '';\n",
              "          dataTable['output_type'] = 'display_data';\n",
              "          await google.colab.output.renderOutput(dataTable, element);\n",
              "          const docLink = document.createElement('div');\n",
              "          docLink.innerHTML = docLinkHtml;\n",
              "          element.appendChild(docLink);\n",
              "        }\n",
              "      </script>\n",
              "    </div>\n",
              "  </div>\n",
              "  "
            ]
          },
          "metadata": {},
          "execution_count": 16
        }
      ],
      "metadata": {
        "colab": {
          "base_uri": "https://localhost:8080/",
          "height": 239
        },
        "id": "hP6r9USOULlu",
        "outputId": "84a68e1c-db2e-4e2d-de02-6742eea5d45b"
      }
    },
    {
      "cell_type": "markdown",
      "source": [
        "The accuracy reaches 99.6%. On the plot below we can see how accuracy on the validation set increases during the training run."
      ],
      "metadata": {
        "id": "gnLYJQgCULlv"
      }
    },
    {
      "cell_type": "markdown",
      "source": [
        "**ChatGPT Plus, GPT-4 describes the columns contained in the metrics file.**\n",
        "\n",
        "This log file or report was generated during the machine learning training process. It records key metrics for the training and validation process. Here's what each column means:\n",
        "\n",
        "1. `step`: This is the iteration number. In each step, a batch of examples is processed by the model.\n",
        "\n",
        "2. `elapsed_tokens`: This is the total number of tokens processed so far. A token is typically a word or a character, depending on the language model.\n",
        "\n",
        "3. `elapsed_examples`: This is the total number of examples processed so far. An example corresponds to a single data point in your training or validation set.\n",
        "\n",
        "4. `training_loss`: This is the loss value for the training set. The loss is a measure of the difference between the model's predictions and the actual values in the training set. The goal of training is to minimize this value.\n",
        "\n",
        "5. `training_sequence_accuracy`: This is the sequence-level accuracy for the training set. It measures how often the model correctly predicts entire sequences in the training set.\n",
        "\n",
        "6. `training_token_accuracy`: This is the token-level accuracy for the training set. It measures how often the model correctly predicts individual tokens in the training set.\n",
        "\n",
        "7. `validation_loss`: This is the loss value for the validation set. It's similar to the training loss, but it's calculated using a separate dataset that the model doesn't train on. This helps to ensure that the model is not just memorizing the training data, but is actually learning to generalize to new data.\n",
        "\n",
        "8. `validation_sequence_accuracy`: This is the sequence-level accuracy for the validation set. It measures how often the model correctly predicts entire sequences in the validation set.\n",
        "\n",
        "9. `validation_token_accuracy`: This is the token-level accuracy for the validation set. It measures how often the model correctly predicts individual tokens in the validation set.\n",
        "\n",
        "10. `classification/accuracy`: This is the overall accuracy of the model's classifications.\n",
        "\n",
        "11. `classification/precision`: This is the precision of the model's classifications. Precision is the number of true positives divided by the sum of true positives and false positives. It measures the model's ability to correctly identify only relevant instances.\n",
        "\n",
        "12. `classification/recall`: This is the recall of the model's classifications. Recall is the number of true positives divided by the sum of true positives and false negatives. It measures the model's ability to find all the relevant instances.\n",
        "\n",
        "13. `classification/auroc`: This stands for \"Area Under the Receiver Operating Characteristic curve\". It measures the model's ability to distinguish between classes.\n",
        "\n",
        "14. `classification/auprc`: This stands for \"Area Under the Precision-Recall Curve\". It also measures the model's ability to distinguish between classes, but it gives more weight to precision.\n",
        "\n",
        "15. `classification/f1.0`: This is the F1 score of the model's classifications, which is the harmonic mean of precision and recall. It provides a single measure of the model's performance that balances both precision and recall.\n",
        "\n",
        "Empty entries in the log indicate that the particular metric was not computed or not applicable for that step."
      ],
      "metadata": {
        "id": "0KYFn5ach8kt"
      }
    },
    {
      "cell_type": "code",
      "execution_count": 17,
      "source": [
        "results[results['classification/accuracy'].notnull()]['classification/accuracy'].plot()"
      ],
      "outputs": [
        {
          "output_type": "execute_result",
          "data": {
            "text/plain": [
              "<Axes: >"
            ]
          },
          "metadata": {},
          "execution_count": 17
        },
        {
          "output_type": "display_data",
          "data": {
            "text/plain": [
              "<Figure size 640x480 with 1 Axes>"
            ],
            "image/png": "[encoded data removed]"
          },
          "metadata": {}
        }
      ],
      "metadata": {
        "id": "QpcoaNMoULlv",
        "colab": {
          "base_uri": "https://localhost:8080/",
          "height": 448
        },
        "outputId": "614efe8d-a1fa-49f1-da68-d3d6b8f8c22a"
      }
    },
    {
      "cell_type": "markdown",
      "source": [
        "# 3.Running the fine-tuned GPT-3 model\n",
        "\n",
        "We will now run the model for a classification task\n",
        "\n",
        "We can now call the model to get the predictions."
      ],
      "metadata": {
        "id": "WuOJI0n6ULlw"
      }
    },
    {
      "cell_type": "code",
      "execution_count": 18,
      "source": [
        "test = pd.read_json('sport2_prepared_valid.jsonl', lines=True)\n",
        "test.head(10)"
      ],
      "outputs": [
        {
          "output_type": "execute_result",
          "data": {
            "text/plain": [
              "                                              prompt completion\n",
              "0  From: gld@cunixb.cc.columbia.edu (Gary L Dare)...     hockey\n",
              "1  From: smorris@venus.lerc.nasa.gov (Ron Morris ...     hockey\n",
              "2  From: golchowy@alchemy.chem.utoronto.ca (Geral...     hockey\n",
              "3  From: krattige@hpcc01.corp.hp.com (Kim Krattig...   baseball\n",
              "4  From: warped@cs.montana.edu (Doug Dolven)\\nSub...   baseball\n",
              "5  From: jerry@sheldev.shel.isc-br.com (Gerald La...   baseball\n",
              "6  From: kime@mongoose.torolab.ibm.com (Edward Ki...   baseball\n",
              "7  From: cmk@athena.mit.edu (Charles M Kozierok)\\...   baseball\n",
              "8  From: pkortela@snakemail.hut.fi (Petteri Korte...     hockey\n",
              "9  From: gak@wrs.com (Richard Stueven)\\nSubject: ...     hockey"
            ],
            "text/html": [
              "\n",
              "  <div id=\"df-e5e4d479-71e5-4605-86d7-8fd922099006\">\n",
              "    <div class=\"colab-df-container\">\n",
              "      <div>\n",
              "<style scoped>\n",
              "    .dataframe tbody tr th:only-of-type {\n",
              "        vertical-align: middle;\n",
              "    }\n",
              "\n",
              "    .dataframe tbody tr th {\n",
              "        vertical-align: top;\n",
              "    }\n",
              "\n",
              "    .dataframe thead th {\n",
              "        text-align: right;\n",
              "    }\n",
              "</style>\n",
              "<table border=\"1\" class=\"dataframe\">\n",
              "  <thead>\n",
              "    <tr style=\"text-align: right;\">\n",
              "      <th></th>\n",
              "      <th>prompt</th>\n",
              "      <th>completion</th>\n",
              "    </tr>\n",
              "  </thead>\n",
              "  <tbody>\n",
              "    <tr>\n",
              "      <th>0</th>\n",
              "      <td>From: gld@cunixb.cc.columbia.edu (Gary L Dare)...</td>\n",
              "      <td>hockey</td>\n",
              "    </tr>\n",
              "    <tr>\n",
              "      <th>1</th>\n",
              "      <td>From: smorris@venus.lerc.nasa.gov (Ron Morris ...</td>\n",
              "      <td>hockey</td>\n",
              "    </tr>\n",
              "    <tr>\n",
              "      <th>2</th>\n",
              "      <td>From: golchowy@alchemy.chem.utoronto.ca (Geral...</td>\n",
              "      <td>hockey</td>\n",
              "    </tr>\n",
              "    <tr>\n",
              "      <th>3</th>\n",
              "      <td>From: krattige@hpcc01.corp.hp.com (Kim Krattig...</td>\n",
              "      <td>baseball</td>\n",
              "    </tr>\n",
              "    <tr>\n",
              "      <th>4</th>\n",
              "      <td>From: warped@cs.montana.edu (Doug Dolven)\\nSub...</td>\n",
              "      <td>baseball</td>\n",
              "    </tr>\n",
              "    <tr>\n",
              "      <th>5</th>\n",
              "      <td>From: jerry@sheldev.shel.isc-br.com (Gerald La...</td>\n",
              "      <td>baseball</td>\n",
              "    </tr>\n",
              "    <tr>\n",
              "      <th>6</th>\n",
              "      <td>From: kime@mongoose.torolab.ibm.com (Edward Ki...</td>\n",
              "      <td>baseball</td>\n",
              "    </tr>\n",
              "    <tr>\n",
              "      <th>7</th>\n",
              "      <td>From: cmk@athena.mit.edu (Charles M Kozierok)\\...</td>\n",
              "      <td>baseball</td>\n",
              "    </tr>\n",
              "    <tr>\n",
              "      <th>8</th>\n",
              "      <td>From: pkortela@snakemail.hut.fi (Petteri Korte...</td>\n",
              "      <td>hockey</td>\n",
              "    </tr>\n",
              "    <tr>\n",
              "      <th>9</th>\n",
              "      <td>From: gak@wrs.com (Richard Stueven)\\nSubject: ...</td>\n",
              "      <td>hockey</td>\n",
              "    </tr>\n",
              "  </tbody>\n",
              "</table>\n",
              "</div>\n",
              "      <button class=\"colab-df-convert\" onclick=\"convertToInteractive('df-e5e4d479-71e5-4605-86d7-8fd922099006')\"\n",
              "              title=\"Convert this dataframe to an interactive table.\"\n",
              "              style=\"display:none;\">\n",
              "        \n",
              "  <svg xmlns=\"http://www.w3.org/2000/svg\" height=\"24px\"viewBox=\"0 0 24 24\"\n",
              "       width=\"24px\">\n",
              "    <path d=\"M0 0h24v24H0V0z\" fill=\"none\"/>\n",
              "    <path d=\"M18.56 5.44l.94 2.06.94-2.06 2.06-.94-2.06-.94-.94-2.06-.94 2.06-2.06.94zm-11 1L8.5 8.5l.94-2.06 2.06-.94-2.06-.94L8.5 2.5l-.94 2.06-2.06.94zm10 10l.94 2.06.94-2.06 2.06-.94-2.06-.94-.94-2.06-.94 2.06-2.06.94z\"/><path d=\"M17.41 7.96l-1.37-1.37c-.4-.4-.92-.59-1.43-.59-.52 0-1.04.2-1.43.59L10.3 9.45l-7.72 7.72c-.78.78-.78 2.05 0 2.83L4 21.41c.39.39.9.59 1.41.59.51 0 1.02-.2 1.41-.59l7.78-7.78 2.81-2.81c.8-.78.8-2.07 0-2.86zM5.41 20L4 18.59l7.72-7.72 1.47 1.35L5.41 20z\"/>\n",
              "  </svg>\n",
              "      </button>\n",
              "      \n",
              "  <style>\n",
              "    .colab-df-container {\n",
              "      display:flex;\n",
              "      flex-wrap:wrap;\n",
              "      gap: 12px;\n",
              "    }\n",
              "\n",
              "    .colab-df-convert {\n",
              "      background-color: #E8F0FE;\n",
              "      border: none;\n",
              "      border-radius: 50%;\n",
              "      cursor: pointer;\n",
              "      display: none;\n",
              "      fill: #1967D2;\n",
              "      height: 32px;\n",
              "      padding: 0 0 0 0;\n",
              "      width: 32px;\n",
              "    }\n",
              "\n",
              "    .colab-df-convert:hover {\n",
              "      background-color: #E2EBFA;\n",
              "      box-shadow: 0px 1px 2px rgba(60, 64, 67, 0.3), 0px 1px 3px 1px rgba(60, 64, 67, 0.15);\n",
              "      fill: #174EA6;\n",
              "    }\n",
              "\n",
              "    [theme=dark] .colab-df-convert {\n",
              "      background-color: #3B4455;\n",
              "      fill: #D2E3FC;\n",
              "    }\n",
              "\n",
              "    [theme=dark] .colab-df-convert:hover {\n",
              "      background-color: #434B5C;\n",
              "      box-shadow: 0px 1px 3px 1px rgba(0, 0, 0, 0.15);\n",
              "      filter: drop-shadow(0px 1px 2px rgba(0, 0, 0, 0.3));\n",
              "      fill: #FFFFFF;\n",
              "    }\n",
              "  </style>\n",
              "\n",
              "      <script>\n",
              "        const buttonEl =\n",
              "          document.querySelector('#df-e5e4d479-71e5-4605-86d7-8fd922099006 button.colab-df-convert');\n",
              "        buttonEl.style.display =\n",
              "          google.colab.kernel.accessAllowed ? 'block' : 'none';\n",
              "\n",
              "        async function convertToInteractive(key) {\n",
              "          const element = document.querySelector('#df-e5e4d479-71e5-4605-86d7-8fd922099006');\n",
              "          const dataTable =\n",
              "            await google.colab.kernel.invokeFunction('convertToInteractive',\n",
              "                                                     [key], {});\n",
              "          if (!dataTable) return;\n",
              "\n",
              "          const docLinkHtml = 'Like what you see? Visit the ' +\n",
              "            '<a target=\"_blank\" href=https://colab.research.google.com/notebooks/data_table.ipynb>data table notebook</a>'\n",
              "            + ' to learn more about interactive tables.';\n",
              "          element.innerHTML = '';\n",
              "          dataTable['output_type'] = 'display_data';\n",
              "          await google.colab.output.renderOutput(dataTable, element);\n",
              "          const docLink = document.createElement('div');\n",
              "          docLink.innerHTML = docLinkHtml;\n",
              "          element.appendChild(docLink);\n",
              "        }\n",
              "      </script>\n",
              "    </div>\n",
              "  </div>\n",
              "  "
            ]
          },
          "metadata": {},
          "execution_count": 18
        }
      ],
      "metadata": {
        "colab": {
          "base_uri": "https://localhost:8080/",
          "height": 363
        },
        "id": "V2YEzY4JULlw",
        "outputId": "98d6b6a9-d3dd-4a38-bd7f-c3f86ff39a00"
      }
    },
    {
      "cell_type": "markdown",
      "source": [
        "We need to use the same separator following the prompt which we used during fine-tuning. In this case it is `\\n\\n###\\n\\n`. Since we're concerned with classification, we want the temperature to be as low as possible, and we only require one token completion to determine the prediction of the model."
      ],
      "metadata": {
        "id": "gqTbIk7rULlw"
      }
    },
    {
      "cell_type": "code",
      "execution_count": 19,
      "source": [
        "ft_model ='ada:ft-personal-2023-06-22-21-39-41'\n",
        "res = openai.Completion.create(model=ft_model, prompt=test['prompt'][0] + '\\n\\n###\\n\\n', max_tokens=1, temperature=0)\n",
        "res['choices'][0]['text']"
      ],
      "outputs": [
        {
          "output_type": "execute_result",
          "data": {
            "text/plain": [
              "' hockey'"
            ],
            "application/vnd.google.colaboratory.intrinsic+json": {
              "type": "string"
            }
          },
          "metadata": {},
          "execution_count": 19
        }
      ],
      "metadata": {
        "colab": {
          "base_uri": "https://localhost:8080/",
          "height": 36
        },
        "id": "R8sp5uvQULlx",
        "outputId": "cc9af1b9-c5f4-49c7-c99a-3af655f6cd8b"
      }
    },
    {
      "cell_type": "markdown",
      "source": [
        "To get the log probabilities, we can specify logprobs parameter on the completion request"
      ],
      "metadata": {
        "id": "d7gqqxMTULlx"
      }
    },
    {
      "cell_type": "code",
      "execution_count": 20,
      "source": [
        "res = openai.Completion.create(model=ft_model, prompt=test['prompt'][0] + '\\n\\n###\\n\\n', max_tokens=1, temperature=0, logprobs=2)\n",
        "res['choices'][0]['logprobs']['top_logprobs'][0]"
      ],
      "outputs": [
        {
          "output_type": "execute_result",
          "data": {
            "text/plain": [
              "<OpenAIObject at 0x7f13a58af420> JSON: {\n",
              "  \" hockey\": -0.0001345479,\n",
              "  \" Hockey\": -9.23187\n",
              "}"
            ]
          },
          "metadata": {},
          "execution_count": 20
        }
      ],
      "metadata": {
        "id": "rwN-zWRRULlx",
        "colab": {
          "base_uri": "https://localhost:8080/"
        },
        "outputId": "4a332000-d144-4d43-8e68-0e4ce05ed691"
      }
    },
    {
      "cell_type": "markdown",
      "source": [
        "We can see that the model predicts hockey as a lot more likely than baseball, which is the correct prediction. By requesting log_probs, we can see the prediction (log) probability for each class."
      ],
      "metadata": {
        "id": "BcQZ4HKtULly"
      }
    },
    {
      "cell_type": "markdown",
      "source": [
        "## 3.1. Generalization\n",
        "Interestingly, our fine-tuned classifier is quite versatile. Despite being trained on emails to different mailing lists, it also successfully predicts tweets."
      ],
      "metadata": {
        "id": "S5HnSI2TULly"
      }
    },
    {
      "cell_type": "code",
      "execution_count": 21,
      "source": [
        "sample_hockey_tweet = \"\"\"Thank you to the\n",
        "@Canes\n",
        " and all you amazing Caniacs that have been so supportive! You guys are some of the best fans in the NHL without a doubt! Really excited to start this new chapter in my career with the\n",
        "@DetroitRedWings\n",
        " !!\"\"\"\n",
        "res = openai.Completion.create(model=ft_model, prompt=sample_hockey_tweet + '\\n\\n###\\n\\n', max_tokens=1, temperature=0, logprobs=2)\n",
        "res['choices'][0]['text']"
      ],
      "outputs": [
        {
          "output_type": "execute_result",
          "data": {
            "text/plain": [
              "' hockey'"
            ],
            "application/vnd.google.colaboratory.intrinsic+json": {
              "type": "string"
            }
          },
          "metadata": {},
          "execution_count": 21
        }
      ],
      "metadata": {
        "id": "Xpl0-nLKULly",
        "colab": {
          "base_uri": "https://localhost:8080/",
          "height": 36
        },
        "outputId": "3c7286b8-6482-4271-f59d-2fc3a38e5d99"
      }
    },
    {
      "cell_type": "code",
      "execution_count": 22,
      "source": [
        "sample_baseball_tweet=\"\"\"BREAKING: The Tampa Bay Rays are finalizing a deal to acquire slugger Nelson Cruz from the Minnesota Twins, sources tell ESPN.\"\"\"\n",
        "res = openai.Completion.create(model=ft_model, prompt=sample_baseball_tweet + '\\n\\n###\\n\\n', max_tokens=1, temperature=0, logprobs=2)\n",
        "res['choices'][0]['text']"
      ],
      "outputs": [
        {
          "output_type": "execute_result",
          "data": {
            "text/plain": [
              "' baseball'"
            ],
            "application/vnd.google.colaboratory.intrinsic+json": {
              "type": "string"
            }
          },
          "metadata": {},
          "execution_count": 22
        }
      ],
      "metadata": {
        "id": "h8Gu9ZLhULlz",
        "colab": {
          "base_uri": "https://localhost:8080/",
          "height": 36
        },
        "outputId": "d3f96c95-2e7d-467f-c85f-7c189c400e4e"
      }
    },
    {
      "cell_type": "markdown",
      "source": [
        "# 4.Further testing"
      ],
      "metadata": {
        "id": "T80n1M9WlGBK"
      }
    },
    {
      "cell_type": "code",
      "source": [
        "response = openai.Completion.create(\n",
        "  model=\"text-davinci-003\",\n",
        "  prompt=\"Please classify the following text as either \\\"hockey\\\" or \\\"baseball\\\":\\n\\nThis game would have been great as part of a double-header on ABC or ESPN; the league would have been able to push back-to-back wins by Le Magnifique and The Great One. Unfortunately, the only network that would have done that was SCA\",\n",
        "  temperature=1,\n",
        "  max_tokens=10,\n",
        "  top_p=1,\n",
        "  frequency_penalty=0,\n",
        "  presence_penalty=0\n",
        ")"
      ],
      "metadata": {
        "id": "PRd0NcDFlFcV"
      },
      "execution_count": 23,
      "outputs": []
    },
    {
      "cell_type": "code",
      "source": [
        "response"
      ],
      "metadata": {
        "colab": {
          "base_uri": "https://localhost:8080/"
        },
        "id": "UHisiT7VnA9z",
        "outputId": "02f63e55-c993-40b6-b222-df1e3c2ac108"
      },
      "execution_count": 24,
      "outputs": [
        {
          "output_type": "execute_result",
          "data": {
            "text/plain": [
              "<OpenAIObject text_completion id=cmpl-7XmurvwMhfERLKtmvIhuBxQXbwKXg at 0x7f13a5c6ba60> JSON: {\n",
              "  \"id\": \"cmpl-7XmurvwMhfERLKtmvIhuBxQXbwKXg\",\n",
              "  \"object\": \"text_completion\",\n",
              "  \"created\": 1688287213,\n",
              "  \"model\": \"text-davinci-003\",\n",
              "  \"choices\": [\n",
              "    {\n",
              "      \"text\": \" Sports.\\n\\nHockey\",\n",
              "      \"index\": 0,\n",
              "      \"logprobs\": null,\n",
              "      \"finish_reason\": \"stop\"\n",
              "    }\n",
              "  ],\n",
              "  \"usage\": {\n",
              "    \"prompt_tokens\": 73,\n",
              "    \"completion_tokens\": 6,\n",
              "    \"total_tokens\": 79\n",
              "  }\n",
              "}"
            ]
          },
          "metadata": {},
          "execution_count": 24
        }
      ]
    }
  ],
  "metadata": {
    "orig_nbformat": 4,
    "language_info": {
      "name": "python",
      "version": "3.7.3",
      "mimetype": "text/x-python",
      "codemirror_mode": {
        "name": "ipython",
        "version": 3
      },
      "pygments_lexer": "ipython3",
      "nbconvert_exporter": "python",
      "file_extension": ".py"
    },
    "kernelspec": {
      "name": "python3",
      "display_name": "Python 3.7.3 64-bit ('base': conda)"
    },
    "interpreter": {
      "hash": "3b138a8faad971cc852f62bcf00f59ea0e31721743ea2c5a866ca26adf572e75"
    },
    "colab": {
      "provenance": [],
      "toc_visible": true
    }
  },
  "nbformat": 4,
  "nbformat_minor": 0
}