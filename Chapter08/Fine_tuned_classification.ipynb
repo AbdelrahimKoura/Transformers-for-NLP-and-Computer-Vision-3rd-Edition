{
  "cells": [
    {
      "cell_type": "markdown",
      "metadata": {
        "id": "8udVclnAULla"
      },
      "source": [
        "# Fine tuning classification example\n",
        "Copyright 2024, Denis Rothman MIT License\n",
        "\n",
        "OpenAI fine-tunes a babbage-002 based on GPT-3's architecture classifier to distinguish between the two sports: Baseball and Hockey.\n",
        "\n",
        "The code complies with OpenAI's January 4, 2024 API update.\n",
        "\n"
      ]
    },
    {
      "cell_type": "markdown",
      "metadata": {
        "id": "Tvb3udX2JBXW"
      },
      "source": [
        "# Installing OpenAI"
      ]
    },
    {
      "cell_type": "code",
      "execution_count": null,
      "metadata": {
        "id": "sXPrYj3QVg7E"
      },
      "outputs": [],
      "source": [
        "try:\n",
        "  import openai\n",
        "except:\n",
        "  !pip install openai\n",
        "  import openai"
      ]
    },
    {
      "cell_type": "code",
      "execution_count": 2,
      "metadata": {
        "colab": {
          "base_uri": "https://localhost:8080/"
        },
        "id": "Cl4HT9h3W3cR",
        "outputId": "e9352786-3333-45b6-9401-90363dbceb67"
      },
      "outputs": [
        {
          "output_type": "stream",
          "name": "stdout",
          "text": [
            "Mounted at /content/drive\n"
          ]
        }
      ],
      "source": [
        "#You can retrieve your API key from a file(1)\n",
        "# or enter it manually(2)\n",
        "\n",
        "#Comment this cell if you want to enter your key manually.\n",
        "#(1)Retrieve the API Key from a file\n",
        "#Store you key in a file and read it(you can type it directly in the notebook but it will be visible for somebody next to you)\n",
        "from google.colab import drive\n",
        "drive.mount('/content/drive')\n",
        "f = open(\"drive/MyDrive/files/api_key.txt\", \"r\")\n",
        "API_KEY=f.readline()\n",
        "f.close()"
      ]
    },
    {
      "cell_type": "code",
      "execution_count": 3,
      "metadata": {
        "id": "dEEUHPzoXAam"
      },
      "outputs": [],
      "source": [
        "#(2) Enter your manually by\n",
        "# replacing API_KEY by your key.\n",
        "#The OpenAI Key\n",
        "import os\n",
        "os.environ['OPENAI_API_KEY'] =API_KEY\n",
        "openai.api_key = os.getenv(\"OPENAI_API_KEY\")"
      ]
    },
    {
      "cell_type": "markdown",
      "metadata": {
        "id": "rc5Gy52SJLpc"
      },
      "source": [
        "# 1.Preparing the dataset"
      ]
    },
    {
      "cell_type": "markdown",
      "metadata": {
        "id": "SBnjJTKjULlj"
      },
      "source": [
        "Retrieving the dataset\n",
        " The newsgroup dataset can be loaded using sklearn."
      ]
    },
    {
      "cell_type": "code",
      "execution_count": 4,
      "metadata": {
        "id": "SObsxXTFULlg"
      },
      "outputs": [],
      "source": [
        "from sklearn.datasets import fetch_20newsgroups\n",
        "import pandas as pd\n",
        "import openai\n",
        "\n",
        "categories = ['rec.sport.baseball', 'rec.sport.hockey']\n",
        "sports_dataset = fetch_20newsgroups(subset='train', shuffle=True, random_state=42, categories=categories)"
      ]
    },
    {
      "cell_type": "markdown",
      "metadata": {
        "id": "qHcZa0QIJYEj"
      },
      "source": [
        "First we will look at the data itself:"
      ]
    },
    {
      "cell_type": "code",
      "execution_count": 5,
      "metadata": {
        "colab": {
          "base_uri": "https://localhost:8080/"
        },
        "id": "wSaB7cL7ULlj",
        "outputId": "d185d777-5a22-47d7-ecb0-f89cd52ba793"
      },
      "outputs": [
        {
          "output_type": "stream",
          "name": "stdout",
          "text": [
            "From: dougb@comm.mot.com (Doug Bank)\n",
            "Subject: Re: Info needed for Cleveland tickets\n",
            "Reply-To: dougb@ecs.comm.mot.com\n",
            "Organization: Motorola Land Mobile Products Sector\n",
            "Distribution: usa\n",
            "Nntp-Posting-Host: 145.1.146.35\n",
            "Lines: 17\n",
            "\n",
            "In article <1993Apr1.234031.4950@leland.Stanford.EDU>, bohnert@leland.Stanford.EDU (matthew bohnert) writes:\n",
            "\n",
            "|> I'm going to be in Cleveland Thursday, April 15 to Sunday, April 18.\n",
            "|> Does anybody know if the Tribe will be in town on those dates, and\n",
            "|> if so, who're they playing and if tickets are available?\n",
            "\n",
            "The tribe will be in town from April 16 to the 19th.\n",
            "There are ALWAYS tickets available! (Though they are playing Toronto,\n",
            "and many Toronto fans make the trip to Cleveland as it is easier to\n",
            "get tickets in Cleveland than in Toronto.  Either way, I seriously\n",
            "doubt they will sell out until the end of the season.)\n",
            "\n",
            "-- \n",
            "Doug Bank                       Private Systems Division\n",
            "dougb@ecs.comm.mot.com          Motorola Communications Sector\n",
            "dougb@nwu.edu                   Schaumburg, Illinois\n",
            "dougb@casbah.acns.nwu.edu       708-576-8207                    \n",
            "\n"
          ]
        }
      ],
      "source": [
        "print(sports_dataset['data'][0])"
      ]
    },
    {
      "cell_type": "code",
      "execution_count": 6,
      "metadata": {
        "colab": {
          "base_uri": "https://localhost:8080/",
          "height": 35
        },
        "id": "9F__rNRGULll",
        "outputId": "d8fe358a-539a-4949-d2e4-5ba2e0c1f53c"
      },
      "outputs": [
        {
          "output_type": "execute_result",
          "data": {
            "text/plain": [
              "'rec.sport.baseball'"
            ],
            "application/vnd.google.colaboratory.intrinsic+json": {
              "type": "string"
            }
          },
          "metadata": {},
          "execution_count": 6
        }
      ],
      "source": [
        "sports_dataset.target_names[sports_dataset['target'][0]]"
      ]
    },
    {
      "cell_type": "code",
      "execution_count": 7,
      "metadata": {
        "colab": {
          "base_uri": "https://localhost:8080/"
        },
        "id": "ld79ApzYULlm",
        "outputId": "00f3b2ce-4e4a-490b-9010-776ab7e658e5"
      },
      "outputs": [
        {
          "output_type": "stream",
          "name": "stdout",
          "text": [
            "Total examples: 1197, Baseball examples: 597, Hockey examples: 600\n"
          ]
        }
      ],
      "source": [
        "len_all, len_baseball, len_hockey = len(sports_dataset.data), len([e for e in sports_dataset.target if e == 0]), len([e for e in sports_dataset.target if e == 1])\n",
        "print(f\"Total examples: {len_all}, Baseball examples: {len_baseball}, Hockey examples: {len_hockey}\")"
      ]
    },
    {
      "cell_type": "markdown",
      "metadata": {
        "id": "skG0OvrBULln"
      },
      "source": [
        "One sample from the baseball category can be seen above. It is an email to a mailing list. We can observe that we have 1197 examples in total, which are evenly split between the two sports."
      ]
    },
    {
      "cell_type": "markdown",
      "metadata": {
        "id": "6SXgt8MqULlo"
      },
      "source": [
        "## 1.1. Preparing the data in JSON\n",
        "\n",
        "We transform the dataset into a pandas dataframe, with a column for prompt and completion. The prompt contains the email from the mailing list, and the completion is a name of the sport, either hockey or baseball. For demonstration purposes only and speed of fine-tuning we take only 300 examples. In a real use case the more examples the better the performance."
      ]
    },
    {
      "cell_type": "code",
      "execution_count": 8,
      "metadata": {
        "colab": {
          "base_uri": "https://localhost:8080/",
          "height": 206
        },
        "id": "rjfRID96ULlp",
        "outputId": "997827cb-f483-48c4-98a5-ee58ee2b4d9e"
      },
      "outputs": [
        {
          "output_type": "execute_result",
          "data": {
            "text/plain": [
              "                                              prompt completion\n",
              "0  From: dougb@comm.mot.com (Doug Bank)\\nSubject:...   baseball\n",
              "1  From: gld@cunixb.cc.columbia.edu (Gary L Dare)...     hockey\n",
              "2  From: rudy@netcom.com (Rudy Wade)\\nSubject: Re...   baseball\n",
              "3  From: monack@helium.gas.uug.arizona.edu (david...     hockey\n",
              "4  Subject: Let it be Known\\nFrom: <ISSBTL@BYUVM....   baseball"
            ],
            "text/html": [
              "\n",
              "  <div id=\"df-88cf326a-d627-41c6-9f64-74ca3c8b457d\" class=\"colab-df-container\">\n",
              "    <div>\n",
              "<style scoped>\n",
              "    .dataframe tbody tr th:only-of-type {\n",
              "        vertical-align: middle;\n",
              "    }\n",
              "\n",
              "    .dataframe tbody tr th {\n",
              "        vertical-align: top;\n",
              "    }\n",
              "\n",
              "    .dataframe thead th {\n",
              "        text-align: right;\n",
              "    }\n",
              "</style>\n",
              "<table border=\"1\" class=\"dataframe\">\n",
              "  <thead>\n",
              "    <tr style=\"text-align: right;\">\n",
              "      <th></th>\n",
              "      <th>prompt</th>\n",
              "      <th>completion</th>\n",
              "    </tr>\n",
              "  </thead>\n",
              "  <tbody>\n",
              "    <tr>\n",
              "      <th>0</th>\n",
              "      <td>From: dougb@comm.mot.com (Doug Bank)\\nSubject:...</td>\n",
              "      <td>baseball</td>\n",
              "    </tr>\n",
              "    <tr>\n",
              "      <th>1</th>\n",
              "      <td>From: gld@cunixb.cc.columbia.edu (Gary L Dare)...</td>\n",
              "      <td>hockey</td>\n",
              "    </tr>\n",
              "    <tr>\n",
              "      <th>2</th>\n",
              "      <td>From: rudy@netcom.com (Rudy Wade)\\nSubject: Re...</td>\n",
              "      <td>baseball</td>\n",
              "    </tr>\n",
              "    <tr>\n",
              "      <th>3</th>\n",
              "      <td>From: monack@helium.gas.uug.arizona.edu (david...</td>\n",
              "      <td>hockey</td>\n",
              "    </tr>\n",
              "    <tr>\n",
              "      <th>4</th>\n",
              "      <td>Subject: Let it be Known\\nFrom: &lt;ISSBTL@BYUVM....</td>\n",
              "      <td>baseball</td>\n",
              "    </tr>\n",
              "  </tbody>\n",
              "</table>\n",
              "</div>\n",
              "    <div class=\"colab-df-buttons\">\n",
              "\n",
              "  <div class=\"colab-df-container\">\n",
              "    <button class=\"colab-df-convert\" onclick=\"convertToInteractive('df-88cf326a-d627-41c6-9f64-74ca3c8b457d')\"\n",
              "            title=\"Convert this dataframe to an interactive table.\"\n",
              "            style=\"display:none;\">\n",
              "\n",
              "  <svg xmlns=\"http://www.w3.org/2000/svg\" height=\"24px\" viewBox=\"0 -960 960 960\">\n",
              "    <path d=\"M120-120v-720h720v720H120Zm60-500h600v-160H180v160Zm220 220h160v-160H400v160Zm0 220h160v-160H400v160ZM180-400h160v-160H180v160Zm440 0h160v-160H620v160ZM180-180h160v-160H180v160Zm440 0h160v-160H620v160Z\"/>\n",
              "  </svg>\n",
              "    </button>\n",
              "\n",
              "  <style>\n",
              "    .colab-df-container {\n",
              "      display:flex;\n",
              "      gap: 12px;\n",
              "    }\n",
              "\n",
              "    .colab-df-convert {\n",
              "      background-color: #E8F0FE;\n",
              "      border: none;\n",
              "      border-radius: 50%;\n",
              "      cursor: pointer;\n",
              "      display: none;\n",
              "      fill: #1967D2;\n",
              "      height: 32px;\n",
              "      padding: 0 0 0 0;\n",
              "      width: 32px;\n",
              "    }\n",
              "\n",
              "    .colab-df-convert:hover {\n",
              "      background-color: #E2EBFA;\n",
              "      box-shadow: 0px 1px 2px rgba(60, 64, 67, 0.3), 0px 1px 3px 1px rgba(60, 64, 67, 0.15);\n",
              "      fill: #174EA6;\n",
              "    }\n",
              "\n",
              "    .colab-df-buttons div {\n",
              "      margin-bottom: 4px;\n",
              "    }\n",
              "\n",
              "    [theme=dark] .colab-df-convert {\n",
              "      background-color: #3B4455;\n",
              "      fill: #D2E3FC;\n",
              "    }\n",
              "\n",
              "    [theme=dark] .colab-df-convert:hover {\n",
              "      background-color: #434B5C;\n",
              "      box-shadow: 0px 1px 3px 1px rgba(0, 0, 0, 0.15);\n",
              "      filter: drop-shadow(0px 1px 2px rgba(0, 0, 0, 0.3));\n",
              "      fill: #FFFFFF;\n",
              "    }\n",
              "  </style>\n",
              "\n",
              "    <script>\n",
              "      const buttonEl =\n",
              "        document.querySelector('#df-88cf326a-d627-41c6-9f64-74ca3c8b457d button.colab-df-convert');\n",
              "      buttonEl.style.display =\n",
              "        google.colab.kernel.accessAllowed ? 'block' : 'none';\n",
              "\n",
              "      async function convertToInteractive(key) {\n",
              "        const element = document.querySelector('#df-88cf326a-d627-41c6-9f64-74ca3c8b457d');\n",
              "        const dataTable =\n",
              "          await google.colab.kernel.invokeFunction('convertToInteractive',\n",
              "                                                    [key], {});\n",
              "        if (!dataTable) return;\n",
              "\n",
              "        const docLinkHtml = 'Like what you see? Visit the ' +\n",
              "          '<a target=\"_blank\" href=https://colab.research.google.com/notebooks/data_table.ipynb>data table notebook</a>'\n",
              "          + ' to learn more about interactive tables.';\n",
              "        element.innerHTML = '';\n",
              "        dataTable['output_type'] = 'display_data';\n",
              "        await google.colab.output.renderOutput(dataTable, element);\n",
              "        const docLink = document.createElement('div');\n",
              "        docLink.innerHTML = docLinkHtml;\n",
              "        element.appendChild(docLink);\n",
              "      }\n",
              "    </script>\n",
              "  </div>\n",
              "\n",
              "\n",
              "<div id=\"df-1c4294b8-a00a-4bec-bc7d-1b437e43c70a\">\n",
              "  <button class=\"colab-df-quickchart\" onclick=\"quickchart('df-1c4294b8-a00a-4bec-bc7d-1b437e43c70a')\"\n",
              "            title=\"Suggest charts\"\n",
              "            style=\"display:none;\">\n",
              "\n",
              "<svg xmlns=\"http://www.w3.org/2000/svg\" height=\"24px\"viewBox=\"0 0 24 24\"\n",
              "     width=\"24px\">\n",
              "    <g>\n",
              "        <path d=\"M19 3H5c-1.1 0-2 .9-2 2v14c0 1.1.9 2 2 2h14c1.1 0 2-.9 2-2V5c0-1.1-.9-2-2-2zM9 17H7v-7h2v7zm4 0h-2V7h2v10zm4 0h-2v-4h2v4z\"/>\n",
              "    </g>\n",
              "</svg>\n",
              "  </button>\n",
              "\n",
              "<style>\n",
              "  .colab-df-quickchart {\n",
              "      --bg-color: #E8F0FE;\n",
              "      --fill-color: #1967D2;\n",
              "      --hover-bg-color: #E2EBFA;\n",
              "      --hover-fill-color: #174EA6;\n",
              "      --disabled-fill-color: #AAA;\n",
              "      --disabled-bg-color: #DDD;\n",
              "  }\n",
              "\n",
              "  [theme=dark] .colab-df-quickchart {\n",
              "      --bg-color: #3B4455;\n",
              "      --fill-color: #D2E3FC;\n",
              "      --hover-bg-color: #434B5C;\n",
              "      --hover-fill-color: #FFFFFF;\n",
              "      --disabled-bg-color: #3B4455;\n",
              "      --disabled-fill-color: #666;\n",
              "  }\n",
              "\n",
              "  .colab-df-quickchart {\n",
              "    background-color: var(--bg-color);\n",
              "    border: none;\n",
              "    border-radius: 50%;\n",
              "    cursor: pointer;\n",
              "    display: none;\n",
              "    fill: var(--fill-color);\n",
              "    height: 32px;\n",
              "    padding: 0;\n",
              "    width: 32px;\n",
              "  }\n",
              "\n",
              "  .colab-df-quickchart:hover {\n",
              "    background-color: var(--hover-bg-color);\n",
              "    box-shadow: 0 1px 2px rgba(60, 64, 67, 0.3), 0 1px 3px 1px rgba(60, 64, 67, 0.15);\n",
              "    fill: var(--button-hover-fill-color);\n",
              "  }\n",
              "\n",
              "  .colab-df-quickchart-complete:disabled,\n",
              "  .colab-df-quickchart-complete:disabled:hover {\n",
              "    background-color: var(--disabled-bg-color);\n",
              "    fill: var(--disabled-fill-color);\n",
              "    box-shadow: none;\n",
              "  }\n",
              "\n",
              "  .colab-df-spinner {\n",
              "    border: 2px solid var(--fill-color);\n",
              "    border-color: transparent;\n",
              "    border-bottom-color: var(--fill-color);\n",
              "    animation:\n",
              "      spin 1s steps(1) infinite;\n",
              "  }\n",
              "\n",
              "  @keyframes spin {\n",
              "    0% {\n",
              "      border-color: transparent;\n",
              "      border-bottom-color: var(--fill-color);\n",
              "      border-left-color: var(--fill-color);\n",
              "    }\n",
              "    20% {\n",
              "      border-color: transparent;\n",
              "      border-left-color: var(--fill-color);\n",
              "      border-top-color: var(--fill-color);\n",
              "    }\n",
              "    30% {\n",
              "      border-color: transparent;\n",
              "      border-left-color: var(--fill-color);\n",
              "      border-top-color: var(--fill-color);\n",
              "      border-right-color: var(--fill-color);\n",
              "    }\n",
              "    40% {\n",
              "      border-color: transparent;\n",
              "      border-right-color: var(--fill-color);\n",
              "      border-top-color: var(--fill-color);\n",
              "    }\n",
              "    60% {\n",
              "      border-color: transparent;\n",
              "      border-right-color: var(--fill-color);\n",
              "    }\n",
              "    80% {\n",
              "      border-color: transparent;\n",
              "      border-right-color: var(--fill-color);\n",
              "      border-bottom-color: var(--fill-color);\n",
              "    }\n",
              "    90% {\n",
              "      border-color: transparent;\n",
              "      border-bottom-color: var(--fill-color);\n",
              "    }\n",
              "  }\n",
              "</style>\n",
              "\n",
              "  <script>\n",
              "    async function quickchart(key) {\n",
              "      const quickchartButtonEl =\n",
              "        document.querySelector('#' + key + ' button');\n",
              "      quickchartButtonEl.disabled = true;  // To prevent multiple clicks.\n",
              "      quickchartButtonEl.classList.add('colab-df-spinner');\n",
              "      try {\n",
              "        const charts = await google.colab.kernel.invokeFunction(\n",
              "            'suggestCharts', [key], {});\n",
              "      } catch (error) {\n",
              "        console.error('Error during call to suggestCharts:', error);\n",
              "      }\n",
              "      quickchartButtonEl.classList.remove('colab-df-spinner');\n",
              "      quickchartButtonEl.classList.add('colab-df-quickchart-complete');\n",
              "    }\n",
              "    (() => {\n",
              "      let quickchartButtonEl =\n",
              "        document.querySelector('#df-1c4294b8-a00a-4bec-bc7d-1b437e43c70a button');\n",
              "      quickchartButtonEl.style.display =\n",
              "        google.colab.kernel.accessAllowed ? 'block' : 'none';\n",
              "    })();\n",
              "  </script>\n",
              "</div>\n",
              "    </div>\n",
              "  </div>\n"
            ]
          },
          "metadata": {},
          "execution_count": 8
        }
      ],
      "source": [
        "import pandas as pd\n",
        "\n",
        "labels = [sports_dataset.target_names[x].split('.')[-1] for x in sports_dataset['target']]\n",
        "texts = [text.strip() for text in sports_dataset['data']]\n",
        "df = pd.DataFrame(zip(texts, labels), columns = ['prompt','completion']) #[:300]\n",
        "df.head()"
      ]
    },
    {
      "cell_type": "markdown",
      "metadata": {
        "id": "Q_KxaCBDULlq"
      },
      "source": [
        "Both baseball and hockey are single tokens. We save the dataset as a jsonl file."
      ]
    },
    {
      "cell_type": "code",
      "execution_count": 9,
      "metadata": {
        "id": "I87dX7pQULlq"
      },
      "outputs": [],
      "source": [
        "df.to_json(\"sport2.jsonl\", orient='records', lines=True)"
      ]
    },
    {
      "cell_type": "markdown",
      "metadata": {
        "id": "qfPi_U3zULlr"
      },
      "source": [
        "##  1.2. Converting the data to JSONL\n",
        "We can now use a data preparation tool which will suggest a few improvements to our dataset before fine-tuning. Before launching the tool we update the openai library to ensure we're using the latest data preparation tool. We additionally specify `-q` which auto-accepts all suggestions."
      ]
    },
    {
      "cell_type": "code",
      "execution_count": 10,
      "metadata": {
        "colab": {
          "base_uri": "https://localhost:8080/"
        },
        "id": "s46TcHu0ULlr",
        "outputId": "270e1142-e8ae-4647-ae8d-2484db4b94d6"
      },
      "outputs": [
        {
          "output_type": "stream",
          "name": "stdout",
          "text": [
            "Analyzing...\n",
            "\n",
            "- Your file contains 1197 prompt-completion pairs\n",
            "- Based on your data it seems like you're trying to fine-tune a model for classification\n",
            "- For classification, we recommend you try one of the faster and cheaper models, such as `ada`\n",
            "- For classification, you can estimate the expected model performance by keeping a held out dataset, which is not used for training\n",
            "- There are 11 examples that are very long. These are rows: [134, 200, 281, 320, 404, 595, 704, 838, 1113, 1139, 1174]\n",
            "For conditional generation, and for classification the examples shouldn't be longer than 2048 tokens.\n",
            "- Your data does not contain a common separator at the end of your prompts. Having a separator string appended to the end of the prompt makes it clearer to the fine-tuned model where the completion should begin. See https://platform.openai.com/docs/guides/fine-tuning/preparing-your-dataset for more detail and examples. If you intend to do open-ended generation, then you should leave the prompts empty\n",
            "- The completion should start with a whitespace character (` `). This tends to produce better results due to the tokenization we use. See https://platform.openai.com/docs/guides/fine-tuning/preparing-your-dataset for more details\n",
            "\n",
            "Based on the analysis we will perform the following actions:\n",
            "- [Recommended] Remove 11 long examples [Y/n]: Y\n",
            "- [Recommended] Add a suffix separator `\\n\\n###\\n\\n` to all prompts [Y/n]: Y\n",
            "- [Recommended] Add a whitespace character to the beginning of the completion [Y/n]: Y\n",
            "- [Recommended] Would you like to split into training and validation set? [Y/n]: Y\n",
            "\n",
            "\n",
            "Your data will be written to a new JSONL file. Proceed [Y/n]: Y\n",
            "\n",
            "Wrote modified files to `sport2_prepared_train.jsonl` and `sport2_prepared_valid.jsonl`\n",
            "Feel free to take a look!\n",
            "\n",
            "Now use that file when fine-tuning:\n",
            "> openai api fine_tunes.create -t \"sport2_prepared_train.jsonl\" -v \"sport2_prepared_valid.jsonl\" --compute_classification_metrics --classification_positive_class \" baseball\"\n",
            "\n",
            "After you’ve fine-tuned a model, remember that your prompt has to end with the indicator string `\\n\\n###\\n\\n` for the model to start generating completions, rather than continuing with the prompt.\n",
            "Once your model starts training, it'll approximately take 30.8 minutes to train a `curie` model, and less for `ada` and `babbage`. Queue will approximately take half an hour per job ahead of you.\n"
          ]
        }
      ],
      "source": [
        "!openai tools fine_tunes.prepare_data -f sport2.jsonl -q"
      ]
    },
    {
      "cell_type": "markdown",
      "metadata": {
        "id": "m6hTdpQIULls"
      },
      "source": [
        "The tool helpfully suggests a few improvements to the dataset and splits the dataset into training and validation set.\n",
        "\n",
        "A suffix between a prompt and a completion is necessary to tell the model that the input text has stopped, and that it now needs to predict the class. Since we use the same separator in each example, the model is able to learn that it is meant to predict either baseball or hockey following the separator.\n",
        "A whitespace prefix in completions is useful, as most word tokens are tokenized with a space prefix.\n",
        "The tool also recognized that this is likely a classification task, so it suggested to split the dataset into training and validation datasets. This will allow us to easily measure expected performance on new data."
      ]
    },
    {
      "cell_type": "markdown",
      "metadata": {
        "id": "6AWG3EnOu5sW"
      },
      "source": [
        "creating the training and validation files on OpenAI"
      ]
    },
    {
      "cell_type": "code",
      "execution_count": 11,
      "metadata": {
        "id": "a8pmetoDtwyD"
      },
      "outputs": [],
      "source": [
        "from openai import OpenAI\n",
        "client = OpenAI()\n",
        "\n",
        "file_response=client.files.create(\n",
        "  file=open(\"/content/sport2_prepared_train.jsonl\", \"rb\"),\n",
        "  purpose='fine-tune'\n",
        ")"
      ]
    },
    {
      "cell_type": "code",
      "execution_count": 12,
      "metadata": {
        "colab": {
          "base_uri": "https://localhost:8080/"
        },
        "id": "pRT4Mz7xLyxd",
        "outputId": "29252ae1-59a8-4e96-d4a0-e7b693e51f84"
      },
      "outputs": [
        {
          "output_type": "stream",
          "name": "stdout",
          "text": [
            "file-rVsREccI6yBWGQxTU1opDUJn\n"
          ]
        }
      ],
      "source": [
        "# Extract the training file ID\n",
        "training_file_id = file_response.id\n",
        "print(training_file_id)"
      ]
    },
    {
      "cell_type": "code",
      "execution_count": 13,
      "metadata": {
        "id": "fNs8zmEPt3xL"
      },
      "outputs": [],
      "source": [
        "file_response=client.files.create(\n",
        "  file=open(\"/content/sport2_prepared_valid.jsonl\", \"rb\"),\n",
        "  purpose='fine-tune'\n",
        ")"
      ]
    },
    {
      "cell_type": "code",
      "execution_count": 14,
      "metadata": {
        "colab": {
          "base_uri": "https://localhost:8080/"
        },
        "id": "Ddk9EuxZL7Dk",
        "outputId": "4ba96991-c0b7-4c3f-f56b-878e39f6e85d"
      },
      "outputs": [
        {
          "output_type": "stream",
          "name": "stdout",
          "text": [
            "file-mjMIdOhqe7MGo0TphU8meQK7\n"
          ]
        }
      ],
      "source": [
        "# Extract the training file ID\n",
        "validation_file_id = file_response.id\n",
        "print(validation_file_id)"
      ]
    },
    {
      "cell_type": "markdown",
      "metadata": {
        "id": "oP8rndjiULls"
      },
      "source": [
        "# 2.Fine-tuning an original model\n"
      ]
    },
    {
      "cell_type": "code",
      "execution_count": 49,
      "metadata": {
        "id": "vuelANv0qlC7"
      },
      "outputs": [],
      "source": [
        "from openai import OpenAI\n",
        "client = OpenAI()\n",
        "\n",
        "job_response=client.fine_tuning.jobs.create(\n",
        "  training_file=training_file_id,\n",
        "  validation_file=validation_file_id,\n",
        "  model=\"babbage-002\"\n",
        ")"
      ]
    },
    {
      "cell_type": "code",
      "execution_count": 50,
      "metadata": {
        "colab": {
          "base_uri": "https://localhost:8080/"
        },
        "id": "dOZCpeWBMgzS",
        "outputId": "73f3488a-60d0-4f7a-e3e4-2cdae7285b57"
      },
      "outputs": [
        {
          "output_type": "stream",
          "name": "stdout",
          "text": [
            "ftjob-YHNFOGUAXRAT9vjyyI1956N2\n"
          ]
        }
      ],
      "source": [
        "job_id = job_response.id\n",
        "print(job_id)"
      ]
    },
    {
      "cell_type": "markdown",
      "metadata": {
        "id": "RFS7sfZ0ULlt"
      },
      "source": [
        "When the model has been trained,  we can  we can use it for an inference task."
      ]
    },
    {
      "cell_type": "code",
      "execution_count": 51,
      "metadata": {
        "colab": {
          "base_uri": "https://localhost:8080/"
        },
        "id": "6s_vU85RMkOw",
        "outputId": "1086c078-0ace-45e9-b012-5ff1d31caaf0"
      },
      "outputs": [
        {
          "output_type": "stream",
          "name": "stdout",
          "text": [
            "FineTuningJob(id='ftjob-YHNFOGUAXRAT9vjyyI1956N2', created_at=1705058470, error=None, fine_tuned_model=None, finished_at=None, hyperparameters=Hyperparameters(n_epochs=3, batch_size=1, learning_rate_multiplier=2), model='babbage-002', object='fine_tuning.job', organization_id='org-h2Kjmcir4wyGtqq1mJALLGIb', result_files=[], status='running', trained_tokens=None, training_file='file-rVsREccI6yBWGQxTU1opDUJn', validation_file='file-mjMIdOhqe7MGo0TphU8meQK7')\n"
          ]
        }
      ],
      "source": [
        "# Check the status of the fine-tuning job\n",
        "job_details = client.fine_tuning.jobs.retrieve(job_id)\n",
        "print(job_details)"
      ]
    },
    {
      "cell_type": "code",
      "execution_count": 52,
      "metadata": {
        "colab": {
          "base_uri": "https://localhost:8080/"
        },
        "id": "DwqidMUMCDXq",
        "outputId": "0e29e031-1093-45e1-c9a6-38bb19f8df0e"
      },
      "outputs": [
        {
          "output_type": "stream",
          "name": "stdout",
          "text": [
            "Job status: running\n"
          ]
        }
      ],
      "source": [
        "# There may be a time lapse:\n",
        "# 1.between the moment you run the fine-tuning job and its completion\n",
        "# 2.between its completion and the server updates\n",
        "# Check your email if you have activated OpenAI notifications\n",
        "status = job_details.status\n",
        "print(f\"Job status: {status}\")"
      ]
    },
    {
      "cell_type": "markdown",
      "metadata": {
        "id": "WuOJI0n6ULlw"
      },
      "source": [
        "# 3.Running the fine-tuned GPT-3 model\n",
        "\n",
        "We will now run the model for a classification task\n",
        "\n",
        "Let's first retrieve the 'sport2_prepared_valid.jsonl' using the file ID we using during the training process for the validation file."
      ]
    },
    {
      "cell_type": "code",
      "execution_count": 53,
      "metadata": {
        "colab": {
          "base_uri": "https://localhost:8080/"
        },
        "id": "qGmobUZH-c3f",
        "outputId": "a336ee08-e94a-482c-b2b9-7cdc14b52a69"
      },
      "outputs": [
        {
          "output_type": "stream",
          "name": "stdout",
          "text": [
            "FileObject(id='file-mjMIdOhqe7MGo0TphU8meQK7', bytes=387349, created_at=1705056210, filename='sport2_prepared_valid.jsonl', object='file', purpose='fine-tune', status='processed', status_details=None)\n"
          ]
        }
      ],
      "source": [
        "file_id=validation_file_id\n",
        "file_details = openai.files.retrieve(file_id)\n",
        "print(file_details)"
      ]
    },
    {
      "cell_type": "code",
      "execution_count": 54,
      "metadata": {
        "colab": {
          "base_uri": "https://localhost:8080/",
          "height": 2084
        },
        "id": "V2YEzY4JULlw",
        "outputId": "3e354f35-c89c-41dc-9e9f-1f745077ee49"
      },
      "outputs": [
        {
          "output_type": "execute_result",
          "data": {
            "text/plain": [
              "                                              prompt completion\n",
              "0  From: gld@cunixb.cc.columbia.edu (Gary L Dare)...     hockey\n",
              "1  From: smorris@venus.lerc.nasa.gov (Ron Morris ...     hockey\n",
              "2  From: golchowy@alchemy.chem.utoronto.ca (Geral...     hockey\n",
              "3  From: krattige@hpcc01.corp.hp.com (Kim Krattig...   baseball\n",
              "4  From: warped@cs.montana.edu (Doug Dolven)\\nSub...   baseball\n",
              "5  From: jerry@sheldev.shel.isc-br.com (Gerald La...   baseball\n",
              "6  From: kime@mongoose.torolab.ibm.com (Edward Ki...   baseball\n",
              "7  From: cmk@athena.mit.edu (Charles M Kozierok)\\...   baseball\n",
              "8  From: pkortela@snakemail.hut.fi (Petteri Korte...     hockey\n",
              "9  From: gak@wrs.com (Richard Stueven)\\nSubject: ...     hockey"
            ],
            "text/html": [
              "\n",
              "  <div id=\"df-4c2b6cc6-aee5-4f27-8de4-15c6b3d633dc\" class=\"colab-df-container\">\n",
              "    <div>\n",
              "<style scoped>\n",
              "    .dataframe tbody tr th:only-of-type {\n",
              "        vertical-align: middle;\n",
              "    }\n",
              "\n",
              "    .dataframe tbody tr th {\n",
              "        vertical-align: top;\n",
              "    }\n",
              "\n",
              "    .dataframe thead th {\n",
              "        text-align: right;\n",
              "    }\n",
              "</style>\n",
              "<table border=\"1\" class=\"dataframe\">\n",
              "  <thead>\n",
              "    <tr style=\"text-align: right;\">\n",
              "      <th></th>\n",
              "      <th>prompt</th>\n",
              "      <th>completion</th>\n",
              "    </tr>\n",
              "  </thead>\n",
              "  <tbody>\n",
              "    <tr>\n",
              "      <th>0</th>\n",
              "      <td>From: gld@cunixb.cc.columbia.edu (Gary L Dare)...</td>\n",
              "      <td>hockey</td>\n",
              "    </tr>\n",
              "    <tr>\n",
              "      <th>1</th>\n",
              "      <td>From: smorris@venus.lerc.nasa.gov (Ron Morris ...</td>\n",
              "      <td>hockey</td>\n",
              "    </tr>\n",
              "    <tr>\n",
              "      <th>2</th>\n",
              "      <td>From: golchowy@alchemy.chem.utoronto.ca (Geral...</td>\n",
              "      <td>hockey</td>\n",
              "    </tr>\n",
              "    <tr>\n",
              "      <th>3</th>\n",
              "      <td>From: krattige@hpcc01.corp.hp.com (Kim Krattig...</td>\n",
              "      <td>baseball</td>\n",
              "    </tr>\n",
              "    <tr>\n",
              "      <th>4</th>\n",
              "      <td>From: warped@cs.montana.edu (Doug Dolven)\\nSub...</td>\n",
              "      <td>baseball</td>\n",
              "    </tr>\n",
              "    <tr>\n",
              "      <th>5</th>\n",
              "      <td>From: jerry@sheldev.shel.isc-br.com (Gerald La...</td>\n",
              "      <td>baseball</td>\n",
              "    </tr>\n",
              "    <tr>\n",
              "      <th>6</th>\n",
              "      <td>From: kime@mongoose.torolab.ibm.com (Edward Ki...</td>\n",
              "      <td>baseball</td>\n",
              "    </tr>\n",
              "    <tr>\n",
              "      <th>7</th>\n",
              "      <td>From: cmk@athena.mit.edu (Charles M Kozierok)\\...</td>\n",
              "      <td>baseball</td>\n",
              "    </tr>\n",
              "    <tr>\n",
              "      <th>8</th>\n",
              "      <td>From: pkortela@snakemail.hut.fi (Petteri Korte...</td>\n",
              "      <td>hockey</td>\n",
              "    </tr>\n",
              "    <tr>\n",
              "      <th>9</th>\n",
              "      <td>From: gak@wrs.com (Richard Stueven)\\nSubject: ...</td>\n",
              "      <td>hockey</td>\n",
              "    </tr>\n",
              "  </tbody>\n",
              "</table>\n",
              "</div>\n",
              "    <div class=\"colab-df-buttons\">\n",
              "\n",
              "  <div class=\"colab-df-container\">\n",
              "    <button class=\"colab-df-convert\" onclick=\"convertToInteractive('df-4c2b6cc6-aee5-4f27-8de4-15c6b3d633dc')\"\n",
              "            title=\"Convert this dataframe to an interactive table.\"\n",
              "            style=\"display:none;\">\n",
              "\n",
              "  <svg xmlns=\"http://www.w3.org/2000/svg\" height=\"24px\" viewBox=\"0 -960 960 960\">\n",
              "    <path d=\"M120-120v-720h720v720H120Zm60-500h600v-160H180v160Zm220 220h160v-160H400v160Zm0 220h160v-160H400v160ZM180-400h160v-160H180v160Zm440 0h160v-160H620v160ZM180-180h160v-160H180v160Zm440 0h160v-160H620v160Z\"/>\n",
              "  </svg>\n",
              "    </button>\n",
              "\n",
              "  <style>\n",
              "    .colab-df-container {\n",
              "      display:flex;\n",
              "      gap: 12px;\n",
              "    }\n",
              "\n",
              "    .colab-df-convert {\n",
              "      background-color: #E8F0FE;\n",
              "      border: none;\n",
              "      border-radius: 50%;\n",
              "      cursor: pointer;\n",
              "      display: none;\n",
              "      fill: #1967D2;\n",
              "      height: 32px;\n",
              "      padding: 0 0 0 0;\n",
              "      width: 32px;\n",
              "    }\n",
              "\n",
              "    .colab-df-convert:hover {\n",
              "      background-color: #E2EBFA;\n",
              "      box-shadow: 0px 1px 2px rgba(60, 64, 67, 0.3), 0px 1px 3px 1px rgba(60, 64, 67, 0.15);\n",
              "      fill: #174EA6;\n",
              "    }\n",
              "\n",
              "    .colab-df-buttons div {\n",
              "      margin-bottom: 4px;\n",
              "    }\n",
              "\n",
              "    [theme=dark] .colab-df-convert {\n",
              "      background-color: #3B4455;\n",
              "      fill: #D2E3FC;\n",
              "    }\n",
              "\n",
              "    [theme=dark] .colab-df-convert:hover {\n",
              "      background-color: #434B5C;\n",
              "      box-shadow: 0px 1px 3px 1px rgba(0, 0, 0, 0.15);\n",
              "      filter: drop-shadow(0px 1px 2px rgba(0, 0, 0, 0.3));\n",
              "      fill: #FFFFFF;\n",
              "    }\n",
              "  </style>\n",
              "\n",
              "    <script>\n",
              "      const buttonEl =\n",
              "        document.querySelector('#df-4c2b6cc6-aee5-4f27-8de4-15c6b3d633dc button.colab-df-convert');\n",
              "      buttonEl.style.display =\n",
              "        google.colab.kernel.accessAllowed ? 'block' : 'none';\n",
              "\n",
              "      async function convertToInteractive(key) {\n",
              "        const element = document.querySelector('#df-4c2b6cc6-aee5-4f27-8de4-15c6b3d633dc');\n",
              "        const dataTable =\n",
              "          await google.colab.kernel.invokeFunction('convertToInteractive',\n",
              "                                                    [key], {});\n",
              "        if (!dataTable) return;\n",
              "\n",
              "        const docLinkHtml = 'Like what you see? Visit the ' +\n",
              "          '<a target=\"_blank\" href=https://colab.research.google.com/notebooks/data_table.ipynb>data table notebook</a>'\n",
              "          + ' to learn more about interactive tables.';\n",
              "        element.innerHTML = '';\n",
              "        dataTable['output_type'] = 'display_data';\n",
              "        await google.colab.output.renderOutput(dataTable, element);\n",
              "        const docLink = document.createElement('div');\n",
              "        docLink.innerHTML = docLinkHtml;\n",
              "        element.appendChild(docLink);\n",
              "      }\n",
              "    </script>\n",
              "  </div>\n",
              "\n",
              "\n",
              "<div id=\"df-9c72a97a-43b3-4397-af3f-92cf89f7a1cb\">\n",
              "  <button class=\"colab-df-quickchart\" onclick=\"quickchart('df-9c72a97a-43b3-4397-af3f-92cf89f7a1cb')\"\n",
              "            title=\"Suggest charts\"\n",
              "            style=\"display:none;\">\n",
              "\n",
              "<svg xmlns=\"http://www.w3.org/2000/svg\" height=\"24px\"viewBox=\"0 0 24 24\"\n",
              "     width=\"24px\">\n",
              "    <g>\n",
              "        <path d=\"M19 3H5c-1.1 0-2 .9-2 2v14c0 1.1.9 2 2 2h14c1.1 0 2-.9 2-2V5c0-1.1-.9-2-2-2zM9 17H7v-7h2v7zm4 0h-2V7h2v10zm4 0h-2v-4h2v4z\"/>\n",
              "    </g>\n",
              "</svg>\n",
              "  </button>\n",
              "\n",
              "<style>\n",
              "  .colab-df-quickchart {\n",
              "      --bg-color: #E8F0FE;\n",
              "      --fill-color: #1967D2;\n",
              "      --hover-bg-color: #E2EBFA;\n",
              "      --hover-fill-color: #174EA6;\n",
              "      --disabled-fill-color: #AAA;\n",
              "      --disabled-bg-color: #DDD;\n",
              "  }\n",
              "\n",
              "  [theme=dark] .colab-df-quickchart {\n",
              "      --bg-color: #3B4455;\n",
              "      --fill-color: #D2E3FC;\n",
              "      --hover-bg-color: #434B5C;\n",
              "      --hover-fill-color: #FFFFFF;\n",
              "      --disabled-bg-color: #3B4455;\n",
              "      --disabled-fill-color: #666;\n",
              "  }\n",
              "\n",
              "  .colab-df-quickchart {\n",
              "    background-color: var(--bg-color);\n",
              "    border: none;\n",
              "    border-radius: 50%;\n",
              "    cursor: pointer;\n",
              "    display: none;\n",
              "    fill: var(--fill-color);\n",
              "    height: 32px;\n",
              "    padding: 0;\n",
              "    width: 32px;\n",
              "  }\n",
              "\n",
              "  .colab-df-quickchart:hover {\n",
              "    background-color: var(--hover-bg-color);\n",
              "    box-shadow: 0 1px 2px rgba(60, 64, 67, 0.3), 0 1px 3px 1px rgba(60, 64, 67, 0.15);\n",
              "    fill: var(--button-hover-fill-color);\n",
              "  }\n",
              "\n",
              "  .colab-df-quickchart-complete:disabled,\n",
              "  .colab-df-quickchart-complete:disabled:hover {\n",
              "    background-color: var(--disabled-bg-color);\n",
              "    fill: var(--disabled-fill-color);\n",
              "    box-shadow: none;\n",
              "  }\n",
              "\n",
              "  .colab-df-spinner {\n",
              "    border: 2px solid var(--fill-color);\n",
              "    border-color: transparent;\n",
              "    border-bottom-color: var(--fill-color);\n",
              "    animation:\n",
              "      spin 1s steps(1) infinite;\n",
              "  }\n",
              "\n",
              "  @keyframes spin {\n",
              "    0% {\n",
              "      border-color: transparent;\n",
              "      border-bottom-color: var(--fill-color);\n",
              "      border-left-color: var(--fill-color);\n",
              "    }\n",
              "    20% {\n",
              "      border-color: transparent;\n",
              "      border-left-color: var(--fill-color);\n",
              "      border-top-color: var(--fill-color);\n",
              "    }\n",
              "    30% {\n",
              "      border-color: transparent;\n",
              "      border-left-color: var(--fill-color);\n",
              "      border-top-color: var(--fill-color);\n",
              "      border-right-color: var(--fill-color);\n",
              "    }\n",
              "    40% {\n",
              "      border-color: transparent;\n",
              "      border-right-color: var(--fill-color);\n",
              "      border-top-color: var(--fill-color);\n",
              "    }\n",
              "    60% {\n",
              "      border-color: transparent;\n",
              "      border-right-color: var(--fill-color);\n",
              "    }\n",
              "    80% {\n",
              "      border-color: transparent;\n",
              "      border-right-color: var(--fill-color);\n",
              "      border-bottom-color: var(--fill-color);\n",
              "    }\n",
              "    90% {\n",
              "      border-color: transparent;\n",
              "      border-bottom-color: var(--fill-color);\n",
              "    }\n",
              "  }\n",
              "</style>\n",
              "\n",
              "  <script>\n",
              "    async function quickchart(key) {\n",
              "      const quickchartButtonEl =\n",
              "        document.querySelector('#' + key + ' button');\n",
              "      quickchartButtonEl.disabled = true;  // To prevent multiple clicks.\n",
              "      quickchartButtonEl.classList.add('colab-df-spinner');\n",
              "      try {\n",
              "        const charts = await google.colab.kernel.invokeFunction(\n",
              "            'suggestCharts', [key], {});\n",
              "      } catch (error) {\n",
              "        console.error('Error during call to suggestCharts:', error);\n",
              "      }\n",
              "      quickchartButtonEl.classList.remove('colab-df-spinner');\n",
              "      quickchartButtonEl.classList.add('colab-df-quickchart-complete');\n",
              "    }\n",
              "    (() => {\n",
              "      let quickchartButtonEl =\n",
              "        document.querySelector('#df-9c72a97a-43b3-4397-af3f-92cf89f7a1cb button');\n",
              "      quickchartButtonEl.style.display =\n",
              "        google.colab.kernel.accessAllowed ? 'block' : 'none';\n",
              "    })();\n",
              "  </script>\n",
              "</div>\n",
              "    </div>\n",
              "  </div>\n"
            ]
          },
          "metadata": {},
          "execution_count": 54
        }
      ],
      "source": [
        "test = pd.read_json('sport2_prepared_valid.jsonl', lines=True)\n",
        "test.head(10)"
      ]
    },
    {
      "cell_type": "markdown",
      "metadata": {
        "id": "UjRKw4r1-59v"
      },
      "source": [
        "We can now call the model to get the predictions."
      ]
    },
    {
      "cell_type": "markdown",
      "source": [
        "## Example 1"
      ],
      "metadata": {
        "id": "91U5wPRygXwF"
      }
    },
    {
      "cell_type": "code",
      "execution_count": 60,
      "metadata": {
        "id": "hUIAdyk9m39v",
        "colab": {
          "base_uri": "https://localhost:8080/"
        },
        "outputId": "3bbacab6-ec88-4a08-f924-3f36fffab26f"
      },
      "outputs": [
        {
          "output_type": "stream",
          "name": "stdout",
          "text": [
            "From: gld@cunixb.cc.columbia.edu (Gary L Dare)\n",
            "Subject: Re: Flames Truly Brutal in Loss\n",
            "Nntp-Posting-Host: cunixb.cc.columbia.edu\n",
            "Reply-To: gld@cunixb.cc.columbia.edu (Gary L Dare)\n",
            "Organization: PhDs In The Hall\n",
            "Distribution: na\n",
            "Lines: 13\n",
            "\n",
            "\n",
            "This game would have been great as part of a double-header on ABC or\n",
            "ESPN; the league would have been able to push back-to-back wins by\n",
            "Le Magnifique and The Great One.  Unfortunately, the only network\n",
            "that would have done that was SCA, seen in few areas and hard to\n",
            "justify as a pay channel. )-;\n",
            "\n",
            "gld\n",
            "--\n",
            "~~~~~~~~~~~~~~~~~~~~~~~~ Je me souviens ~~~~~~~~~~~~~~~~~~~~~~~~~~~~~\n",
            "Gary L. Dare\n",
            "> gld@columbia.EDU \t\t\tGO  Winnipeg Jets  GO!!!\n",
            "> gld@cunixc.BITNET\t\t\tSelanne + Domi ==> Stanley\n",
            "\n",
            "###\n",
            "\n",
            "\n"
          ]
        }
      ],
      "source": [
        "# text to classify\n",
        "text_content = test['prompt'][0]\n",
        "print(text_content)"
      ]
    },
    {
      "cell_type": "code",
      "source": [
        "text_content=\"Classifiy the following email into a hockey or baseball label: \" + text_content\n",
        "\n",
        "# Classify the new email using the fine-tuned model\n",
        "response = client.completions.create(\n",
        "    model=\"ft:babbage-002:personal::8g9QuR5t\",\n",
        "    prompt=text_content,\n",
        "\n",
        ")\n",
        "print(response)"
      ],
      "metadata": {
        "colab": {
          "base_uri": "https://localhost:8080/"
        },
        "id": "BwAgupDNbVIJ",
        "outputId": "98fde3ef-bf10-44d9-c10e-7785267f114e"
      },
      "execution_count": 83,
      "outputs": [
        {
          "output_type": "stream",
          "name": "stdout",
          "text": [
            "Completion(id='cmpl-8gAH65JBINbai5HGFlp6tZl6sT5BG', choices=[CompletionChoice(finish_reason='stop', index=0, logprobs=None, text='')], created=1705059964, model='ft:babbage-002:personal::8g9QuR5t', object='text_completion', system_fingerprint=None, usage=CompletionUsage(completion_tokens=None, prompt_tokens=415, total_tokens=415))\n"
          ]
        }
      ]
    },
    {
      "cell_type": "code",
      "source": [
        "# Formatting the response\n",
        "print(\"Completion ID:\", response.id)\n",
        "print(\"Created:\", response.created)\n",
        "print(\"Model:\", response.model)\n",
        "print(\"Object Type:\", response.object)\n",
        "\n",
        "# Formatting the choices\n",
        "for i, choice in enumerate(response.choices):\n",
        "    print(f\"Choice {i}:\")\n",
        "    print(\"  Finish Reason:\", choice.finish_reason)\n",
        "    print(\"  Index:\", choice.index)\n",
        "    print(\"  Logprobs:\", choice.logprobs)\n",
        "    print(\"  Text:\", choice.text)\n",
        "\n",
        "# Formatting the usage\n",
        "print(\"Usage:\")\n",
        "print(\"  Completion Tokens:\", response.usage.completion_tokens)\n",
        "print(\"  Prompt Tokens:\", response.usage.prompt_tokens)\n",
        "print(\"  Total Tokens:\", response.usage.total_tokens)\n",
        "\n",
        "# If system_fingerprint is available, print it\n",
        "if response.system_fingerprint:\n",
        "    print(\"System Fingerprint:\", response.system_fingerprint)"
      ],
      "metadata": {
        "colab": {
          "base_uri": "https://localhost:8080/"
        },
        "id": "qnuTaHWie5iB",
        "outputId": "1d1b9248-28a2-4e76-83b2-646b627687b4"
      },
      "execution_count": 84,
      "outputs": [
        {
          "output_type": "stream",
          "name": "stdout",
          "text": [
            "Completion ID: cmpl-8gAH65JBINbai5HGFlp6tZl6sT5BG\n",
            "Created: 1705059964\n",
            "Model: ft:babbage-002:personal::8g9QuR5t\n",
            "Object Type: text_completion\n",
            "Choice 0:\n",
            "  Finish Reason: stop\n",
            "  Index: 0\n",
            "  Logprobs: None\n",
            "  Text: \n",
            "Usage:\n",
            "  Completion Tokens: None\n",
            "  Prompt Tokens: 415\n",
            "  Total Tokens: 415\n"
          ]
        }
      ]
    },
    {
      "cell_type": "markdown",
      "source": [
        "## Example 2"
      ],
      "metadata": {
        "id": "dXaMjUJQgQQQ"
      }
    },
    {
      "cell_type": "code",
      "execution_count": 106,
      "metadata": {
        "colab": {
          "base_uri": "https://localhost:8080/"
        },
        "outputId": "e8848080-9e76-4d7e-93ae-4aff0cc61a45",
        "id": "tQo2UOsAgfQj"
      },
      "outputs": [
        {
          "output_type": "stream",
          "name": "stdout",
          "text": [
            "From: fester@island.COM (Mike Fester)\n",
            "Subject: Re: Notes on Jays vs. Indians Series\n",
            "Organization: /usr/local/rn/organization\n",
            "Distribution: na\n",
            "Lines: 38\n",
            "\n",
            "In article <1993Apr13.221704.4291@midway.uchicago.edu> thf2@midway.uchicago.edu writes:\n",
            ">In article <rudyC5FxC8.DEu@netcom.com> rudy@netcom.com (Rudy Wade) writes:\n",
            ">>In article <1993Apr13.195301.22652@CSD-NewsHost.Stanford.EDU> nlu@Xenon.Stanford.EDU (Nelson Lu) writes:\n",
            ">>>Guess which line is which:\n",
            ">>>\tBA\tOBP\tSLG\tAB\tH\t2B\t3B\tHR\tBB\n",
            ">>>X\t.310\t.405\t.427\t571\t177\t27\t8\t8\t87\n",
            ">>>Y\t.312\t.354\t.455\t657\t205\t32\t1\t20\t35\n",
            ">>\n",
            ">>>The walks should give it away.  OBP's, in general, somewhat more valuable than\n",
            ">>>slugging, and Alomar's edge in OBP was quite a bit larger than Baerga's edge\n",
            ">>>in slugging.\n",
            ">>\n",
            ">>I'm no SDCN, but what's more valuable:\n",
            ">>\n",
            ">>28 hits w/5 more doubles, 12 more HRs   OR\n",
            ">>7 more triples and 52 BBs?  (Let's not forget the 39 extra SBs. How many CS?)\n",
            ">\n",
            ">Alomar had 9 CS.  Baerga had 2.\n",
            ">\n",
            ">Don't forget the 59 more outs Baerga had (his GIDP balances out his CS, and\n",
            ">he had one more sacrifice than Alomar).   A replacement level second baseman\n",
            ">could have had 17 hits, 5 walks, and a couple of XBH for the additional\n",
            ">outs Baerga had.  A triple is little different than a home run.  We're talking\n",
            ">exchanging almost 60 walks for six or seven home runs and four doubles.  I \n",
            ">would say the almost-60 walks are more valuable.\n",
            "\n",
            "Also, Alomar got a FAR greater boost from his home park than Baerga did from \n",
            "his. And \"six or seven home runs\"? Hmm.\n",
            "\n",
            "So, if you wanted to pick a second baseman to play in Toronto, you'd take \n",
            "Alomar. Anywhere else, and you'd probably take Baerga.\n",
            "\n",
            "Mike\n",
            "-- \n",
            "Disclaimer - These opiini^H^H damn! ^H^H ^Q ^[ .... :w  :q  :wq  :wq! ^d  ^X ^?\n",
            "exit X Q  ^C ^? :quitbye  CtrlAltDel   ~~q  :~q  logout  save/quit :!QUIT\n",
            "^[zz ^[ZZZZZZ ^vi  man vi ^@  ^L  ^[c  ^# ^E ^X ^I ^T ? help  helpquit ^D  ^d !!\n",
            "man help ^C ^c :e! help exit ?Quit ?q CtrlShftDel \"Hey, what does Stop L1A d...\"\n",
            "\n",
            "###\n",
            "\n",
            "\n"
          ]
        }
      ],
      "source": [
        "# text to classify\n",
        "text_content = test['prompt'][10]\n",
        "print(text_content)"
      ]
    },
    {
      "cell_type": "code",
      "source": [
        "text_content=\"Classifiy the following email into a hockey or baseball label: \" + text_content\n",
        "print(text_content)"
      ],
      "metadata": {
        "id": "HU79__TujBLY",
        "outputId": "4b5b360a-acec-4f4c-f1ed-e4badab34c4d",
        "colab": {
          "base_uri": "https://localhost:8080/"
        }
      },
      "execution_count": 107,
      "outputs": [
        {
          "output_type": "stream",
          "name": "stdout",
          "text": [
            "Classifiy the following email into a hockey or baseball label: From: fester@island.COM (Mike Fester)\n",
            "Subject: Re: Notes on Jays vs. Indians Series\n",
            "Organization: /usr/local/rn/organization\n",
            "Distribution: na\n",
            "Lines: 38\n",
            "\n",
            "In article <1993Apr13.221704.4291@midway.uchicago.edu> thf2@midway.uchicago.edu writes:\n",
            ">In article <rudyC5FxC8.DEu@netcom.com> rudy@netcom.com (Rudy Wade) writes:\n",
            ">>In article <1993Apr13.195301.22652@CSD-NewsHost.Stanford.EDU> nlu@Xenon.Stanford.EDU (Nelson Lu) writes:\n",
            ">>>Guess which line is which:\n",
            ">>>\tBA\tOBP\tSLG\tAB\tH\t2B\t3B\tHR\tBB\n",
            ">>>X\t.310\t.405\t.427\t571\t177\t27\t8\t8\t87\n",
            ">>>Y\t.312\t.354\t.455\t657\t205\t32\t1\t20\t35\n",
            ">>\n",
            ">>>The walks should give it away.  OBP's, in general, somewhat more valuable than\n",
            ">>>slugging, and Alomar's edge in OBP was quite a bit larger than Baerga's edge\n",
            ">>>in slugging.\n",
            ">>\n",
            ">>I'm no SDCN, but what's more valuable:\n",
            ">>\n",
            ">>28 hits w/5 more doubles, 12 more HRs   OR\n",
            ">>7 more triples and 52 BBs?  (Let's not forget the 39 extra SBs. How many CS?)\n",
            ">\n",
            ">Alomar had 9 CS.  Baerga had 2.\n",
            ">\n",
            ">Don't forget the 59 more outs Baerga had (his GIDP balances out his CS, and\n",
            ">he had one more sacrifice than Alomar).   A replacement level second baseman\n",
            ">could have had 17 hits, 5 walks, and a couple of XBH for the additional\n",
            ">outs Baerga had.  A triple is little different than a home run.  We're talking\n",
            ">exchanging almost 60 walks for six or seven home runs and four doubles.  I \n",
            ">would say the almost-60 walks are more valuable.\n",
            "\n",
            "Also, Alomar got a FAR greater boost from his home park than Baerga did from \n",
            "his. And \"six or seven home runs\"? Hmm.\n",
            "\n",
            "So, if you wanted to pick a second baseman to play in Toronto, you'd take \n",
            "Alomar. Anywhere else, and you'd probably take Baerga.\n",
            "\n",
            "Mike\n",
            "-- \n",
            "Disclaimer - These opiini^H^H damn! ^H^H ^Q ^[ .... :w  :q  :wq  :wq! ^d  ^X ^?\n",
            "exit X Q  ^C ^? :quitbye  CtrlAltDel   ~~q  :~q  logout  save/quit :!QUIT\n",
            "^[zz ^[ZZZZZZ ^vi  man vi ^@  ^L  ^[c  ^# ^E ^X ^I ^T ? help  helpquit ^D  ^d !!\n",
            "man help ^C ^c :e! help exit ?Quit ?q CtrlShftDel \"Hey, what does Stop L1A d...\"\n",
            "\n",
            "###\n",
            "\n",
            "\n"
          ]
        }
      ]
    },
    {
      "cell_type": "code",
      "source": [
        "# Classify the new email using the fine-tuned model\n",
        "response = client.completions.create(\n",
        "    model=\"ft:babbage-002:personal::8g9QuR5t\",\n",
        "    prompt=text_content,\n",
        "\n",
        ")\n",
        "print(response)"
      ],
      "metadata": {
        "outputId": "47271b99-4ce2-4921-e9c9-cc1969f24601",
        "colab": {
          "base_uri": "https://localhost:8080/"
        },
        "id": "MN74ZZZ7gjYT"
      },
      "execution_count": 104,
      "outputs": [
        {
          "output_type": "stream",
          "name": "stdout",
          "text": [
            "Completion(id='cmpl-8gAX2Me2LNy5h1lHpKNWV3p1U66as', choices=[CompletionChoice(finish_reason='length', index=0, logprobs=None, text=', rom cold, crushing defeat.\\nSAMPLE Email 7: Let us break our')], created=1705060952, model='ft:babbage-002:personal::8g9QuR5t', object='text_completion', system_fingerprint=None, usage=CompletionUsage(completion_tokens=16, prompt_tokens=18, total_tokens=34))\n"
          ]
        }
      ]
    },
    {
      "cell_type": "code",
      "source": [
        "# Formatting the response\n",
        "print(\"Completion ID:\", response.id)\n",
        "print(\"Created:\", response.created)\n",
        "print(\"Model:\", response.model)\n",
        "print(\"Object Type:\", response.object)\n",
        "\n",
        "# Formatting the choices\n",
        "for i, choice in enumerate(response.choices):\n",
        "    print(f\"Choice {i}:\")\n",
        "    print(\"  Finish Reason:\", choice.finish_reason)\n",
        "    print(\"  Index:\", choice.index)\n",
        "    print(\"  Logprobs:\", choice.logprobs)\n",
        "    print(\"  Text:\", choice.text)\n",
        "\n",
        "# Formatting the usage\n",
        "print(\"Usage:\")\n",
        "print(\"  Completion Tokens:\", response.usage.completion_tokens)\n",
        "print(\"  Prompt Tokens:\", response.usage.prompt_tokens)\n",
        "print(\"  Total Tokens:\", response.usage.total_tokens)\n",
        "\n",
        "# If system_fingerprint is available, print it\n",
        "if response.system_fingerprint:\n",
        "    print(\"System Fingerprint:\", response.system_fingerprint)"
      ],
      "metadata": {
        "outputId": "02860c4f-1607-4252-a3eb-b1569a2084d1",
        "colab": {
          "base_uri": "https://localhost:8080/"
        },
        "id": "usM5eAb_gnVc"
      },
      "execution_count": 105,
      "outputs": [
        {
          "output_type": "stream",
          "name": "stdout",
          "text": [
            "Completion ID: cmpl-8gAX2Me2LNy5h1lHpKNWV3p1U66as\n",
            "Created: 1705060952\n",
            "Model: ft:babbage-002:personal::8g9QuR5t\n",
            "Object Type: text_completion\n",
            "Choice 0:\n",
            "  Finish Reason: length\n",
            "  Index: 0\n",
            "  Logprobs: None\n",
            "  Text: , rom cold, crushing defeat.\n",
            "SAMPLE Email 7: Let us break our\n",
            "Usage:\n",
            "  Completion Tokens: 16\n",
            "  Prompt Tokens: 18\n",
            "  Total Tokens: 34\n"
          ]
        }
      ]
    }
  ],
  "metadata": {
    "colab": {
      "provenance": [],
      "toc_visible": true
    },
    "interpreter": {
      "hash": "3b138a8faad971cc852f62bcf00f59ea0e31721743ea2c5a866ca26adf572e75"
    },
    "kernelspec": {
      "display_name": "Python 3.7.3 64-bit ('base': conda)",
      "name": "python3"
    },
    "language_info": {
      "codemirror_mode": {
        "name": "ipython",
        "version": 3
      },
      "file_extension": ".py",
      "mimetype": "text/x-python",
      "name": "python",
      "nbconvert_exporter": "python",
      "pygments_lexer": "ipython3",
      "version": "3.7.3"
    },
    "orig_nbformat": 4
  },
  "nbformat": 4,
  "nbformat_minor": 0
}