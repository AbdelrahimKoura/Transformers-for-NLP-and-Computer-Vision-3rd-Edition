{
  "nbformat": 4,
  "nbformat_minor": 0,
  "metadata": {
    "colab": {
      "provenance": [],
      "toc_visible": true,
      "authorship_tag": "ABX9TyMUSC8WAoJTIGpGQnxkyVuy"
    },
    "kernelspec": {
      "name": "python3",
      "display_name": "Python 3"
    },
    "language_info": {
      "name": "python"
    }
  },
  "cells": [
    {
      "cell_type": "markdown",
      "source": [
        "GPT-4V\n",
        "\n",
        "\n",
        "\n",
        "copyright 2024 Denis Rothman"
      ],
      "metadata": {
        "id": "MgkjinWHIXxt"
      }
    },
    {
      "cell_type": "code",
      "execution_count": null,
      "metadata": {
        "id": "c5PeVH1NGsPI"
      },
      "outputs": [],
      "source": [
        "#Importing openai\n",
        "try:\n",
        "  import openai\n",
        "except:\n",
        "  !pip install openai\n",
        "  import openai"
      ]
    },
    {
      "cell_type": "code",
      "source": [
        "#API Key\n",
        "#Store you key in a file and read it(you can type it directly in the notebook but it will be visible for somebody next to you)\n",
        "from google.colab import drive\n",
        "drive.mount('/content/drive')\n",
        "f = open(\"drive/MyDrive/files/api_key.txt\", \"r\")\n",
        "API_KEY=f.readline()\n",
        "f.close()\n",
        "\n",
        "#The OpenAI Key\n",
        "import os\n",
        "os.environ['OPENAI_API_KEY'] =API_KEY\n",
        "openai.api_key = os.getenv(\"OPENAI_API_KEY\")"
      ],
      "metadata": {
        "colab": {
          "base_uri": "https://localhost:8080/"
        },
        "id": "rTjI3889GsDL",
        "outputId": "ed207620-317a-4b4f-cf92-efe39d588c77"
      },
      "execution_count": 2,
      "outputs": [
        {
          "output_type": "stream",
          "name": "stdout",
          "text": [
            "Mounted at /content/drive\n"
          ]
        }
      ]
    },
    {
      "cell_type": "markdown",
      "source": [
        "# Standard Example\n"
      ],
      "metadata": {
        "id": "PPnXun6cOcUt"
      }
    },
    {
      "cell_type": "code",
      "source": [
        "from openai import OpenAI\n",
        "\n",
        "client = OpenAI()\n",
        "\n",
        "response = client.chat.completions.create(\n",
        "  model=\"gpt-4-vision-preview\",\n",
        "  messages=[\n",
        "    {\n",
        "      \"role\": \"user\",\n",
        "      \"content\": [\n",
        "        {\"type\": \"text\", \"text\": \"What’s in this image?\"},\n",
        "        {\n",
        "          \"type\": \"image_url\",\n",
        "          \"image_url\": {\n",
        "            \"url\": \"https://upload.wikimedia.org/wikipedia/commons/thumb/d/dd/Gfp-wisconsin-madison-the-nature-boardwalk.jpg/2560px-Gfp-wisconsin-madison-the-nature-boardwalk.jpg\",\n",
        "          },\n",
        "        },\n",
        "      ],\n",
        "    }\n",
        "  ],\n",
        "  max_tokens=300,\n",
        ")\n",
        "\n",
        "print(response.choices[0])"
      ],
      "metadata": {
        "colab": {
          "base_uri": "https://localhost:8080/"
        },
        "id": "BiHeF0hnGkLV",
        "outputId": "645ef3ba-0774-48ec-ad47-b38339e4a193"
      },
      "execution_count": 18,
      "outputs": [
        {
          "output_type": "stream",
          "name": "stdout",
          "text": [
            "Choice(finish_reason='stop', index=0, logprobs=None, message=ChatCompletionMessage(content='This image shows a serene natural landscape dominated by a vibrant green meadow under a blue sky with some scattered clouds. A wooden boardwalk cuts through the meadow, providing a path that invites viewers to walk and explore the area. The boardwalk appears to be well-maintained and offers contrast to the natural textures of the grass and plants surrounding it. The trees in the distance and the open sky give the scene a feeling of openness and tranquility.', role='assistant', function_call=None, tool_calls=None))\n"
          ]
        }
      ]
    },
    {
      "cell_type": "code",
      "source": [
        "import textwrap\n",
        "\n",
        "# Assuming response is the object you get from the OpenAI API call\n",
        "choice = response.choices[0]\n",
        "response_content = choice.message.content  # Access the content attribute\n",
        "\n",
        "# Use textwrap to format the text into a paragraph\n",
        "formatted_response = textwrap.fill(response_content, width=80)\n",
        "\n",
        "# Printing the formatted response\n",
        "print(formatted_response)"
      ],
      "metadata": {
        "colab": {
          "base_uri": "https://localhost:8080/"
        },
        "outputId": "f3403250-282e-45bf-a8a4-a37c6d56e359",
        "id": "9FigIi2GPgBM"
      },
      "execution_count": 17,
      "outputs": [
        {
          "output_type": "stream",
          "name": "stdout",
          "text": [
            "This image depicts an abstract and artistic representation of a dog composed of\n",
            "colorful swirls and patterns. The style is highly imaginative and vivid,\n",
            "featuring a spectrum of colors and circular shapes that create the dog's\n",
            "silhouette and features. The intricate details and the blend of colors\n",
            "contribute to a sense of movement and fluidity within the composition. The\n",
            "background is dark with specks of color that suggest a starry night sky, adding\n",
            "to the mystical and dreamlike quality of the artwork.\n"
          ]
        }
      ]
    },
    {
      "cell_type": "code",
      "source": [
        "from IPython.display import Image, display\n",
        "\n",
        "# URL of the image\n",
        "image_url =  \"https://upload.wikimedia.org/wikipedia/commons/thumb/d/dd/Gfp-wisconsin-madison-the-nature-boardwalk.jpg/2560px-Gfp-wisconsin-madison-the-nature-boardwalk.jpg\"\n",
        "\n",
        "# Display the image\n",
        "display(Image(url=image_url))"
      ],
      "metadata": {
        "outputId": "41547545-2cc6-43c5-aa07-587eec305a10",
        "colab": {
          "base_uri": "https://localhost:8080/",
          "height": 1000
        },
        "id": "XwAh1xRkPSkM"
      },
      "execution_count": 16,
      "outputs": [
        {
          "output_type": "display_data",
          "data": {
            "text/html": [
              "<img src=\"https://upload.wikimedia.org/wikipedia/commons/thumb/d/dd/Gfp-wisconsin-madison-the-nature-boardwalk.jpg/2560px-Gfp-wisconsin-madison-the-nature-boardwalk.jpg\"/>"
            ],
            "text/plain": [
              "<IPython.core.display.Image object>"
            ]
          },
          "metadata": {}
        }
      ]
    },
    {
      "cell_type": "markdown",
      "source": [
        "# Divergent Semantic Association example\n",
        "\n",
        "Note: Change the path to the 3rd edition repository when the repository goes public"
      ],
      "metadata": {
        "id": "JqFMb11yOffo"
      }
    },
    {
      "cell_type": "code",
      "source": [
        "import textwrap\n",
        "\n",
        "# Assuming response is the object you get from the OpenAI API call\n",
        "choice = response.choices[0]\n",
        "response_content = choice.message.content  # Access the content attribute\n",
        "\n",
        "# Use textwrap to format the text into a paragraph\n",
        "formatted_response = textwrap.fill(response_content, width=80)\n",
        "\n",
        "# Printing the formatted response\n",
        "print(formatted_response)"
      ],
      "metadata": {
        "colab": {
          "base_uri": "https://localhost:8080/"
        },
        "id": "ndaA8SGcOR13",
        "outputId": "0765fd9b-4b25-4bd5-dc6b-2360a03fd7c6"
      },
      "execution_count": 13,
      "outputs": [
        {
          "output_type": "stream",
          "name": "stdout",
          "text": [
            "This image depicts an abstract and artistic representation of a dog composed of\n",
            "colorful swirls and patterns. The style is highly imaginative and vivid,\n",
            "featuring a spectrum of colors and circular shapes that create the dog's\n",
            "silhouette and features. The intricate details and the blend of colors\n",
            "contribute to a sense of movement and fluidity within the composition. The\n",
            "background is dark with specks of color that suggest a starry night sky, adding\n",
            "to the mystical and dreamlike quality of the artwork.\n"
          ]
        }
      ]
    },
    {
      "cell_type": "code",
      "source": [
        "from openai import OpenAI\n",
        "\n",
        "client = OpenAI()\n",
        "\n",
        "response = client.chat.completions.create(\n",
        "  model=\"gpt-4-vision-preview\",\n",
        "  messages=[\n",
        "    {\n",
        "      \"role\": \"user\",\n",
        "      \"content\": [\n",
        "        {\"type\": \"text\", \"text\": \"What’s in this image?\"},\n",
        "        {\n",
        "          \"type\": \"image_url\",\n",
        "          \"image_url\": {\n",
        "            \"url\": \"https://raw.githubusercontent.com/Denis2054/AI_Educational/master/dog.png\",\n",
        "          },\n",
        "        },\n",
        "      ],\n",
        "    }\n",
        "  ],\n",
        "  max_tokens=300,\n",
        ")\n",
        "\n",
        "print(response.choices[0])"
      ],
      "metadata": {
        "colab": {
          "base_uri": "https://localhost:8080/"
        },
        "outputId": "61a0b2d7-713e-48e2-e8f6-56dc932e96e7",
        "id": "B_fO6iDPNlD-"
      },
      "execution_count": 11,
      "outputs": [
        {
          "output_type": "stream",
          "name": "stdout",
          "text": [
            "Choice(finish_reason='stop', index=0, logprobs=None, message=ChatCompletionMessage(content=\"This image depicts an abstract and artistic representation of a dog composed of colorful swirls and patterns. The style is highly imaginative and vivid, featuring a spectrum of colors and circular shapes that create the dog's silhouette and features. The intricate details and the blend of colors contribute to a sense of movement and fluidity within the composition. The background is dark with specks of color that suggest a starry night sky, adding to the mystical and dreamlike quality of the artwork.\", role='assistant', function_call=None, tool_calls=None))\n"
          ]
        }
      ]
    },
    {
      "cell_type": "code",
      "source": [
        "from IPython.display import Image, display\n",
        "\n",
        "# URL of the image\n",
        "image_url = \"https://raw.githubusercontent.com/Denis2054/AI_Educational/master/dog.png\"\n",
        "\n",
        "# Display the image\n",
        "display(Image(url=image_url))"
      ],
      "metadata": {
        "colab": {
          "base_uri": "https://localhost:8080/",
          "height": 1000
        },
        "id": "rprs-ysnPOOo",
        "outputId": "185731cf-694d-45da-a5b9-f8fbdf27bd8c"
      },
      "execution_count": 15,
      "outputs": [
        {
          "output_type": "display_data",
          "data": {
            "text/html": [
              "<img src=\"https://raw.githubusercontent.com/Denis2054/AI_Educational/master/dog.png\"/>"
            ],
            "text/plain": [
              "<IPython.core.display.Image object>"
            ]
          },
          "metadata": {}
        }
      ]
    },
    {
      "cell_type": "code",
      "source": [
        "import textwrap\n",
        "\n",
        "# Assuming response is the object you get from the OpenAI API call\n",
        "choice = response.choices[0]\n",
        "response_content = choice.message.content  # Access the content attribute\n",
        "\n",
        "# Use textwrap to format the text into a paragraph\n",
        "formatted_response = textwrap.fill(response_content, width=80)\n",
        "\n",
        "# Printing the formatted response\n",
        "print(formatted_response)"
      ],
      "metadata": {
        "outputId": "a85e6142-633d-4d88-ba46-a40707b55209",
        "colab": {
          "base_uri": "https://localhost:8080/"
        },
        "id": "-8Jbg_KmOXVr"
      },
      "execution_count": 14,
      "outputs": [
        {
          "output_type": "stream",
          "name": "stdout",
          "text": [
            "This image depicts an abstract and artistic representation of a dog composed of\n",
            "colorful swirls and patterns. The style is highly imaginative and vivid,\n",
            "featuring a spectrum of colors and circular shapes that create the dog's\n",
            "silhouette and features. The intricate details and the blend of colors\n",
            "contribute to a sense of movement and fluidity within the composition. The\n",
            "background is dark with specks of color that suggest a starry night sky, adding\n",
            "to the mystical and dreamlike quality of the artwork.\n"
          ]
        }
      ]
    }
  ]
}
