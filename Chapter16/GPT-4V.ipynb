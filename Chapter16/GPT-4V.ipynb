{
  "cells": [
    {
      "cell_type": "markdown",
      "metadata": {
        "id": "MgkjinWHIXxt"
      },
      "source": [
        "GPT-4V\n",
        "copyright 2024 Denis Rothman\n",
        "\n",
        "[OpenAI Vision](https://platform.openai.com/docs/guides/vision)\n",
        "\n",
        "Example 1: A standard image and text\n",
        "\n",
        "Example 2:  Divergent Semantic Association(DAT), image and text\n",
        "\n",
        "Example 3:  Divergent Semantic Association(DAT), image and text,high divergence"
      ]
    },
    {
      "cell_type": "code",
      "execution_count": 1,
      "metadata": {
        "id": "c5PeVH1NGsPI",
        "outputId": "83d75496-5f6b-47d4-dfdf-d589ab8a48d2",
        "colab": {
          "base_uri": "https://localhost:8080/"
        }
      },
      "outputs": [
        {
          "output_type": "stream",
          "name": "stdout",
          "text": [
            "Collecting openai\n",
            "  Downloading openai-1.7.2-py3-none-any.whl (212 kB)\n",
            "\u001b[2K     \u001b[90m━━━━━━━━━━━━━━━━━━━━━━━━━━━━━━━━━━━━━━━━\u001b[0m \u001b[32m212.1/212.1 kB\u001b[0m \u001b[31m2.2 MB/s\u001b[0m eta \u001b[36m0:00:00\u001b[0m\n",
            "\u001b[?25hRequirement already satisfied: anyio<5,>=3.5.0 in /usr/local/lib/python3.10/dist-packages (from openai) (3.7.1)\n",
            "Requirement already satisfied: distro<2,>=1.7.0 in /usr/lib/python3/dist-packages (from openai) (1.7.0)\n",
            "Collecting httpx<1,>=0.23.0 (from openai)\n",
            "  Downloading httpx-0.26.0-py3-none-any.whl (75 kB)\n",
            "\u001b[2K     \u001b[90m━━━━━━━━━━━━━━━━━━━━━━━━━━━━━━━━━━━━━━━━\u001b[0m \u001b[32m75.9/75.9 kB\u001b[0m \u001b[31m4.4 MB/s\u001b[0m eta \u001b[36m0:00:00\u001b[0m\n",
            "\u001b[?25hRequirement already satisfied: pydantic<3,>=1.9.0 in /usr/local/lib/python3.10/dist-packages (from openai) (1.10.13)\n",
            "Requirement already satisfied: sniffio in /usr/local/lib/python3.10/dist-packages (from openai) (1.3.0)\n",
            "Requirement already satisfied: tqdm>4 in /usr/local/lib/python3.10/dist-packages (from openai) (4.66.1)\n",
            "Collecting typing-extensions<5,>=4.7 (from openai)\n",
            "  Downloading typing_extensions-4.9.0-py3-none-any.whl (32 kB)\n",
            "Requirement already satisfied: idna>=2.8 in /usr/local/lib/python3.10/dist-packages (from anyio<5,>=3.5.0->openai) (3.6)\n",
            "Requirement already satisfied: exceptiongroup in /usr/local/lib/python3.10/dist-packages (from anyio<5,>=3.5.0->openai) (1.2.0)\n",
            "Requirement already satisfied: certifi in /usr/local/lib/python3.10/dist-packages (from httpx<1,>=0.23.0->openai) (2023.11.17)\n",
            "Collecting httpcore==1.* (from httpx<1,>=0.23.0->openai)\n",
            "  Downloading httpcore-1.0.2-py3-none-any.whl (76 kB)\n",
            "\u001b[2K     \u001b[90m━━━━━━━━━━━━━━━━━━━━━━━━━━━━━━━━━━━━━━━━\u001b[0m \u001b[32m76.9/76.9 kB\u001b[0m \u001b[31m4.7 MB/s\u001b[0m eta \u001b[36m0:00:00\u001b[0m\n",
            "\u001b[?25hCollecting h11<0.15,>=0.13 (from httpcore==1.*->httpx<1,>=0.23.0->openai)\n",
            "  Downloading h11-0.14.0-py3-none-any.whl (58 kB)\n",
            "\u001b[2K     \u001b[90m━━━━━━━━━━━━━━━━━━━━━━━━━━━━━━━━━━━━━━━━\u001b[0m \u001b[32m58.3/58.3 kB\u001b[0m \u001b[31m2.7 MB/s\u001b[0m eta \u001b[36m0:00:00\u001b[0m\n",
            "\u001b[?25hInstalling collected packages: typing-extensions, h11, httpcore, httpx, openai\n",
            "  Attempting uninstall: typing-extensions\n",
            "    Found existing installation: typing_extensions 4.5.0\n",
            "    Uninstalling typing_extensions-4.5.0:\n",
            "      Successfully uninstalled typing_extensions-4.5.0\n",
            "\u001b[31mERROR: pip's dependency resolver does not currently take into account all the packages that are installed. This behaviour is the source of the following dependency conflicts.\n",
            "llmx 0.0.15a0 requires cohere, which is not installed.\n",
            "llmx 0.0.15a0 requires tiktoken, which is not installed.\n",
            "tensorflow-probability 0.22.0 requires typing-extensions<4.6.0, but you have typing-extensions 4.9.0 which is incompatible.\u001b[0m\u001b[31m\n",
            "\u001b[0mSuccessfully installed h11-0.14.0 httpcore-1.0.2 httpx-0.26.0 openai-1.7.2 typing-extensions-4.9.0\n"
          ]
        }
      ],
      "source": [
        "#Importing openai\n",
        "try:\n",
        "  import openai\n",
        "except:\n",
        "  !pip install openai\n",
        "  import openai"
      ]
    },
    {
      "cell_type": "code",
      "execution_count": 2,
      "metadata": {
        "colab": {
          "base_uri": "https://localhost:8080/"
        },
        "id": "rTjI3889GsDL",
        "outputId": "ff73389d-e3b8-40c4-c3b8-ec247260f415"
      },
      "outputs": [
        {
          "output_type": "stream",
          "name": "stdout",
          "text": [
            "Mounted at /content/drive\n"
          ]
        }
      ],
      "source": [
        "#API Key\n",
        "#Store you key in a file and read it(you can type it directly in the notebook but it will be visible for somebody next to you)\n",
        "from google.colab import drive\n",
        "drive.mount('/content/drive')\n",
        "f = open(\"drive/MyDrive/files/api_key.txt\", \"r\")\n",
        "API_KEY=f.readline()\n",
        "f.close()\n",
        "\n",
        "#The OpenAI Key\n",
        "import os\n",
        "os.environ['OPENAI_API_KEY'] =API_KEY\n",
        "openai.api_key = os.getenv(\"OPENAI_API_KEY\")"
      ]
    },
    {
      "cell_type": "markdown",
      "metadata": {
        "id": "PPnXun6cOcUt"
      },
      "source": [
        "# Example 1 :  A standard image and text\n"
      ]
    },
    {
      "cell_type": "code",
      "execution_count": 3,
      "metadata": {
        "colab": {
          "base_uri": "https://localhost:8080/"
        },
        "id": "BiHeF0hnGkLV",
        "outputId": "9115b190-b692-4342-cd7c-469b48fda131"
      },
      "outputs": [
        {
          "output_type": "stream",
          "name": "stdout",
          "text": [
            "Choice(finish_reason='stop', index=0, logprobs=None, message=ChatCompletionMessage(content=\"The image shows a beautiful natural landscape. A wooden boardwalk pathway meanders through tall, lush green grass, which suggests that this might be a wetland or marsh area where the boardwalk provides a walkway to prevent disturbance to the ecosystem and to keep visitors' feet dry.\\n\\nThe scene is bathed in bright, natural light, indicating it is a sunny day with a few scattered clouds in the sky. The skies are a vibrant blue, adding a sense of tranquility to the landscape. Beyond the grass, there appear to be bushes or shrubbery and a line of trees in the distance, which could signify the edge of the wetland or the beginning of a forested area.\\n\\nOverall, the image conveys a peaceful outdoor setting that is inviting for a walk or contemplation in nature.\", role='assistant', function_call=None, tool_calls=None))\n"
          ]
        }
      ],
      "source": [
        "from openai import OpenAI\n",
        "\n",
        "client = OpenAI()\n",
        "\n",
        "response = client.chat.completions.create(\n",
        "  model=\"gpt-4-vision-preview\",\n",
        "  messages=[\n",
        "    {\n",
        "      \"role\": \"user\",\n",
        "      \"content\": [\n",
        "        {\"type\": \"text\", \"text\": \"What’s in this image?\"},\n",
        "        {\n",
        "          \"type\": \"image_url\",\n",
        "          \"image_url\": {\n",
        "            \"url\": \"https://upload.wikimedia.org/wikipedia/commons/thumb/d/dd/Gfp-wisconsin-madison-the-nature-boardwalk.jpg/2560px-Gfp-wisconsin-madison-the-nature-boardwalk.jpg\",\n",
        "          },\n",
        "        },\n",
        "      ],\n",
        "    }\n",
        "  ],\n",
        "  max_tokens=300,\n",
        ")\n",
        "\n",
        "print(response.choices[0])"
      ]
    },
    {
      "cell_type": "code",
      "execution_count": 4,
      "metadata": {
        "colab": {
          "base_uri": "https://localhost:8080/"
        },
        "id": "9FigIi2GPgBM",
        "outputId": "f6038c25-40ea-44e1-984b-80b8c4c011f2"
      },
      "outputs": [
        {
          "output_type": "stream",
          "name": "stdout",
          "text": [
            "The image shows a beautiful natural landscape. A wooden boardwalk pathway\n",
            "meanders through tall, lush green grass, which suggests that this might be a\n",
            "wetland or marsh area where the boardwalk provides a walkway to prevent\n",
            "disturbance to the ecosystem and to keep visitors' feet dry.  The scene is\n",
            "bathed in bright, natural light, indicating it is a sunny day with a few\n",
            "scattered clouds in the sky. The skies are a vibrant blue, adding a sense of\n",
            "tranquility to the landscape. Beyond the grass, there appear to be bushes or\n",
            "shrubbery and a line of trees in the distance, which could signify the edge of\n",
            "the wetland or the beginning of a forested area.  Overall, the image conveys a\n",
            "peaceful outdoor setting that is inviting for a walk or contemplation in nature.\n"
          ]
        }
      ],
      "source": [
        "import textwrap\n",
        "\n",
        "# Assuming response is the object you get from the OpenAI API call\n",
        "choice = response.choices[0]\n",
        "response_content = choice.message.content  # Access the content attribute\n",
        "\n",
        "# Use textwrap to format the text into a paragraph\n",
        "formatted_response = textwrap.fill(response_content, width=80)\n",
        "\n",
        "# Printing the formatted response\n",
        "print(formatted_response)"
      ]
    },
    {
      "cell_type": "code",
      "execution_count": 5,
      "metadata": {
        "colab": {
          "base_uri": "https://localhost:8080/",
          "height": 1000
        },
        "id": "XwAh1xRkPSkM",
        "outputId": "b529197c-9aa9-4db5-d70a-3b8294b50c39"
      },
      "outputs": [
        {
          "output_type": "display_data",
          "data": {
            "text/html": [
              "<img src=\"https://upload.wikimedia.org/wikipedia/commons/thumb/d/dd/Gfp-wisconsin-madison-the-nature-boardwalk.jpg/2560px-Gfp-wisconsin-madison-the-nature-boardwalk.jpg\"/>"
            ],
            "text/plain": [
              "<IPython.core.display.Image object>"
            ]
          },
          "metadata": {}
        }
      ],
      "source": [
        "from IPython.display import Image, display\n",
        "\n",
        "# URL of the image\n",
        "image_url =  \"https://upload.wikimedia.org/wikipedia/commons/thumb/d/dd/Gfp-wisconsin-madison-the-nature-boardwalk.jpg/2560px-Gfp-wisconsin-madison-the-nature-boardwalk.jpg\"\n",
        "\n",
        "# Display the image\n",
        "display(Image(url=image_url))"
      ]
    },
    {
      "cell_type": "markdown",
      "metadata": {
        "id": "JqFMb11yOffo"
      },
      "source": [
        "# Example 2: Divergent Semantic Association(DAT) image and text\n",
        "\n",
        "Note: Change the path to the 3rd edition repository when the repository goes public"
      ]
    },
    {
      "cell_type": "code",
      "execution_count": 6,
      "metadata": {
        "colab": {
          "base_uri": "https://localhost:8080/"
        },
        "id": "B_fO6iDPNlD-",
        "outputId": "a998cece-bea6-48f6-94cc-5e9b37a75b3b"
      },
      "outputs": [
        {
          "output_type": "stream",
          "name": "stdout",
          "text": [
            "Choice(finish_reason='stop', index=0, logprobs=None, message=ChatCompletionMessage(content='This image features a highly stylized and colorful digital illustration of a dog. The artwork is composed of various swirling shapes and patterns that come together to create an abstract representation of a dog. The background is dark with speckled dots suggestive of a starry night sky, which contrasts with the vibrant and varied color palette used for the dog. The swirling patterns give the image a dynamic and whimsical feel, providing a sense of movement and energy.', role='assistant', function_call=None, tool_calls=None))\n"
          ]
        }
      ],
      "source": [
        "from openai import OpenAI\n",
        "\n",
        "client = OpenAI()\n",
        "\n",
        "response = client.chat.completions.create(\n",
        "  model=\"gpt-4-vision-preview\",\n",
        "  messages=[\n",
        "    {\n",
        "      \"role\": \"user\",\n",
        "      \"content\": [\n",
        "        {\"type\": \"text\", \"text\": \"What’s in this image?\"},\n",
        "        {\n",
        "          \"type\": \"image_url\",\n",
        "          \"image_url\": {\n",
        "            \"url\": \"https://raw.githubusercontent.com/Denis2054/AI_Educational/master/dog.png\",\n",
        "          },\n",
        "        },\n",
        "      ],\n",
        "    }\n",
        "  ],\n",
        "  max_tokens=300,\n",
        ")\n",
        "\n",
        "print(response.choices[0])"
      ]
    },
    {
      "cell_type": "code",
      "execution_count": 7,
      "metadata": {
        "colab": {
          "base_uri": "https://localhost:8080/"
        },
        "id": "ndaA8SGcOR13",
        "outputId": "9737ae78-7f38-4df8-e5ad-56d2d0be3e1f"
      },
      "outputs": [
        {
          "output_type": "stream",
          "name": "stdout",
          "text": [
            "This image features a highly stylized and colorful digital illustration of a\n",
            "dog. The artwork is composed of various swirling shapes and patterns that come\n",
            "together to create an abstract representation of a dog. The background is dark\n",
            "with speckled dots suggestive of a starry night sky, which contrasts with the\n",
            "vibrant and varied color palette used for the dog. The swirling patterns give\n",
            "the image a dynamic and whimsical feel, providing a sense of movement and\n",
            "energy.\n"
          ]
        }
      ],
      "source": [
        "import textwrap\n",
        "\n",
        "# Assuming response is the object you get from the OpenAI API call\n",
        "choice = response.choices[0]\n",
        "response_content = choice.message.content  # Access the content attribute\n",
        "\n",
        "# Use textwrap to format the text into a paragraph\n",
        "formatted_response = textwrap.fill(response_content, width=80)\n",
        "\n",
        "# Printing the formatted response\n",
        "print(formatted_response)"
      ]
    },
    {
      "cell_type": "code",
      "execution_count": 8,
      "metadata": {
        "colab": {
          "base_uri": "https://localhost:8080/",
          "height": 1000
        },
        "id": "rprs-ysnPOOo",
        "outputId": "ab932394-d463-47d9-bc28-628c2bcc757e"
      },
      "outputs": [
        {
          "output_type": "display_data",
          "data": {
            "text/html": [
              "<img src=\"https://raw.githubusercontent.com/Denis2054/AI_Educational/master/dog.png\"/>"
            ],
            "text/plain": [
              "<IPython.core.display.Image object>"
            ]
          },
          "metadata": {}
        }
      ],
      "source": [
        "from IPython.display import Image, display\n",
        "\n",
        "# URL of the image\n",
        "image_url = \"https://raw.githubusercontent.com/Denis2054/AI_Educational/master/dog.png\"\n",
        "\n",
        "# Display the image\n",
        "display(Image(url=image_url))"
      ]
    },
    {
      "cell_type": "code",
      "execution_count": 9,
      "metadata": {
        "colab": {
          "base_uri": "https://localhost:8080/"
        },
        "id": "-8Jbg_KmOXVr",
        "outputId": "24cef1b5-da60-4294-96b7-44030d9d68e5"
      },
      "outputs": [
        {
          "output_type": "stream",
          "name": "stdout",
          "text": [
            "This image features a highly stylized and colorful digital illustration of a\n",
            "dog. The artwork is composed of various swirling shapes and patterns that come\n",
            "together to create an abstract representation of a dog. The background is dark\n",
            "with speckled dots suggestive of a starry night sky, which contrasts with the\n",
            "vibrant and varied color palette used for the dog. The swirling patterns give\n",
            "the image a dynamic and whimsical feel, providing a sense of movement and\n",
            "energy.\n"
          ]
        }
      ],
      "source": [
        "import textwrap\n",
        "\n",
        "# Assuming response is the object you get from the OpenAI API call\n",
        "choice = response.choices[0]\n",
        "response_content = choice.message.content  # Access the content attribute\n",
        "\n",
        "# Use textwrap to format the text into a paragraph\n",
        "formatted_response = textwrap.fill(response_content, width=80)\n",
        "\n",
        "# Printing the formatted response\n",
        "print(formatted_response)"
      ]
    },
    {
      "cell_type": "markdown",
      "metadata": {
        "id": "RYwQ0RwtVKeB"
      },
      "source": [
        "# Example 3: Divergent Semantic Association(DAT) image and text, high divergence\n",
        "\n",
        "Note: Change the path to the 3rd edition repository when the repository goes public"
      ]
    },
    {
      "cell_type": "code",
      "execution_count": 11,
      "metadata": {
        "colab": {
          "base_uri": "https://localhost:8080/"
        },
        "outputId": "cf53cffe-c985-4a10-9067-54345f583be1",
        "id": "7gqacfk_V1CT"
      },
      "outputs": [
        {
          "output_type": "stream",
          "name": "stdout",
          "text": [
            "Choice(finish_reason='stop', index=0, logprobs=None, message=ChatCompletionMessage(content=\"This is a digitally created abstract image that features a variety of colors and shapes. It includes numerous swirling elements and circular patterns that somewhat resemble brush strokes with a dynamic and fluid feel. The colors are vivid and diverse, ranging from blues and purples to oranges, yellows, and reds, all set against a black background to enhance their vibrancy. These patterns and colors are arranged in a way that suggests the form of a stylized creature, perhaps a bird or another kind of animal, with an eye-like shape toward the right side. The overall effect is ornate and evokes a sense of movement. It's a piece that could be seen as an example of modern digital art that plays with color, form, and the idea of motion.\", role='assistant', function_call=None, tool_calls=None))\n"
          ]
        }
      ],
      "source": [
        "from openai import OpenAI\n",
        "\n",
        "client = OpenAI()\n",
        "\n",
        "response = client.chat.completions.create(\n",
        "  model=\"gpt-4-vision-preview\",\n",
        "  messages=[\n",
        "    {\n",
        "      \"role\": \"user\",\n",
        "      \"content\": [\n",
        "        {\"type\": \"text\", \"text\": \"What’s in this image?\"},\n",
        "        {\n",
        "          \"type\": \"image_url\",\n",
        "          \"image_url\": {\n",
        "            \"url\": \"https://raw.githubusercontent.com/Denis2054/AI_Educational/master/D4.png\",\n",
        "          },\n",
        "        },\n",
        "      ],\n",
        "    }\n",
        "  ],\n",
        "  max_tokens=300,\n",
        ")\n",
        "\n",
        "print(response.choices[0])"
      ]
    },
    {
      "cell_type": "code",
      "execution_count": 12,
      "metadata": {
        "colab": {
          "base_uri": "https://localhost:8080/"
        },
        "outputId": "61717ccd-beed-4a62-9b64-37102e223295",
        "id": "9uULchHMVplv"
      },
      "outputs": [
        {
          "output_type": "stream",
          "name": "stdout",
          "text": [
            "This is a digitally created abstract image that features a variety of colors and\n",
            "shapes. It includes numerous swirling elements and circular patterns that\n",
            "somewhat resemble brush strokes with a dynamic and fluid feel. The colors are\n",
            "vivid and diverse, ranging from blues and purples to oranges, yellows, and reds,\n",
            "all set against a black background to enhance their vibrancy. These patterns and\n",
            "colors are arranged in a way that suggests the form of a stylized creature,\n",
            "perhaps a bird or another kind of animal, with an eye-like shape toward the\n",
            "right side. The overall effect is ornate and evokes a sense of movement. It's a\n",
            "piece that could be seen as an example of modern digital art that plays with\n",
            "color, form, and the idea of motion.\n"
          ]
        }
      ],
      "source": [
        "import textwrap\n",
        "\n",
        "# Assuming response is the object you get from the OpenAI API call\n",
        "choice = response.choices[0]\n",
        "response_content = choice.message.content  # Access the content attribute\n",
        "\n",
        "# Use textwrap to format the text into a paragraph\n",
        "formatted_response = textwrap.fill(response_content, width=80)\n",
        "\n",
        "# Printing the formatted response\n",
        "print(formatted_response)"
      ]
    },
    {
      "cell_type": "code",
      "execution_count": 13,
      "metadata": {
        "colab": {
          "base_uri": "https://localhost:8080/",
          "height": 1000
        },
        "outputId": "0f803647-4ad9-40c9-b114-40d08ec3f292",
        "id": "vrfyk6-8V5Yp"
      },
      "outputs": [
        {
          "output_type": "display_data",
          "data": {
            "text/html": [
              "<img src=\"https://raw.githubusercontent.com/Denis2054/AI_Educational/master/D4.png\"/>"
            ],
            "text/plain": [
              "<IPython.core.display.Image object>"
            ]
          },
          "metadata": {}
        }
      ],
      "source": [
        "from IPython.display import Image, display\n",
        "\n",
        "# URL of the image\n",
        "image_url = \"https://raw.githubusercontent.com/Denis2054/AI_Educational/master/D4.png\"\n",
        "\n",
        "# Display the image\n",
        "display(Image(url=image_url))"
      ]
    }
  ],
  "metadata": {
    "colab": {
      "provenance": [],
      "toc_visible": true
    },
    "kernelspec": {
      "display_name": "Python 3",
      "name": "python3"
    },
    "language_info": {
      "name": "python"
    }
  },
  "nbformat": 4,
  "nbformat_minor": 0
}